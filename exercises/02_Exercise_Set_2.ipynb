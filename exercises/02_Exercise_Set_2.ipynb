{
 "cells": [
  {
   "cell_type": "markdown",
   "metadata": {},
   "source": [
    "**Exercise set 2**\n",
    "==============\n",
    "\n",
    "\n",
    ">The goal of this exercise is to investigate Bayes theorem,\n",
    ">and to use ANOVA to determine if a certain factor is indeed\n",
    ">affecting the results of an experiment.\n",
    "\n",
    "\n",
    "**Exercise 2.1**\n",
    "\n",
    "A certain disease occurs randomly in the general population with a probability of $\\tfrac{1}{10\\,000}$.\n",
    "A test has been developed for this disease which is $99\\%$ correct, meaning here\n",
    "that if a person has the disease, then the test will correctly be positive in $99\\%$ of the cases.\n",
    "If a person does not have the disease, the test will correctly be negative in $99\\%$ of the cases.\n",
    "\n",
    "\n",
    "**(a)**  Assume that we are testing for this disease in a population of $1\\,000\\,000$ people. How many\n",
    "are expected to have the disease? How many are expected to not\n",
    "have the disease? Further:\n",
    "\n",
    "* (i)  How many people with the disease will have a positive test?\n",
    "\n",
    "* (ii)  How many people with the disease will have a negative test?\n",
    "\n",
    "* (iii)  How many people without the disease will have a positive test? \n",
    "\n",
    "* (iv)  How many people without the disease will have a negative test? \n",
    "\n",
    "\n",
    "Summarize your answers to the four points above in a table of the following\n",
    "form:\n",
    "\n",
    "|    |    ||Has the disease?|\n",
    "|:---|:---|:---:|:---:|\n",
    "|||Yes|No|\n",
    "|**Test result**| Positive |||\n",
    "|| Negative | ||\n",
    "\n",
    "\n"
   ]
  },
  {
   "cell_type": "code",
   "execution_count": null,
   "metadata": {},
   "outputs": [],
   "source": [
    "# Your code here"
   ]
  },
  {
   "cell_type": "markdown",
   "metadata": {},
   "source": [
    "**Your answer to question 2.1(a):** *Double click here*"
   ]
  },
  {
   "cell_type": "markdown",
   "metadata": {},
   "source": [
    "**(b)**  Later in the course, when dealing with classification problems,\n",
    "we will refer to this table as the \"confusion matrix\". This table\n",
    "summarizes the types of errors we are making: the number of\n",
    "false positives (\"FP\") and the number of\n",
    "false negatives (\"FN\"). In addition, it shows us the number\n",
    "of true positives\n",
    "(\"TP\") and the number of true negatives (\"TN\").\n",
    "Identify the location of\n",
    "these $4$ labels in the table above. \n",
    "Using these labels, we can define different measures that tell us\n",
    "something about the performance of the test. One example of such a\n",
    "measure is the \"precision\" which is\n",
    "defined as the ratio between the number of true positives and\n",
    "the total number of positives:\n",
    "\n",
    "\\begin{equation}\n",
    "\\text{precision} = \\frac{\\text{TP}}{\\text{TP} + \\text{FP}}\n",
    "\\tag{1}\\end{equation}\n",
    "\n",
    "We can interpret the precision as the probability of having the\n",
    "disease, given that the test was positive.\n",
    "Calculate this probability, using the formula given above.\n",
    "Do you have any comments about the size of\n",
    "this probability?\n",
    "\n",
    "\n"
   ]
  },
  {
   "cell_type": "code",
   "execution_count": null,
   "metadata": {},
   "outputs": [],
   "source": [
    "# Your code here"
   ]
  },
  {
   "cell_type": "markdown",
   "metadata": {},
   "source": [
    "**Your answer to question 2.1(b):** *Double click here*"
   ]
  },
  {
   "cell_type": "markdown",
   "metadata": {},
   "source": [
    "**(c)**  Use Bayes theorem to calculate the probability of\n",
    "having the disease, given that a test was positive. Compare\n",
    "this to the probability you found in the previous answer.\n",
    "\n"
   ]
  },
  {
   "cell_type": "code",
   "execution_count": null,
   "metadata": {},
   "outputs": [],
   "source": [
    "# Your code here"
   ]
  },
  {
   "cell_type": "markdown",
   "metadata": {},
   "source": [
    "**Your answer to question 2.1(c):** *Double click here*"
   ]
  },
  {
   "cell_type": "markdown",
   "metadata": {},
   "source": [
    "\n",
    "\n",
    "**Exercise 2.2**\n",
    "\n",
    "The fertilizer magnesium ammonium phosphate MgNH$_4$PO$_4$ is an effective\n",
    "supplier for nutrients necessary for plant growth. In an experiment, you have\n",
    "tested the effect of this fertilizer on the growth of Chrysanthemums by\n",
    "measuring the height of the plants after growing them for four weeks.\n",
    "You have considered $4$ different concentrations of the fertilizer (measured in g/bu)\n",
    "and you have measured the mean height by growing $10$ plants per concentration.\n",
    "The measured data is given in Table 1, and is\n",
    "also given in the file [`Data/fertilizer.txt`](Data/fertilizer.txt).\n",
    "\n",
    "\n",
    "|**50 g/bu** | **100 g/bu** | **200 g/bu** | **400 g/bu** |\n",
    "|:---:|:---:|:---:|:---:|\n",
    "|$13.2$ | $16.0$ | $ 7.8$ | $21.0$ |\n",
    "|$12.4$ | $12.6$ | $14.4$ | $14.8$ |\n",
    "|$12.8$ | $14.8$ | $20.0$ | $19.1$ |\n",
    "|$17.2$ | $13.0$ | $15.8$ | $15.8$ |\n",
    "|$13.0$ | $14.0$ | $17.0$ | $18.0$ |\n",
    "|$14.0$ | $23.6$ | $27.0$ | $26.0$ |\n",
    "|$14.2$ | $14.0$ | $19.6$ | $21.1$ |\n",
    "|$21.6$ | $17.0$ | $18.0$ | $22.0$ |\n",
    "|$15.0$ | $22.2$ | $20.2$ | $25.0$ |\n",
    "|$20.0$ | $24.4$ | $23.2$ | $18.2$ |\n",
    "\n",
    "\n",
    "**Table 1:** *Measured plant heights (in cm) as a function of the fertilizer concentration (in g/bu).*\n",
    "\n",
    "\n",
    "**(a)**  Here, we will test the hypothesis that the mean height\n",
    "of the plants is not affected by the amount of fertilizer. We\n",
    "are going to test this with a specified significance level, $\\alpha$.\n",
    "What is the meaning of $\\alpha$ in connection with a hypothesis test?\n",
    "\n"
   ]
  },
  {
   "cell_type": "code",
   "execution_count": null,
   "metadata": {},
   "outputs": [],
   "source": [
    "# Your code here"
   ]
  },
  {
   "cell_type": "markdown",
   "metadata": {},
   "source": [
    "**Your answer to question 2.2(a):** *Double click here*"
   ]
  },
  {
   "cell_type": "markdown",
   "metadata": {},
   "source": [
    "**(b)**  To test the hypothesis, we will perform ANOVA. Before we do that,\n",
    "it is a good idea to visualize the raw data. Create a suitable plot\n",
    "of the raw data. Does it look like our hypothesis is correct?\n",
    "\n"
   ]
  },
  {
   "cell_type": "code",
   "execution_count": null,
   "metadata": {},
   "outputs": [],
   "source": [
    "# Your code here"
   ]
  },
  {
   "cell_type": "markdown",
   "metadata": {},
   "source": [
    "**Your answer to question 2.2(b):** *Double click here*"
   ]
  },
  {
   "cell_type": "markdown",
   "metadata": {},
   "source": [
    "**(c)**  In connection with performing ANOVA, we need to calculate some\n",
    "terms that measure the variance within groups and the variance\n",
    "between groups.\n",
    "Calculate these terms ($SST$, $SSA$, and $SSE$).\n",
    "\n"
   ]
  },
  {
   "cell_type": "code",
   "execution_count": null,
   "metadata": {},
   "outputs": [],
   "source": [
    "# Your code here"
   ]
  },
  {
   "cell_type": "markdown",
   "metadata": {},
   "source": [
    "**Your answer to question 2.2(c):** *Double click here*"
   ]
  },
  {
   "cell_type": "markdown",
   "metadata": {},
   "source": [
    "**(d)**  Using the terms you calculated in the previous point, obtain\n",
    "the two estimates for the variance:\n",
    "\n",
    "* (i)  $s_1^2 = \\frac{SSA}{k-1}$,\n",
    "\n",
    "* (ii)  $s^2 = \\frac{SSE}{k(n-1)}$,\n",
    "\n",
    "\n",
    "and calculate the $f$-statistic: $f=s_1^2/s^2$.\n",
    "\n"
   ]
  },
  {
   "cell_type": "code",
   "execution_count": null,
   "metadata": {},
   "outputs": [],
   "source": [
    "# Your code here"
   ]
  },
  {
   "cell_type": "markdown",
   "metadata": {},
   "source": [
    "**Your answer to question 2.2(d):** *Double click here*"
   ]
  },
  {
   "cell_type": "markdown",
   "metadata": {},
   "source": [
    "**(e)**  To perform the actual hypothesis test, we need the critical value\n",
    "from the $F$-distribution. For a specified significance level, $\\alpha$,\n",
    "and with $3$ and $36$ degrees of freedom, we\n",
    "label the critical value as $f_{\\alpha}(3, 36)$. Check that I am using\n",
    "the correct degrees of freedom here, consistent with the\n",
    "raw data given in table 1.\n",
    "\n"
   ]
  },
  {
   "cell_type": "code",
   "execution_count": null,
   "metadata": {},
   "outputs": [],
   "source": [
    "# Your code here"
   ]
  },
  {
   "cell_type": "markdown",
   "metadata": {},
   "source": [
    "**Your answer to question 2.2(e):** *Double click here*"
   ]
  },
  {
   "cell_type": "markdown",
   "metadata": {},
   "source": [
    "**(f)**  Critical $f$ values can be calculated from the distribution\n",
    "function(With Python, this can be done with\n",
    "`scipy.stats.f.ppf`\n",
    "from the\n",
    "[SciPy library](https://docs.scipy.org/doc/scipy/reference/generated/scipy.stats.f.html).)\n",
    "or it can be found in statistical tables.(One such table can be found\n",
    "[here on-line](https://www.itl.nist.gov/div898/handbook/eda/section3/eda3673.htm).)\n",
    "For the significance levels $\\alpha=0.05$ and $\\alpha=0.10$, I have found the\n",
    "following two values:\n",
    "\n",
    "* (i)  $f_{\\alpha = 0.05}(3, 36) = 2.866$\n",
    "\n",
    "* (ii)  $f_{\\alpha=0.10}(3, 36) = 2.243$\n",
    "\n",
    "\n",
    "Check that these two values are correct.\n",
    "\n"
   ]
  },
  {
   "cell_type": "code",
   "execution_count": null,
   "metadata": {},
   "outputs": [],
   "source": [
    "# Your code here"
   ]
  },
  {
   "cell_type": "markdown",
   "metadata": {},
   "source": [
    "**Your answer to question 2.2(f):** *Double click here*"
   ]
  },
  {
   "cell_type": "markdown",
   "metadata": {},
   "source": [
    "**(g)**  Based on the calculations you have done,\n",
    "can you conclude on the $0.05$ level of significance that\n",
    "different concentrations of the fertilizer affect the mean attained height\n",
    "of the plants? What concentration, if any, appears to give the tallest plants?\n",
    "\n"
   ]
  },
  {
   "cell_type": "code",
   "execution_count": null,
   "metadata": {},
   "outputs": [],
   "source": [
    "# Your code here"
   ]
  },
  {
   "cell_type": "markdown",
   "metadata": {},
   "source": [
    "**Your answer to question 2.2(g):** *Double click here*"
   ]
  },
  {
   "cell_type": "markdown",
   "metadata": {},
   "source": [
    "**(h)**  Would your conclusion change with a significance level of $0.10$?\n",
    "\n"
   ]
  },
  {
   "cell_type": "code",
   "execution_count": null,
   "metadata": {},
   "outputs": [],
   "source": [
    "# Your code here"
   ]
  },
  {
   "cell_type": "markdown",
   "metadata": {},
   "source": [
    "**Your answer to question 2.2(h):** *Double click here*"
   ]
  },
  {
   "cell_type": "markdown",
   "metadata": {},
   "source": [
    "**(i)**  (Optional) Re-do this exercise, but use the [`anova_lm`](https://www.statsmodels.org/stable/generated/statsmodels.stats.anova.anova\\_lm.html) method\n",
    "from the Python package [`statsmodels`](https://www.statsmodels.org), or the\n",
    "[`scipy.stats.f_oneway`](https://docs.scipy.org/doc/scipy/reference/generated/scipy.stats.f\\_oneway.html) method from the Python package [`SciPy`](https://www.scipy.org/), to run ANOVA.\n"
   ]
  },
  {
   "cell_type": "code",
   "execution_count": null,
   "metadata": {},
   "outputs": [],
   "source": [
    "# Your code here"
   ]
  },
  {
   "cell_type": "markdown",
   "metadata": {},
   "source": [
    "**Your answer to question 2.2(i):** *Double click here*"
   ]
  }
 ],
 "metadata": {
  "kernelspec": {
   "display_name": "Python 3 (ipykernel)",
   "language": "python",
   "name": "python3"
  },
  "language_info": {
   "codemirror_mode": {
    "name": "ipython",
    "version": 3
   },
   "file_extension": ".py",
   "mimetype": "text/x-python",
   "name": "python",
   "nbconvert_exporter": "python",
   "pygments_lexer": "ipython3",
   "version": "3.9.9"
  }
 },
 "nbformat": 4,
 "nbformat_minor": 2
}
