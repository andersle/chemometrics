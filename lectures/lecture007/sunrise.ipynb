{
 "cells": [
  {
   "cell_type": "markdown",
   "id": "b78f9d5c",
   "metadata": {},
   "source": [
    "# Analysis of a mixture design experiment"
   ]
  },
  {
   "cell_type": "code",
   "execution_count": null,
   "id": "d58328d3",
   "metadata": {},
   "outputs": [],
   "source": [
    "import pandas as pd\n",
    "import numpy as np\n",
    "from matplotlib import pyplot as plt\n",
    "import seaborn as sns\n",
    "import statsmodels.api as sm\n",
    "import mpltern\n",
    "from mpltern.ternary.datasets import get_triangular_grid\n",
    "\n",
    "%matplotlib notebook\n",
    "sns.set_context(\"notebook\")"
   ]
  },
  {
   "cell_type": "markdown",
   "id": "bd973f9b",
   "metadata": {},
   "source": [
    "## 1. Input of measured \"y\""
   ]
  },
  {
   "cell_type": "code",
   "execution_count": null,
   "id": "fd79c482",
   "metadata": {},
   "outputs": [],
   "source": [
    "# Design:\n",
    "# Simplex-lattice {3, 2}:\n",
    "X = np.array([\n",
    "    [1, 0, 0],\n",
    "    [0, 1, 0],\n",
    "    [0, 0, 1],\n",
    "    [0.5, 0.5, 0],\n",
    "    [0.5, 0, 0.5],\n",
    "    [0, 0.5, 0.5],\n",
    "    [1/3, 1/3, 1/3],\n",
    "])\n",
    "\n",
    "table = pd.DataFrame(X, columns=[\"X1\", \"X2\", \"X3\"])\n",
    "table[\"y\"] = [10, 8, 7, 9, 11, 12, 12]\n",
    "table"
   ]
  },
  {
   "cell_type": "code",
   "execution_count": null,
   "id": "fcf3b66d",
   "metadata": {},
   "outputs": [],
   "source": [
    "fig = plt.figure(constrained_layout=True)\n",
    "ax = fig.add_subplot(111, projection=\"ternary\")\n",
    "trip = ax.tripcolor(table[\"X1\"], table[\"X2\"], table[\"X3\"], table[\"y\"], shading=\"gouraud\")\n",
    "ax.scatter(table[\"X1\"], table[\"X2\"], table[\"X3\"], s=100, c=table[\"y\"], edgecolor=\"k\")"
   ]
  },
  {
   "cell_type": "markdown",
   "id": "ab0400ca",
   "metadata": {},
   "source": [
    "## 2. Analysis - least squares"
   ]
  },
  {
   "cell_type": "code",
   "execution_count": null,
   "id": "2a4724ee",
   "metadata": {},
   "outputs": [],
   "source": [
    "X1, X2, X3 = table[\"X1\"], table[\"X2\"], table[\"X3\"]\n",
    "y = table[\"y\"]\n",
    "\n",
    "X = np.column_stack([X1, X2, X3, X1*X2, X1*X3, X2*X3])\n",
    "model = sm.OLS(y, X).fit()\n",
    "print(model.summary())"
   ]
  },
  {
   "cell_type": "code",
   "execution_count": null,
   "id": "a0f65a58",
   "metadata": {},
   "outputs": [],
   "source": [
    "# Drawing:\n",
    "x1, x2, x3 = get_triangular_grid(n=21)\n",
    "X2 = np.column_stack((x1, x2, x3, x1*x2, x1*x3, x2*x3))\n",
    "y2 = model.predict(X2)\n",
    "\n",
    "fig = plt.figure(constrained_layout=True)\n",
    "ax1 = fig.add_subplot(111, projection=\"ternary\")\n",
    "trip1 = ax1.tripcolor(x1, x2, x3, y2, shading=\"flat\")\n",
    "cax1 = ax1.inset_axes([1.05, 0.1, 0.05, 0.9], transform=ax1.transAxes)\n",
    "colorbar = fig.colorbar(trip1, cax=cax1)\n",
    "ax1.scatter(table[\"X1\"], table[\"X2\"], table[\"X3\"], s=100, c=table[\"y\"], edgecolor=\"k\")"
   ]
  }
 ],
 "metadata": {
  "kernelspec": {
   "display_name": "Python 3 (ipykernel)",
   "language": "python",
   "name": "python3"
  },
  "language_info": {
   "codemirror_mode": {
    "name": "ipython",
    "version": 3
   },
   "file_extension": ".py",
   "mimetype": "text/x-python",
   "name": "python",
   "nbconvert_exporter": "python",
   "pygments_lexer": "ipython3",
   "version": "3.10.6"
  }
 },
 "nbformat": 4,
 "nbformat_minor": 5
}
