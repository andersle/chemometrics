{
 "cells": [
  {
   "cell_type": "markdown",
   "metadata": {},
   "source": [
    "**Exercise set 8**\n",
    "==============\n",
    "\n",
    "\n",
    ">The goal of this exercise is to gain familiarity with some\n",
    ">classification methods and the different ways we can assess and compare them.\n",
    "\n",
    "\n",
    "**Exercise 8.1**\n",
    "\n",
    "\n",
    "In this exercise, we will consider the\n",
    "[UCI ML Breast Cancer Wisconsin (Diagnostic) dataset](https://goo.gl/U2Uwz2).\n",
    "\n",
    "This data set contains $569$ tumors which have been classified\n",
    "as malignant or benign. In addition, $30$ variables have been\n",
    "measured and it is our goal to make a predictive model which\n",
    "can classify new tumors as being malignant or benign.\n",
    "An overview of the different variables can be found\n",
    "on the [`sklearn` website](https://scikit-learn.org/stable/datasets/index.html#breast-cancer-dataset).\n",
    "\n",
    "\n",
    "**(a)**  Begin the exercise by loading the raw data, and creating a test set.\n",
    "The data set itself can be loaded directly from `sklearn`\n",
    "as follows:\n",
    "\n",
    "```python\n",
    "from sklearn.datasets import load_breast_cancer\n",
    "\n",
    "data = load_breast_cancer()\n",
    "X = data['data']\n",
    "# \"Rename\" y so that 0 = benign and 1 = malignant:\n",
    "y = [0 if i == 1 else 1 for i in data['target']]\n",
    "class_names = ['benign', 'malignant']\n",
    "print('Classes:')\n",
    "print(class_names)\n",
    "\n",
    "print('Variables:')\n",
    "print(data['feature_names'])\n",
    "```\n",
    "\n",
    "The test set can be created as in previous exercises by using the method\n",
    "`train_test_split` which can be found in the module\n",
    "`sklearn.model_selection`.\n",
    "\n",
    "Create the test set\n",
    "using $33$\\% of the available data points for the test set.\n",
    "What is important to consider when creating this test set?\n",
    "Check that this is indeed satisfied for your test set and\n",
    "for your training set.\n",
    "\n",
    "\n"
   ]
  },
  {
   "cell_type": "code",
   "execution_count": null,
   "metadata": {},
   "outputs": [],
   "source": [
    "# Your code here"
   ]
  },
  {
   "cell_type": "markdown",
   "metadata": {},
   "source": [
    "**Your answer to question 8.1(a):** *Double click here*"
   ]
  },
  {
   "cell_type": "markdown",
   "metadata": {},
   "source": [
    "**(b)** In this case, we have to determine what\n",
    "quantity we are going to use\n",
    "to compare the different classification methods. Briefly explain\n",
    "how the following possible metrics for assessing classifiers are\n",
    "calculated:\n",
    "\n",
    "\n",
    "* (i)  Accuracy.\n",
    "\n",
    "* (ii)  Precision.\n",
    "\n",
    "* (iii)  Recall.\n",
    "\n",
    "* (iv)  F1.\n",
    "\n",
    "* (v)  The confusion matrix.\n",
    "\n",
    "\n",
    "\n",
    "Can you an example of a classification task where false positives\n",
    "should be avoided and false negative are tolerable? Can you give\n",
    "an example of the opposite (i.e. where false positives are tolerable\n",
    "and false negatives should be avoided)?\n",
    "\n",
    "\n",
    "In the following, we will calculate all these metrics for the\n",
    "different classification methods we consider. At the end of the\n",
    "exercise, you will be asked to compare the different classifiers\n",
    "using these metrics. But before we do that: Which of the\n",
    "aforementioned metrics would you say is most important for\n",
    "the classification task we have here?\n",
    "\n",
    "\n"
   ]
  },
  {
   "cell_type": "code",
   "execution_count": null,
   "metadata": {},
   "outputs": [],
   "source": [
    "# Your code here"
   ]
  },
  {
   "cell_type": "markdown",
   "metadata": {},
   "source": [
    "**Your answer to question 8.1(b):** *Double click here*"
   ]
  },
  {
   "cell_type": "markdown",
   "metadata": {},
   "source": [
    "**(c)**  Create a $k$-nearest neighbor classifier(This classifier is available from\n",
    "`sklearn.neighbors.KNeighborsClassifier`) with $3$ neighbors and\n",
    "fit it using your training set. Evaluate the classifier using the\n",
    "aforementioned metrics (with the test set) and plot the confusion matrix.(The different metrics are available in the `sklearn.metrics` module. Here, there is also a method, `plot_confusion_matrix` which you\n",
    "can use for plotting the confusion matrix.)\n",
    "\n",
    "\n"
   ]
  },
  {
   "cell_type": "code",
   "execution_count": null,
   "metadata": {},
   "outputs": [],
   "source": [
    "# Your code here"
   ]
  },
  {
   "cell_type": "markdown",
   "metadata": {},
   "source": [
    "**Your answer to question 8.1(c):** *Double click here*"
   ]
  },
  {
   "cell_type": "markdown",
   "metadata": {},
   "source": [
    "**(d)**  We will now try to optimize the $k$ for a $k$-nearest neighbor classifier.\n",
    "This can be done using the method `GridSearchCV` which we used in\n",
    "exercise set $6$. Use this method to find the \"best\" value for $k$, and\n",
    "use the metric you deemed most important in part **(b)** for\n",
    "scoring what \"best\" is. Consider $k$ values in the range $1 \\leq k \\leq 10$\n",
    "for your search for the best $k$.\n",
    "\n",
    "Evaluate the classifier with the best $k$ using the\n",
    "aforementioned metrics (with the test set) and plot the confusion matrix.\n",
    "What value for $k$ did you find in this case?\n",
    "\n",
    "\n"
   ]
  },
  {
   "cell_type": "code",
   "execution_count": null,
   "metadata": {},
   "outputs": [],
   "source": [
    "# Your code here"
   ]
  },
  {
   "cell_type": "markdown",
   "metadata": {},
   "source": [
    "**Your answer to question 8.1(d):** *Double click here*"
   ]
  },
  {
   "cell_type": "markdown",
   "metadata": {},
   "source": [
    "**(e)**  Create a decision tree classifier (This classifier is available from\n",
    "`sklearn.tree.DecisionTreeClassifier`)\n",
    "\n",
    "and fit it using your training set.\n",
    "Evaluate the classifier using the\n",
    "aforementioned metrics (with the test set) and plot the confusion matrix.\n"
   ]
  },
  {
   "cell_type": "code",
   "execution_count": null,
   "metadata": {},
   "outputs": [],
   "source": [
    "# Your code here"
   ]
  },
  {
   "cell_type": "markdown",
   "metadata": {},
   "source": [
    "**Your answer to question 8.1(e):** *Double click here*"
   ]
  },
  {
   "cell_type": "markdown",
   "metadata": {},
   "source": [
    "**(f)**  We will also\n",
    "try to tune the `DecisionTreeClassifier`\n",
    "by determining the maximum depth\n",
    "we should use for the tree. Again, you can use the method\n",
    "`GridSearchCV` to optimize the parameter\n",
    "`max_depth` for the `DecisionTreeClassifier`.\n",
    "Use the metric you deemed most important\n",
    "in question **(b)** and consider depths\n",
    "in the range `max_depth = range(1, 21)`, and, in addition,\n",
    "a depth\n",
    "where you set `max_depth = None` (this lets the\n",
    "tree expand as far down as possible).\n",
    "\n",
    "Evaluate the classifier with the best `max_depth` using the\n",
    "aforementioned metrics (with the test set) and plot the confusion matrix.\n",
    "\n",
    "What is the best `max_depth` you find in this case? Is it different\n",
    "from letting the tree expand as far down as possible and is this as you\n",
    "would expect?"
   ]
  },
  {
   "cell_type": "code",
   "execution_count": null,
   "metadata": {},
   "outputs": [],
   "source": [
    "# Your code here"
   ]
  },
  {
   "cell_type": "markdown",
   "metadata": {},
   "source": [
    "**Your answer to question 8.1(f):** *Double click here*"
   ]
  },
  {
   "cell_type": "markdown",
   "metadata": {},
   "source": [
    "**(g)**  In addition to the classifiers we have considered so far,\n",
    "we will try $3$ alternative classifiers.\n",
    "For these, we will not try\n",
    "to optimize any extra parameters.\n",
    "\n",
    "For each of the following classifiers:\n",
    "\n",
    "\n",
    "* (i)  Naive Bayes. (Available as `GaussianNB` from `sklearn.naive_bayes`)\n",
    "\n",
    "* (ii)  LDA. (Available as `LinearDiscriminantAnalysis` from `sklearn.discriminant_analysis`)\n",
    "\n",
    "* (iii)  Random forest. (Available as `RandomForestClassifier` from `sklearn.ensemble`)\n",
    "\n",
    "\n",
    "\n",
    "Train the classifier using your training set, and evaluate it using\n",
    "the aforementioned metrics (with the test set) and plot the confusion matrix.\n",
    "\n",
    "For the Random forest classifier: Investigate the most important\n",
    "variables for this classifier. This information is available through the\n",
    "property `feature_importances_` of your\n",
    "`RandomForestClassifier` object."
   ]
  },
  {
   "cell_type": "code",
   "execution_count": null,
   "metadata": {},
   "outputs": [],
   "source": [
    "# Your code here"
   ]
  },
  {
   "cell_type": "markdown",
   "metadata": {},
   "source": [
    "**Your answer to question 8.1(g):** *Double click here*"
   ]
  },
  {
   "cell_type": "markdown",
   "metadata": {},
   "source": [
    "**(h)**  Compare the accuracy, precision, recall and the F1 scores for all\n",
    "the classifiers you have considered.\n",
    "\n",
    "If you were to select one\n",
    "classifier to put into real-life use, which one would you choose and why?\n",
    "\n",
    "\n"
   ]
  },
  {
   "cell_type": "code",
   "execution_count": null,
   "metadata": {},
   "outputs": [],
   "source": [
    "# Your code here"
   ]
  },
  {
   "cell_type": "markdown",
   "metadata": {},
   "source": [
    "**Your answer to question 8.1(h):** *Double click here*"
   ]
  },
  {
   "cell_type": "markdown",
   "metadata": {},
   "source": [
    "**(i)**  Two extra tasks for the curious student:\n",
    "\n",
    "* (i)  Visualize the decision tree you have created. This\n",
    "can be done by using the method `export_graphviz`\n",
    "from `sklearn.tree`, or the method `plot_tree`\n",
    "from `sklearn.tree`. (Please see https://scikit-learn.org/stable/modules/tree.html and https://scikit-learn.org/stable/modules/generated/sklearn.tree.export_graphviz.html )\n",
    "\n",
    "\n",
    "* (ii)  Create an additional classifier using a support vector machine. This is\n",
    "available via `SVC` from `sklearn.svm`.\n",
    "\n",
    "\n"
   ]
  },
  {
   "cell_type": "code",
   "execution_count": null,
   "metadata": {},
   "outputs": [],
   "source": [
    "# Your code here"
   ]
  },
  {
   "cell_type": "markdown",
   "metadata": {},
   "source": [
    "**Your answer to question 8.1(i):** *Double click here*"
   ]
  },
  {
   "cell_type": "markdown",
   "metadata": {},
   "source": [
    "\n"
   ]
  }
 ],
 "metadata": {
  "kernelspec": {
   "display_name": "Python 3",
   "language": "python",
   "name": "python3"
  },
  "language_info": {
   "codemirror_mode": {
    "name": "ipython",
    "version": 3
   },
   "file_extension": ".py",
   "mimetype": "text/x-python",
   "name": "python",
   "nbconvert_exporter": "python",
   "pygments_lexer": "ipython3",
   "version": "3.8.1"
  }
 },
 "nbformat": 4,
 "nbformat_minor": 2
}
