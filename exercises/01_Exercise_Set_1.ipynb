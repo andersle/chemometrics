{
 "cells": [
  {
   "cell_type": "markdown",
   "metadata": {},
   "source": [
    "**Exercise set 1**\n",
    "==================\n",
    "\n",
    "\n",
    ">The goal of this exercise is to introduce some concepts from\n",
    ">Chapter 1, for instance the difference between **hard** and **soft** modeling.\n",
    "\n",
    "**Exercise 1.1** A traveling juggling group has an act out in the open where they shoot a person out from\n",
    "a cannon. The problem is to predict where the person will land depending on the angle of the cannon and\n",
    "the initial velocity.\n",
    "\n",
    "**(a)** This problem can be solved by both a **hard** and a **soft** modeling approach. What are the advantages\n",
    "and disadvantages of soft and hard modeling?\n",
    "\n",
    "**(b)** What **other** variables than the cannon angle and the initial velocity might influence the results?\n",
    "\n",
    "**(c)** The problem can be approached from a hard modeling perspective using Newton’s equations. Assume\n",
    "that you do not know anything about Newtonian mechanics, describe how you would solve this\n",
    "problem using a **soft** modeling approach.\n",
    "\n",
    "**(d)** Describe how the problem can be solved by **combining** both hard and soft modeling."
   ]
  },
  {
   "cell_type": "markdown",
   "metadata": {},
   "source": [
    "**Double click here to type your answer to exercise 1.1:**\n",
    "This is a markdown cell, so you can type latex math $\\sum_i^3 \\frac{\\pi}{2}$, *italics*, **bold**, ***bold italics***, and then execute the cell (by using shift+enter, or the *Run* button on top) to generate the final text. To make a cell markdown instead of code (default): Select the cell, go to the *Cell* menu on top and change *Cell Type* to \"markdown\"  "
   ]
  },
  {
   "cell_type": "markdown",
   "metadata": {},
   "source": [
    "**Exercise 1.2** A chemist wants to inspect the flow of materials passing through a pipe in a factory. The\n",
    "aim is to classify the flow into different types using acoustic sensors attached to the pipes. Before she can\n",
    "use chemometric methods for this purpose she needs to convert the recordings into a data table.\n",
    "\n",
    "**(a)** Should each sound recording be represented as a **column** or a **row** vector in the data matrix?\n",
    "\n",
    "**(b)** What **variables** could be used here to describe the sound recordings?\n",
    "\n",
    "**(c)** Are there any problems related to the representation of the signals we need to be aware of when\n",
    "analyzing these acoustic samples?"
   ]
  },
  {
   "cell_type": "markdown",
   "metadata": {},
   "source": [
    "**Answer 1.2:** (double click here)"
   ]
  },
  {
   "cell_type": "markdown",
   "metadata": {},
   "source": [
    "**Exercise 1.3** A pharmaceutical company wants to create a new drug for malaria. To do this,\n",
    "they use a *quantitative* structure-activity relationship (QSAR) approach. In QSAR a model is formed\n",
    "(typically a regression model) which predicts the biological activity of a compound given information about\n",
    "its molecular structure. To make a model, a set of compounds with known biological activity (here: \n",
    "anti-malaria activity) and structure is used. The data matrix will have one row for each molecule and each\n",
    "column contains a variable describing something related to the structure.\n",
    "\n",
    "**(a)** Can you suggest **variables** that may be used to describe the structure of the molecules?\n",
    "\n",
    "**(b)** Assume you decide to use XYZ coordinates for each atom as variables. What **problems** would you\n",
    "encounter for such a representation?\n",
    "\n",
    "**(c)** Can you suggest ways to **solve** the problems occurring above?"
   ]
  },
  {
   "cell_type": "markdown",
   "metadata": {},
   "source": [
    "**Answer 1.3:** (double click here)"
   ]
  },
  {
   "cell_type": "markdown",
   "metadata": {},
   "source": [
    "**Exercise 1.4** Assume you want to compare 20 spectra which all contain only three overlapping Gaussian\n",
    "peaks. **Which** of the following situations can we expect to encounter problems when using the sampling\n",
    "point representation (SPR)? SPR means that we sample the profile or shape at regular intervals where\n",
    "each sample point is represented by a variable, see Figure 1 below:\n",
    "\n",
    "**(a)** Peak positions and widths are constant for all 20 spectra. Only the peak heights vary.\n",
    "\n",
    "**(b)** Peak positions are constant for all 20 spectra. Peak widths and heights vary.\n",
    "\n",
    "**(c)** Peak positions, widths and heights vary for the three peaks in the 20 spectra."
   ]
  },
  {
   "cell_type": "markdown",
   "metadata": {},
   "source": [
    "![Fig_1_1.png](Figures/Fig_1_1.png)\n",
    "\n",
    "**Figure 1:** The shape of the profile is represented by a set of sampled points, usually regularly, along\n",
    "the abscissa. Each sampling point becomes a variable in the vector representing the profile in the data\n",
    "analysis."
   ]
  },
  {
   "cell_type": "markdown",
   "metadata": {},
   "source": [
    "**Answer 1.4:** (double click here)"
   ]
  },
  {
   "cell_type": "markdown",
   "metadata": {},
   "source": [
    "**Exercise 1.5** Consider the previous problem with three Gaussian peaks.\n",
    "\n",
    "**(a)** Suggest a representation **other** than the SPR which is making use of the functional form for these\n",
    "spectra and which ensures comparability between samples for the different variables when peaks are\n",
    "shifted.\n",
    "\n",
    "**(b)** Is there a **type** of peak shift which the functional representation above cannot handle or are all types\n",
    "of shifts accounted for?"
   ]
  },
  {
   "cell_type": "markdown",
   "metadata": {},
   "source": [
    "**Answer 1.5:** (double click here)"
   ]
  },
  {
   "cell_type": "markdown",
   "metadata": {},
   "source": [
    "**Exercise 1.6** When we perform a sampling point representation (SPR) of 1D data profiles, it is observed\n",
    "that shifts of peaks can cause serious problems when analyzing the data. However, it is also observed that\n",
    "shifting of **broader peaks** is less detrimental to the analysis as shifting of narrow peaks. Explain why\n",
    "this is so."
   ]
  },
  {
   "cell_type": "markdown",
   "metadata": {},
   "source": [
    "**Answer 1.6:** (double click here)"
   ]
  },
  {
   "cell_type": "markdown",
   "metadata": {},
   "source": [
    "**Exercise 1.7** The company FoodInspect Inc wants to create a product for its customers which enables\n",
    "them to analyze the freshness of fruits and vegetables when they are out buying food. The constraints for\n",
    "making this product are: it must be very cheap (not more than $50), easy to use (i.e. we assume every\n",
    "customer has no scientific or technical skills) and reliable. Suggest how such a product can be created\n",
    "using chemometric methods."
   ]
  },
  {
   "cell_type": "markdown",
   "metadata": {},
   "source": [
    "**Answer 1.7**: (double click here)"
   ]
  },
  {
   "cell_type": "markdown",
   "metadata": {},
   "source": [
    "**Important Note!**: If you want to save your answers, please do not forget to download this notebook, as described in [exercise 0](./00_jupyter_introduction.ipynb)."
   ]
  }
 ],
 "metadata": {
  "kernelspec": {
   "display_name": "Python 3",
   "language": "python",
   "name": "python3"
  },
  "language_info": {
   "codemirror_mode": {
    "name": "ipython",
    "version": 3
   },
   "file_extension": ".py",
   "mimetype": "text/x-python",
   "name": "python",
   "nbconvert_exporter": "python",
   "pygments_lexer": "ipython3",
   "version": "3.9.1"
  }
 },
 "nbformat": 4,
 "nbformat_minor": 2
}
