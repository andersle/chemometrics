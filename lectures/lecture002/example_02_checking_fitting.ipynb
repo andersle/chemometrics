{
 "cells": [
  {
   "cell_type": "markdown",
   "metadata": {},
   "source": [
    "Example of linear fitting."
   ]
  },
  {
   "cell_type": "code",
   "execution_count": null,
   "metadata": {},
   "outputs": [],
   "source": [
    "# Start by importing relevant libraries:\n",
    "import numpy as np\n",
    "import pandas as pd\n",
    "from matplotlib import pyplot as plt"
   ]
  },
  {
   "cell_type": "code",
   "execution_count": null,
   "metadata": {},
   "outputs": [],
   "source": [
    "data = pd.read_csv('data-a.txt', delim_whitespace=True)  # Read raw data."
   ]
  },
  {
   "cell_type": "code",
   "execution_count": null,
   "metadata": {},
   "outputs": [],
   "source": [
    "data.head()  # Show first few rows of data:"
   ]
  },
  {
   "cell_type": "code",
   "execution_count": null,
   "metadata": {},
   "outputs": [],
   "source": [
    "# It is always a good idea to look at your raw data:\n",
    "plt.style.use('seaborn-talk')\n",
    "fig1, axes = plt.subplots(nrows=2, ncols=2)\n",
    "xvar = ['x1', 'x2', 'x3', 'x4']\n",
    "yvar = ['y1', 'y2', 'y3', 'y4']\n",
    "for i, (x, y, axi) in enumerate(zip(xvar, yvar, axes.flatten())):\n",
    "    axi.set_title('Data set no. {}'.format(i + 1))\n",
    "    axi.scatter(data[x], data[y], s=200)\n",
    "    axi.set(xlabel=x, ylabel=y)\n",
    "fig1.tight_layout()"
   ]
  },
  {
   "cell_type": "markdown",
   "metadata": {},
   "source": [
    "**Q: How would you describe the four plots above? Linear? Constant? Do they contain outliers?**"
   ]
  },
  {
   "cell_type": "code",
   "execution_count": null,
   "metadata": {},
   "outputs": [],
   "source": [
    "# We will try to do a linear fitting to this data.\n",
    "# For this purpose we will use \"polyfit\" from numpy.\n",
    "\n",
    "# First we make a helper method to estimate R² (the coefficient of determination):\n",
    "def calculate_r_squared(y, y_hat):\n",
    "    \"\"\"Calculate the coeffcient of determination given real & estimated values.\"\"\"\n",
    "    ss_tot = np.sum((y - y.mean())**2)\n",
    "    ss_res = np.sum((y - y_hat)**2)\n",
    "    rsq = 1.0 - (ss_res / ss_tot)\n",
    "    return rsq\n",
    "\n",
    "r_squared = []  # Store the values for R².\n",
    "y_hat_values = []  # Store the estimated y-values.\n",
    "parameters = []  # Store the parameters.\n",
    "for x, y in zip(xvar, yvar):\n",
    "    param = np.polyfit(data[x], data[y], 1)  # Do a linear fit.\n",
    "    y_new = np.polyval(param, data[x])  # Estimate y\n",
    "    # Store values for later plotting:\n",
    "    y_hat_values.append(y_new)\n",
    "    parameters.append(param)\n",
    "    r_squared.append(calculate_r_squared(data[y], y_new))\n",
    "\n",
    "# Print out parameters:\n",
    "print('Parameters for y = a + b*x:')\n",
    "for i, param in enumerate(parameters):\n",
    "    print('- Data set no. {}: a = {:4.2f}, b = {:4.2f}'.format(i + 1, param[1], param[0]))"
   ]
  },
  {
   "cell_type": "code",
   "execution_count": null,
   "metadata": {},
   "outputs": [],
   "source": [
    "# Plot the fitted linear lines:\n",
    "fig2, axes2 = plt.subplots(nrows=2, ncols=2)\n",
    "for i, (x, y, y_hat, rsq, axi) in enumerate(zip(xvar, yvar, y_hat_values, r_squared, axes2.flatten())):\n",
    "    axi.set_title('Data set no. {}'.format(i + 1))\n",
    "    axi.scatter(data[x], data[y], s=200)\n",
    "    axi.plot(data[x], y_hat,\n",
    "             label='R² = {:4.2f}'.format(rsq), color='darkorange')\n",
    "    axi.set(xlabel=x, ylabel=y)\n",
    "    axi.legend()\n",
    "fig2.tight_layout()"
   ]
  },
  {
   "cell_type": "markdown",
   "metadata": {},
   "source": [
    "**Q: How would you describe the fitted lines above? Do you think they look good? (Why/Why not)**"
   ]
  },
  {
   "cell_type": "code",
   "execution_count": null,
   "metadata": {},
   "outputs": [],
   "source": [
    "# If we have several x variables, it can be difficult to visualize the fitted lines.\n",
    "# One option is then to plot the measured y vs. the estimated y. Let's see what this\n",
    "# looks like.\n",
    "\n",
    "# We first define a helper method:\n",
    "def add_x_y_line_to_axes(axi):\n",
    "    \"\"\"Plot the line y=x in the given axes.\"\"\"\n",
    "    axmin = np.min((axi.get_xlim(), axi.get_ylim()))\n",
    "    axmax = np.max((axi.get_xlim(), axi.get_ylim()))\n",
    "    axi.plot([axmin, axmax], [axmin, axmax], 'black')\n",
    "\n",
    "# Create the plot:\n",
    "fig3, axes3 = plt.subplots(nrows=2, ncols=2)\n",
    "for i, (y, y_hat, axi) in enumerate(zip(yvar, y_hat_values, axes3.flatten())):\n",
    "    axi.set_title('Data set no. {}'.format(i + 1))\n",
    "    axi.scatter(data[y], y_hat, s=200)\n",
    "    axi.set(xlabel=y, ylabel='$\\hat{{{}}}$'.format(y))\n",
    "    add_x_y_line_to_axes(axi)\n",
    "fig3.tight_layout()"
   ]
  },
  {
   "cell_type": "code",
   "execution_count": null,
   "metadata": {},
   "outputs": [],
   "source": [
    "# The residuals can be visualized to give some indication about the fit.\n",
    "# We plot those as well:\n",
    "fig4, axes4 = plt.subplots(nrows=2, ncols=2, sharex=True, sharey=True)\n",
    "for i, (y, y_hat, axi) in enumerate(zip(yvar, y_hat_values, axes4.flatten())):\n",
    "    axi.set_title('Data set no. {}'.format(i + 1))\n",
    "    axi.scatter(np.arange(1, len(data[y]) + 1) , data[y] - y_hat, s=200)\n",
    "    axi.set(xlabel='Point no.', ylabel='${0:} - \\hat{{{0:}}}$'.format(y))\n",
    "    axi.axhline(y=0, ls=':', color='black')\n",
    "fig4.tight_layout()"
   ]
  },
  {
   "cell_type": "code",
   "execution_count": null,
   "metadata": {},
   "outputs": [],
   "source": [
    "# There are also some other statistical quantities we can calculate:\n",
    "from scipy.stats import pearsonr, spearmanr, kendalltau\n",
    "numbers = []\n",
    "for x, y, rsq in zip(xvar, yvar, r_squared):\n",
    "    new_number = {\n",
    "        'pearson': pearsonr(data[x], data[y])[0],\n",
    "        'spearman': spearmanr(data[x], data[y])[0],\n",
    "        'kendall': kendalltau(data[x], data[y])[0],\n",
    "        'rsq': rsq,\n",
    "    }\n",
    "    numbers.append(new_number)"
   ]
  },
  {
   "cell_type": "code",
   "execution_count": null,
   "metadata": {},
   "outputs": [],
   "source": [
    "# Let us show these as well in a plot for comparison:\n",
    "fig5, axes5 = plt.subplots(nrows=2, ncols=2)\n",
    "text_fmt = r'$\\rho = {pearson:4.2f}, r_s = {spearman:4.2f}, \\tau = {kendall:4.2f}, R^2 = {rsq:4.2f}$'\n",
    "for i, (x, y, y_hat, number, axi) in enumerate(zip(xvar, yvar, y_hat_values, numbers, axes5.flatten())):\n",
    "    axi.scatter(data[x], data[y], s=200)\n",
    "    axi.plot(data[x], y_hat, color='darkorange')\n",
    "    title = ['Data set no. {}'.format(i + 1), text_fmt.format(**number)]\n",
    "    axi.set_title('\\n'.join(title))\n",
    "    axi.set(xlabel=x, ylabel=y)\n",
    "fig5.tight_layout()"
   ]
  }
 ],
 "metadata": {
  "kernelspec": {
   "display_name": "Python 3",
   "language": "python",
   "name": "python3"
  },
  "language_info": {
   "codemirror_mode": {
    "name": "ipython",
    "version": 3
   },
   "file_extension": ".py",
   "mimetype": "text/x-python",
   "name": "python",
   "nbconvert_exporter": "python",
   "pygments_lexer": "ipython3",
   "version": "3.7.5"
  }
 },
 "nbformat": 4,
 "nbformat_minor": 2
}
