{
 "cells": [
  {
   "cell_type": "markdown",
   "metadata": {},
   "source": [
    "# Exercise 3.5\n",
    "\n",
    "The temperature (°C) is measured continuously over time at a high altitude\n",
    "in the atmosphere using a\n",
    "weather balloon. Every hour a measurement is made and sent to an on-board computer.\n",
    "The measurements can be found in [the data file](Data/temperature.txt) (located at 'Data/temperature.txt').\n",
    "\n",
    "**(a)**  Create a Python script that performs polynomial\n",
    "fitting to the data using a first, second, third, fourth,\n",
    "and fifth order polynomial model. Hint: Make use of `numpy`, `matplotlib`\n",
    "and `pandas`."
   ]
  },
  {
   "cell_type": "markdown",
   "metadata": {},
   "source": [
    "Here, we will also make use of scikit-learn and define the fitting using a [Pipeline](https://scikit-learn.org/stable/modules/generated/sklearn.pipeline.Pipeline.html). A pipeline is a series of transformations that we apply to some data, before making a model. The pipeline below consists of:\n",
    "\n",
    "1. Transforming the input $x$ into a polynomial of some degree. E.g. if the degree is 2, this transform will generate $1$, $x$, and $x^2$ from the input x-values. This is a convenient way of generating a data matrix to use with least squares.\n",
    "\n",
    "2. Creating a least squares model using the output data matrix from step 1."
   ]
  },
  {
   "cell_type": "code",
   "execution_count": null,
   "metadata": {},
   "outputs": [],
   "source": [
    "# Here, we are going to make use of sklearn to generate some polynomials:\n",
    "import numpy as np\n",
    "import matplotlib.pyplot as plt\n",
    "import seaborn as sns\n",
    "import pandas as pd\n",
    "from sklearn.linear_model import LinearRegression\n",
    "from sklearn.preprocessing import PolynomialFeatures, StandardScaler\n",
    "from sklearn.pipeline import Pipeline\n",
    "from sklearn.metrics import r2_score, mean_squared_error\n",
    "\n",
    "sns.set_theme(style=\"ticks\", context=\"notebook\", palette=\"muted\")\n",
    "%matplotlib notebook\n",
    "\n",
    "# Load the data\n",
    "data = pd.read_csv(\"temperature.txt\", delim_whitespace=True)\n",
    "\n",
    "# Select the x and y values\n",
    "xdata = data[\"hour\"].values\n",
    "ydata = data[\"yobs\"].values\n",
    "\n",
    "x = xdata.reshape(-1, 1)\n",
    "\n",
    "models = []\n",
    "\n",
    "degrees = [1, 2, 3, 4, 5, 11]\n",
    "\n",
    "for degree in degrees:\n",
    "    # We define the steps in our pipeline. Here, we give them some descriptive names\n",
    "    # in case we have to refer to them later:\n",
    "    steps = [\n",
    "        # ('scale', StandardScaler()),\n",
    "        (\"polynomial\", PolynomialFeatures(degree=degree)),\n",
    "        (\"leastsquares\", LinearRegression(fit_intercept=False)),\n",
    "    ]\n",
    "    pipeline = Pipeline(\n",
    "        steps=steps\n",
    "    )  # Define a pipeline using the steps above.\n",
    "    pipeline.fit(\n",
    "        x, ydata\n",
    "    )  # Use the pipeline to fit a polynomial of the specified degree\n",
    "    models.append(pipeline)  # Store the pipeline/model for later"
   ]
  },
  {
   "cell_type": "markdown",
   "metadata": {},
   "source": [
    "**(b)**  Plot the fitted curves for the five models to the raw data.\n",
    "\n"
   ]
  },
  {
   "cell_type": "markdown",
   "metadata": {},
   "source": [
    "Here, we add R² and the [adjusted R²](https://en.wikipedia.org/wiki/Coefficient_of_determination#Adjusted_R2), which\n",
    "is given by,\n",
    "\n",
    "\\begin{equation}\n",
    " R^{2}_\\text{adjusted} =1-(1-R^{2}){n-1 \\over n-k-1},\n",
    " \\end{equation}\n",
    " \n",
    "where $n$ is the number of observations and $k$ the number of variables (not including the constant term)."
   ]
  },
  {
   "cell_type": "code",
   "execution_count": null,
   "metadata": {
    "scrolled": false
   },
   "outputs": [],
   "source": [
    "fig, axs = plt.subplots(\n",
    "    constrained_layout=True,\n",
    "    ncols=len(models),\n",
    "    figsize=(20, 4),\n",
    "    sharex=True,\n",
    "    sharey=True,\n",
    ")\n",
    "\n",
    "for degree, model, axi in zip(degrees, models, axs):\n",
    "    y_hat = model.predict(x)\n",
    "    axi.scatter(xdata, ydata)\n",
    "    r2 = r2_score(ydata, y_hat)\n",
    "    n = len(ydata)\n",
    "    r2_adj = 1 - (1 - r2) * (n - 1) / (n - degree - 1)  # Add adjusted R²\n",
    "    axi.plot(xdata, y_hat, color=\"darkorange\")\n",
    "    axi.set_title(f\"Degree {degree}\\nR² = {r2:.3f}\\nR²(adj) = {r2_adj:.3f}\")\n",
    "    axi.set_xlabel(\"Time (hour)\")\n",
    "    axi.set_ylabel(\"Temperature (°C)\")\n",
    "sns.despine(fig=fig)"
   ]
  },
  {
   "cell_type": "markdown",
   "metadata": {},
   "source": [
    "**(c)** Plot the residual curves for the five models and determine,\n",
    "from a visual inspection, the best polynomial order to use for modeling the\n",
    "temperature as a function of time. \n",
    "\n"
   ]
  },
  {
   "cell_type": "code",
   "execution_count": null,
   "metadata": {},
   "outputs": [],
   "source": [
    "# First prepare the figure\n",
    "fig, axs = plt.subplots(\n",
    "    constrained_layout=True,\n",
    "    ncols=len(models),\n",
    "    figsize=(20, 4),\n",
    "    sharex=True,\n",
    "    sharey=True,\n",
    ")\n",
    "\n",
    "for degree, model, axi in zip(degrees, models, axs):\n",
    "    y_hat = model.predict(x)\n",
    "    res = ydata - y_hat\n",
    "    axi.scatter(xdata, res)\n",
    "    # Plot a hline at 0 as a guidance for the eye:\n",
    "    axi.axhline(0, c=\"k\", lw=2, ls=\":\")\n",
    "    axi.set_title(f\"Degree {degree}\")\n",
    "    axi.set_xlabel(\"Time (hour)\")\n",
    "    axi.set_ylabel(\"Temperature residual (°C)\")\n",
    "sns.despine(fig=fig)"
   ]
  },
  {
   "cell_type": "markdown",
   "metadata": {},
   "source": [
    "**Answer 3.5c:** Degree 3 or higher seems to have unstructured residuals, so we go with the easiest description of our model, **degree 3**."
   ]
  },
  {
   "cell_type": "markdown",
   "metadata": {},
   "source": [
    "**(d)**  Obtain the sum of squared residuals for each polynomial. Plot this as a function\n",
    "of the degree of the polynomial and determine from visual inspection\n",
    "the best polynomial order to use for modeling the\n",
    "temperature as a function of time. Does this agree with your conclusion in point **3.5(c)**?\n"
   ]
  },
  {
   "cell_type": "code",
   "execution_count": null,
   "metadata": {},
   "outputs": [],
   "source": [
    "all_mse = []\n",
    "for model, axi in zip(models, axs):\n",
    "    y_hat = model.predict(x)\n",
    "    mse = mean_squared_error(ydata, y_hat)\n",
    "    all_mse.append(mse)\n",
    "fig, ax = plt.subplots(constrained_layout=True)\n",
    "ax.plot(degrees, all_mse, \"--o\")\n",
    "# '--o' is the dashed line with circled datapoints format\n",
    "ax.set_title(\"Mean squared residuals\")\n",
    "ax.set_xticks(degrees)\n",
    "ax.set_xlabel(\"Order polynomal fit\")\n",
    "ax.set_ylabel(r\"Sum of squared residuals (°C)²\")\n",
    "sns.despine(fig=fig)"
   ]
  },
  {
   "cell_type": "markdown",
   "metadata": {},
   "source": [
    "**Answer 3.5d:** Again **order 3** seems to be correct as there is no significant drop in the graph after that"
   ]
  },
  {
   "cell_type": "markdown",
   "metadata": {},
   "source": [
    "We repeat the fitting with statsmodels to obtain some additional statistics:"
   ]
  },
  {
   "cell_type": "code",
   "execution_count": null,
   "metadata": {},
   "outputs": [],
   "source": [
    "import statsmodels.api as sm"
   ]
  },
  {
   "cell_type": "code",
   "execution_count": null,
   "metadata": {},
   "outputs": [],
   "source": [
    "table = {\n",
    "    \"degree\": [],\n",
    "    \"R2\": [],\n",
    "    \"R2(adj)\": [],\n",
    "    \"AIC\": [],\n",
    "    \"BIC\": [],\n",
    "    \"MSE\": [],\n",
    "}\n",
    "x_scaled = x\n",
    "x_scaled = StandardScaler().fit_transform(x)\n",
    "for degree in degrees:\n",
    "    print(degree)\n",
    "    polynomial = PolynomialFeatures(degree=degree)\n",
    "    X = polynomial.fit_transform(x_scaled)\n",
    "    print(polynomial.get_feature_names_out())\n",
    "    model = sm.OLS(ydata, X).fit()\n",
    "    table[\"degree\"].append(degree)\n",
    "    table[\"R2\"].append(model.rsquared)\n",
    "    table[\"R2(adj)\"].append(model.rsquared_adj)\n",
    "    table[\"AIC\"].append(model.aic)\n",
    "    table[\"BIC\"].append(model.bic)\n",
    "    table[\"MSE\"].append(model.ssr)\n",
    "    print(model.summary())"
   ]
  },
  {
   "cell_type": "code",
   "execution_count": null,
   "metadata": {},
   "outputs": [],
   "source": [
    "table = pd.DataFrame(table)\n",
    "table"
   ]
  },
  {
   "cell_type": "code",
   "execution_count": null,
   "metadata": {},
   "outputs": [],
   "source": [
    "fig, ax = plt.subplots(constrained_layout=True)\n",
    "table.plot(\"degree\", \"BIC\", ax=ax, marker=\"o\", ylabel=\"BIC\", ls=\"--\")\n",
    "sns.despine(fig=fig)"
   ]
  }
 ],
 "metadata": {
  "kernelspec": {
   "display_name": "Python 3 (ipykernel)",
   "language": "python",
   "name": "python3"
  },
  "language_info": {
   "codemirror_mode": {
    "name": "ipython",
    "version": 3
   },
   "file_extension": ".py",
   "mimetype": "text/x-python",
   "name": "python",
   "nbconvert_exporter": "python",
   "pygments_lexer": "ipython3",
   "version": "3.9.13"
  }
 },
 "nbformat": 4,
 "nbformat_minor": 2
}
