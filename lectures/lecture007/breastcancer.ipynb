{
 "cells": [
  {
   "cell_type": "code",
   "execution_count": null,
   "metadata": {},
   "outputs": [],
   "source": [
    "import numpy as np\n",
    "import pandas as pd\n",
    "import seaborn as sns\n",
    "from matplotlib import pyplot as plt\n",
    "from sklearn.datasets import load_breast_cancer\n",
    "from sklearn.decomposition import PCA\n",
    "from sklearn.preprocessing import scale\n",
    "\n",
    "sns.set_theme(style=\"ticks\", context=\"notebook\", palette=\"muted\")\n",
    "%matplotlib inline"
   ]
  },
  {
   "cell_type": "code",
   "execution_count": null,
   "metadata": {},
   "outputs": [],
   "source": [
    "data_set = load_breast_cancer()\n",
    "data = pd.DataFrame(data_set[\"data\"], columns=data_set[\"feature_names\"])\n",
    "data[\"target\"] = data_set[\"target\"]"
   ]
  },
  {
   "cell_type": "code",
   "execution_count": null,
   "metadata": {},
   "outputs": [],
   "source": [
    "data"
   ]
  },
  {
   "cell_type": "code",
   "execution_count": null,
   "metadata": {},
   "outputs": [],
   "source": [
    "class_names = {\"0\": \"Malignant\", \"1\": \"Benign\"}"
   ]
  },
  {
   "cell_type": "code",
   "execution_count": null,
   "metadata": {},
   "outputs": [],
   "source": [
    "# The original data set contains many variables, for this example we select just 10 of these:\n",
    "variables = [\n",
    "    \"mean radius\",\n",
    "    \"mean texture\",\n",
    "    \"mean perimeter\",\n",
    "    \"mean area\",\n",
    "    \"mean smoothness\",\n",
    "    \"mean compactness\",\n",
    "    \"mean concavity\",\n",
    "    \"mean concave points\",\n",
    "    \"mean symmetry\",\n",
    "    \"mean fractal dimension\",\n",
    "]\n",
    "# To use all variables, uncomment the next line:\n",
    "# variables = [i for i in data.columns if i!= 'target']\n",
    "print(variables)"
   ]
  },
  {
   "cell_type": "code",
   "execution_count": null,
   "metadata": {},
   "outputs": [],
   "source": [
    "X = scale(data[variables].values)\n",
    "pca = PCA(n_components=4)  # Do PCA, but only ask for 4 principal components\n",
    "scores = pca.fit_transform(X)\n",
    "pca.components_"
   ]
  },
  {
   "cell_type": "code",
   "execution_count": null,
   "metadata": {},
   "outputs": [],
   "source": [
    "# Plot the explained variance:\n",
    "fig, (ax1, ax2) = plt.subplots(\n",
    "    constrained_layout=True, ncols=2, figsize=(8, 4), sharex=True\n",
    ")\n",
    "variance = pca.explained_variance_ratio_\n",
    "components = 1 + np.arange(len(variance))\n",
    "bar = ax1.bar(components, variance * 100.0)\n",
    "ax1.bar_label(bar, fmt=\"{:.1f}\")\n",
    "ax2.plot(\n",
    "    components, np.cumsum(variance) * 100.0, marker=\"o\", markersize=8, lw=2\n",
    ")\n",
    "ax1.set_xlabel(\"Principal component no.\")\n",
    "ax1.set_ylabel(\"Explained variance (%) per component\")\n",
    "ax2.set_xlabel(\"Number of principal components\")\n",
    "ax2.set_ylabel(\"Explained variance (%)\")\n",
    "ax2.axhline(y=100, ls=\":\", color=\"k\")\n",
    "sns.despine(fig=fig)"
   ]
  },
  {
   "cell_type": "code",
   "execution_count": null,
   "metadata": {},
   "outputs": [],
   "source": [
    "# Plot scores:\n",
    "fig, ax = plt.subplots(constrained_layout=True)\n",
    "sns.scatterplot(\n",
    "    data=data, x=scores[:, 0], y=scores[:, 1], ax=ax, s=90, hue=\"target\"\n",
    ")\n",
    "\n",
    "# The rest of the code here is just to style the plot:\n",
    "ax.axhline(y=0, ls=\":\", c=\"k\", lw=1)\n",
    "ax.axvline(x=0, ls=\":\", c=\"k\", lw=1)\n",
    "ax.set(xlabel=f\"Scores PC1 ({pca.explained_variance_ratio_[0]*100:.2g}%)\")\n",
    "ax.set(ylabel=f\"Scores PC2 ({pca.explained_variance_ratio_[1]*100:.2g}%)\")\n",
    "\n",
    "ax.legend(title=\"Cell type:\", alignment=\"left\")\n",
    "legend = ax.get_legend()\n",
    "for lab in legend.texts:\n",
    "    lab.set_text(class_names[lab.get_text()])\n",
    "sns.despine(fig=fig)"
   ]
  },
  {
   "cell_type": "code",
   "execution_count": null,
   "metadata": {},
   "outputs": [],
   "source": [
    "def plot_loadings_arrows(pca, idxi=0, idxj=1, labels=None):\n",
    "    fig, ax = plt.subplots(constrained_layout=True)\n",
    "\n",
    "    loadings = pca.components_.T\n",
    "\n",
    "    load1 = loadings[:, idxi]\n",
    "    load2 = loadings[:, idxj]\n",
    "\n",
    "    var1 = pca.explained_variance_ratio_[idxi] * 100\n",
    "    var2 = pca.explained_variance_ratio_[idxj] * 100\n",
    "\n",
    "    ax.set(xlabel=f\"Loadings PC1 ({var1:.2g}%)\")\n",
    "    ax.set(ylabel=f\"Loadings PC2 ({var2:.2g}%)\")\n",
    "    ax.axhline(y=0, ls=\":\", color=\"k\")\n",
    "    ax.axvline(x=0, ls=\":\", color=\"k\")\n",
    "\n",
    "    ax.scatter(load1, load2, color=\"none\")  # to adjust the axes\n",
    "\n",
    "    for i in range(pca.n_features_in_):\n",
    "        x, y = load1[i], load2[i]\n",
    "\n",
    "        ax.annotate(\n",
    "            \"\",\n",
    "            xy=(x, y),\n",
    "            xytext=(0, 0),\n",
    "            arrowprops=dict(\n",
    "                arrowstyle=\"-|>\", lw=2, color=\"red\", mutation_scale=25\n",
    "            ),\n",
    "        )\n",
    "        txt = f\"{i}\"\n",
    "        if labels is not None:\n",
    "            txt = labels[i]\n",
    "        ax.text(x, y, txt, fontsize=\"xx-small\")\n",
    "\n",
    "    ax.set_xlim(-0.6, 0.6)\n",
    "    ax.set_ylim(-0.6, 0.6)\n",
    "    ax.set_aspect(\"equal\")\n",
    "    sns.despine(fig=fig)"
   ]
  },
  {
   "cell_type": "code",
   "execution_count": null,
   "metadata": {},
   "outputs": [],
   "source": [
    "plot_loadings_arrows(pca, idxi=0, idxj=1, labels=variables)"
   ]
  },
  {
   "cell_type": "code",
   "execution_count": null,
   "metadata": {},
   "outputs": [],
   "source": [
    "# From the previous plot, it looks like we can separate (to some degree) by using\n",
    "# just the mean area and the mean smoothness. Let us try this:\n",
    "fig, ax = plt.subplots(constrained_layout=True)\n",
    "sns.scatterplot(data=data, x=\"mean area\", y=\"mean smoothness\", hue=\"target\", s=90)\n",
    "ax.legend(title=\"Cell type:\", alignment=\"left\")\n",
    "legend = ax.get_legend()\n",
    "for lab in legend.texts:\n",
    "    lab.set_text(class_names[lab.get_text()])\n",
    "sns.despine(fig=fig)"
   ]
  }
 ],
 "metadata": {
  "kernelspec": {
   "display_name": "Python 3 (ipykernel)",
   "language": "python",
   "name": "python3"
  },
  "language_info": {
   "codemirror_mode": {
    "name": "ipython",
    "version": 3
   },
   "file_extension": ".py",
   "mimetype": "text/x-python",
   "name": "python",
   "nbconvert_exporter": "python",
   "pygments_lexer": "ipython3",
   "version": "3.11.7"
  }
 },
 "nbformat": 4,
 "nbformat_minor": 4
}
