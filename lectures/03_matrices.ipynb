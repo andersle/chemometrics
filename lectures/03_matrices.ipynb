{
 "cells": [
  {
   "cell_type": "code",
   "execution_count": null,
   "metadata": {},
   "outputs": [],
   "source": [
    "# Start by importing some libraries:\n",
    "import numpy as np\n",
    "from matplotlib import pyplot as plt\n",
    "from mpl_toolkits.mplot3d import Axes3D  # Allow for 3D plots\n",
    "%matplotlib notebook\n",
    "np.random.seed(1234)  # Set random state so we get the same random numbers each time we run."
   ]
  },
  {
   "cell_type": "code",
   "execution_count": null,
   "metadata": {},
   "outputs": [],
   "source": [
    "# Generate some raw data:\n",
    "x = np.linspace(1, 10, 10)\n",
    "print(f'x = {x}')"
   ]
  },
  {
   "cell_type": "code",
   "execution_count": null,
   "metadata": {},
   "outputs": [],
   "source": [
    "# Generate y with some \"noise\":\n",
    "y = 1.0 * x + np.random.normal(size=x.shape, scale=1)\n",
    "print(f'y = {y}')"
   ]
  },
  {
   "cell_type": "code",
   "execution_count": null,
   "metadata": {},
   "outputs": [],
   "source": [
    "# Plot the raw data:\n",
    "fig1, ax1 = plt.subplots(constrained_layout=True)\n",
    "ax1.scatter(x, y, s=200)\n",
    "ax1.set(xlabel='x', ylabel='y');"
   ]
  },
  {
   "cell_type": "code",
   "execution_count": null,
   "metadata": {},
   "outputs": [],
   "source": [
    "# Find the least-squares line by doing matrix algebra:\n",
    "X = np.column_stack((np.ones_like(x), x))\n",
    "print(f'X =\\n {X}')"
   ]
  },
  {
   "cell_type": "code",
   "execution_count": null,
   "metadata": {},
   "outputs": [],
   "source": [
    "# Form the matrix product (X.T X) and take the inverse:\n",
    "product = np.dot(X.T, X)\n",
    "print(f'product =\\n {product}')\n",
    "inverse = np.linalg.inv(product)\n",
    "print(f'inverse =\\n {inverse}')"
   ]
  },
  {
   "cell_type": "code",
   "execution_count": null,
   "metadata": {},
   "outputs": [],
   "source": [
    "# Find b by taking: b = (X.T X)⁻¹ X.T y:\n",
    "b = np.dot(np.dot(inverse, X.T), y)\n",
    "print(f'b =\\n {b}')"
   ]
  },
  {
   "cell_type": "code",
   "execution_count": null,
   "metadata": {},
   "outputs": [],
   "source": [
    "# Plot the fitted values:\n",
    "y_hat = np.dot(X, b)\n",
    "fig2, ax2 = plt.subplots(constrained_layout=True)\n",
    "ax2.scatter(x, y, s=200)\n",
    "ax2.plot(x, y_hat, color='darkorange', lw=5, label='y = a + bx')\n",
    "ax2.set(xlabel='x', ylabel='y')\n",
    "ax2.legend();"
   ]
  },
  {
   "cell_type": "code",
   "execution_count": null,
   "metadata": {},
   "outputs": [],
   "source": [
    "# Solve: y = Xb for b, by finding the pseudo inverse:\n",
    "pinv = np.linalg.pinv(X)\n",
    "print(f'pseudo inverse =\\n {pinv}')\n",
    "bp = np.dot(pinv, y)\n",
    "print(f'bp =\\n {bp}')"
   ]
  },
  {
   "cell_type": "code",
   "execution_count": null,
   "metadata": {},
   "outputs": [],
   "source": [
    "# Compare the two sets of coefficients:\n",
    "print(f'   b = {b}')\n",
    "print(f'  bp = {bp}')\n",
    "print(f'b/bp = {b/bp}')"
   ]
  },
  {
   "cell_type": "code",
   "execution_count": null,
   "metadata": {},
   "outputs": [],
   "source": [
    "# Let us try a case with one additional variable w = 2*x:\n",
    "w = 2 * x\n",
    "X = np.column_stack((np.ones_like(x), x, w))\n",
    "print(X)"
   ]
  },
  {
   "cell_type": "code",
   "execution_count": null,
   "metadata": {},
   "outputs": [],
   "source": [
    "# Form the matrix product (X.T X) and take the inverse:\n",
    "product = np.dot(X.T, X)\n",
    "print(f'product =\\n {product}')\n",
    "inverse = np.linalg.inv(product)\n",
    "print(f'inverse =\\n {inverse}')"
   ]
  },
  {
   "cell_type": "code",
   "execution_count": null,
   "metadata": {},
   "outputs": [],
   "source": [
    "# Let us try with the pseudo-inverse:\n",
    "pinv = np.linalg.pinv(X)\n",
    "print(f'pseudo inverse =\\n {pinv}')\n",
    "bp = np.dot(pinv, y)\n",
    "print(f'bp =\\n {bp}')"
   ]
  },
  {
   "cell_type": "code",
   "execution_count": null,
   "metadata": {},
   "outputs": [],
   "source": [
    "# Check if two times the x-coefficient is equal to the w-coefficient:\n",
    "print(2 * bp[1] - bp[2])  # What does this mean?"
   ]
  },
  {
   "cell_type": "code",
   "execution_count": null,
   "metadata": {},
   "outputs": [],
   "source": [
    "# Let us try to plot the solution:\n",
    "fig3 = plt.figure(constrained_layout=True)\n",
    "ax3 = fig3.add_subplot(projection='3d')\n",
    "ax3.scatter(x, w, y, s=200)\n",
    "ax3.set_xlabel('x', labelpad=10)\n",
    "ax3.set_ylabel('w', labelpad=10)\n",
    "ax3.set_zlabel('y', labelpad=10)\n",
    "y_hat = np.dot(X, bp)\n",
    "ax3.plot(x, w, y_hat, color='black');"
   ]
  },
  {
   "cell_type": "markdown",
   "metadata": {},
   "source": [
    "If we have: $$y = a + bx_1 + cx_2,$$ but we know that $x = x_2 = 2 \\times x_1$, then we could do:\n",
    "$$y = a + b x_1 + c x_2 = a + 2 b x + c x = a + d x,$$\n",
    "that is: *we have really just one variable and we could simplify our description*."
   ]
  }
 ],
 "metadata": {
  "kernelspec": {
   "display_name": "Python 3",
   "language": "python",
   "name": "python3"
  },
  "language_info": {
   "codemirror_mode": {
    "name": "ipython",
    "version": 3
   },
   "file_extension": ".py",
   "mimetype": "text/x-python",
   "name": "python",
   "nbconvert_exporter": "python",
   "pygments_lexer": "ipython3",
   "version": "3.9.1"
  }
 },
 "nbformat": 4,
 "nbformat_minor": 4
}
