{
 "cells": [
  {
   "cell_type": "markdown",
   "metadata": {},
   "source": [
    "**Exercise 3.1:** \n",
    "\n",
    "In this exercise we will use least squares regression to investigate a physical phenomenon:\n",
    "the decay of beer froth with time. The file [erdinger.txt](Data/erdinger.txt) ('Data/erdinger.txt') \n",
    "contains [measured heights](https://doi.org/10.1088/0143-0807/23/1/304) for beer\n",
    "froth as a function of time, along with the errors in the measured heights.\n",
    "\n",
    "**(a)** Use least squares regression to create a linear model that predicts the beer froth height\n",
    "as a function of time. Plot your linear model together with the raw data."
   ]
  },
  {
   "cell_type": "code",
   "execution_count": null,
   "metadata": {},
   "outputs": [],
   "source": [
    "# Your code here"
   ]
  },
  {
   "cell_type": "markdown",
   "metadata": {},
   "source": [
    "**(b)** Obtain the [coefficient of determination](https://en.wikipedia.org/wiki/Coefficient_of_determination), R$^2$ , for your model."
   ]
  },
  {
   "cell_type": "code",
   "execution_count": null,
   "metadata": {},
   "outputs": [],
   "source": [
    "# Your code here"
   ]
  },
  {
   "cell_type": "markdown",
   "metadata": {},
   "source": [
    "**(c)** It is reasonable to assume that the change in the volume of froth is proportional\n",
    "to the volume present at a given time. One can show that this leads to exponential decay,\n",
    "\n",
    "\\begin{equation}\n",
    "h(t) = h(0) \\exp \\left(-\\frac{t}{\\tau} \\right), \n",
    "\\tag{1}\n",
    "\\end{equation}\n",
    "\n",
    "where $h(t)$ is the height of the froth as a function of time $t$, and $\\tau$ is a parameter.\n",
    "In the following, consider $h(0)$ as an unknown parameter to be determined. \n",
    "Show how you can transform the equation above to a linear equation of the form,\n",
    "\n",
    "\\begin{equation}\n",
    "y = a + b x, \n",
    "\\tag{2}\n",
    "\\end{equation}\n",
    "and give the relation(s) between the variables $h, h(0), t, \\tau$ and $a, b, x, y$.\n"
   ]
  },
  {
   "cell_type": "markdown",
   "metadata": {},
   "source": [
    "**Answer 3.1c:** (double click here)"
   ]
  },
  {
   "cell_type": "markdown",
   "metadata": {},
   "source": [
    "**(d)** Using the transformation found above, create a new linear model, and estimate $h(0)$\n",
    "and $\\tau$. Further, calculate the coefficient of determination for this case, and compare\n",
    "the two linear models you have found so far."
   ]
  },
  {
   "cell_type": "code",
   "execution_count": null,
   "metadata": {},
   "outputs": [],
   "source": [
    "# Your code here"
   ]
  },
  {
   "cell_type": "markdown",
   "metadata": {},
   "source": [
    "**(e)** From the analytical model eq. (1), $h(0)$ is a known constant, equal to the height of\n",
    "the froth at time zero. Thus, we can reformulate our model and fit it to just obtain\n",
    "one parameter, $b$. Essentially, we are defining $y^\\prime = y - a$ and using the model,\n",
    "\n",
    "\\begin{equation}\n",
    "y - a = y^\\prime = b x.\n",
    "\\tag{3}\n",
    "\\end{equation}\n",
    "Show that the least squares solution for $b$ when fitting $y^\\prime = bx$ is given by,\n",
    "\n",
    "\\begin{equation}\n",
    "b = \\frac{\n",
    "\\sum_{i=1}^n y_i^\\prime x_i\n",
    "}{\\sum_{i=1}^n x_i^2\n",
    "},\n",
    "\\tag{4}\n",
    "\\end{equation}\n",
    "\n",
    "where $n$ is the number of measurements and $x_i$ and $y_i^\\prime$ are the\n",
    "measured values.\n"
   ]
  },
  {
   "cell_type": "markdown",
   "metadata": {},
   "source": [
    "**Answer 3.1e:** (double click here)"
   ]
  },
  {
   "cell_type": "markdown",
   "metadata": {},
   "source": [
    "**(f)** Do the fitting a final time, but use eq. (4)\n",
    "to obtain the parameter $b$.\n",
    "Calculate the coefficient of determination and compare the three linear models you have found."
   ]
  },
  {
   "cell_type": "code",
   "execution_count": null,
   "metadata": {},
   "outputs": [],
   "source": [
    "# Your code here"
   ]
  },
  {
   "cell_type": "markdown",
   "metadata": {},
   "source": [
    "**Exercise 3.2:**\n",
    "\n",
    "In this exercise, we will consider a linear model where we have one variable:\n",
    "\\begin{equation*}\n",
    "y = a + bx, \n",
    "\\end{equation*} \n",
    "and we have determined $a$ and $b$ using the least squares equations. We further have\n",
    "$n$ data points $(x_1, y_1), (x_2, y_2), \\ldots, (x_n, y_n)$ where the $x_i$'s do not have\n",
    "any uncertainty, while the uncertainty in the $y_i$'s are all equal to $\\sigma_y$.\n",
    "\n",
    "\n",
    ">*Our goal in this exercise is to find expressions for estimating\n",
    ">the errors in the parameters $a$ and $b$,\n",
    ">given the error in our measurements of $y$.*\n",
    "\n",
    "**Background information: Propagation of errors**\n",
    "\n",
    "To be able to estimate the errors in $a$ and $b$, we will use [propagation of errors](https://en.wikipedia.org/wiki/Propagation_of_uncertainty).\n",
    "For simplicity, consider a function, $f$, of two variables $u$ and $v$: $f = f(u, v)$.\n",
    "By doing a Taylor expansion about the average values, $\\bar{u}$ and $\\bar{v}$, we can\n",
    "show that the uncertainty (or \"error\") in the function $f$, $\\sigma_f$, due to the uncertainties in $u$\n",
    "and $v$ ($\\sigma_u$ and $\\sigma_v$, respectively) is given by:\n",
    "\\begin{equation*}\n",
    "\\sigma_f^2 = \\left(\\frac{\\partial f}{\\partial u} \\right)^2 \\sigma_u^2 +\n",
    "\\left(\\frac{\\partial f}{\\partial v} \\right)^2 \\sigma_v^2 +\n",
    "2 \\frac{\\partial f}{\\partial u} \\frac{\\partial f}{\\partial v} \\sigma_{uv} + \\text{higher-order terms},\n",
    "\\end{equation*}\n",
    "where $\\sigma_{uv}$ is the *covariance* between $u$ and $v$. Typically, the errors are \"small\"\n",
    "and this motivates us to neglect the higher order terms. Further, we will assume that the\n",
    "variables $u$ and $v$ are *not* correlated: $\\sigma_{uv} = 0$. We then arrive at the\n",
    "(perhaps well-known) approximate propagation-of-errors-expression for the uncertainty in $f$:\n",
    "\\begin{equation*}\n",
    "\\sigma_f^2 \\approx \\left(\\frac{\\partial f}{\\partial u} \\right)^2 \\sigma_u^2 +\n",
    "\\left(\\frac{\\partial f}{\\partial v} \\right)^2 \\sigma_v^2,  \n",
    "\\end{equation*} \n",
    "This can be generalized to $k$ variables, say $f=f(z_1, z_2, \\ldots, z_k)$. The approximate\n",
    "expression for the uncertainty in $f$, $\\sigma_f$, due to the uncertainties\n",
    "in the $z_i$'s, $\\sigma_{z_{i}}$, is then:\n",
    "\n",
    "\\begin{equation}\n",
    "\\sigma_f^2 \\approx \\sum_{i=1}^{k} \\left(\\frac{\\partial f}{\\partial z_{i}} \\right)^2 \\sigma_{z_{i}}^2,\n",
    "\\label{eq:errorp}\n",
    "\\tag{5}\n",
    "\\end{equation} \n",
    "\n",
    "We will use this expression to estimate the uncertainties in $a$ and $b$.\n",
    "\n",
    "\n",
    "**Deriving expressions for the uncertainties in $a$ and $b$**\n",
    "\n",
    "**(a)** Show that the error in the $b$ parameter, $\\sigma_b$,\n",
    "is given by the following expression:\n",
    "\\begin{equation*}\n",
    "\\sigma_b^2 = \\frac{\\sigma_y^2}{\\sum_{i=1}^n \\left(x_i - \\bar{x}\\right)^2},\n",
    "\\end{equation*}\n",
    "where $\\bar{x} = \\frac{1}{n} \\sum_{i=1}^{n} x_i$ is the average of $x$.\n",
    "\n",
    "\n",
    "***Hint:*** Use the least squares expression for $b$:\n",
    "\\begin{equation*}\n",
    "b = \\frac{\n",
    "\\sum_{i=1}^n (x_i - \\bar{x}) (y_i - \\bar{y})\n",
    "}{\n",
    "\\sum_{i=1}^n (x_i - \\bar{x})^2\n",
    "},\n",
    "\\end{equation*}\n",
    "together with the propagation-of-errors expression (Eq. $\\eqref{eq:errorp}$), and consider $b$ as a\n",
    "function of the $y_i$'s: $b = f(y_1, y_2, \\ldots, y_n)$. You might find it helpful to determine\n",
    "$\\frac{\\partial b}{\\partial y_j}$\n",
    "as an intermediate step in your derivation.\n"
   ]
  },
  {
   "cell_type": "markdown",
   "metadata": {},
   "source": [
    "**Answer 3.2(a):** (double click)"
   ]
  },
  {
   "cell_type": "markdown",
   "metadata": {},
   "source": [
    "**(b)**\n",
    "Show that the error in the $a$ parameter, $\\sigma_a$, is given by the following expression:\n",
    "\\begin{equation*}\n",
    "\\sigma_a^2 = \\frac{\\sigma_y^2}{n} \\times\n",
    "\\frac{\n",
    "\\sum_{i=1}^{n} x_i^2\n",
    "}{\n",
    "\\sum_{i=1}^{n} (x_i - \\bar{x})^2\n",
    "}.\n",
    "\\end{equation*}\n",
    "***Hint:*** Use the least squares expression for $a$:\n",
    "\\begin{equation*}\n",
    "a = \\bar{y} - b \\bar{x},\n",
    "\\end{equation*} \n",
    "together with the propagation-of-errors expression (Eq. (5)), and consider $a$ as a\n",
    "function of the $y_i$'s *and* $b$: $a = f(y_1, y_2, \\ldots, y_n,b)$. You might find it\n",
    "helpful to determine\n",
    "$\\frac{\\partial a}{\\partial y_j}$ and $\\frac{\\partial a}{\\partial b}$ as intermediate steps\n",
    "in your derivation.\n"
   ]
  },
  {
   "cell_type": "markdown",
   "metadata": {},
   "source": [
    "**Answer 3.2(b):** (double click)"
   ]
  }
 ],
 "metadata": {
  "kernelspec": {
   "display_name": "Python 3",
   "language": "python",
   "name": "python3"
  },
  "language_info": {
   "codemirror_mode": {
    "name": "ipython",
    "version": 3
   },
   "file_extension": ".py",
   "mimetype": "text/x-python",
   "name": "python",
   "nbconvert_exporter": "python",
   "pygments_lexer": "ipython3",
   "version": "3.8.1"
  }
 },
 "nbformat": 4,
 "nbformat_minor": 2
}
