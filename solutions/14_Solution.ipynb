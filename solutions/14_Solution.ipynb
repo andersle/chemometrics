{
 "cells": [
  {
   "cell_type": "markdown",
   "id": "ebce65ca",
   "metadata": {},
   "source": [
    "# Exercise set 14\n",
    "\n",
    "> As you near the end of TKJ4175, it's time to test your newly acquired skills! In this final exercise, you will analyze NMR spectra and identify unknown oils using the knowledge you have gained in this course.\n",
    "\n",
    "The data file [Data/nmr_oil.csv](./Data/nmr_oil.csv) contains ¹H NMR spectra measured for \n",
    "six edible oils: sesame, olive, peanut, sunflower, canola, and corn. We have five spectra for each oil, and each spectrum is recorded at 1100 chemical shifts. We also have three spectra of unknown oils in the data file [Data/nmr_unknown_oil.csv](./Data/nmr_unknown_oil.csv). \n",
    "\n",
    "Here's the challenge: we have a limited amount of information on the unknown samples. They could be any of the six known oils we have measured, but the three unknown oils may be of the same kind, or they can all be different. Your task is to decipher their identities.\n",
    "\n",
    "**Use your chemometrics skills and identify the three oils!**"
   ]
  },
  {
   "cell_type": "markdown",
   "id": "63788af2",
   "metadata": {},
   "source": [
    "## Plotting example spectra\n",
    "\n",
    "To get you started, here are some code to plot example spectra:"
   ]
  },
  {
   "cell_type": "code",
   "execution_count": null,
   "id": "160504da",
   "metadata": {},
   "outputs": [],
   "source": [
    "import pandas as pd\n",
    "from matplotlib import pyplot as plt\n",
    "import numpy as np\n",
    "import seaborn as sns\n",
    "\n",
    "%matplotlib inline\n",
    "sns.set_context(\"notebook\")"
   ]
  },
  {
   "cell_type": "code",
   "execution_count": null,
   "id": "7ba1360b",
   "metadata": {},
   "outputs": [],
   "source": [
    "data = pd.read_csv(\"Data/nmr_oil.csv\")\n",
    "data_unknown = pd.read_csv(\"Data/nmr_unknown_oil.csv\")\n",
    "data.head()\n",
    "# The column oil contains the oil type, and the other\n",
    "# columns contain the intensity at the shift value given\n",
    "# by the column name."
   ]
  },
  {
   "cell_type": "code",
   "execution_count": null,
   "id": "6f994fce",
   "metadata": {},
   "outputs": [],
   "source": [
    "fig, axes = plt.subplots(\n",
    "    constrained_layout=True, nrows=6, sharex=True, figsize=(9, 12)\n",
    ")\n",
    "# ppm values are:\n",
    "ppms = np.array([float(i.split(\"ppm\")[0]) for i in data.columns if \"ppm\" in i])\n",
    "# Loop over oil types and plot one example of each:\n",
    "for i, oil_type in enumerate(data[\"oil\"].unique()):\n",
    "    intensity = data[data[\"oil\"] == oil_type].to_numpy()[0, 1:]\n",
    "    # Note: The selection [0, 1:] above picks the first of\n",
    "    # the five spectra for the selected oil type, and then\n",
    "    # it skips the first (index 0 columns) since this is\n",
    "    # the oil column.\n",
    "    axes[i].plot(ppms, intensity)\n",
    "    axes[i].set(ylabel=\"Intensity\")\n",
    "    axes[i].set_title(f\"Oil: {oil_type}\", loc=\"left\")\n",
    "axes[-1].invert_xaxis()\n",
    "axes[-1].set_xlabel(\"ppm\")\n",
    "sns.despine(fig=fig)"
   ]
  },
  {
   "cell_type": "code",
   "execution_count": null,
   "id": "a194792a",
   "metadata": {},
   "outputs": [],
   "source": [
    "fig, axes = plt.subplots(constrained_layout=True, figsize=(9, 3))\n",
    "# ppm values are:\n",
    "ppms = np.array(\n",
    "    [float(i.split(\"ppm\")[0]) for i in data_unknown.columns if \"ppm\" in i]\n",
    ")\n",
    "# Show all the unknowns\n",
    "spectra = data_unknown.to_numpy()[:, 1:]\n",
    "for i, intensity in enumerate(spectra):\n",
    "    axes.plot(ppms, intensity, label=f\"Unknown oil {i+1}\")\n",
    "axes.set(ylabel=\"Intensity\")\n",
    "axes.invert_xaxis()\n",
    "axes.set_xlabel(\"ppm\")\n",
    "axes.legend(loc=\"upper left\")\n",
    "sns.despine(fig=fig)"
   ]
  },
  {
   "cell_type": "markdown",
   "id": "c6b07515",
   "metadata": {},
   "source": [
    "## 0. Preprocessing\n",
    "\n",
    "We first take care of the different intensities, but normalizing all spectra to one:"
   ]
  },
  {
   "cell_type": "code",
   "execution_count": null,
   "id": "e7466778",
   "metadata": {},
   "outputs": [],
   "source": [
    "variables = [i for i in data.columns if \"ppm\" in i]\n",
    "X_known = data[variables].to_numpy()\n",
    "X_unknown = data_unknown[variables].to_numpy()"
   ]
  },
  {
   "cell_type": "code",
   "execution_count": null,
   "id": "55a0e384",
   "metadata": {},
   "outputs": [],
   "source": [
    "# We scale the spectra so that their intensity \"sums\" to one:\n",
    "for i, row in enumerate(X_known):\n",
    "    X_known[i, :] /= np.sqrt(np.dot(row, row))\n",
    "\n",
    "for i, row in enumerate(X_unknown):\n",
    "    X_unknown[i, :] /= np.sqrt(np.dot(row, row))"
   ]
  },
  {
   "cell_type": "markdown",
   "id": "318e6564",
   "metadata": {},
   "source": [
    "## 1. PCA\n",
    "\n",
    "Let us use PCA for finding out what the unknowns are:"
   ]
  },
  {
   "cell_type": "code",
   "execution_count": null,
   "id": "c88653e8",
   "metadata": {},
   "outputs": [],
   "source": [
    "from sklearn.decomposition import PCA\n",
    "\n",
    "pca = PCA(n_components=0.95)\n",
    "scores = pca.fit_transform(X_known)\n",
    "scores_unknown = pca.transform(X_unknown)"
   ]
  },
  {
   "cell_type": "code",
   "execution_count": null,
   "id": "b34c7366",
   "metadata": {},
   "outputs": [],
   "source": [
    "# Create some colors for plotting:\n",
    "oils = data[\"oil\"].unique()\n",
    "colors = sns.color_palette(\"hls\", len(oils))\n",
    "color_map = {key: colors[i] for i, key in enumerate(oils)}"
   ]
  },
  {
   "cell_type": "code",
   "execution_count": null,
   "id": "24db3fc7",
   "metadata": {},
   "outputs": [],
   "source": [
    "def plot_scores(component1=0, component2=1):\n",
    "    fig, ax = plt.subplots(constrained_layout=True)\n",
    "    for oil in oils:\n",
    "        ax.scatter(\n",
    "            scores[data[\"oil\"] == oil, component1],\n",
    "            scores[data[\"oil\"] == oil, component2],\n",
    "            color=color_map[oil],\n",
    "            label=f\"{oil}\",\n",
    "        )\n",
    "\n",
    "    for i, unknown in enumerate(scores_unknown):\n",
    "        ax.scatter(\n",
    "            unknown[component1],\n",
    "            unknown[component2],\n",
    "            marker=\"X\",\n",
    "            label=f\"Unknown {i+1}\",\n",
    "            edgecolor=\"k\",\n",
    "        )\n",
    "    ax.legend()\n",
    "    var1 = pca.explained_variance_ratio_[component1]\n",
    "    var2 = pca.explained_variance_ratio_[component2]\n",
    "    ax.set(\n",
    "        xlabel=f\"Scores, component {component1+1} ({var1*100:.2f}%)\",\n",
    "        ylabel=f\"Scores, component {component2+1} ({var2*100:.2f}%)\",\n",
    "    )\n",
    "    sns.despine(fig=fig)\n",
    "\n",
    "\n",
    "plot_scores(component1=0, component2=1)\n",
    "plot_scores(component1=0, component2=2)"
   ]
  },
  {
   "cell_type": "markdown",
   "id": "1940ea51",
   "metadata": {},
   "source": [
    "Based on the plots above, it looks like the first two samples are corn, while the last\n",
    "one is peanut.\n",
    "\n",
    "Let us investigate the loadings to see if we can figure out some shifts that differentiate\n",
    "between the oils:"
   ]
  },
  {
   "cell_type": "code",
   "execution_count": null,
   "id": "8ff81ec6",
   "metadata": {},
   "outputs": [],
   "source": [
    "# Plot loadings:\n",
    "load1 = pca.components_[0, :]\n",
    "load2 = pca.components_[1, :]\n",
    "\n",
    "fig, ax = plt.subplots()\n",
    "ax.axhline(y=0, ls=\":\", color=\"black\", lw=1)\n",
    "ax.axvline(x=0, ls=\":\", color=\"black\", lw=1)\n",
    "ax.set_xlim(-0.4, 0.4)\n",
    "ax.set_ylim(-0.4, 0.4)\n",
    "ax.set_aspect(\"equal\")\n",
    "ax.scatter(load1, load2)\n",
    "\n",
    "# Show text for the \"biggest\" loadings:\n",
    "distance = load1 * load1 + load2 * load2\n",
    "idx = np.argsort(distance)[-10:]\n",
    "for i in idx:\n",
    "    ax.text(load1[i], load2[i], variables[i], fontsize=\"small\")"
   ]
  },
  {
   "cell_type": "markdown",
   "id": "8887c003",
   "metadata": {},
   "source": [
    "It seems that shifts in the range 1.2 to 1.4 are important for the distinction. Let us plot the spectra in this region:"
   ]
  },
  {
   "cell_type": "code",
   "execution_count": null,
   "id": "d2f602ee",
   "metadata": {},
   "outputs": [],
   "source": [
    "fig, axes = plt.subplots(\n",
    "    constrained_layout=True, ncols=3, figsize=(12, 3), sharex=True\n",
    ")\n",
    "\n",
    "# We scale the spectra so that their intensity \"sums\" to one:\n",
    "lines, labels = [], []\n",
    "for i, row in enumerate(X_known):\n",
    "    oil_name = data[\"oil\"][i]\n",
    "    (linei,) = axes[0].plot(ppms, row, color=color_map[oil_name])\n",
    "    (linei,) = axes[1].plot(ppms, row, color=color_map[oil_name])\n",
    "    (linei,) = axes[2].plot(ppms, row, color=color_map[oil_name])\n",
    "    if oil_name not in labels:\n",
    "        labels.append(oil_name)\n",
    "        lines.append(linei)\n",
    "\n",
    "\n",
    "for i, unknown in enumerate(X_unknown):\n",
    "    # axes[i].plot(ppms, unknown, color=\"k\", alpha=0.5, lw=3)\n",
    "    scat = axes[i].scatter(ppms, unknown, color=\"k\", alpha=0.5, zorder=3)\n",
    "    axes[i].set_title(f\"Unknown {i+1}\", loc=\"left\")\n",
    "    if i == 0:\n",
    "        labels.append(\"unknown\")\n",
    "        lines.append(scat)\n",
    "\n",
    "axes[0].legend(lines, labels, fontsize=\"small\")\n",
    "axes[0].set_xlim(1.2, 1.4)\n",
    "axes[0].set(xlabel=\"ppm\", ylabel=\"Intensity\")\n",
    "axes[1].set(xlabel=\"ppm\")\n",
    "axes[2].set(xlabel=\"ppm\")\n",
    "sns.despine(fig=fig)"
   ]
  },
  {
   "cell_type": "markdown",
   "id": "6c2085a8",
   "metadata": {},
   "source": [
    "The plot above agrees with the scores: unknown 1 and 2 look at lot like corn oil, while unknown 3 is similar to peanut."
   ]
  },
  {
   "cell_type": "markdown",
   "id": "4d116e6b",
   "metadata": {},
   "source": [
    "## 2. Classification with Naive Bayes"
   ]
  },
  {
   "cell_type": "code",
   "execution_count": null,
   "id": "52a00c19",
   "metadata": {},
   "outputs": [],
   "source": [
    "from sklearn.naive_bayes import GaussianNB\n",
    "from sklearn.model_selection import train_test_split\n",
    "from sklearn.preprocessing import LabelEncoder"
   ]
  },
  {
   "cell_type": "code",
   "execution_count": null,
   "id": "5817e6e7",
   "metadata": {},
   "outputs": [],
   "source": [
    "# Since this will be classification, we need to create an \"y\" value:\n",
    "encoder = LabelEncoder().fit(data[\"oil\"])\n",
    "y = encoder.transform(data[\"oil\"])"
   ]
  },
  {
   "cell_type": "code",
   "execution_count": null,
   "id": "8c2f1c5c",
   "metadata": {},
   "outputs": [],
   "source": [
    "# And let us do training, although we have few samples (and too many variables to be honest...)\n",
    "X_train, X_test, y_train, y_test = train_test_split(\n",
    "    X_known, y, test_size=0.2, stratify=y\n",
    ")"
   ]
  },
  {
   "cell_type": "code",
   "execution_count": null,
   "id": "dff9b80b",
   "metadata": {},
   "outputs": [],
   "source": [
    "bayes = GaussianNB()\n",
    "bayes.fit(X_train, y_train)\n",
    "y_pred = bayes.predict(X_test)"
   ]
  },
  {
   "cell_type": "code",
   "execution_count": null,
   "id": "0edf4f04",
   "metadata": {},
   "outputs": [],
   "source": [
    "# Use Bayes to get probabilities for each class\n",
    "y_unknown = bayes.predict_proba(X_unknown)\n",
    "y_unknown"
   ]
  },
  {
   "cell_type": "markdown",
   "id": "6efe2873",
   "metadata": {},
   "source": [
    "Here, the probabilities are zero for all classes except one of then.\n",
    "So the classifier is pretty sure here. Let us output the name of the classes\n",
    "with the larges probabilities:"
   ]
  },
  {
   "cell_type": "code",
   "execution_count": null,
   "id": "c361c889",
   "metadata": {},
   "outputs": [],
   "source": [
    "y_unknown_class = y_unknown.argmax(axis=1)\n",
    "unknown_class = encoder.inverse_transform(y_unknown_class)\n",
    "print(\"The unknown oils are:\")\n",
    "unknown_class"
   ]
  },
  {
   "cell_type": "markdown",
   "id": "268a75b4",
   "metadata": {},
   "source": [
    "The conclusion here is the same as for the PCA: two are from corn and the last one is from peanut. Here, we should consider to downsample and use the scores from PCA (the n'th first scores) to simplify the model."
   ]
  }
 ],
 "metadata": {
  "kernelspec": {
   "display_name": "Python 3 (ipykernel)",
   "language": "python",
   "name": "python3"
  },
  "language_info": {
   "codemirror_mode": {
    "name": "ipython",
    "version": 3
   },
   "file_extension": ".py",
   "mimetype": "text/x-python",
   "name": "python",
   "nbconvert_exporter": "python",
   "pygments_lexer": "ipython3",
   "version": "3.11.9"
  }
 },
 "nbformat": 4,
 "nbformat_minor": 5
}
