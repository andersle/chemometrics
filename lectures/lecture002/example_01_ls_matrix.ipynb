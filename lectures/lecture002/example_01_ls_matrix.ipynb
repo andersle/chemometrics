{
 "cells": [
  {
   "cell_type": "code",
   "execution_count": null,
   "metadata": {},
   "outputs": [],
   "source": [
    "# Import libraries:\n",
    "import numpy as np  # For matrix operations.\n",
    "import pandas as pd  # For reading data tables.\n",
    "from matplotlib import pyplot as plt  # For plotting.\n",
    "from tabulate import tabulate  # For generating text tables\n",
    "from IPython.display import Markdown, display  # For displaying text"
   ]
  },
  {
   "cell_type": "code",
   "execution_count": null,
   "metadata": {},
   "outputs": [],
   "source": [
    "# Load the txt file, which is a space dilimited csv file.\n",
    "data = pd.read_csv('data-a.txt', delim_whitespace=True)\n",
    "data"
   ]
  },
  {
   "cell_type": "code",
   "execution_count": null,
   "metadata": {},
   "outputs": [],
   "source": [
    "plt.style.use('ggplot')\n",
    "fig1, ax1 = plt.subplots()\n",
    "x = data['x1']\n",
    "y = data['y1']\n",
    "ax1.scatter(x, y, s=200)\n",
    "ax1.set(xlabel='x', ylabel='y')\n",
    "fig1.tight_layout()"
   ]
  },
  {
   "cell_type": "code",
   "execution_count": null,
   "metadata": {},
   "outputs": [],
   "source": [
    "# First do linear regression using numpy.polyfit:\n",
    "param1 = np.polyfit(x, y, 1)\n",
    "print('Parameters for: y = a + b*x')\n",
    "print('a = {:4.2f}'.format(param1[1]))\n",
    "print('b = {:4.2f}'.format(param1[0]))"
   ]
  },
  {
   "cell_type": "code",
   "execution_count": null,
   "metadata": {},
   "outputs": [],
   "source": [
    "# Next we use the matrix equation: b = (X.T X)⁻1 X.T y\n",
    "# We start by creating the X matrix:\n",
    "ones = np.ones_like(x)  # Make a column of [1 1 1 ... 1]\n",
    "X = np.column_stack((ones, x))  # Make the X matrix.\n",
    "display(Markdown('$X=$'))\n",
    "print(tabulate(X, tablefmt='fancy_grid'))"
   ]
  },
  {
   "cell_type": "code",
   "execution_count": null,
   "metadata": {},
   "outputs": [],
   "source": [
    "# Calculate the (X.T X)^-1 matrix:\n",
    "mat = np.dot(X.T, X)\n",
    "display(Markdown('$(X^T X)=$'))\n",
    "print(tabulate(mat, tablefmt='fancy_grid'))"
   ]
  },
  {
   "cell_type": "code",
   "execution_count": null,
   "metadata": {},
   "outputs": [],
   "source": [
    "# Take the inverse:\n",
    "mat_inv = np.linalg.inv(mat)\n",
    "display(Markdown('$(X^T X)^{-1}=$'))\n",
    "print(tabulate(mat_inv, tablefmt='fancy_grid'))"
   ]
  },
  {
   "cell_type": "code",
   "execution_count": null,
   "metadata": {},
   "outputs": [],
   "source": [
    "# Check the inversion:\n",
    "check = np.dot(mat, mat_inv)\n",
    "display(Markdown(r'$(X^T X) \\times (X^T X)^{-1}=$'))\n",
    "print(tabulate(check, tablefmt='fancy_grid'))"
   ]
  },
  {
   "cell_type": "code",
   "execution_count": null,
   "metadata": {},
   "outputs": [],
   "source": [
    "# Calculate the parameters using the formula given above:\n",
    "param2 = np.dot(np.dot(mat_inv, X.T), y)\n",
    "print('Parameters \"by hand\" for: y = a + b*x')\n",
    "print('a = {:4.2f}'.format(param2[0]))\n",
    "print('b = {:4.2f}'.format(param2[1]))"
   ]
  },
  {
   "cell_type": "code",
   "execution_count": null,
   "metadata": {},
   "outputs": [],
   "source": [
    "# Difference in parameters:\n",
    "print('Difference in a:', param1[1] - param2[0])\n",
    "print('Difference in b:', param1[0] - param2[1])"
   ]
  },
  {
   "cell_type": "code",
   "execution_count": null,
   "metadata": {},
   "outputs": [],
   "source": [
    "# Estimate y - values using b:\n",
    "y_hat = np.dot(X, param2)  # y = X b"
   ]
  },
  {
   "cell_type": "code",
   "execution_count": null,
   "metadata": {},
   "outputs": [],
   "source": [
    "# Plot the fitted line:\n",
    "fig2, ax2 = plt.subplots()\n",
    "ax2.scatter(x, y, s=200)\n",
    "ax2.plot(x, y_hat, color='black', label='Linear fit')\n",
    "ax2.set(xlabel='x', ylabel='y')\n",
    "ax2.legend()\n",
    "fig2.tight_layout()"
   ]
  }
 ],
 "metadata": {
  "kernelspec": {
   "display_name": "Python 3",
   "language": "python",
   "name": "python3"
  },
  "language_info": {
   "codemirror_mode": {
    "name": "ipython",
    "version": 3
   },
   "file_extension": ".py",
   "mimetype": "text/x-python",
   "name": "python",
   "nbconvert_exporter": "python",
   "pygments_lexer": "ipython3",
   "version": "3.7.5"
  }
 },
 "nbformat": 4,
 "nbformat_minor": 2
}
