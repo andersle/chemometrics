{
 "cells": [
  {
   "cell_type": "markdown",
   "id": "d4f23d5e",
   "metadata": {},
   "source": [
    "# Investigating species of hawks\n",
    "\n",
    "The raw data is collected from the [Stat2Data  R-package](https://github.com/statmanrobin/Stat2Data/tree/master).\n",
    "It was originally collected by students and faculty at Cornell College in Mount Vernon, Iowa. The data we use here contains a subset of the features, and observations with missing numbers have been removed. The variables are:\n",
    "\n",
    "* The species: RT (Red-tailed), CH (Cooper's), and SS (Sharp-shinned).\n",
    "* The age: A (adult) or I (immature).\n",
    "* The sex: F (female), M (male), or ? (for unknown).\n",
    "* The length (in mm) of the primary wing feather.\n",
    "* The body weigth (in g).\n",
    "* The tail length (in mm).\n",
    "* The length of the [culmen](https://en.wikipedia.org/wiki/Beak#Culmen) (in mm).\n",
    "\n",
    "We will use PCA to see if we can group the birds according to the species. But first, we will make a scatter\n",
    "plot matrix to see what we can learn:"
   ]
  },
  {
   "cell_type": "code",
   "execution_count": null,
   "id": "f8d29e2b",
   "metadata": {},
   "outputs": [],
   "source": [
    "import numpy as np\n",
    "import pandas as pd\n",
    "import seaborn as sns\n",
    "from matplotlib import pyplot as plt\n",
    "\n",
    "%matplotlib inline\n",
    "sns.set_theme(style=\"ticks\", context=\"notebook\", palette=\"muted\")\n",
    "\n",
    "data = pd.read_csv(\"hawks.csv\")\n",
    "data.head()"
   ]
  },
  {
   "cell_type": "code",
   "execution_count": null,
   "id": "7db3a7be",
   "metadata": {},
   "outputs": [],
   "source": [
    "# The species are:\n",
    "species = {\n",
    "    \"RT\": \"Red-tailed hawk\",\n",
    "    \"CH\": \"Cooper's hawk\",\n",
    "    \"SS\": \"Sharp-shinned hawk\",\n",
    "}\n",
    "data[\"Species\"] = [species[i] for i in data[\"Species\"]]"
   ]
  },
  {
   "cell_type": "code",
   "execution_count": null,
   "id": "cd4f813e",
   "metadata": {},
   "outputs": [],
   "source": [
    "data.describe()"
   ]
  },
  {
   "cell_type": "code",
   "execution_count": null,
   "id": "c7567c2a",
   "metadata": {},
   "outputs": [],
   "source": [
    "# We first create a scatter plot matrix with seaborn.\n",
    "# The parameter \"hue\" is used to select groups we color according to.\n",
    "grid = sns.pairplot(\n",
    "    data,\n",
    "    corner=True,\n",
    "    hue=\"Species\",\n",
    ")"
   ]
  },
  {
   "cell_type": "markdown",
   "id": "2f5bc387",
   "metadata": {},
   "source": [
    "# Dimension reduction by Principal component analysis\n",
    "In this section, we will use principal component analysis to check if we can \"discover\" the different\n",
    "species from measured features.\n",
    "\n",
    "## Preprocessing the data\n",
    "Before we run the analysis, we preprocess the data since we are using variables with different units:"
   ]
  },
  {
   "cell_type": "code",
   "execution_count": null,
   "id": "f0a1ed76",
   "metadata": {},
   "outputs": [],
   "source": [
    "from sklearn.preprocessing import StandardScaler\n",
    "\n",
    "variables = [\"Wing\", \"Tail\", \"Weight\", \"Culmen\"]\n",
    "scale = StandardScaler().fit(data[variables])\n",
    "X = scale.transform(data[variables])"
   ]
  },
  {
   "cell_type": "markdown",
   "id": "ac021912",
   "metadata": {},
   "source": [
    "## Performing PCA\n",
    "\n",
    "To run the principal component analysis, we make use of [PCA from scikit-learn](https://scikit-learn.org/stable/modules/generated/sklearn.decomposition.PCA.html):"
   ]
  },
  {
   "cell_type": "code",
   "execution_count": null,
   "id": "2fdb1cb7",
   "metadata": {},
   "outputs": [],
   "source": [
    "from sklearn.decomposition import PCA\n",
    "\n",
    "pca = PCA()\n",
    "scores = pca.fit_transform(X)"
   ]
  },
  {
   "cell_type": "markdown",
   "id": "93c2e0a9",
   "metadata": {},
   "source": [
    "## Plotting the new coordinates (scores)\n",
    "\n",
    "We plot the scores for the first principal component against the scores for the second principal component:"
   ]
  },
  {
   "cell_type": "code",
   "execution_count": null,
   "id": "033b59e7",
   "metadata": {},
   "outputs": [],
   "source": [
    "fig, ax = plt.subplots(constrained_layout=True, figsize=(8, 6))\n",
    "sns.scatterplot(\n",
    "    data=data, x=scores[:, 0], y=scores[:, 1], ax=ax, s=90, hue=\"Species\"\n",
    ")\n",
    "\n",
    "# The rest of the code here is just to style the plot:\n",
    "ax.axhline(y=0, ls=\":\", c=\"k\", lw=1)\n",
    "ax.axvline(x=0, ls=\":\", c=\"k\", lw=1)\n",
    "ax.set(xlabel=f\"Scores PC1 ({pca.explained_variance_ratio_[0]*100:.2g}%)\")\n",
    "ax.set(ylabel=f\"Scores PC2 ({pca.explained_variance_ratio_[1]*100:.2g}%)\")\n",
    "sns.despine(fig=fig)"
   ]
  },
  {
   "cell_type": "markdown",
   "id": "78ddefe9",
   "metadata": {},
   "source": [
    "## Plotting the loadings\n",
    "\n",
    "Next, we will investigate the loadings. The loadings explain the new coordinate system. Specifically, they show the transformation from the old axes to the new coordinate system. We can get the loadings by inspecting the PCA object we created above:"
   ]
  },
  {
   "cell_type": "code",
   "execution_count": null,
   "id": "c5a8e6f1",
   "metadata": {},
   "outputs": [],
   "source": [
    "loadings = pca.components_.T\n",
    "loadings"
   ]
  },
  {
   "cell_type": "markdown",
   "id": "2dafdfcd",
   "metadata": {},
   "source": [
    "Each row of `pca.components_` (= each column of the transposed `pca.components_.T`) contains a principal component. The first one is:"
   ]
  },
  {
   "cell_type": "code",
   "execution_count": null,
   "id": "722c2563",
   "metadata": {},
   "outputs": [],
   "source": [
    "pc1 = loadings[:, 0]\n",
    "print(pc1)"
   ]
  },
  {
   "cell_type": "markdown",
   "id": "db600327",
   "metadata": {},
   "source": [
    "These numbers define how we construct the principal component:"
   ]
  },
  {
   "cell_type": "code",
   "execution_count": null,
   "id": "e117c67e",
   "metadata": {},
   "outputs": [],
   "source": [
    "text = \" + \".join([f\"{i:4.2f} * {j}\" for i, j in zip(pc1, variables)])\n",
    "print(f\"pc1 = {text}\")"
   ]
  },
  {
   "cell_type": "markdown",
   "id": "1e6a198d",
   "metadata": {},
   "source": [
    "Here, the first principal component contains contributions from all the variables and approximately the same amount from each of them. We can also check that it is normalized:"
   ]
  },
  {
   "cell_type": "code",
   "execution_count": null,
   "id": "a64f178c",
   "metadata": {},
   "outputs": [],
   "source": [
    "np.linalg.norm(pc1)"
   ]
  },
  {
   "cell_type": "markdown",
   "id": "124fe8eb",
   "metadata": {},
   "source": [
    "OK, enough about that: It is time to plot the loadings for the first two principal components:"
   ]
  },
  {
   "cell_type": "code",
   "execution_count": null,
   "id": "0cfbef38",
   "metadata": {},
   "outputs": [],
   "source": [
    "def plot_loadings_arrows(pca, idxi=0, idxj=1, labels=None):\n",
    "    fig, ax = plt.subplots(constrained_layout=True)\n",
    "\n",
    "    loadings = pca.components_.T\n",
    "\n",
    "    load1 = loadings[:, idxi]\n",
    "    load2 = loadings[:, idxj]\n",
    "\n",
    "    var1 = pca.explained_variance_ratio_[idxi] * 100\n",
    "    var2 = pca.explained_variance_ratio_[idxj] * 100\n",
    "\n",
    "    ax.set(xlabel=f\"Loadings PC1 ({var1:.2g}%)\")\n",
    "    ax.set(ylabel=f\"Loadings PC2 ({var2:.2g}%)\")\n",
    "    ax.axhline(y=0, ls=\":\", color=\"k\")\n",
    "    ax.axvline(x=0, ls=\":\", color=\"k\")\n",
    "\n",
    "    ax.scatter(load1, load2, color=\"none\")  # to adjust the axes\n",
    "\n",
    "    for i in range(pca.n_features_in_):\n",
    "        x, y = load1[i], load2[i]\n",
    "\n",
    "        ax.annotate(\n",
    "            \"\",\n",
    "            xy=(x, y),\n",
    "            xytext=(0, 0),\n",
    "            arrowprops=dict(\n",
    "                arrowstyle=\"-|>\", lw=2, color=\"red\", mutation_scale=25\n",
    "            ),\n",
    "        )\n",
    "        txt = f\"{i}\"\n",
    "        if labels is not None:\n",
    "            txt = labels[i]\n",
    "        ax.text(x, y, txt, fontsize=\"xx-small\")\n",
    "\n",
    "    ax.set_xlim(-1, 1)\n",
    "    ax.set_ylim(-1, 1)\n",
    "    ax.set_aspect(\"equal\")\n",
    "    sns.despine(fig=fig)"
   ]
  },
  {
   "cell_type": "code",
   "execution_count": null,
   "id": "ba5bcac4",
   "metadata": {},
   "outputs": [],
   "source": [
    "plot_loadings_arrows(pca, idxi=0, idxj=1, labels=variables)"
   ]
  },
  {
   "cell_type": "markdown",
   "id": "a236e9da",
   "metadata": {},
   "source": [
    "In the plot above, we see, for instance, that the `Wing` and `Culmen` are almost on top of each other. The interpretation is that\n",
    "  birds with larger wings have larger culmen (or vice versa)."
   ]
  },
  {
   "cell_type": "markdown",
   "id": "141ec1ee",
   "metadata": {},
   "source": [
    "## Explained variance\n",
    "\n",
    "We can also inspect how much of the variance we are explaining with the principal components:"
   ]
  },
  {
   "cell_type": "code",
   "execution_count": null,
   "id": "a2c557a3",
   "metadata": {},
   "outputs": [],
   "source": [
    "fig, (ax1, ax2) = plt.subplots(\n",
    "    constrained_layout=True, ncols=2, figsize=(8, 4), sharex=True\n",
    ")\n",
    "variance = pca.explained_variance_ratio_\n",
    "components = 1 + np.arange(len(variance))\n",
    "bar = ax1.bar(components, variance * 100.0)\n",
    "ax1.bar_label(bar, fmt=\"{:.1f}\")\n",
    "ax2.plot(\n",
    "    components, np.cumsum(variance) * 100.0, marker=\"o\", markersize=8, lw=2\n",
    ")\n",
    "ax1.set_xlabel(\"Principal component no.\")\n",
    "ax1.set_ylabel(\"Explained variance (%) per component\")\n",
    "ax2.set_xlabel(\"Number of principal components\")\n",
    "ax2.set_ylabel(\"Explained variance (%)\")\n",
    "ax2.axhline(y=100, ls=\":\", color=\"k\")\n",
    "sns.despine(fig=fig)"
   ]
  },
  {
   "cell_type": "markdown",
   "id": "bfe0e875",
   "metadata": {},
   "source": [
    "In this particular example, we explain most of the variance with the first principal component!"
   ]
  }
 ],
 "metadata": {
  "kernelspec": {
   "display_name": "Python 3 (ipykernel)",
   "language": "python",
   "name": "python3"
  },
  "language_info": {
   "codemirror_mode": {
    "name": "ipython",
    "version": 3
   },
   "file_extension": ".py",
   "mimetype": "text/x-python",
   "name": "python",
   "nbconvert_exporter": "python",
   "pygments_lexer": "ipython3",
   "version": "3.11.7"
  }
 },
 "nbformat": 4,
 "nbformat_minor": 5
}
