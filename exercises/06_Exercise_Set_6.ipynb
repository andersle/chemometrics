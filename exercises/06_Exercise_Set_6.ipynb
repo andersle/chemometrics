{
 "cells": [
  {
   "cell_type": "markdown",
   "metadata": {},
   "source": [
    "# Exercise set 6\n",
    "\n",
    "> **The first goal** of this exercise is to analyze a fractional factorial design and use\n",
    "> confounding, defining contrast(s), generators and the resolution.\n",
    ">\n",
    "> In connection with experimental design, we have seen two approaches for checking if\n",
    "> determined effects are important or not. These two approaches are based on creating\n",
    "> a probability plot and performing ANOVA. **The second goal** of this exercise is to\n",
    "> use these two approaches in practice."
   ]
  },
  {
   "cell_type": "markdown",
   "metadata": {},
   "source": [
    "# Exercise 6.1\n",
    "\n",
    "You have recently started a new job as the lead\n",
    "experimental chemist in a company that makes chocolate bars.\n",
    "A new, and supposedly tasty, chocolate is being developed, and the\n",
    "main ingredients that you can vary are: \n",
    "\n",
    "\n",
    "*  The amount of cocoa ($A$).\n",
    "\n",
    "*  The number of pecan nuts ($B$).\n",
    "\n",
    "*  The amount of caramel ($C$).\n",
    "\n",
    "*  The amount of milk powder ($D$).\n",
    "\n",
    "*  The amount of sugar ($E$).\n",
    "\n",
    "*  The amount of vanilla ($F$).\n",
    "\n",
    "You are tasked with carrying out a maximum of $16$ experiments (limited due to cost\n",
    "and time constraints) in which the best mixture of the main ingredients ($A$–$F$)\n",
    "is found. (\"Best\" is here determined by a tasting panel made up of $30$ people.)\n",
    "For this task you decide on making a two-level fractional factorial design.\n",
    "\n",
    "\n",
    "**(a)**  How many experiments would you have to carry out\n",
    "if you were to perform a full factorial design?"
   ]
  },
  {
   "cell_type": "code",
   "execution_count": null,
   "metadata": {},
   "outputs": [],
   "source": [
    "# Your code here"
   ]
  },
  {
   "cell_type": "markdown",
   "metadata": {},
   "source": [
    "**Your answer to question 6.1(a):** *Double click here*"
   ]
  },
  {
   "cell_type": "markdown",
   "metadata": {},
   "source": [
    "**(b)**  As stated, you can only carry out $16$ experiments. \n",
    "Explain what confounding is and why the set up with\n",
    "$16$ experiments will lead to confounding."
   ]
  },
  {
   "cell_type": "markdown",
   "metadata": {},
   "source": [
    "**Your answer to question 6.1(b):** *Double click here*"
   ]
  },
  {
   "cell_type": "markdown",
   "metadata": {},
   "source": [
    "**(c)**  After talking with the chocolate design team, you\n",
    "decide on the following generators:\n",
    "\n",
    "*  $E = ABC$.\n",
    "\n",
    "*  $F = BCD$.\n",
    "\n",
    "What is a defining contrast, and what are the\n",
    "defining contrasts in this case?"
   ]
  },
  {
   "cell_type": "markdown",
   "metadata": {},
   "source": [
    "**Your answer to question 6.1(c):** *Double click here*"
   ]
  },
  {
   "cell_type": "markdown",
   "metadata": {},
   "source": [
    "**(d)**  Are any of the main effects confounded with $2$-factor\n",
    "interactions in this case?"
   ]
  },
  {
   "cell_type": "markdown",
   "metadata": {},
   "source": [
    "**Your answer to question 6.1(d):** *Double click here*"
   ]
  },
  {
   "cell_type": "markdown",
   "metadata": {},
   "source": [
    "**(e)**  What is the resolution for this design? Write out\n",
    "the short-hand representation of this design on the\n",
    "form $2^{N-p}_R$, where $N$ is the number of factors,\n",
    "$p$ is the number of generators, and $R$ the resolution."
   ]
  },
  {
   "cell_type": "markdown",
   "metadata": {},
   "source": [
    "**Your answer to question 6.1(e):** *Double click here*"
   ]
  },
  {
   "cell_type": "markdown",
   "metadata": {},
   "source": [
    "**(f)**  Construct the design matrix for the current design, but show\n",
    "only the columns for the main effects."
   ]
  },
  {
   "cell_type": "code",
   "execution_count": null,
   "metadata": {},
   "outputs": [],
   "source": [
    "# Your code here"
   ]
  },
  {
   "cell_type": "markdown",
   "metadata": {},
   "source": [
    "**Your answer to question 6.1(f):** *Double click here*"
   ]
  },
  {
   "cell_type": "markdown",
   "metadata": {},
   "source": [
    "**(g)**  Another member of your team suggests doing just $8$ experiments\n",
    "as this will cut time and cost.\n",
    "Do you think this is a good idea? Why/why not? What would\n",
    "the design matrix look like in this case?"
   ]
  },
  {
   "cell_type": "code",
   "execution_count": null,
   "metadata": {},
   "outputs": [],
   "source": [
    "# Your code here"
   ]
  },
  {
   "cell_type": "markdown",
   "metadata": {},
   "source": [
    "**Your answer to question 6.1(g):** *Double click here*"
   ]
  },
  {
   "cell_type": "markdown",
   "metadata": {},
   "source": [
    "## Exercise 6.2\n",
    "\n",
    "After running a set of experiments, you determine the effects\n",
    "given in Table 1 for $4$ factors: A, B, C, and D.\n",
    "Use a normal probability plot to identify the important effects among\n",
    "the ones listed in this table. (Note: These numbers were also used in lecture $6$.)\n",
    "\n",
    "|**Factor** | **Effect** |\n",
    "|:---------:|:----------:|\n",
    "|A          |  -8.00     |\n",
    "|B          |  24.00     |\n",
    "|C          |  -2.25     |\n",
    "|D          |  -5.50     |\n",
    "|AB         |   1.00     |\n",
    "|AC         |   0.75     |\n",
    "|AD         |   0.00     |\n",
    "|BC         |  -1.25     |\n",
    "|BD         |   4.50     |\n",
    "|CD         |  -0.25     |\n",
    "|ABC        |  -0.75     |\n",
    "|ABD        |   0.50     |\n",
    "|ACD        |  -0.25     |\n",
    "|BCD        |  -0.75     |\n",
    "|ABCD       |  -0.25     |\n",
    "\n",
    "| |\n",
    "|---|\n",
    "|**Table 1:** *Effects determined in a set of experiments.*|"
   ]
  },
  {
   "cell_type": "code",
   "execution_count": null,
   "metadata": {},
   "outputs": [],
   "source": [
    "# Your code here"
   ]
  },
  {
   "cell_type": "markdown",
   "metadata": {},
   "source": [
    "**Your answer to question 6.2:** *Double click here*"
   ]
  },
  {
   "cell_type": "markdown",
   "metadata": {},
   "source": [
    "**Exercise 6.3**\n",
    "\n",
    "From a $2^2$ factorial experiment replicated three times you have obtained\n",
    "the data given in Table 3. We use here a short-hand notation\n",
    "for the $4$ possible combinations of the variables: $(1)$, $a$, $b$, and $ab$.\n",
    "In this notation $(1)$ is the experiment where all factors were at their low levels. For the\n",
    "other cases, the absence of a letter means that the corresponding factor was at a low level, and\n",
    "the presence of a letter means that the corresponding factor was at a high level (e.g. \"$a$\" is the\n",
    "same as saying that factor A was at the high level and B at the low level). \n",
    "\n",
    "\n",
    "|**Experiment** | **Replicate 1** | **Replicate 2** | **Replicate 2** |\n",
    "|:---:|:---:|:---:|:---:|\n",
    "|$(1)$ | $9$  | $10$ | $11$ |\n",
    "|$a$   | $30$ | $31$ | $29$ |\n",
    "|$b$   | $19$ | $20$ | $21$ |\n",
    "|$ab$  | $5$  | $6$  | $4$  |\n",
    "\n",
    "| |\n",
    "|---|\n",
    "|**Table 2:** *Results from a $2^2$ factorial experiment, repeated $3$ times.*|\n",
    "\n",
    "**(a)**  Calculate the effects (A, B, and AB)."
   ]
  },
  {
   "cell_type": "code",
   "execution_count": null,
   "metadata": {},
   "outputs": [],
   "source": [
    "# Your code here"
   ]
  },
  {
   "cell_type": "markdown",
   "metadata": {},
   "source": [
    "**Your answer to question 6.3(a):** *Double click here*"
   ]
  },
  {
   "cell_type": "markdown",
   "metadata": {},
   "source": [
    "**(b)**  Use ANOVA to investigate which effects are important in this case.\n",
    "Use a significance level of $\\alpha = 0.01$. For\n",
    "a significance level of $\\alpha = 0.01$, the relevant critical\n",
    "$f$-value is $f_{\\alpha=0.01}(1, 8) = 11.259$ with $1$ and $8$ degrees\n",
    "of freedom. (Note: These numbers in Table 2\n",
    "are the same as for the example on\n",
    "page $96$ in the textbook.)"
   ]
  },
  {
   "cell_type": "code",
   "execution_count": null,
   "metadata": {},
   "outputs": [],
   "source": [
    "# Your code here"
   ]
  },
  {
   "cell_type": "markdown",
   "metadata": {},
   "source": [
    "**Your answer to question 6.3(b):** *Double click here*"
   ]
  },
  {
   "cell_type": "markdown",
   "metadata": {},
   "source": [
    "\n",
    "\n",
    "\n"
   ]
  }
 ],
 "metadata": {
  "kernelspec": {
   "display_name": "Python 3 (ipykernel)",
   "language": "python",
   "name": "python3"
  },
  "language_info": {
   "codemirror_mode": {
    "name": "ipython",
    "version": 3
   },
   "file_extension": ".py",
   "mimetype": "text/x-python",
   "name": "python",
   "nbconvert_exporter": "python",
   "pygments_lexer": "ipython3",
   "version": "3.9.10"
  }
 },
 "nbformat": 4,
 "nbformat_minor": 2
}
