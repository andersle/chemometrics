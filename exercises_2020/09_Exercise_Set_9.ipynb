{
 "cells": [
  {
   "cell_type": "markdown",
   "metadata": {},
   "source": [
    "**Exercise set 9**\n",
    "==============\n",
    "\n",
    ">The goal of this exercise is to exemplify how decision trees\n",
    ">are created, and how we can perform PLSR regression and decision tree\n",
    ">classification for relatively complex data sets. \n",
    "\n",
    "**Exercise 9.1**\n",
    "\n",
    "Table 1 list certain conditions in which our friend Hermann\n",
    "is playing tennis. Use this data to create a decision tree (by hand) for whether or\n",
    "not Hermann is playing tennis. Construct the tree by using the information entropy\n",
    "and information gain.\n",
    "\n",
    "\n",
    "|**Outlook**  | **Wind** | **Humidity** | **Playing tennis**  |\n",
    "|:---|:---|:---|:---|\n",
    "|overcast | strong | normal | yes |\n",
    "|sunny    | strong | normal | yes |\n",
    "|rain     | weak   | high   | yes |\n",
    "|sunny    | strong | high   | no  |\n",
    "|sunny    | weak   | high   | no  |\n",
    "|sunny    | weak   | normal | yes |\n",
    "|rain     | strong | high   | no  |\n",
    "|**Table 1:** *Conditions for which Hermann is playing tennis.*|"
   ]
  },
  {
   "cell_type": "code",
   "execution_count": null,
   "metadata": {},
   "outputs": [],
   "source": [
    "# Your code here"
   ]
  },
  {
   "cell_type": "markdown",
   "metadata": {},
   "source": [
    "**Your answer to question 9.1:** *Double click here*"
   ]
  },
  {
   "cell_type": "markdown",
   "metadata": {},
   "source": [
    "**Exercise 9.2**\n",
    "\n",
    "[Windig and Stephenson](https://doi.org/10.1021/ac00046a015) have measured near-infrared spectra\n",
    "for 140 mixtures of the solvents methylene chloride, 2-butanol, methanol,\n",
    "dichloropropane, and acetone. We will in this exercise see if we can\n",
    "predict the compositions of the mixtures from the spectra.\n",
    "Each of the $140$ spectra have been sampled at $700$ wavelengths\n",
    "between $1100$ and $2500$ nm. The raw data containing the spectra\n",
    "and the corresponding concentrations can be found in the file\n",
    "[`Data/windig.csv`](Data/windig.csv).\n",
    "\n",
    "\n",
    "\n",
    "**(a)**  Create a partial least-squares regression (PLSR) model for predicting\n",
    "the concentrations. Use $1$ PLS component for your first model and\n",
    "assess it using $R^2$, RMSEC, RMSECV and RMSEP. The raw data can\n",
    "be loaded as shown below.\n",
    "```python\n",
    "\"\"\"Load the Windig data set.\"\"\"\n",
    "import pandas as pd\n",
    "data = pd.read_csv('Data/windig.csv')\n",
    "X = data.filter(like='data', axis=1).values  # NIR spectra\n",
    "Y = data.filter(like='concentrations', axis=1).values  # Concentrations\n",
    "```"
   ]
  },
  {
   "cell_type": "code",
   "execution_count": null,
   "metadata": {},
   "outputs": [],
   "source": [
    "# Your code here"
   ]
  },
  {
   "cell_type": "markdown",
   "metadata": {},
   "source": [
    "**Your answer to question 9.2(a):** *Double click here*"
   ]
  },
  {
   "cell_type": "markdown",
   "metadata": {},
   "source": [
    "**(b)** Improve your PLSR model by including more\n",
    "PLS components. Try components in the\n",
    "range from $2$ up to $15$ and compare the different models. How many\n",
    "PLS components are you satisfied with? In the following, we will refer\n",
    "to the model you are most satisfied with as \"model A\".\n",
    "\n"
   ]
  },
  {
   "cell_type": "code",
   "execution_count": null,
   "metadata": {},
   "outputs": [],
   "source": [
    "# Your code here"
   ]
  },
  {
   "cell_type": "markdown",
   "metadata": {},
   "source": [
    "**Your answer to question 9.2(b):** *Double click here*"
   ]
  },
  {
   "cell_type": "markdown",
   "metadata": {},
   "source": [
    "**(c)**  Plot the regression coefficients for model A (see point **(b)**).\n",
    "\n"
   ]
  },
  {
   "cell_type": "code",
   "execution_count": null,
   "metadata": {},
   "outputs": [],
   "source": [
    "# Your code here"
   ]
  },
  {
   "cell_type": "markdown",
   "metadata": {},
   "source": [
    "**Your answer to question 9.2(c):** *Double click here*"
   ]
  },
  {
   "cell_type": "markdown",
   "metadata": {},
   "source": [
    "**(d)**  If you are given a new spectrum of a mixture of methylene chloride,\n",
    "2-butanol, methanol, dichloropropane, and acetone, how well would\n",
    "your model A predict the concentrations of the different solvents\n",
    "in the mixture?"
   ]
  },
  {
   "cell_type": "code",
   "execution_count": null,
   "metadata": {},
   "outputs": [],
   "source": [
    "# Your code here"
   ]
  },
  {
   "cell_type": "markdown",
   "metadata": {},
   "source": [
    "**Your answer to question 9.2(d):** *Double click here*"
   ]
  },
  {
   "cell_type": "markdown",
   "metadata": {},
   "source": [
    "**(e)**  Create a least-squared model for predicting the concentrations.\n",
    "Assess it using $R^2$, RMSEC, RMSECV and RMSEP. Does this model\n",
    "perform as you expect?"
   ]
  },
  {
   "cell_type": "code",
   "execution_count": null,
   "metadata": {},
   "outputs": [],
   "source": [
    "# Your code here"
   ]
  },
  {
   "cell_type": "markdown",
   "metadata": {},
   "source": [
    "**Your answer to question 9.2(e):** *Double click here*"
   ]
  },
  {
   "cell_type": "markdown",
   "metadata": {},
   "source": [
    "\n",
    "**Exercise 9.3**\n",
    "\n",
    "[Schummer *et al.*](https://doi.org/10.1016/S0378-1119(99)00342-X) studied ovarian cancer by measuring gene expression\n",
    "values for $1536$ genes in both normal and tumor tissues. One of their goals was\n",
    "to find genes that were overexpressed in tumor samples compared with normal samples.\n",
    "This knowledge may be used for tumor diagnosis. The raw data can be\n",
    "found in the file [`Data/ovo.csv`](Data/ovo.csv).\n",
    "\n",
    "\n",
    "**(a)**  Perform a principal component analysis (PCA) on the gene expression data,\n",
    "and obtain the explained variance when using $1$, $2$, $5$ and $10$\n",
    "components.\n",
    "\n",
    "Center the data before performing the PCA. This can be\n",
    "done as follows with the `scale` method\n",
    "from `sklearn.preprocessing`: `X = scale(X, with_std=False)`.\n",
    "\n",
    "The raw data can\n",
    "be loaded as shown below.\n",
    "```python\n",
    "\"\"\"Load the Windig data set.\"\"\"\n",
    "import pandas as pd\n",
    "data = pd.read_csv('Data/ovo.csv')\n",
    "classes = data['objlabels']  # Classification of data points.\n",
    "X = data.filter(like='X.', axis=1)  # Gene expressions.\n",
    "```\n",
    "\n",
    "\n"
   ]
  },
  {
   "cell_type": "code",
   "execution_count": null,
   "metadata": {},
   "outputs": [],
   "source": [
    "# Your code here"
   ]
  },
  {
   "cell_type": "markdown",
   "metadata": {},
   "source": [
    "**Your answer to question 9.3(a):** *Double click here*"
   ]
  },
  {
   "cell_type": "markdown",
   "metadata": {},
   "source": [
    "**(b)**  Inspect the data by plotting the scores and loadings for principal component\n",
    "number $1$ and principal component number $2$:\n",
    "\n",
    "* (i)  Can you observe any clustering\n",
    "of the samples?\n",
    "\n",
    "* (ii)  Are there any outliers among the samples?\n",
    "\n",
    "* (iii)  Can you identify some\n",
    "genes which are overexpressed in tumors? \n",
    "\n",
    "* (iv)  Can you identify some\n",
    "genes which are underexpressed in tumors? \n",
    "\n",
    "\n",
    "\n"
   ]
  },
  {
   "cell_type": "code",
   "execution_count": null,
   "metadata": {},
   "outputs": [],
   "source": [
    "# Your code here"
   ]
  },
  {
   "cell_type": "markdown",
   "metadata": {},
   "source": [
    "**Your answer to question 9.3(b):** *Double click here*"
   ]
  },
  {
   "cell_type": "markdown",
   "metadata": {},
   "source": [
    "**(c)**  Based on your answer in **(b)**, can\n",
    "you identify some pairs of genes that seem to distinguish between\n",
    "normal and tumor tissues? Support your findings by plotting the raw data."
   ]
  },
  {
   "cell_type": "code",
   "execution_count": null,
   "metadata": {},
   "outputs": [],
   "source": [
    "# Your code here"
   ]
  },
  {
   "cell_type": "markdown",
   "metadata": {},
   "source": [
    "**Your answer to question 9.3(c):** *Double click here*"
   ]
  },
  {
   "cell_type": "markdown",
   "metadata": {},
   "source": [
    "**(d)**  Create a classifier for this data set using a decision tree. Limit the depth of the decision\n",
    "tree to $2$. Assess the classifier, and compare it with your findings in **(c)** .\n",
    "\n"
   ]
  },
  {
   "cell_type": "code",
   "execution_count": null,
   "metadata": {},
   "outputs": [],
   "source": [
    "# Your code here"
   ]
  },
  {
   "cell_type": "markdown",
   "metadata": {},
   "source": [
    "**Your answer to question 9.3(d):** *Double click here*"
   ]
  },
  {
   "cell_type": "markdown",
   "metadata": {},
   "source": [
    "**(e)**  Create a random forest classifier for the data set. Set the maximum depth to $2$, and\n",
    "use $500$ trees in your forest (i.e. set `n_estimators=500`). Assess the\n",
    "classifier and plot the\n",
    "variable importance for the $20$ most important variables. Compare this with your\n",
    "previous findings."
   ]
  },
  {
   "cell_type": "code",
   "execution_count": null,
   "metadata": {},
   "outputs": [],
   "source": [
    "# Your code here"
   ]
  },
  {
   "cell_type": "markdown",
   "metadata": {},
   "source": [
    "**Your answer to question 9.3(e):** *Double click here*"
   ]
  },
  {
   "cell_type": "markdown",
   "metadata": {},
   "source": [
    "\n",
    "\n"
   ]
  }
 ],
 "metadata": {
  "kernelspec": {
   "display_name": "Python 3",
   "language": "python",
   "name": "python3"
  },
  "language_info": {
   "codemirror_mode": {
    "name": "ipython",
    "version": 3
   },
   "file_extension": ".py",
   "mimetype": "text/x-python",
   "name": "python",
   "nbconvert_exporter": "python",
   "pygments_lexer": "ipython3",
   "version": "3.8.1"
  }
 },
 "nbformat": 4,
 "nbformat_minor": 2
}
