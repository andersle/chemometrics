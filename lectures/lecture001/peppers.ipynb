{
 "cells": [
  {
   "cell_type": "markdown",
   "id": "aad9020d",
   "metadata": {},
   "source": [
    "# Example 3: Characterisation of volatile proﬁles in 50 native Peruvian chili pepper using solid phase microextraction–gas chromatography mass spectrometry (SPME–GCMS)\n",
    "\n",
    "In the [original article](https://www.sciencedirect.com/science/article/pii/S0963996916303532?via%3Dihub), the authors characterised the volatile composition of 50 fresh Peruvian chili peppers. The authors found that [terpenes](https://en.wikipedia.org/wiki/Terpene), [esters](https://en.wikipedia.org/wiki/Ester), and [hydrocarbons](https://en.wikipedia.org/wiki/Hydrocarbon) were the major compounds present. Then, they used principal component analysis (PCA) to group the 50 chili peppers.\n",
    "\n",
    "![](https://ars.els-cdn.com/content/image/1-s2.0-S0963996916303532-fx1.jpg)\n",
    "\n",
    "\n",
    "Here, we are just recreating their PCA analysis for Fig 1. in the original article."
   ]
  },
  {
   "cell_type": "code",
   "execution_count": null,
   "id": "379bcb98",
   "metadata": {},
   "outputs": [],
   "source": [
    "import pandas as pd\n",
    "import numpy as np\n",
    "from matplotlib import pyplot as plt\n",
    "from sklearn.decomposition import PCA\n",
    "plt.style.use('seaborn-notebook')\n",
    "%matplotlib notebook"
   ]
  },
  {
   "cell_type": "code",
   "execution_count": null,
   "id": "301fefab",
   "metadata": {},
   "outputs": [],
   "source": [
    "data = pd.read_csv('peppers.csv')\n",
    "data"
   ]
  },
  {
   "cell_type": "code",
   "execution_count": null,
   "id": "6cd638be",
   "metadata": {},
   "outputs": [],
   "source": [
    "data.describe()"
   ]
  },
  {
   "cell_type": "code",
   "execution_count": null,
   "id": "6a1adf68",
   "metadata": {},
   "outputs": [],
   "source": [
    "# To reproduce Fig. 1:\n",
    "peppers = data['Compound'].values\n",
    "variables = ['Ketone', 'Ester', 'Aldehyde', 'Hydrocarbon', 'Terpene']\n",
    "X = data[variables].to_numpy()\n",
    "# Run PCA analysis:\n",
    "pca = PCA()\n",
    "scores = pca.fit_transform(X)"
   ]
  },
  {
   "cell_type": "code",
   "execution_count": null,
   "id": "949b3309",
   "metadata": {},
   "outputs": [],
   "source": [
    "# Reproduce Fig 1.\n",
    "fig, (ax1, ax2) = plt.subplots(constrained_layout=True, ncols=2)\n",
    "\n",
    "# First plot the so-called loadings:\n",
    "loadings = pca.components_\n",
    "pca1 = loadings[0, :]\n",
    "pca2 = loadings[1, :]\n",
    "\n",
    "\n",
    "for i, vari in enumerate(variables):\n",
    "    scat = ax1.scatter(pca1[i], pca2[i], s=100, edgecolor='k', zorder=2)\n",
    "    ax1.text(pca1[i]-0.1, pca2[i], vari, ha='right', va='center',\n",
    "             bbox={'alpha': 0.9, 'facecolor': 'w',\n",
    "                   'edgecolor': scat.get_facecolor(),\n",
    "                   'lw': 1.0,\n",
    "                   'boxstyle':'round'})\n",
    "ax1.set_aspect('equal')\n",
    "ax1.axhline(y=0, ls=':', color='k', zorder=1)\n",
    "ax1.axvline(x=0, ls=':', color='k', zorder=1)\n",
    "ax1.set_xlim(-1, 1)\n",
    "ax1.set_ylim(-1 ,1)\n",
    "ax1.set(\n",
    "    xlabel=f'Loadings, PC1 ({100 * pca.explained_variance_ratio_[0]:.2f} %)',\n",
    "    ylabel=f'Loadings, PC2 ({100 * pca.explained_variance_ratio_[1]:.2f} %)'\n",
    ")\n",
    "\n",
    "# The plot the scores:\n",
    "ax2.axhline(y=0, ls=':', color='k', zorder=1)\n",
    "ax2.axvline(x=0, ls=':', color='k', zorder=1)\n",
    "ax2.scatter(scores[:, 0], scores[:, 1])\n",
    "ax2.set(\n",
    "    xlabel=f'Scores, PC1 ({100 * pca.explained_variance_ratio_[0]:.2f} %)',\n",
    "    ylabel=f'Scores, PC2 ({100 * pca.explained_variance_ratio_[1]:.2f} %)'\n",
    ")\n",
    "\n",
    "\n",
    "bbox = {'facecolor': 'w', 'boxstyle': 'round', 'lw': 1}\n",
    "ax2.text(scores[17, 0]+5, scores[17, 1], f'Pepper: {peppers[17]}', ha='left', va='center', bbox=bbox)\n",
    "ax2.text(scores[28, 0]+5, scores[28, 1], f'Pepper: {peppers[28]}', ha='left', va='center', bbox=bbox)\n",
    "ax2.set_aspect('equal')\n"
   ]
  },
  {
   "cell_type": "code",
   "execution_count": null,
   "id": "c88bede7",
   "metadata": {},
   "outputs": [],
   "source": [
    "data[data['Compound'] == '374']"
   ]
  },
  {
   "cell_type": "code",
   "execution_count": null,
   "id": "c632c6a5",
   "metadata": {},
   "outputs": [],
   "source": [
    "data[data['Compound'] == '167']"
   ]
  }
 ],
 "metadata": {
  "kernelspec": {
   "display_name": "Python 3 (ipykernel)",
   "language": "python",
   "name": "python3"
  },
  "language_info": {
   "codemirror_mode": {
    "name": "ipython",
    "version": 3
   },
   "file_extension": ".py",
   "mimetype": "text/x-python",
   "name": "python",
   "nbconvert_exporter": "python",
   "pygments_lexer": "ipython3",
   "version": "3.9.9"
  }
 },
 "nbformat": 4,
 "nbformat_minor": 5
}
