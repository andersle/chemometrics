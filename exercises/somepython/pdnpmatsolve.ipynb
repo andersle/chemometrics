{
 "cells": [
  {
   "cell_type": "markdown",
   "id": "ecb876e9",
   "metadata": {},
   "source": [
    "# A short introduction to Pandas, NumPy, and Matplotlib\n",
    "\n",
    "This is a short introduction to using Pandas, NumPy, and Matplotlib. Here, we are going to load a Excel file containing a measured rate constant ($k$) at different temperatures ($T$). The temperature is in Kelvin and the rate constant has units of M$^{1/2}~\\text{s}$.\n",
    "\n",
    "You may recall that we expect the rate constant to follow the [Arrhenius equation](https://en.wikipedia.org/wiki/Arrhenius_equation):\n",
    "\n",
    "\\begin{equation}\n",
    "k = A \\text{e}^{\\frac{-E_\\text{a}}{RT}}\n",
    "\\end{equation}\n",
    "\n",
    "where $A$ is a pre-exponential factor, $E_\\text{a}$ the activation energy, and $R = 8.3145$ J/K mol is the gas constant. According to this equation, we should have an exponential relation between $k$ and the (inverse) temperature. Or, if we take the natural logarithm of this equation,\n",
    "\n",
    "\\begin{equation}\n",
    "\\ln k = \\ln A -\\frac{E_\\text{a}}{RT}\n",
    "\\end{equation}\n",
    "\n",
    "we get a linear relationship between the logarithm of $k$ and the inverse temperature ($1/T$). We shall make some plots here to see if this is the case.\n",
    "\n",
    "For doing this we will use three Python libraries:\n",
    "* [Pandas](https://pandas.pydata.org/) for loading the raw data.\n",
    "* [NumPy](https://numpy.org/) for working with numerical array and mathematics.\n",
    "* [Matplotlib](https://matplotlib.org/) for plotting and making figures."
   ]
  },
  {
   "cell_type": "markdown",
   "id": "082421ed",
   "metadata": {},
   "source": [
    "## Reading the data"
   ]
  },
  {
   "cell_type": "code",
   "execution_count": null,
   "id": "c1583951",
   "metadata": {},
   "outputs": [],
   "source": [
    "import pandas as pd\n",
    "import numpy as np\n",
    "from matplotlib import pyplot as plt\n",
    "#plt.style.use('seaborn-talk')  # Change the style of plots.\n",
    "plt.style.use(['./tkj4175.mplstyle', 'seaborn-notebook'])\n",
    "%matplotlib notebook"
   ]
  },
  {
   "cell_type": "markdown",
   "id": "5411e5e1",
   "metadata": {},
   "source": [
    "There are two extra lines in the code above:\n",
    "1. `plt.style.use('seaborn-talk')` which changes the style of the plots produced. There is a list of predefined styles in the [matplotlib documentation](https://matplotlib.org/stable/gallery/style_sheets/style_sheets_reference.html). Here, you can experiment with different styles, perhaps `ggplot` is more to your liking? You can also define your [own styles](https://matplotlib.org/stable/tutorials/introductory/customizing.html) or import styles that others have created. [Here is a collection of styles for scientific figures](https://github.com/garrettj403/SciencePlots) which may come in handy for your next nature paper.\n",
    "\n",
    "2. `%matplotlib notebook` which makes the plots interactive (so that we can zoom and pan)."
   ]
  },
  {
   "cell_type": "markdown",
   "id": "7ce15ac7",
   "metadata": {},
   "source": [
    "We will load the Excel file using Pandas. This will give us a Pandas [DataFrame](https://pandas.pydata.org/docs/reference/api/pandas.DataFrame.html), which is, to quote Pandas, a:\n",
    "\n",
    "> Two-dimensional, size-mutable, potentially heterogeneous tabular data.\n",
    "\n",
    "Essentially, it is a table containing the data. Let us load it and show the contents:"
   ]
  },
  {
   "cell_type": "code",
   "execution_count": null,
   "id": "8ff60ce8",
   "metadata": {},
   "outputs": [],
   "source": [
    "data = pd.read_excel('rate_constant.xlsx')\n",
    "data"
   ]
  },
  {
   "cell_type": "markdown",
   "id": "6c720889",
   "metadata": {},
   "source": [
    "We see here, that we have two columns: `\"rate constant\"` and `\"temperature\"`. We can access the columns as follows:"
   ]
  },
  {
   "cell_type": "code",
   "execution_count": null,
   "id": "21fe54bb",
   "metadata": {},
   "outputs": [],
   "source": [
    "data['rate constant']"
   ]
  },
  {
   "cell_type": "code",
   "execution_count": null,
   "id": "237dd856",
   "metadata": {},
   "outputs": [],
   "source": [
    "data['temperature']"
   ]
  },
  {
   "cell_type": "markdown",
   "id": "61f8ae19",
   "metadata": {},
   "source": [
    "The code above gives us a new Pandas DataFrame with a single column. If we are only interested in the actual values, we can get those in the following way:"
   ]
  },
  {
   "cell_type": "code",
   "execution_count": null,
   "id": "2a3f8ea1",
   "metadata": {},
   "outputs": [],
   "source": [
    "temperature = data['temperature'].values\n",
    "print(temperature,'Type:', type(temperature))"
   ]
  },
  {
   "cell_type": "markdown",
   "id": "c67d5745",
   "metadata": {},
   "source": [
    "The code above returns the temperature as a NumPy array. This is handy since we then can do NumPy-type operations. For instance, we could check what the largest and smallest temperatures are:"
   ]
  },
  {
   "cell_type": "code",
   "execution_count": null,
   "id": "c4fc3a39",
   "metadata": {},
   "outputs": [],
   "source": [
    "print('Largest temperature:', temperature.max())\n",
    "print('Smallest temperature:', temperature.min())"
   ]
  },
  {
   "cell_type": "markdown",
   "id": "ccde14b7",
   "metadata": {},
   "source": [
    "Or, since we are probably going to use the inverse temperature, we can calculate that:"
   ]
  },
  {
   "cell_type": "code",
   "execution_count": null,
   "id": "75fdac18",
   "metadata": {},
   "outputs": [],
   "source": [
    "inverse_temperature = 1.0 / temperature\n",
    "print(inverse_temperature)"
   ]
  },
  {
   "cell_type": "markdown",
   "id": "b74e4075",
   "metadata": {},
   "source": [
    "We can add the inverse temperature to our original data table by doing:"
   ]
  },
  {
   "cell_type": "code",
   "execution_count": null,
   "id": "0bfd56c0",
   "metadata": {},
   "outputs": [],
   "source": [
    "data['inverse temperature'] = 1.0 / data['temperature']\n",
    "data"
   ]
  },
  {
   "cell_type": "markdown",
   "id": "586c5de9",
   "metadata": {},
   "source": [
    "**Task for you**: Add a new column with the logarithm of the rate constant to the table. For calculating the logarithm, you can use the method `np.log()` from NumPy:"
   ]
  },
  {
   "cell_type": "code",
   "execution_count": null,
   "id": "4c525fd7",
   "metadata": {},
   "outputs": [],
   "source": [
    "np.log(100)"
   ]
  },
  {
   "cell_type": "code",
   "execution_count": null,
   "id": "307ece33",
   "metadata": {},
   "outputs": [],
   "source": [
    "np.log(np.array([1.0, 2.0, 2.718281828]))"
   ]
  },
  {
   "cell_type": "code",
   "execution_count": null,
   "id": "492441d3",
   "metadata": {},
   "outputs": [],
   "source": [
    "# Write your code here.\n",
    "data['logk'] = np.log(data['rate constant'])\n",
    "data"
   ]
  },
  {
   "cell_type": "markdown",
   "id": "918e9d53",
   "metadata": {},
   "source": [
    "## Some Pandas selections\n",
    "With Pandas, we can do selections from our data. For instance, we could only be interested in the measurements where the temperature is higher than 770 K. We can do this by a selection:"
   ]
  },
  {
   "cell_type": "code",
   "execution_count": null,
   "id": "a868027f",
   "metadata": {},
   "outputs": [],
   "source": [
    "data[data['temperature'] > 770]  # Select rows, based on the \"temperature\" column"
   ]
  },
  {
   "cell_type": "markdown",
   "id": "6957490a",
   "metadata": {},
   "source": [
    "We can also do multiple conditions at the same time, for instance, where the temperature is above 770 and the rate constant is above 0.5: "
   ]
  },
  {
   "cell_type": "code",
   "execution_count": null,
   "id": "7914f3c3",
   "metadata": {},
   "outputs": [],
   "source": [
    "data[(data['temperature'] > 770) & (data['rate constant'] > 0.5)]"
   ]
  },
  {
   "cell_type": "markdown",
   "id": "82adecfd",
   "metadata": {},
   "source": [
    "If we know exactly what row/column we want, we can also use the index (row number, column number) to lookup values:"
   ]
  },
  {
   "cell_type": "code",
   "execution_count": null,
   "id": "eb6deb83",
   "metadata": {},
   "outputs": [],
   "source": [
    "data.iloc[0]  # Get the first row, Python starts counting from 0"
   ]
  },
  {
   "cell_type": "code",
   "execution_count": null,
   "id": "0b7f43ee",
   "metadata": {},
   "outputs": [],
   "source": [
    "data.iloc[0, 1]  # Get first row, second column, this should be the temperature 700"
   ]
  },
  {
   "cell_type": "code",
   "execution_count": null,
   "id": "be4964b0",
   "metadata": {},
   "outputs": [],
   "source": [
    "data.iloc[:, 1]  # Get all rows, second column"
   ]
  },
  {
   "cell_type": "code",
   "execution_count": null,
   "id": "7412c4e2",
   "metadata": {},
   "outputs": [],
   "source": [
    "data.iloc[1:4, 0]  # Get rows between 1 and 4 (4 not included), first column"
   ]
  },
  {
   "cell_type": "markdown",
   "id": "456b8f47",
   "metadata": {},
   "source": [
    "**Task for you**: Find the temperature(s) where the rate constant is smaller than 0.1:"
   ]
  },
  {
   "cell_type": "code",
   "execution_count": null,
   "id": "3584af34",
   "metadata": {},
   "outputs": [],
   "source": [
    "# Write your code here.\n",
    "data[data['rate constant'] < 0.1]"
   ]
  },
  {
   "cell_type": "code",
   "execution_count": null,
   "id": "1e6a2a2d",
   "metadata": {},
   "outputs": [],
   "source": [
    "# Just the temperatures:\n",
    "select = data[data['rate constant'] < 0.1]\n",
    "select['temperature'].values"
   ]
  },
  {
   "cell_type": "markdown",
   "id": "0f211bb0",
   "metadata": {},
   "source": [
    "## Making a plot\n",
    "First, we will plot the rate constant as a function of the temperature. You will then be asked to modify the plot to show the logarithm of the rate constant as a function of the inverse temperature.\n",
    "\n",
    "**Note**: Matplotlib has a large [gallery](https://matplotlib.org/stable/gallery/) of example plots which is worth checking out."
   ]
  },
  {
   "cell_type": "code",
   "execution_count": null,
   "id": "22b11627",
   "metadata": {},
   "outputs": [],
   "source": [
    "# First, we just get the values that we are to plot:\n",
    "temperature = data['temperature'].values\n",
    "rate_constant = data['rate constant'].values"
   ]
  },
  {
   "cell_type": "markdown",
   "id": "2012f3d9",
   "metadata": {},
   "source": [
    "We will now plot the rate constant as a function of the temperature:\n",
    "\n",
    "1. We create a empty figure and a axis for plotting. A figure can contain many\n",
    "   axes (for instance, if we wanted to have two plots next to each other, we would create two axes),\n",
    "   but here we are going to just create one axis and name it `ax1`.\n",
    "2. We add a line plot to the axis by using the axis method `plot()`. The syntax for plotting is:\n",
    "   ```python\n",
    "   ax1.plot(x_values, y_values)\n",
    "   ```"
   ]
  },
  {
   "cell_type": "code",
   "execution_count": null,
   "id": "77c51e61",
   "metadata": {},
   "outputs": [],
   "source": [
    "# We then create a figure as follows:\n",
    "fig, ax1 = plt.subplots(constrained_layout=True)  # Create a figure and axis for plotting.\n",
    "# We set constrained layout to be True above to remove some white borders and to make sure that all text is visible\n",
    "ax1.plot(temperature, rate_constant);"
   ]
  },
  {
   "cell_type": "markdown",
   "id": "952d9a90",
   "metadata": {},
   "source": [
    "The plot above is perhaps not so nice. It is missing a few things (like labels).\n",
    "Let us try another version, where we add labels to the x-axis and y-axis, and a title for the whole plot:"
   ]
  },
  {
   "cell_type": "code",
   "execution_count": null,
   "id": "aefc4fcb",
   "metadata": {},
   "outputs": [],
   "source": [
    "fig, ax1 = plt.subplots(constrained_layout=True)\n",
    "ax1.plot(temperature, rate_constant)\n",
    "ax1.set(xlabel='Temperature', ylabel='Rate constant', title='Arrhenius');"
   ]
  },
  {
   "cell_type": "markdown",
   "id": "cfa56c52",
   "metadata": {},
   "source": [
    "The plot still looks a bit strange, since matplotlib is just connecting all the points we give in by straight lines.\n",
    "Let us try to plot it differently - as a [scatter plot](https://matplotlib.org/stable/gallery/shapes_and_collections/scatter.html):"
   ]
  },
  {
   "cell_type": "code",
   "execution_count": null,
   "id": "d765e115",
   "metadata": {
    "scrolled": false
   },
   "outputs": [],
   "source": [
    "fig, ax1 = plt.subplots(constrained_layout=True)\n",
    "ax1.scatter(temperature, rate_constant)\n",
    "ax1.set(xlabel='Temperature', ylabel='Rate constant', title='Arrhenius');"
   ]
  },
  {
   "cell_type": "markdown",
   "id": "0612069c",
   "metadata": {},
   "source": [
    "Most matplotlib methods accept many arguments that can be used to change the appearance of the plot. We will here change some properties of the scatter plot:\n",
    "1. We make the symbols larger, by using the `\"s\"` argument.\n",
    "2. We change the [symbol](https://matplotlib.org/stable/api/markers_api.html) by using the `\"marker\"` argument.\n",
    "3. We change the [color](https://matplotlib.org/stable/gallery/color/named_colors.html) by using the `\"color\"` argument.\n",
    "3. We add a label to the plot. A label can automatically be added to a legend for the figure:"
   ]
  },
  {
   "cell_type": "code",
   "execution_count": null,
   "id": "a408a212",
   "metadata": {},
   "outputs": [],
   "source": [
    "fig, ax1 = plt.subplots(constrained_layout=True)\n",
    "ax1.scatter(temperature, rate_constant, s=100, marker='X', color='darkorange', label='Measured points')\n",
    "ax1.set(xlabel='Temperature', ylabel='Rate constant', title='Arrhenius')\n",
    "ax1.legend();  # Add a legend to the figure!"
   ]
  },
  {
   "cell_type": "markdown",
   "id": "9c660af6",
   "metadata": {},
   "source": [
    "We can add multiple plots to the same axis. Let us also add the line plot, together with the scatter plot. Here, we change the width of the plotted line to make it thicker and we change \n",
    "the [style](https://matplotlib.org/stable/gallery/lines_bars_and_markers/linestyles.html) of it:"
   ]
  },
  {
   "cell_type": "code",
   "execution_count": null,
   "id": "13fc9ce2",
   "metadata": {},
   "outputs": [],
   "source": [
    "fig, ax1 = plt.subplots(constrained_layout=True)\n",
    "ax1.plot(temperature, rate_constant, linewidth=5, linestyle='dotted', label='Some lines')\n",
    "ax1.scatter(temperature, rate_constant, s=100, marker='X', color='darkorange', label='Measured points')\n",
    "ax1.set(xlabel='Temperature', ylabel='Rate constant', title='Arrhenius')\n",
    "ax1.legend();  # Add a legend to the figure!"
   ]
  },
  {
   "cell_type": "markdown",
   "id": "d6266920",
   "metadata": {},
   "source": [
    "In the plot above, it seems like the line is drawn on top of the scatter plot. We can control the order of the elements being drawn by using another parameter `\"zorder\"`:"
   ]
  },
  {
   "cell_type": "code",
   "execution_count": null,
   "id": "55b88985",
   "metadata": {},
   "outputs": [],
   "source": [
    "fig, ax1 = plt.subplots(constrained_layout=True)\n",
    "ax1.plot(temperature, rate_constant, linewidth=5, linestyle='dotted', label='Some lines', zorder=1)\n",
    "ax1.scatter(temperature, rate_constant, s=100, marker='X', color='darkorange', label='Measured points', zorder=2)\n",
    "ax1.set(xlabel='Temperature', ylabel='Rate constant', title='Arrhenius')\n",
    "ax1.legend();  # Add a legend to the figure!"
   ]
  },
  {
   "cell_type": "markdown",
   "id": "ff76a17e",
   "metadata": {},
   "source": [
    "**Task for you**: Make a figure where you plot the logarithm of the rate constant as a function of the inverse temperature. Change the labels on the x- and y-axes according to what you plot, and add\n",
    "a descriptive figure title. You can also experiment with colors, symbol types etc.\n",
    "\n",
    "But let us not forget the science: Does it look like the logarithm of the rate constant varies linearly with the inverse temperature?"
   ]
  },
  {
   "cell_type": "code",
   "execution_count": null,
   "id": "312461ec",
   "metadata": {},
   "outputs": [],
   "source": [
    "fig, ax = plt.subplots(constrained_layout=True)\n",
    "ax.set_title('Logarithm of rate constant as function of inverse temperature')\n",
    "# Multiply the inverse temperature by 1000 to make them easier to read:\n",
    "ax.scatter(1000 * data['inverse temperature'].values, data['logk'].values, marker='^', s=200)\n",
    "ax.set(xlabel='1000 × 1 / T (K⁻¹)', ylabel='ln k');"
   ]
  },
  {
   "cell_type": "markdown",
   "id": "e99a4e22",
   "metadata": {},
   "source": [
    "> But let us not forget the science: Does it look like the logarithm of the rate constant varies linearly with the inverse temperature?\n",
    "\n",
    "Yes, it sure looks like a linear dependence."
   ]
  },
  {
   "cell_type": "markdown",
   "id": "6e8adbc9",
   "metadata": {},
   "source": [
    "## Fitting a line to the measured data (a bit more advanced)\n",
    "\n",
    "In TKJ4175 we will learn about least squares regression.\n",
    "We can use least squares regression to find the line that best approximates the data.\n",
    "Let us jump ahead and do that here with NumPy.\n",
    "\n",
    "NumPy has a convenient function for doing this, and it is called [polyfit](https://numpy.org/doc/stable/reference/generated/numpy.polyfit.html). It can be used as follows:\n",
    "\n",
    "```python\n",
    "p = np.polyfit(x, y, deg)\n",
    "```\n",
    "\n",
    "Where `x` and `y` are the values (x and y) we use for the fitting and `deg` is a number which tells NumPy what kind of polynomial to fit. For instance, if we put the number `1` in place of `deg` we will get a straight line. If we put the number `2` in place of `deg` we will get a second order polynomial.\n",
    "\n",
    "The parameters of the fitted are returned and here stored in the variable `p`.\n",
    "In general, `polyfit` can be used to fit a polynomial of order `deg` and the parameters are returned in the following order:\n",
    "\n",
    "```python\n",
    "p(x) = p[0] * x**deg + x[1] * x**(deg - 1) + ... + p[deg]\n",
    "```\n",
    "\n",
    "Translated to the case where we fit a straight line (`deg = 1`) we get:\n",
    "\n",
    "```python\n",
    "p(x) = p[0] * x + p[1]\n",
    "```\n",
    "\n",
    "That is `p[0]` will contain the slope and `p[1]` will contain the intersection (constant term) in the straight line.\n",
    "\n",
    "For testing this out, we will create some dummy data that follows the equation `y = 2x + 1` and fit a straight line:"
   ]
  },
  {
   "cell_type": "code",
   "execution_count": null,
   "id": "659a8982",
   "metadata": {},
   "outputs": [],
   "source": [
    "# Define some x-values:\n",
    "x = np.array([1, 2, 3, 4, 5, 6, 7, 8, 9, 10])\n",
    "# Calculate some y-values:\n",
    "y = 2 * x + 1"
   ]
  },
  {
   "cell_type": "code",
   "execution_count": null,
   "id": "0b5d2836",
   "metadata": {},
   "outputs": [],
   "source": [
    "# Plot x and y:\n",
    "fig, ax1 = plt.subplots(constrained_layout=True)\n",
    "ax1.scatter(x, y)\n",
    "ax1.set(xlabel='x', ylabel='y');"
   ]
  },
  {
   "cell_type": "markdown",
   "id": "e135d437",
   "metadata": {},
   "source": [
    "Let us now fit a straight line to the x- and y-points we have:"
   ]
  },
  {
   "cell_type": "code",
   "execution_count": null,
   "id": "1a1c10fa",
   "metadata": {},
   "outputs": [],
   "source": [
    "p = np.polyfit(x, y, 1)\n",
    "print(p)"
   ]
  },
  {
   "cell_type": "code",
   "execution_count": null,
   "id": "95430305",
   "metadata": {},
   "outputs": [],
   "source": [
    "print(f'The equation is: {p[0]:.2f}*x + {p[1]:.2f}')"
   ]
  },
  {
   "cell_type": "markdown",
   "id": "29e2c621",
   "metadata": {},
   "source": [
    "We have now fitted the equation for a straight line and find that the slope\n",
    "is 2 and the intersection is 1 as expected. \n",
    "We would now like to plot that line to see how well the fit is (obviously, here it is going to look very good!).\n",
    "\n",
    "One way of doing this could be to calculate the straight line values:\n",
    "\n",
    "```python\n",
    "yline = p[0]*x + p[1]\n",
    "```\n",
    "and plot those as a function of x. If we, for some reason decided to fit a 100th order polynomial it would be a hassle to write out the calulation of the straight line values:\n",
    "\n",
    "```python\n",
    "yline = p[0]*x**100 + p[1]*x**99 + # many, many more terms\n",
    "```\n",
    "\n",
    "We will therefore use a NumPy method to evaluate the polynomial (for us: the straight line) we have fitted. This method is called [polyval](https://numpy.org/doc/stable/reference/generated/numpy.polyval.html):\n",
    "\n",
    "```python\n",
    "yline = np.polyval(p, x)\n",
    "```\n",
    "\n",
    "This method will evaluate a polynomial with parameters `p` at the given `x` values.\n",
    "The benefit of using this method, is that we do not have to write out the equation we are evaluating explicitly.\n",
    "If we put `deg=1` or `deg=100` in `polyfit`, we can still evaluate\n",
    "the fitted polynomial using `yline = np.polyval(p, x)`."
   ]
  },
  {
   "cell_type": "code",
   "execution_count": null,
   "id": "ac53b8ea",
   "metadata": {},
   "outputs": [],
   "source": [
    "# Calulate the y-values for the straight line:\n",
    "yline = np.polyval(p, x)\n",
    "# And add them to the plot:\n",
    "# Plot x and y:\n",
    "fig, ax1 = plt.subplots(constrained_layout=True)\n",
    "ax1.scatter(x, y, label='Original points', s=100)\n",
    "ax1.plot(x, yline, label='Fitted line', color='xkcd:melon', linewidth=3, ls='--')\n",
    "ax1.set(xlabel='x', ylabel='y')\n",
    "ax1.legend();"
   ]
  },
  {
   "cell_type": "markdown",
   "id": "b7c523e2",
   "metadata": {},
   "source": [
    "Here are a couple of more examples of using `polyfit`:"
   ]
  },
  {
   "cell_type": "code",
   "execution_count": null,
   "id": "afc83e72",
   "metadata": {},
   "outputs": [],
   "source": [
    "# Here is another example where we fit a 10'th order polynomial to some data:\n",
    "x = np.linspace(0, 4*np.pi, 100)  # generate 100 values between 0 and 4π\n",
    "y = np.cos(x)  # Calculate the cosine of x\n",
    "\n",
    "p = np.polyfit(x, y, 10)  # Fit a 10th order polynomial to the x, cos(x) data.\n",
    "\n",
    "# Calulate the y-values on the fitted line:\n",
    "yline = np.polyval(p, x)\n",
    "\n",
    "# Plot the original x, cos(x) data and the fitted line:\n",
    "fig, ax1 = plt.subplots(constrained_layout=True)\n",
    "ax1.scatter(x, y, label='y = cos(x)', s=75)\n",
    "# alpha = 0.8 makes the scatter points transparent\n",
    "ax1.plot(x, yline, label='Fitted line', color='xkcd:blood orange', linewidth=3, alpha=0.8)\n",
    "ax1.set(xlabel='x', ylabel='y')\n",
    "ax1.legend();"
   ]
  },
  {
   "cell_type": "code",
   "execution_count": null,
   "id": "044afd54",
   "metadata": {},
   "outputs": [],
   "source": [
    "# And another example where we just try out different orders of polynomials:\n",
    "x = np.linspace(0, 2.5, 100)  # generate 100 values between 0 and 2.5\n",
    "y = np.exp(x**2)  # Calculate the e^(x²)\n",
    "\n",
    "# Plot the original x, exp(x) data and the fitted line:\n",
    "fig, ax1 = plt.subplots(constrained_layout=True)\n",
    "ax1.scatter(x, y, label='y = exp(x²)', s=25, color='0.6')\n",
    "\n",
    "for deg in range(1, 5):\n",
    "    p = np.polyfit(x, y, deg)  # Fit a \"deg\" order polynomial to the x, cos(x) data.\n",
    "    # Calulate the y-values on the fitted line:\n",
    "    yline = np.polyval(p, x)\n",
    "    # alpha = 0.8 makes the scatter points transparent\n",
    "    ax1.plot(x, yline, label=f'Fitted polynomial, order {deg}', linewidth=3, alpha=0.8)\n",
    "ax1.set(xlabel='x', ylabel='y')\n",
    "ax1.legend();"
   ]
  },
  {
   "cell_type": "markdown",
   "id": "ef2f9cc7",
   "metadata": {},
   "source": [
    "**Tasks for you**: \n",
    "\n",
    "1. Fit a straight line to the logarithm of the rate constant as a function\n",
    "   of the inverse temperature. Plot your fitted line together with the data used to fit it.\n",
    "   You should get that the parameters of the straight line are about\n",
    "   ```python\n",
    "   [-21880.87290684,     26.6620931]\n",
    "   ```\n",
    "\n",
    "2. (Science part!) Can you show that the activation energy is approximately 180 kJ/mol? \n",
    "\n",
    "3. Plot your fitted line on the form\n",
    "\n",
    "   \\begin{equation}\n",
    "   k = A \\text{e}^{\\frac{-E_\\text{a}}{RT}}\n",
    "   \\end{equation}\n",
    "\n",
    "   together with the original rate constant and temperature data. Does is seem to approximate the original\n",
    "   data well?"
   ]
  },
  {
   "cell_type": "code",
   "execution_count": null,
   "id": "3540a6b5",
   "metadata": {},
   "outputs": [],
   "source": [
    "# 1\n",
    "x = data['inverse temperature'].values\n",
    "y = data['logk'].values\n",
    "p = np.polyfit(x, y, deg=1)\n",
    "print('Parameters:', p)"
   ]
  },
  {
   "cell_type": "code",
   "execution_count": null,
   "id": "e9f1dc21",
   "metadata": {},
   "outputs": [],
   "source": [
    "# 1 - plotting part:\n",
    "fitted_line = np.polyval(p, x)\n",
    "\n",
    "fig, ax = plt.subplots(constrained_layout=True)\n",
    "ax.set_title('Logarithm of rate constant as function of inverse temperature')\n",
    "ax.plot(x, fitted_line, label=f'Fitted line\\ny = {p[0]:.2g}x + {p[1]:.2g}', ls=':', color='black')\n",
    "ax.scatter(data['inverse temperature'].values, data['logk'].values, marker='^')\n",
    "ax.legend()\n",
    "ax.set(xlabel='1 / T (K⁻¹)', ylabel='ln k');\n",
    "# display number on x-axis in scientific notation, that is 0.001 -> 1 * 1e-3\n",
    "ax.ticklabel_format(axis='x', style='scientific', scilimits=(-1, 1)) "
   ]
  },
  {
   "cell_type": "markdown",
   "id": "6515cc6b",
   "metadata": {},
   "source": [
    "We have found parameters for,\n",
    "\n",
    "\\begin{equation}\n",
    "\\ln k = \\ln A -\\frac{E_\\text{a}}{RT}\n",
    "\\end{equation}\n",
    "\n",
    "written as:\n",
    "`y = p[1] + p[0] * x`\n",
    "\n",
    "where:\n",
    "- `y` is $\\ln k$,\n",
    "- `x` is $1/T$,\n",
    "- `p[1]` is $\\ln A$,\n",
    "- and `p[0]` is $-\\frac{E_\\text{a}}{R}$.\n",
    "\n",
    "This means that the activation energy is:\n",
    "\n",
    "$E_\\text{a} = - R \\times \\text{p[0]}$\n"
   ]
  },
  {
   "cell_type": "code",
   "execution_count": null,
   "id": "aef28f56",
   "metadata": {},
   "outputs": [],
   "source": [
    "R = 8.3145\n",
    "activation_energy = -R * p[0]\n",
    "print(f'Activation energy = {activation_energy / 1000:.2f} kJ/mol')"
   ]
  },
  {
   "cell_type": "markdown",
   "id": "8a9e1c4c",
   "metadata": {},
   "source": [
    "> Can you show that the activation energy is approximately 180 kJ/mol?\n",
    "\n",
    "Yes, the activation energy is approximately 180 kJ/mol."
   ]
  },
  {
   "cell_type": "code",
   "execution_count": null,
   "id": "fef25983",
   "metadata": {},
   "outputs": [],
   "source": [
    "# 3\n",
    "# We evaluate k using the parameters we have found:\n",
    "A = np.exp(p[1])\n",
    "# Let us evaluate it for several temperatures between 670 and 840:\n",
    "# (We treat the fitted equation as a model, and use it to evaluate k for\n",
    "# different temperatures.)\n",
    "T = np.linspace(670, 840, 100)\n",
    "k_fit = A * np.exp(-activation_energy / (R*T))\n",
    "\n",
    "fig, ax = plt.subplots(constrained_layout=True)\n",
    "ax.scatter(data['temperature'].values, data['rate constant'].values, label='Measurements')\n",
    "ax.set(xlabel='Temperature (K)', ylabel='Rate constant (M$^{1/2}$ s)')\n",
    "ax.plot(T, k_fit, label='Model')\n",
    "ax.set_title('Rate constant as a function of temperature')\n",
    "ax.legend();"
   ]
  },
  {
   "cell_type": "markdown",
   "id": "bb501622",
   "metadata": {},
   "source": [
    "> Plot your fitted line on the form\n",
    ">\n",
    "> \\begin{equation}k = A \\text{e}^{\\frac{-E_\\text{a}}{RT}}\\end{equation}\n",
    ">\n",
    "> together with the original rate constant and temperature data. Does is seem to approximate the original data well?\n",
    "\n",
    "Yes, from the plot above, it seems to approximate the original data reasonably well."
   ]
  }
 ],
 "metadata": {
  "kernelspec": {
   "display_name": "Python 3 (ipykernel)",
   "language": "python",
   "name": "python3"
  },
  "language_info": {
   "codemirror_mode": {
    "name": "ipython",
    "version": 3
   },
   "file_extension": ".py",
   "mimetype": "text/x-python",
   "name": "python",
   "nbconvert_exporter": "python",
   "pygments_lexer": "ipython3",
   "version": "3.9.9"
  }
 },
 "nbformat": 4,
 "nbformat_minor": 5
}
