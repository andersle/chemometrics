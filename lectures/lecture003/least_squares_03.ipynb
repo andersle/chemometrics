{
 "cells": [
  {
   "cell_type": "markdown",
   "id": "3d7ed940",
   "metadata": {},
   "source": [
    "# Least squares example 4\n",
    "\n",
    "In this example, we will do least squares fitting to some data with noise. We will do the following to inspect\n",
    "our results:\n",
    "\n",
    "1. We will calculate R² and the root mean squared error.\n",
    "2. We will plot the measured $y$ vs. the predicted $\\hat{y}$ from the model we make.\n",
    "3. We will plot the residuals."
   ]
  },
  {
   "cell_type": "code",
   "execution_count": null,
   "id": "2eb7e3d1",
   "metadata": {},
   "outputs": [],
   "source": [
    "import numpy as np\n",
    "from matplotlib import pyplot as plt\n",
    "from sklearn.linear_model import LinearRegression\n",
    "%matplotlib notebook\n",
    "# First, we will generate some data:\n",
    "from sklearn.datasets import make_regression  # A method for generating data for regression\n",
    "intercept = 10\n",
    "X, y, coef = make_regression(\n",
    "    n_samples=100, n_features=1, coef=True, noise=50, bias=intercept, random_state=1234\n",
    ")\n",
    "# Let us also calculate the underlying model:\n",
    "y_true = intercept + coef * X\n",
    "print('True coefficients:', coef)\n",
    "print(y.shape, X.shape)\n",
    "\n",
    "# Plot the generated points:\n",
    "fig, ax = plt.subplots()\n",
    "ax.scatter(X, y, label='Data points (\"measurements\")')\n",
    "# Plot the true line:\n",
    "ax.plot(X, y_true, color='k', label='True line', lw=3)\n",
    "ax.set(xlabel='x', ylabel='y', title='Generated data')\n",
    "ax.legend();"
   ]
  },
  {
   "cell_type": "markdown",
   "id": "25615f77",
   "metadata": {},
   "source": [
    "## Performing least squares fitting:"
   ]
  },
  {
   "cell_type": "code",
   "execution_count": null,
   "id": "7d90a358",
   "metadata": {},
   "outputs": [],
   "source": [
    "model = LinearRegression(fit_intercept=True)\n",
    "model.fit(X, y)\n",
    "print(f'Intercept: {model.intercept_:.3g}')\n",
    "print(f'Coefficients: {model.coef_}')\n",
    "# Use the model to calculate y-values for the given X-values:\n",
    "y_predict = model.predict(X)"
   ]
  },
  {
   "cell_type": "markdown",
   "id": "4f75411e",
   "metadata": {},
   "source": [
    "## Calculating R²\n",
    "\n",
    "The [coefficient of determination](https://en.wikipedia.org/wiki/Coefficient_of_determination) (R²) is given by\n",
    "\n",
    "\\begin{equation}\n",
    "R^{2}=1-{SS_{\\rm {res}} \\over SS_{\\rm {tot}}}\n",
    "\\end{equation}\n",
    "\n",
    "where $SS_{\\rm {res}}$ is the sum of squared residuals and $SS_{\\rm {tot}}$ is the total sum of squares\n",
    "\n",
    "\\begin{equation}\n",
    "SS_{\\text{res}}=\\sum _{i}(y_{i}-\\hat{y}_{i})^{2}=\\sum _{i}e_{i}^{2}, \\quad SS_{\\text{tot}}=\\sum _{i}(y_{i}-{\\bar {y}})^{2}\n",
    "\\end{equation}\n",
    "\n",
    "Effectively, we are comparing our model to just using the average value of $y$:\n",
    "* If R² is 0, then our prediction is no better than just predicting the average value of $y$ for all points.\n",
    "- If R² is 1, then the error term (sum of squared residuals) is 0. This means that we predict $y$ perfectly."
   ]
  },
  {
   "cell_type": "code",
   "execution_count": null,
   "id": "4ed200f7",
   "metadata": {},
   "outputs": [],
   "source": [
    "y_hat = model.predict(X)\n",
    "\n",
    "SSR = sum((y - y_hat)**2)\n",
    "SST = sum((y - y.mean())**2)\n",
    "\n",
    "rsquared = 1 - SSR/SST\n",
    "\n",
    "rmse = np.sqrt(np.mean((y - y_hat)**2))\n",
    "\n",
    "print(f'R² = {rsquared:.3g}')\n",
    "print(f'RMSE = {rmse:.3g}')"
   ]
  },
  {
   "cell_type": "code",
   "execution_count": null,
   "id": "d7221519",
   "metadata": {},
   "outputs": [],
   "source": [
    "# Alternative calculation:\n",
    "from sklearn.metrics import r2_score, mean_squared_error\n",
    "\n",
    "rsquared_ = r2_score(y, y_hat)\n",
    "rmse_ = np.sqrt(mean_squared_error(y, y_hat))\n",
    "print(f'R² = {rsquared_:.3g}')\n",
    "print(f'RMSE = {rmse_:.3g}')"
   ]
  },
  {
   "cell_type": "code",
   "execution_count": null,
   "id": "3900f328",
   "metadata": {},
   "outputs": [],
   "source": [
    "# Since we have 1D data, we can plot the predicted y vs x:\n",
    "fig, ax = plt.subplots()\n",
    "ax.scatter(X, y, label='Data points (\"measurements\")')\n",
    "ax.plot(X, y_true, color='k', label='True line', lw=2)\n",
    "ax.plot(X, y_hat, color='darkorange', label=f'Predicted by model (R²: {rsquared:.3g})', lw=3)\n",
    "ax.set(xlabel='x', ylabel='y', title='Generated data + linear fit')\n",
    "ax.legend();"
   ]
  },
  {
   "cell_type": "markdown",
   "id": "bee95d82",
   "metadata": {},
   "source": [
    "## Plotting y vs ŷ\n",
    "\n",
    "The plot of y vs. ŷ is useful for cases where we have many variables and can't plot the predicted y as a\n",
    "function of all the variables:"
   ]
  },
  {
   "cell_type": "code",
   "execution_count": null,
   "id": "69f85c7c",
   "metadata": {},
   "outputs": [],
   "source": [
    "fig, ax = plt.subplots()\n",
    "ax.scatter(y_hat, y)\n",
    "ax.set(xlabel='ŷ', ylabel='y', title=f'Predicted vs. measured y (R²: {rsquared:.3g})')\n",
    "# Add x=y line\n",
    "ax.plot([-300, 300], [-300, 300], lw=2, color='k', ls=':')\n",
    "ax.set_aspect('equal', adjustable='box')"
   ]
  },
  {
   "cell_type": "markdown",
   "id": "f748988a",
   "metadata": {},
   "source": [
    "## Plotting the residuals\n",
    "\n",
    "If we have made a good model, the residuals should just be noise. We can check this visually by plotting the residuals."
   ]
  },
  {
   "cell_type": "code",
   "execution_count": null,
   "id": "cadee1be",
   "metadata": {},
   "outputs": [],
   "source": [
    "residuals = y - y_hat\n",
    "\n",
    "fig, ax = plt.subplots()\n",
    "ax.scatter(y_hat, residuals)\n",
    "ax.set(xlabel='ŷ', ylabel='y - ŷ', title=f'Residuals (R²: {rsquared:.3g})')\n",
    "# Add y=0 line\n",
    "ax.axhline(y=0, lw=2, color='k', ls=':');"
   ]
  }
 ],
 "metadata": {
  "kernelspec": {
   "display_name": "Python 3 (ipykernel)",
   "language": "python",
   "name": "python3"
  },
  "language_info": {
   "codemirror_mode": {
    "name": "ipython",
    "version": 3
   },
   "file_extension": ".py",
   "mimetype": "text/x-python",
   "name": "python",
   "nbconvert_exporter": "python",
   "pygments_lexer": "ipython3",
   "version": "3.9.10"
  }
 },
 "nbformat": 4,
 "nbformat_minor": 5
}
