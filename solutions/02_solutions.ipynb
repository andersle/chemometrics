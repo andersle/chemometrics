{
 "cells": [
  {
   "cell_type": "markdown",
   "metadata": {},
   "source": [
    "**Exercise set 2**\n",
    "==============\n",
    "\n",
    "\n",
    ">The goal of this exercise is to investigate Bayes theorem,\n",
    ">and to use ANOVA to determine if a certain factor is indeed\n",
    ">affecting the results of an experiment.\n",
    "\n",
    "\n",
    "**Exercise 2.1**\n",
    "\n",
    "A certain disease occurs randomly in the general population with a probability of $\\tfrac{1}{10\\,000}$.\n",
    "A test has been developed for this disease which is $99\\%$ correct, meaning here\n",
    "that if a person has the disease, then the test will correctly be positive in $99\\%$ of the cases.\n",
    "If a person does not have the disease, the test will correctly be negative in $99\\%$ of the cases.\n",
    "\n",
    "\n",
    "**(a)**  Assume that we are testing for this disease in a population of $1\\,000\\,000$ people. How many\n",
    "are expected to have the disease? How many are expected to not\n",
    "have the disease? Further:\n",
    "\n",
    "* (i)  How many people with the disease will have a positive test?\n",
    "\n",
    "* (ii)  How many people with the disease will have a negative test?\n",
    "\n",
    "* (iii)  How many people without the disease will have a positive test? \n",
    "\n",
    "* (iv)  How many people without the disease will have a negative test? \n",
    "\n",
    "\n",
    "Summarize your answers to the four points above in a table of the following\n",
    "form:\n",
    "\n",
    "|    |    ||Has the disease?|\n",
    "|:---|:---|:---:|:---:|\n",
    "|||Yes|No|\n",
    "|**Test result**| Positive |||\n",
    "|| Negative | ||\n",
    "\n",
    "\n"
   ]
  },
  {
   "cell_type": "markdown",
   "metadata": {},
   "source": [
    "**Answer to question 2.1(a):** \n",
    "\n",
    "\n",
    "If the probability of the disease occurring is $\\tfrac{1}{10\\,000}$, then we expect that\n",
    "$1\\,000\\,000 \\times \\tfrac{1}{10\\,000} = 100$ will have the disease.\n",
    "Further, $1\\,000\\,000 \\times \\left(1- \\tfrac{1}{10\\,000} \\right) = 999\\,900$ will\n",
    "not have the disease.\n",
    "\n",
    "* (i)  How many people with the disease will have a positive test?\n",
    "  \n",
    "  Of the $100$ people with the disease, the test is correct for $99\\%$ of them: \n",
    "  $100 \\times 0.99 = 99$ persons.\n",
    "\n",
    "\n",
    "* (ii)  How many people with the disease will have a negative test?\n",
    "  \n",
    "  Of the $100$ people with\n",
    "  the disease, the test is incorrect for $1\\%$ of them: $100 \\times 0.01 = 1$ person.\n",
    "  \n",
    "  \n",
    "* (iii) How many people without the disease will have a positive test? \n",
    "  \n",
    "  Of the $999\\,900$ people\n",
    "  without the disease, the test will be positive (incorrect) for $1\\%$ of them:\n",
    "  $999\\,900 \\times 0.01 = 9\\,999$ persons.\n",
    "\n",
    "\n",
    "* (iv)  How many people without the disease will have a negative test? \n",
    "\n",
    "  Of the $999\\,900$ people\n",
    "  without the disease, the test will be negative for $99\\%$ of them:\n",
    "  $999\\,900 \\times 0.99 = 989\\,901$ persons.\n",
    "\n",
    "\n",
    "Summarized:\n",
    "\n",
    "<!--- This is needed for the coloring in jupyter notebook --->\n",
    "\n",
    "|    |    ||Has the disease?|\n",
    "|:---|:---|:---:|:---:|\n",
    "|||Yes|No|\n",
    "|**Test result**| Positive |99 | <span style=\"color:#1b9e77;\">&nbsp;&nbsp;9999&nbsp;&nbsp;</span> |\n",
    "|| Negative |<span style=\"color:#d95f02;\" >1</span>|<span style=\"color:#7570b3;\">989901</span>|\n",
    "\n"
   ]
  },
  {
   "cell_type": "markdown",
   "metadata": {},
   "source": [
    "**(b)**  Later in the course, when dealing with classification problems,\n",
    "we will refer to this table as the \"confusion matrix\". This table\n",
    "summarizes the types of errors we are making: the number of\n",
    "false positives (\"FP\") and the number of\n",
    "false negatives (\"FN\"). In addition, it shows us the number\n",
    "of true positives\n",
    "(\"TP\") and the number of true negatives (\"TN\").\n",
    "Identify the location of\n",
    "these $4$ labels in the table above. \n",
    "Using these labels, we can define different measures that tell us\n",
    "something about the performance of the test. One example of such a\n",
    "measure is the \"precision\" which is\n",
    "defined as the ratio between the number of true positives and\n",
    "the total number of positives:\n",
    "\n",
    "\\begin{equation}\n",
    "\\text{precision} = \\frac{\\text{TP}}{\\text{TP} + \\text{FP}}\n",
    "\\tag{1}\\end{equation}\n",
    "\n",
    "We can interpret the precision as the probability of having the\n",
    "disease, given that the test was positive.\n",
    "Calculate this probability, using the formula given above.\n",
    "Do you have any comments about the size of\n",
    "this probability?\n",
    "\n",
    "\n"
   ]
  },
  {
   "cell_type": "code",
   "execution_count": 1,
   "metadata": {},
   "outputs": [
    {
     "name": "stdout",
     "output_type": "stream",
     "text": [
      "precision = 0.0098\n"
     ]
    }
   ],
   "source": [
    "TP = 99\n",
    "FP = 9999\n",
    "precision = TP/(TP+FP)\n",
    "print(f\"precision = {precision:.4f}\")"
   ]
  },
  {
   "cell_type": "markdown",
   "metadata": {},
   "source": [
    "**Answer to question 2.1(b):**\n",
    "\n",
    "In the table in the answer for **2.1 (a)**, the number of true positives is colored black, the\n",
    "number of false positives is colored green, number of false negatives is\n",
    "colored orange and number of true negatives is colored purple.\n",
    "Here, the number of true positives is $TP=99$, and the number of\n",
    "false positives is $FP=9999$. The precision is then (from the cell above) 0.0098.\n",
    "\n",
    "Given that the test result is positive, the probability of having the disease is\n",
    "less than $1\\%$. This probability is quite low and is due to the large number\n",
    "of false positives we get in this test, and the fact that the disease is rare\n",
    "(it occurs in $\\tfrac{1}{10\\,000}$ of the population). If we were to improve\n",
    "this probability, we would focus on lowering the number of false positives produced\n",
    "by the test.\n",
    "\n",
    "    \n"
   ]
  },
  {
   "cell_type": "markdown",
   "metadata": {},
   "source": [
    "**(c)**  Use Bayes theorem to calculate the probability of\n",
    "having the disease, given that a test was positive. Compare\n",
    "this to the probability you found in the previous answer.\n",
    "\n"
   ]
  },
  {
   "cell_type": "code",
   "execution_count": 2,
   "metadata": {},
   "outputs": [
    {
     "name": "stdout",
     "output_type": "stream",
     "text": [
      "P(B|A) = 0.0098\n"
     ]
    }
   ],
   "source": [
    "# A is positive test\n",
    "# B is person has disease\n",
    "P_AB = 0.99 #P(A|B) chance that the test is correctly positive\n",
    "P_B = 1/10_000 # P(B) chance that anyone has the disease\n",
    "P_AnB = 0.01 # Chance of false positive (positive| not disease)\n",
    "P_nB = 1-P_B # Chance that a person does not have the disease\n",
    "P_A = P_AB*P_B + P_AnB * P_nB # P(A) probability that any test is positive\n",
    "P_BA = P_AB * P_B / P_A\n",
    "print(f\"P(B|A) = {P_BA:.4f}\")"
   ]
  },
  {
   "cell_type": "markdown",
   "metadata": {},
   "source": [
    "**Answer to question 2.1(c):** \n",
    "\n",
    "To use Bayes theorem to calculate the probability of\n",
    "    having the disease, given that a test was positive, we first define\n",
    "    two events:\n",
    "    \n",
    "* A: test is positive,\n",
    "* B: person has the disease,\n",
    "\n",
    "so that the probability we are looking for is $P(B | A)$. Using Bayes theorem, this can\n",
    "be expressed as,\n",
    "\n",
    "\\begin{equation}\n",
    "    P(B | A) = \\frac{P(A | B) \\times P(B)}{P(A)} ,\n",
    "    \\end{equation}\n",
    "    were $P(A | B) = 0.99$ and $P(B) = \\tfrac{1}{10\\,000}$. Further, we find $P(A)$ as,\n",
    "\n",
    "\\begin{equation}\n",
    "    \\begin{split}\n",
    "    P(A) &= P(A | B) \\times P(B) + P(A|\\overline{B}) \\times P(\\overline{B}) \\\\\n",
    "         &= 0.99 \\times \\frac{1}{10\\,000} + 0.01 \\times \\frac{9\\,999}{10\\,000} = \n",
    "        \\frac{10\\,098}{1\\,000\\,000}.\n",
    "    \\end{split}\n",
    "\\end{equation}\n",
    "    \n",
    "    \n",
    "The probability $P(B | A)$ is then,\n",
    "\\begin{equation}\n",
    "    P(B | A) = \\frac{P(A | B) \\times P(B)}{P(A)} = \\frac{0.99 \\times \\tfrac{1}{10\\,000}}{\\tfrac{10\\,098}{1\\,000\\,000}} = \\frac{99}{10\\,098} = 0.0098.\n",
    "\\end{equation}\n",
    "This is implemented in the cell above and identical to the precision we found for **2.1 (b)**, as expected.\n"
   ]
  },
  {
   "cell_type": "markdown",
   "metadata": {},
   "source": [
    "\n",
    "\n",
    "**Exercise 2.2**\n",
    "\n",
    "The fertilizer magnesium ammonium phosphate MgNH$_4$PO$_4$ is an effective\n",
    "supplier for nutrients necessary for plant growth. In an experiment, you have\n",
    "tested the effect of this fertilizer on the growth of Chrysanthemums by\n",
    "measuring the height of the plants after growing them for four weeks.\n",
    "You have considered $4$ different concentrations of the fertilizer (measured in g/bu)\n",
    "and you have measured the mean height by growing $10$ plants per concentration.\n",
    "The measured data is given in Table 1, and is\n",
    "also given in the file [`Data/fertilizer.txt`](Data/fertilizer.txt).\n",
    "\n",
    "\n",
    "|**50 g/bu** | **100 g/bu** | **200 g/bu** | **400 g/bu** |\n",
    "|:---:|:---:|:---:|:---:|\n",
    "|$13.2$ | $16.0$ | $ 7.8$ | $21.0$ |\n",
    "|$12.4$ | $12.6$ | $14.4$ | $14.8$ |\n",
    "|$12.8$ | $14.8$ | $20.0$ | $19.1$ |\n",
    "|$17.2$ | $13.0$ | $15.8$ | $15.8$ |\n",
    "|$13.0$ | $14.0$ | $17.0$ | $18.0$ |\n",
    "|$14.0$ | $23.6$ | $27.0$ | $26.0$ |\n",
    "|$14.2$ | $14.0$ | $19.6$ | $21.1$ |\n",
    "|$21.6$ | $17.0$ | $18.0$ | $22.0$ |\n",
    "|$15.0$ | $22.2$ | $20.2$ | $25.0$ |\n",
    "|$20.0$ | $24.4$ | $23.2$ | $18.2$ |\n",
    "\n",
    "\n",
    "**Table 1:** *Measured plant heights (in cm) as a function of the fertilizer concentration (in g/bu).*\n",
    "\n",
    "\n",
    "**(a)**  Here, we will test the hypothesis that the mean height\n",
    "of the plants is not affected by the amount of fertilizer. We\n",
    "are going to test this with a specified significance level, $\\alpha$.\n",
    "What is the meaning of $\\alpha$ in connection with a hypothesis test?\n",
    "\n"
   ]
  },
  {
   "cell_type": "markdown",
   "metadata": {},
   "source": [
    "**Answer to question 2.2(a):** \n",
    "\n",
    "The significance level, $\\alpha$, is the probability of rejecting\n",
    "the null hypothesis (in this case that all the means are equal) when\n",
    "the null hypothesis is true. If we set this value to $0.05$, this\n",
    "means that it should be no more than a $5$\\% chance of\n",
    "erroneously concluding that the null hypothesis is false when it is\n",
    "true."
   ]
  },
  {
   "cell_type": "markdown",
   "metadata": {},
   "source": [
    "**(b)**  To test the hypothesis, we will perform ANOVA. Before we do that,\n",
    "it is a good idea to visualize the raw data. Create a suitable plot\n",
    "of the raw data. Does it look like our hypothesis is correct?\n",
    "\n"
   ]
  },
  {
   "cell_type": "code",
   "execution_count": 3,
   "metadata": {},
   "outputs": [
    {
     "data": {
      "image/png": "[encoded data removed]",
      "text/plain": [
       "<Figure size 1008x432 with 2 Axes>"
      ]
     },
     "metadata": {
      "needs_background": "light"
     },
     "output_type": "display_data"
    }
   ],
   "source": [
    "import pandas as pd # Pandas for data loading\n",
    "import matplotlib.pyplot as plt # Matplotlib for plotting\n",
    "\n",
    "data = pd.read_csv('Data/fertilizer.txt') # Load the data\n",
    "data_mat = data.values # get the data matrix\n",
    "\n",
    "# We are going to make 2 plots (boxplot and scatter plot) so set up the plot\n",
    "figbox, (axbox, axscat) = plt.subplots(constrained_layout=True,\n",
    "                                       ncols=2,\n",
    "                                       figsize=(14, 6)\n",
    "                                      )\n",
    "# Pandas has a function to make a boxplot\n",
    "data.boxplot(ax=axbox)\n",
    "axbox.set_xlabel('Fertilizer concentration')\n",
    "axbox.set_ylabel('Height (cm)')\n",
    "\n",
    "# To make the scatter plot requires slightly more code\n",
    "# Loop over the columns (so matrix.T)\n",
    "markers = ['o','s','X','v', 'D']\n",
    "for i, column in enumerate(data_mat.T):\n",
    "    x = [i for c in column] # Set x values to be constant, notice that we set \"i\" for every \"c\" in column\n",
    "    axscat.scatter(x=x, y=column, marker=markers[i])\n",
    "# Now update the x-axis\n",
    "axscat.set_xlim(-0.5,i+0.5) # Add a 0.5 buffer on either end\n",
    "axscat.set_xticks(range(i+1)) # Only plot x ticks on the locations of i\n",
    "axscat.set_xticklabels(data.columns) #Overwrite the labels by the column names\n",
    "\n",
    "# Also add the grid lines\n",
    "axscat.grid()"
   ]
  },
  {
   "cell_type": "markdown",
   "metadata": {},
   "source": [
    "**Your answer to question 2.2(b):** \n",
    "\n",
    "The raw data is plotted by the code above.\n",
    "From this, it might look like the height increases\n",
    "slightly, when we increase the concentration of fertilizer. So from\n",
    "this plot alone, we could start to doubt our null hypothesis that all\n",
    "means are equal.\n"
   ]
  },
  {
   "cell_type": "markdown",
   "metadata": {},
   "source": [
    "**(c)**  In connection with performing ANOVA, we need to calculate some\n",
    "terms that measure the variance within groups and the variance\n",
    "between groups.\n",
    "Calculate these terms ($SST$, $SSA$, and $SSE$).\n",
    "\n"
   ]
  },
  {
   "cell_type": "code",
   "execution_count": 4,
   "metadata": {},
   "outputs": [
    {
     "name": "stdout",
     "output_type": "stream",
     "text": [
      "SST = 758.035 \n",
      "SSA = 119.787 \n",
      "SSE = 638.248\n"
     ]
    }
   ],
   "source": [
    "import numpy as np # Import numpy for matrix manipulation\n",
    "#SST\n",
    "(rows, columns) = data.shape\n",
    "# Total variance of the data\n",
    "mean = np.average(data_mat)\n",
    "SST = np.sum((data_mat-mean)**2)\n",
    "\n",
    "#SSA Variance between each columns and the mean * rows\n",
    "c_means = np.average(data_mat, axis=0)\n",
    "SSA = rows * np.sum((c_means-mean)**2)\n",
    "\n",
    "SSE = SST-SSA\n",
    "\n",
    "print(f\"SST = {SST:.3f}\",\n",
    "      f\"\\nSSA = {SSA:.3f}\",\n",
    "      f\"\\nSSE = {SSE:.3f}\")"
   ]
  },
  {
   "cell_type": "markdown",
   "metadata": {},
   "source": [
    "**(d)**  Using the terms you calculated in the previous point, obtain\n",
    "the two estimates for the variance:\n",
    "\n",
    "* (i)  $s_1^2 = \\frac{SSA}{k-1}$,\n",
    "\n",
    "* (ii)  $s^2 = \\frac{SSE}{k(n-1)}$,\n",
    "\n",
    "\n",
    "and calculate the $f$-statistic: $f=s_1^2/s^2$.\n",
    "\n"
   ]
  },
  {
   "cell_type": "code",
   "execution_count": 5,
   "metadata": {},
   "outputs": [
    {
     "data": {
      "text/markdown": [
       "\n",
       "$s_1^2$=39.929\n",
       " \n",
       "$ s^2 $=17.729\n",
       " \n",
       "f=2.252\n"
      ],
      "text/plain": [
       "<IPython.core.display.Markdown object>"
      ]
     },
     "metadata": {},
     "output_type": "display_data"
    }
   ],
   "source": [
    "s12 = SSA/(columns-1)\n",
    "s2 = SSE/(columns*(rows-1))\n",
    "f = s12/s2\n",
    "\n",
    "# We do some f-string printing here and force it through Markdown to compile the Latex\n",
    "from IPython.display import display, Markdown\n",
    "# This needs to be aligned to the left, otherwise it goes into markdown formatting (breaking latex compilation)\n",
    "display(Markdown(\n",
    "f\"\"\"\n",
    "$s_1^2$={s12:.3f}\\n \n",
    "$ s^2 $={s2:.3f}\\n \n",
    "f={f:.3f}\n",
    "\"\"\"))"
   ]
  },
  {
   "cell_type": "markdown",
   "metadata": {},
   "source": [
    "**(e)**  To perform the actual hypothesis test, we need the critical value\n",
    "from the $F$-distribution. For a specified significance level, $\\alpha$,\n",
    "and with $3$ and $36$ degrees of freedom, we\n",
    "label the critical value as $f_{\\alpha}(3, 36)$. Check that I am using\n",
    "the correct degrees of freedom here, consistent with the\n",
    "raw data given in table 1.\n",
    "\n"
   ]
  },
  {
   "cell_type": "markdown",
   "metadata": {},
   "source": [
    "**Answer to question 2.2(e):** \n",
    "The two degrees of freedom are\n",
    "* $k-1 = 4 - 1 = 3$; number of columns - 1\n",
    "* $k(n-1) = 4(10-1) = 36$; number of columns (number of rows - 1) \n",
    "\n"
   ]
  },
  {
   "cell_type": "markdown",
   "metadata": {},
   "source": [
    "**(f)**  Critical $f$ values can be calculated from the distribution\n",
    "function (With Python, this can be done with\n",
    "`scipy.stats.f.ppf`\n",
    "from the\n",
    "[SciPy library](https://docs.scipy.org/doc/scipy/reference/generated/scipy.stats.f.html).)\n",
    "or it can be found in statistical tables.(One such table can be found\n",
    "[here on-line](https://www.itl.nist.gov/div898/handbook/eda/section3/eda3673.htm).)\n",
    "For the significance levels $\\alpha=0.05$ and $\\alpha=0.10$, I have found the\n",
    "following two values:\n",
    "\n",
    "* (i)  $f_{\\alpha = 0.05}(3, 36) = 2.866$\n",
    "\n",
    "* (ii)  $f_{\\alpha=0.10}(3, 36) = 2.243$\n",
    "\n",
    "\n",
    "Check that these two values are correct.\n",
    "\n"
   ]
  },
  {
   "cell_type": "code",
   "execution_count": 6,
   "metadata": {},
   "outputs": [
    {
     "data": {
      "text/markdown": [
       "$f_{\\alpha=0.05}$(3, 36) = 2.866<br/>$f_{\\alpha=0.10}$(3, 36) = 2.243"
      ],
      "text/plain": [
       "<IPython.core.display.Markdown object>"
      ]
     },
     "metadata": {},
     "output_type": "display_data"
    }
   ],
   "source": [
    "import scipy.stats\n",
    "alpha = 0.05\n",
    "f_5 = scipy.stats.f.ppf(1-alpha, columns-1, columns*(rows-1))\n",
    "alpha = 0.10\n",
    "f_10 = scipy.stats.f.ppf(1-alpha, columns-1, columns*(rows-1))\n",
    "display(Markdown(\n",
    "    r\"$f_{\\alpha=0.05}$\" f\"({columns-1}, {columns*(rows-1)}) = {f_5:.3f}\" r\"<br/>\" #Force HTML linebreak\n",
    "    r\"$f_{\\alpha=0.10}$\" f\"({columns-1}, {columns*(rows-1)}) = {f_10:.3f}\" \n",
    "))\n"
   ]
  },
  {
   "cell_type": "markdown",
   "metadata": {},
   "source": [
    "**Answer to question 2.2(f):** \n",
    "\n",
    "The code above gives values which are close enough to the given values. \n",
    "So we assume that the given values are correct.\n"
   ]
  },
  {
   "cell_type": "markdown",
   "metadata": {},
   "source": [
    "**(g)**  Based on the calculations you have done,\n",
    "can you conclude on the $0.05$ level of significance that\n",
    "different concentrations of the fertilizer affect the mean attained height\n",
    "of the plants? What concentration, if any, appears to give the tallest plants?\n",
    "\n"
   ]
  },
  {
   "cell_type": "markdown",
   "metadata": {},
   "source": [
    "**Answer to question 2.2(g):** \n",
    "\n",
    "Our calculated $f$-statistic was $2.252$. This value is smaller than the\n",
    "critical one: $2.252 < f_{\\alpha = 0.05}(3, 36) = 2.866$. \n",
    "We will then **not** reject the null hypothesis and we\n",
    "conclude that the means are **not** different in this case. We will then\n",
    "recommend using the lowest concentration as this will probably be cheaper.\n",
    "\n",
    "The code below calculates the probability of observing the data we\n",
    "have (or more extreme) given that the null hypothesis is true. This\n",
    "value is close to $10$\\%. Although the figure made by question **2.2 (b)** indicate that\n",
    "there might be a weak effect when increasing the fertilizer concentration, our\n",
    "test tells us that the probability of observing this by chance is almost $10$\\%, even when the means are the same.\n"
   ]
  },
  {
   "cell_type": "code",
   "execution_count": 7,
   "metadata": {},
   "outputs": [
    {
     "name": "stdout",
     "output_type": "stream",
     "text": [
      "p = 0.0989\n"
     ]
    }
   ],
   "source": [
    "p = 1 - scipy.stats.f.cdf(f, columns-1, columns*(rows-1)) #This uses the f we got from question 2.2(d)\n",
    "print(f\"p = {p:.4f}\")"
   ]
  },
  {
   "cell_type": "markdown",
   "metadata": {},
   "source": [
    "**(h)**  Would your conclusion change with a significance level of $0.10$?\n",
    "\n"
   ]
  },
  {
   "cell_type": "markdown",
   "metadata": {},
   "source": [
    "**Answer to question 2.2(h):** \n",
    "\n",
    "If we select a significance level of $0.10$, the critical $f$-value is $2.243$, which\n",
    "is **smaller** than the observed $f$-value: $2.252 > 2.243$. In this\n",
    "case, we will **reject** the\n",
    "null hypothesis and we find that there is an effect when increasing the\n",
    "fertilizer concentration. \n",
    "\n",
    "In a real-life situation, we would probably still\n",
    "be skeptical about rejecting the null hypothesis as the effect of increasing\n",
    "the fertilizer concentration seems to be modest, and since we now have a $10$\\%\n",
    "chance of falsely rejecting the null hypothesis"
   ]
  },
  {
   "cell_type": "markdown",
   "metadata": {},
   "source": [
    "**(i)**  (Optional) Re-do this exercise, but use the [`anova_lm`](https://www.statsmodels.org/stable/generated/statsmodels.stats.anova.anova\\_lm.html) method\n",
    "from the Python package [`statsmodels`](https://www.statsmodels.org), or the\n",
    "[`scipy.stats.f_oneway`](https://docs.scipy.org/doc/scipy/reference/generated/scipy.stats.f\\_oneway.html) method from the Python package [`SciPy`](https://www.scipy.org/), to run ANOVA.\n"
   ]
  },
  {
   "cell_type": "code",
   "execution_count": 8,
   "metadata": {},
   "outputs": [
    {
     "name": "stdout",
     "output_type": "stream",
     "text": [
      "\n",
      "Statsmodels results:\n",
      "              sum_sq    df         F    PR(>F)\n",
      "C(variable)  119.787   3.0  2.252172  0.098933\n",
      "Residual     638.248  36.0       NaN       NaN\n"
     ]
    }
   ],
   "source": [
    "# anova_lm answer\n",
    "import statsmodels.api as sm\n",
    "from statsmodels.formula.api import ols\n",
    "\n",
    "# Let us also check the results using statsmodels:\n",
    "# We first have to reorganize the data for statsmodels:\n",
    "data_melt = pd.melt(data.reset_index(), id_vars=['index'],\n",
    "                    value_vars=data.columns)\n",
    "\n",
    "model = ols('value ~ C(variable)', data=data_melt).fit()\n",
    "table = sm.stats.anova_lm(model, typ=2)\n",
    "print('\\nStatsmodels results:')\n",
    "print(table)"
   ]
  },
  {
   "cell_type": "code",
   "execution_count": 9,
   "metadata": {},
   "outputs": [],
   "source": [
    "# Uncomment the following line to see how data_melt is different\n",
    "#data_melt"
   ]
  },
  {
   "cell_type": "code",
   "execution_count": 10,
   "metadata": {},
   "outputs": [
    {
     "name": "stdout",
     "output_type": "stream",
     "text": [
      "\n",
      "Scipy results:\n",
      "Scipy f = 2.2521715696719777\n",
      "Scipy p = 0.09893276872587471\n"
     ]
    }
   ],
   "source": [
    "# scipy answer\n",
    "# Let us check the results using scipy:\n",
    "columns_mat = data_mat.T # Do one column at a time instead of a row\n",
    "fval, pval = scipy.stats.f_oneway(*columns_mat) #The \"*\" here gives each row of columns_mat as a unique input to the function\n",
    "print('\\nScipy results:')\n",
    "print(f'Scipy f = {fval}')\n",
    "print(f'Scipy p = {pval}')"
   ]
  },
  {
   "cell_type": "markdown",
   "metadata": {},
   "source": [
    "**Your answer to question 2.2(i):** \n",
    "\n",
    "Both codes above gives a similar answer to the one we found."
   ]
  }
 ],
 "metadata": {
  "kernelspec": {
   "display_name": "Python 3 (ipykernel)",
   "language": "python",
   "name": "python3"
  },
  "language_info": {
   "codemirror_mode": {
    "name": "ipython",
    "version": 3
   },
   "file_extension": ".py",
   "mimetype": "text/x-python",
   "name": "python",
   "nbconvert_exporter": "python",
   "pygments_lexer": "ipython3",
   "version": "3.9.10"
  }
 },
 "nbformat": 4,
 "nbformat_minor": 2
}
