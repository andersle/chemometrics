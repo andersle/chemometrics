{
 "cells": [
  {
   "cell_type": "markdown",
   "id": "a0bc6a43",
   "metadata": {},
   "source": [
    "# Example 2: High-throughput field phenotyping using hyperspectral reflectance and partial least squares regression (PLSR) reveals genetic modifications to photosynthetic capacity\n",
    "\n",
    "In the [original article](https://www.sciencedirect.com/science/article/pii/S0034425719301804), the authors built\n",
    "models to predict photosynthesis from hyperspectral reflectance. Here, we are using their raw data to reproduce one of these models."
   ]
  },
  {
   "cell_type": "code",
   "execution_count": null,
   "id": "ca51229e",
   "metadata": {},
   "outputs": [],
   "source": [
    "import pandas as pd\n",
    "import numpy as np\n",
    "from matplotlib import pyplot as plt\n",
    "from matplotlib.cm import get_cmap\n",
    "import seaborn as sns\n",
    "\n",
    "\n",
    "%matplotlib notebook\n",
    "plt.style.use(\"seaborn-notebook\")\n",
    "sns.set_theme(style=\"ticks\", context=\"notebook\", palette=\"muted\")"
   ]
  },
  {
   "cell_type": "code",
   "execution_count": null,
   "id": "31089983",
   "metadata": {},
   "outputs": [],
   "source": [
    "# Imports for modelling:\n",
    "from sklearn.cross_decomposition import PLSRegression\n",
    "from sklearn.linear_model import LinearRegression\n",
    "from sklearn.model_selection import train_test_split\n",
    "from sklearn.metrics import r2_score"
   ]
  },
  {
   "cell_type": "code",
   "execution_count": null,
   "id": "0d795793",
   "metadata": {},
   "outputs": [],
   "source": [
    "data = pd.read_csv(\"model1.csv\")\n",
    "data"
   ]
  },
  {
   "cell_type": "code",
   "execution_count": null,
   "id": "1c770a00",
   "metadata": {},
   "outputs": [],
   "source": [
    "wavelengths = [i for i in data.columns if \"Wave_\" in i]\n",
    "wavelength_nm = [int(i.split(\"_\")[1]) for i in wavelengths]\n",
    "print(\"Wavelengths\", len(wavelength_nm))\n",
    "spectra = data[wavelengths].to_numpy()\n",
    "print(\"Spectra\", spectra.shape)"
   ]
  },
  {
   "cell_type": "code",
   "execution_count": null,
   "id": "ead68876",
   "metadata": {},
   "outputs": [],
   "source": [
    "# Plot all corrected measured spectra:\n",
    "fig, axi = plt.subplots(constrained_layout=True)\n",
    "cmap = get_cmap(name=\"viridis\")\n",
    "colors = cmap(np.linspace(0, 1, len(spectra)))\n",
    "for i, spec in enumerate(spectra):\n",
    "    axi.plot(wavelength_nm, spec, color=colors[i])\n",
    "axi.set(xlabel=\"Wavelength (nm)\", ylabel=\"Intensity\")\n",
    "sns.despine(fig=fig)"
   ]
  },
  {
   "cell_type": "code",
   "execution_count": null,
   "id": "1da244a2",
   "metadata": {},
   "outputs": [],
   "source": [
    "# Preprocessing:\n",
    "def msc_correct(spectra, mean_spectrum=None):\n",
    "    \"\"\"Multiplicative scatter correction for measured spectra\"\"\"\n",
    "    if mean_spectrum is None:\n",
    "        mean_spectrum = np.mean(spectra, axis=0)\n",
    "    msc = []\n",
    "    for i, spectrum in enumerate(spectra):\n",
    "        # Find a and b parameters:\n",
    "        param = np.polyfit(mean_spectrum, spectrum, 1)\n",
    "        corrected = (spectrum - param[1]) / param[0]\n",
    "        msc.append(corrected)\n",
    "    msc = np.array(msc)\n",
    "    return mean_spectrum, msc\n",
    "\n",
    "\n",
    "mean_spectrum, msc = msc_correct(spectra)"
   ]
  },
  {
   "cell_type": "code",
   "execution_count": null,
   "id": "005e5fe0",
   "metadata": {},
   "outputs": [],
   "source": [
    "# Plot all corrected measured spectra:\n",
    "fig, axi = plt.subplots(constrained_layout=True)\n",
    "cmap = get_cmap(name=\"viridis\")\n",
    "colors = cmap(np.linspace(0, 1, len(msc)))\n",
    "for i, spec in enumerate(msc):\n",
    "    axi.plot(wavelength_nm, spec, color=colors[i])\n",
    "axi.set(xlabel=\"Wavelength (nm)\", ylabel=\"Intensity\")\n",
    "sns.despine(fig=fig)"
   ]
  },
  {
   "cell_type": "code",
   "execution_count": null,
   "id": "0d1ffeac",
   "metadata": {},
   "outputs": [],
   "source": [
    "# Define X and y: We are going to predict y from X:\n",
    "y = data[\"NitrogenWeight\"].to_numpy()\n",
    "X = msc"
   ]
  },
  {
   "cell_type": "code",
   "execution_count": null,
   "id": "5558d34a",
   "metadata": {},
   "outputs": [],
   "source": [
    "# Set up for making the model by creating a training set and test set:\n",
    "X_train, X_test, y_train, y_test = train_test_split(\n",
    "    X,\n",
    "    y,\n",
    "    test_size=0.33,\n",
    "    shuffle=True,\n",
    "    random_state=4,\n",
    ")"
   ]
  },
  {
   "cell_type": "code",
   "execution_count": null,
   "id": "e11caa62",
   "metadata": {},
   "outputs": [],
   "source": [
    "def make_model(model, X_train, y_train, X_test, y_test):\n",
    "    \"\"\"Train a linear model\"\"\"\n",
    "    results = {}\n",
    "    # Fit model:\n",
    "    model.fit(X_train, y_train)\n",
    "    # Use model to predict:\n",
    "    # Predict using the training set:\n",
    "    y_hat_train = model.predict(X_train)\n",
    "    # Predict using the test set:\n",
    "    y_hat_test = model.predict(X_test)\n",
    "\n",
    "    results[\"y_hat_train\"] = np.copy(y_hat_train).flatten()\n",
    "    results[\"y_hat_test\"] = np.copy(y_hat_test).flatten()\n",
    "\n",
    "    # For training set: calculate R^2 and RMSEC:\n",
    "    r2_train = r2_score(y_train, y_hat_train)\n",
    "    print(f\"R² (training): {r2_train}\")\n",
    "    results[\"r2_train\"] = r2_train\n",
    "\n",
    "    # For test set: calculate R^2 and RMSEP:\n",
    "    r2_test = r2_score(y_test, y_hat_test)\n",
    "    print(f\"\\nR² (test): {r2_test}\")\n",
    "    results[\"r2_test\"] = r2_test\n",
    "    return results"
   ]
  },
  {
   "cell_type": "code",
   "execution_count": null,
   "id": "b079300b",
   "metadata": {},
   "outputs": [],
   "source": [
    "linear = LinearRegression(fit_intercept=False)\n",
    "results_linear = make_model(linear, X_train, y_train, X_test, y_test)\n",
    "results_linear[\"name\"] = \"Least squares\""
   ]
  },
  {
   "cell_type": "code",
   "execution_count": null,
   "id": "f6519cf9",
   "metadata": {},
   "outputs": [],
   "source": [
    "pls_model = PLSRegression(n_components=6, scale=True)\n",
    "results_pls = make_model(pls_model, X_train, y_train, X_test, y_test)\n",
    "results_pls[\"name\"] = \"PLS\""
   ]
  },
  {
   "cell_type": "code",
   "execution_count": null,
   "id": "34878888",
   "metadata": {},
   "outputs": [],
   "source": [
    "# To visualize the performance of the models, plot what they predict and compare\n",
    "# that with the true values:\n",
    "fig, (ax1, ax2) = plt.subplots(\n",
    "    constrained_layout=True, ncols=2, sharex=True, sharey=True\n",
    ")\n",
    "ax1.set_title(\"Train\", loc=\"left\")\n",
    "ax2.set_title(\"Test\", loc=\"left\")\n",
    "\n",
    "ax1.scatter(\n",
    "    y_train,\n",
    "    results_linear[\"y_hat_train\"],\n",
    "    label=f'Least squares\\n(r² = {results_linear[\"r2_train\"]:.2f})',\n",
    ")\n",
    "ax1.scatter(\n",
    "    y_train,\n",
    "    results_pls[\"y_hat_train\"],\n",
    "    label=f'PLS (r² = {results_pls[\"r2_train\"]:.2f})',\n",
    ")\n",
    "\n",
    "ax2.scatter(\n",
    "    y_test,\n",
    "    results_linear[\"y_hat_test\"],\n",
    "    label=f'Least squares\\n(r² = {results_linear[\"r2_test\"]:.2f})',\n",
    ")\n",
    "ax2.scatter(\n",
    "    y_test,\n",
    "    results_pls[\"y_hat_test\"],\n",
    "    label=f'PLS (r² = {results_pls[\"r2_test\"]:.2f})',\n",
    ")\n",
    "\n",
    "for axi in (ax1, ax2):\n",
    "    axi.set(xlabel=\"Measured mass-% (y)\", ylabel=\"Predicted mass-% (ŷ)\")\n",
    "    axi.set_aspect(\"equal\")\n",
    "    # Add extra x=y to help reading:\n",
    "    lim_min = np.min([axi.get_xlim(), axi.get_ylim()])\n",
    "    lim_max = np.max([axi.get_xlim(), axi.get_ylim()])\n",
    "    (line,) = axi.plot(\n",
    "        [lim_min, lim_max], [lim_min, lim_max], ls=\":\", color=\"k\"\n",
    "    )\n",
    "    axi.set_xlim(lim_min, lim_max)\n",
    "    axi.set_ylim(lim_min, lim_max)\n",
    "    axi.legend(labelspacing=1.0)\n",
    "sns.despine(fig=fig)"
   ]
  }
 ],
 "metadata": {
  "kernelspec": {
   "display_name": "Python 3 (ipykernel)",
   "language": "python",
   "name": "python3"
  },
  "language_info": {
   "codemirror_mode": {
    "name": "ipython",
    "version": 3
   },
   "file_extension": ".py",
   "mimetype": "text/x-python",
   "name": "python",
   "nbconvert_exporter": "python",
   "pygments_lexer": "ipython3",
   "version": "3.9.13"
  }
 },
 "nbformat": 4,
 "nbformat_minor": 5
}
