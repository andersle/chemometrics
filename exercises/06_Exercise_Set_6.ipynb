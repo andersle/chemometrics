{
 "cells": [
  {
   "cell_type": "markdown",
   "metadata": {},
   "source": [
    "**Exercise set 6**\n",
    "==============\n",
    "\n",
    "\n",
    ">In connection with experimental design, we have seen two approaches\n",
    ">for checking if determined effects are important or not. These two\n",
    ">approaches are based on creating a probability plot and performing ANOVA.\n",
    ">The goal of this exercise is to learn how we use these two approaches in\n",
    ">practice.\n",
    "\n",
    "\n",
    "**Exercise 6.1**\n",
    "\n",
    "In this part of the exercise, we will deal with the technical aspects of\n",
    "creating a normal probability plot. Our final aim is here\n",
    "to check if the data for some measured quantities (given in\n",
    "the data files:\n",
    "[data1.txt](Data/data1.txt) (located at `Data/data1.txt`),\n",
    "[data2.txt](Data/data2.txt) (located at `Data/data2.txt`),\n",
    "[data3.txt](Data/data3.txt) (located at `Data/data3.txt`), and\n",
    "[data4.txt](Data/data4.txt) (located at `Data/data4.txt`))\n",
    "comes\n",
    "from a normal distribution.\n",
    "\n",
    "\n",
    "**(a)**  Before we begin creating normal probability plots, we should\n",
    "inspect the raw data. Plot histograms for the raw data. Based\n",
    "on this, would you say that any of the data files contain numbers\n",
    "that might come from a normal distribution?\n",
    "You can also, for each data set, try to compare directly with\n",
    "a normal distribution. For each data set, you can obtain\n",
    "the mean and standard deviation, and you can plot\n",
    "a normal distribution with these values in the same figure\n",
    "where you have the histograms."
   ]
  },
  {
   "cell_type": "code",
   "execution_count": null,
   "metadata": {},
   "outputs": [],
   "source": [
    "# Your code here"
   ]
  },
  {
   "cell_type": "markdown",
   "metadata": {},
   "source": [
    "**Your answer to question 6.1(a):** *Double click here*"
   ]
  },
  {
   "cell_type": "markdown",
   "metadata": {},
   "source": [
    "**(b)**  For creating the normal probability plot, we need to be able\n",
    "to obtain certain parameters for the standard normal distribution.\n",
    "Here, we will investigate some of the functions that can give us\n",
    "such parameters.\n",
    "\n",
    "The standard normal probability density function ($\\operatorname{PDF}$) is given by,\n",
    "\n",
    "$\\operatorname{PDF}(x) = \\frac{1}{\\sqrt{2 \\pi}} \\operatorname{e}^{-\\tfrac{x^2}{2}},$\n",
    "\n",
    "and the cumulative distribution function (CDF) is,\n",
    "\n",
    "$\n",
    "\\operatorname{CDF}(x) = \\int_{-\\infty}^{x} \\operatorname{PDF} (t)\\,\\operatorname{d}t = \n",
    "\\frac{1}{2} \\left[ 1 + \\operatorname{erf} \\left( \\frac{x}{\\sqrt{2}} \\right) \\right],\n",
    "$\n",
    "\n",
    "where $\\operatorname{erf}(\\ldots)$ is the error function.\n",
    "The cumulative distribution function gives the probability of observing a\n",
    "value less than or equal to $x$: $P(X \\leq x) = \\operatorname{CDF}(x)$.\n",
    "\n",
    "We can also turn this equation around: Given a probability $P$ what is\n",
    "the value of $x$ that gives this probability? To answer this question,\n",
    "we need the quantile function (also known as the percent-point function),\n",
    "which is the inverse of the cumulative distribution function.\n",
    "For the standard normal distribution, the percent-point\n",
    "function ($\\operatorname{PPF}$),\n",
    "is given by,\n",
    "\n",
    "$\n",
    "\\operatorname{PPF}(P) = \\sqrt{2} \\operatorname{erf}^{-1}(2P - 1).\n",
    "$\n",
    "\n",
    "If we make use of the `scipy` package, all these functions\n",
    "are available to us:\n",
    "```python\n",
    "from scipy.stats import norm\n",
    "import numpy as np\n",
    "\n",
    "x = np.linspace(-2, 2, 100)\n",
    "pdf = norm.pdf(x)  # Probability density function.\n",
    "cdf = norm.cdf(x)  # Cumulative probability density function.\n",
    "ppf = norm.ppf(x)  # Quantile function/percent-point function.\n",
    "```\n",
    "\n",
    "\n",
    "Use these methods to answer the following questions for the standard normal distribution:\n",
    "\n",
    "* (i)  What is the probability of observing a $x \\leq 1$?\n",
    "\n",
    "* (ii)  What is the probability of observing a $x \\leq 0$?\n",
    "\n",
    "* (iii)  What is the probability of observing a $x \\leq -2$?\n",
    "\n",
    "* (iv)  Given that the probability of observing $x \\leq \\alpha$ is\n",
    "$10$\\%, what is $\\alpha$?\n",
    "\n",
    "* (v)  Given that the probability of observing $x \\leq \\alpha$ is\n",
    "$90$\\%, what is $\\alpha$?\n",
    "\n",
    "* (vi)  Given that the probability of observing $x \\leq \\alpha$ is\n",
    "$99$\\%, what is $\\alpha$?\n",
    "\n",
    "\n",
    "\n",
    "\n"
   ]
  },
  {
   "cell_type": "code",
   "execution_count": null,
   "metadata": {},
   "outputs": [],
   "source": [
    "# Your code here"
   ]
  },
  {
   "cell_type": "markdown",
   "metadata": {},
   "source": [
    "**Your answer to question 6.1(b):** *Double click here*"
   ]
  },
  {
   "cell_type": "markdown",
   "metadata": {},
   "source": [
    "**(c)**  To construct the normal probability plot, we will make use of\n",
    "the $\\operatorname{PPF}$.\n",
    "If the data we are to investigate contain $n$ points, then\n",
    "we need to figure out how these $n$ points would be placed\n",
    "in the distribution we are going to compare with (here: the standard normal distribution).\n",
    "In the following, we will call the $n$ points we have measured\n",
    "for $y_1$, $y_2$, $\\ldots$, $y_n$, and we assume that we have\n",
    "sorted them so that $y_1 \\leq y_2 \\leq \\ldots \\leq y_n$.\n",
    "\n",
    "We now need to check\n",
    "how $n$ points drawn from a normal distribution would\n",
    "be distributed, and compare this with how our measured data is distributed.\n",
    "One way of doing that is to find the most probable location ($x_1$) of the\n",
    "smallest value, the most probable location ($x_2$) of the second smallest\n",
    "value, and so on, up to the most probable location ($x_n$) for the\n",
    "largest value. There is no simple formula for finding $x_i$ and we have\n",
    "to rely on a result from statistics:  These locations, the so-called\n",
    "order statistic medians, for the normal distribution are exactly\n",
    "related to order statistic medians from a *uniform distribution*, $m_i$, by,\n",
    "\n",
    "\\begin{equation}\n",
    "x_i = \\operatorname{PPF}(m_i) .\n",
    "\\label{eq:orderstat}\n",
    "\\tag{1}\n",
    "\\end{equation}\n",
    "\n",
    "Thus we can potentially find $x_i$ by first obtaining the corresponding\n",
    "$m_i$. Unfortunately, no analytical expression for $m_i$ exist and\n",
    "we have to rely on approximate estimates. One such approximation\n",
    "was\n",
    "suggested by [Filliben](https://doi.org/10.1080/00401706.1975.10489279),\n",
    "\n",
    "\\begin{equation}\n",
    "m_i = \n",
    "\\begin{cases}\n",
    "1 - 0.5^{1/n} & \\text{if } i = 1, \\\\\n",
    "\\frac{i - 0.3175}{n + 0.365} & \\text{if } i = 2, 3, \\ldots, n-1, \\\\\n",
    "0.5^{1/n} & \\text{if } i=n,\n",
    "\\end{cases}\n",
    "\\label{eq:uniformorderstat}\n",
    "\\tag{2}\n",
    "\\end{equation}\n",
    "\n",
    "Thus, in summary, to create the normal probability plot we do the following:\n",
    "\n",
    "* (i)  We sort our original data ($y_1$, $y_2$, $\\ldots$, $y_n$).\n",
    "\n",
    "* (ii)  For each sorted data point, we calculate its\n",
    "uniform order statistic median, $m_i$,\n",
    "using Eq. \\eqref{eq:uniformorderstat}.\n",
    "\n",
    "* (iii)  For each sorted data point, we calculate its most\n",
    "probable location, $x_i$, in a normal distribution using\n",
    "Eq. \\eqref{eq:orderstat} and\n",
    "the $m_i$ value we found in the previous step. \n",
    "\n",
    "* (iv)  We plot the sorted data against the most probable locations\n",
    "found in the previous step. That is, we plot the pairs ($x_i$, $y_i$),\n",
    "and if the data is from a normal distribution, we expect that these\n",
    "points fall on a straight line.\n",
    "\n",
    "\n",
    "\n",
    "Create the normal probability plots for the four data sets given\n",
    "in [data1.txt](Data/data1.txt) (located at `Data/data1.txt`),\n",
    "[data2.txt](Data/data2.txt) (located at `Data/data2.txt`),\n",
    "[data3.txt](Data/data3.txt) (located at `Data/data3.txt`), and\n",
    "[data4.txt](Data/data4.txt) (located at `Data/data4.txt`). Which\n",
    "of these would you say are numbers that could originate from a\n",
    "normal distribution?"
   ]
  },
  {
   "cell_type": "code",
   "execution_count": null,
   "metadata": {},
   "outputs": [],
   "source": [
    "# Your code here"
   ]
  },
  {
   "cell_type": "markdown",
   "metadata": {},
   "source": [
    "**Your answer to question 6.1(c):** *Double click here*"
   ]
  },
  {
   "cell_type": "markdown",
   "metadata": {},
   "source": [
    "**(d)**  The method we have described above works for any distribution,\n",
    "not just the normal distribution. We can create similar plots\n",
    "for other distributions by changing the $\\operatorname{PPF}$ function\n",
    "in Eq. [(1)](#mjx-eqn-eq:orderstat)\n",
    "to the corresponding function for the distribution we wish to check for.\n",
    "Repeat the previous step, but use the `Gumbel distribution`\n",
    "(in `scipy` this is available by\n",
    "`from scipy.stats import gumbel_r`) in place of the\n",
    "normal distribution. Based on the plots you now create, would you say\n",
    "that any of the data sets may contain numbers from a Gumbel distribution?"
   ]
  },
  {
   "cell_type": "code",
   "execution_count": null,
   "metadata": {},
   "outputs": [],
   "source": [
    "# Your code here"
   ]
  },
  {
   "cell_type": "markdown",
   "metadata": {},
   "source": [
    "**Your answer to question 6.1(d):** *Double click here*"
   ]
  },
  {
   "cell_type": "markdown",
   "metadata": {},
   "source": [
    "**Exercise 6.2**\n",
    "\n",
    "After running a set of experiments, you determine the effects\n",
    "given in Table 1 for $4$ factors: A, B, C, and D.\n",
    "Use a normal probability plot to identify the important effects among\n",
    "the ones listed in this table. (Note: These numbers were also used in lecture $6$.)\n",
    "\n",
    "|**Factor** | **Effect** |\n",
    "|:---------:|:----------:|\n",
    "|A          |  -8.00     |\n",
    "|B          |  24.00     |\n",
    "|C          |  -2.25     |\n",
    "|D          |  -5.50     |\n",
    "|AB         |   1.00     |\n",
    "|AC         |   0.75     |\n",
    "|AD         |   0.00     |\n",
    "|BC         |  -1.25     |\n",
    "|BD         |   4.50     |\n",
    "|CD         |  -0.25     |\n",
    "|ABC        |  -0.75     |\n",
    "|ABD        |   0.50     |\n",
    "|ACD        |  -0.25     |\n",
    "|BCD        |  -0.75     |\n",
    "|ABCD       |  -0.25     |\n",
    "\n",
    "| |\n",
    "|---|\n",
    "|**Table 1:** *Effects determined in a set of experiments.*|"
   ]
  },
  {
   "cell_type": "code",
   "execution_count": null,
   "metadata": {},
   "outputs": [],
   "source": [
    "# Your code here"
   ]
  },
  {
   "cell_type": "markdown",
   "metadata": {},
   "source": [
    "**Your answer to question 6.2:** *Double click here*"
   ]
  },
  {
   "cell_type": "markdown",
   "metadata": {},
   "source": [
    "**Exercise 6.3**\n",
    "\n",
    "From a $2^2$ factorial experiment replicated three times you have obtained\n",
    "the data given in Table 3. We use here a short-hand notation\n",
    "for the $4$ possible combinations of the variables: $(1)$, $a$, $b$, and $ab$.\n",
    "In this notation $(1)$ is the experiment where all factors were at their low levels. For the\n",
    "other cases, the absence of a letter means that the corresponding factor was at a low level, and\n",
    "the presence of a letter means that the corresponding factor was at a high level (e.g. \"$a$\" is the\n",
    "same as saying that factor A was at the high level and B at the low level). \n",
    "\n",
    "\n",
    "|**Experiment** | **Replicate 1** | **Replicate 2** | **Replicate 2** |\n",
    "|:---:|:---:|:---:|:---:|\n",
    "|$(1)$ | $9$  | $10$ | $11$ |\n",
    "|$a$   | $30$ | $31$ | $29$ |\n",
    "|$b$   | $19$ | $20$ | $21$ |\n",
    "|$ab$  | $5$  | $6$  | $4$  |\n",
    "\n",
    "| |\n",
    "|---|\n",
    "|**Table 2:** *Results from a $2^2$ factorial experiment, repeated $3$ times.*|\n",
    "\n",
    "**(a)**  Calculate the effects (A, B, and AB)."
   ]
  },
  {
   "cell_type": "code",
   "execution_count": null,
   "metadata": {},
   "outputs": [],
   "source": [
    "# Your code here"
   ]
  },
  {
   "cell_type": "markdown",
   "metadata": {},
   "source": [
    "**Your answer to question 6.3(a):** *Double click here*"
   ]
  },
  {
   "cell_type": "markdown",
   "metadata": {},
   "source": [
    "**(b)**  Use ANOVA to investigate which effects are important in this case.\n",
    "Use a significance level of $\\alpha = 0.01$. For\n",
    "a significance level of $\\alpha = 0.01$, the relevant critical\n",
    "$f$-value is $f_{\\alpha=0.01}(1, 8) = 11.259$ with $1$ and $8$ degrees\n",
    "of freedom. (Note: These numbers in Table 2\n",
    "are the same as for the example on\n",
    "page $96$ in the textbook.)"
   ]
  },
  {
   "cell_type": "code",
   "execution_count": null,
   "metadata": {},
   "outputs": [],
   "source": [
    "# Your code here"
   ]
  },
  {
   "cell_type": "markdown",
   "metadata": {},
   "source": [
    "**Your answer to question 6.3(b):** *Double click here*"
   ]
  },
  {
   "cell_type": "markdown",
   "metadata": {},
   "source": [
    "\n",
    "\n",
    "\n"
   ]
  }
 ],
 "metadata": {
  "kernelspec": {
   "display_name": "Python 3",
   "language": "python",
   "name": "python3"
  },
  "language_info": {
   "codemirror_mode": {
    "name": "ipython",
    "version": 3
   },
   "file_extension": ".py",
   "mimetype": "text/x-python",
   "name": "python",
   "nbconvert_exporter": "python",
   "pygments_lexer": "ipython3",
   "version": "3.9.1"
  }
 },
 "nbformat": 4,
 "nbformat_minor": 2
}
