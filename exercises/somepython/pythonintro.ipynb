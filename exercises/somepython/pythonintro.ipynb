{
 "cells": [
  {
   "cell_type": "markdown",
   "id": "9107b2bc",
   "metadata": {},
   "source": [
    "# Some short Python exercises"
   ]
  },
  {
   "cell_type": "markdown",
   "id": "c54def27",
   "metadata": {},
   "source": [
    "## Part 1: Basics"
   ]
  },
  {
   "cell_type": "code",
   "execution_count": null,
   "id": "2c66d838",
   "metadata": {},
   "outputs": [],
   "source": [
    "# 1. Write a code that prints \"Hello world\":"
   ]
  },
  {
   "cell_type": "code",
   "execution_count": null,
   "id": "a72ae8b4",
   "metadata": {},
   "outputs": [],
   "source": [
    "# 2. Write a code that prints out \"Hello world\" 10 times using a for loop:"
   ]
  },
  {
   "cell_type": "code",
   "execution_count": null,
   "id": "1cd4318d",
   "metadata": {},
   "outputs": [],
   "source": [
    "# 3. Write a code that prints out \"Hello world\" 10 times using a for loop plus the iteration number.\n",
    "# That is, your code should print out:\n",
    "# \"Hello world! 0\"\n",
    "# \"Hello world! 1\"\n",
    "# \"Hello world! 2\"\n",
    "# and so on ...:"
   ]
  },
  {
   "cell_type": "code",
   "execution_count": null,
   "id": "a6366d91",
   "metadata": {},
   "outputs": [],
   "source": [
    "# 3.1 Make a list containing the numbers 1, 6, and 5:\n",
    "\n",
    "# 3.2 Append the number 2 to this list:\n",
    "\n",
    "# 3.3 Print out the length of the list (Hint: make use of the len() method):\n",
    "\n",
    "# 3.3 Sort the list (from small to large):"
   ]
  },
  {
   "cell_type": "code",
   "execution_count": null,
   "id": "b88e08dc",
   "metadata": {},
   "outputs": [],
   "source": [
    "# 4. Consider the following list:\n",
    "\n",
    "lst = [1, 1, 1, 3, 2, 1, 3, 3, 3, 2, 2, 2, 4]\n",
    "\n",
    "# 4.1 Access the first item in the list, print it, and change it to 14:\n",
    "\n",
    "# 4.2 Create a new list, containing just the 4 first elements from \"lst\":\n",
    "\n",
    "# 4.3 Create a new list containing the 4 last elements from \"lst\":\n",
    "\n",
    "# 4.4 Create a new list containing every second element from \"lst\":\n",
    "\n",
    "# 4.5 Create a new list containing the elements from \"lst\", but in reversed order:"
   ]
  },
  {
   "cell_type": "code",
   "execution_count": null,
   "id": "2e195d9d",
   "metadata": {},
   "outputs": [],
   "source": [
    "# 5. Make a list containing the numbers from 11 to (and including) 20 (that is 11, 12, ..., 20) \n",
    "# using a for loop:"
   ]
  },
  {
   "cell_type": "code",
   "execution_count": null,
   "id": "ab1f4d19",
   "metadata": {},
   "outputs": [],
   "source": [
    "# 6. Write a code that determines if a number is greater than 100 using an if statement:"
   ]
  },
  {
   "cell_type": "code",
   "execution_count": null,
   "id": "f261906d",
   "metadata": {},
   "outputs": [],
   "source": [
    "# 7. Write a method that determines if a number is greater than 100 using an if statement.\n",
    "# The method should take in a single number and return the string \"yes\"\n",
    "# if the number is greater than 100 and the string \"no\" otherwise.\n",
    "# Add some documentation that explains briefly what the method does.\n",
    "# Here is an example of what this documentation could look like:\n",
    "\n",
    "def is_even(x):\n",
    "    \"\"\"Determine if x is an even number.\"\"\"\n",
    "    return x % 2"
   ]
  },
  {
   "cell_type": "code",
   "execution_count": null,
   "id": "f3f9f87d",
   "metadata": {},
   "outputs": [],
   "source": [
    "# 8. Apply the method you just created to the numbers in the following list:\n",
    "\n",
    "lst = [1, 10, 99, 100, 101, 1000]\n",
    "\n",
    "# and store the results (\"yes\"/\"no\") in a new list. Count the number of \"yes\" items and \"no\" items in this list:"
   ]
  },
  {
   "cell_type": "code",
   "execution_count": null,
   "id": "f4e30d9d",
   "metadata": {},
   "outputs": [],
   "source": [
    "# 9. Consider the following list:\n",
    "\n",
    "lst = [1, 1, 1, 3, 2, 1, 3, 3, 3, 2, 2, 2, 4]\n",
    "\n",
    "# How many unique elements are there in this list - and what are they?\n",
    "# (Hint: consider converting the list to a Python set)"
   ]
  },
  {
   "cell_type": "code",
   "execution_count": null,
   "id": "9f0280d5",
   "metadata": {},
   "outputs": [],
   "source": [
    "# 10. Consider the following dictionary with names of some animals:\n",
    "\n",
    "my_dict = {\n",
    "    'cat': ['Luna', 'Simba', 'Prince Tigerius Mahmoud Shabazz'],\n",
    "    'dog': ['Rex', 'Rudy', 'Milo', 'Lassie']\n",
    "}\n",
    "\n",
    "# 10.1 Loop over this dictionary and print out the type of animal and the corresponding names:\n",
    "\n",
    "# 10.2 Add some names for otters:\n",
    "\n",
    "# 10.3 Add a cat name and a dog name, and print out the number of names stored in the dictionary for\n",
    "# each animal:"
   ]
  },
  {
   "cell_type": "code",
   "execution_count": null,
   "id": "27cb3c65",
   "metadata": {},
   "outputs": [],
   "source": [
    "# 11. Consider the following dictionary:\n",
    "\n",
    "yes_no = {'yes': [], 'no': []}\n",
    "\n",
    "# Use your method for determining if a number is greater than 100 on the items in the\n",
    "# following list:\n",
    "\n",
    "lst = [1, 10, 99, 100, 101, 1000]\n",
    "\n",
    "# and:\n",
    "# - add the \"yes\" numbers to the \"yes\" list in the dictionary,\n",
    "# - add the \"no\" numbers to the \"no\" list in the dictionary:"
   ]
  },
  {
   "cell_type": "markdown",
   "id": "487883fe",
   "metadata": {},
   "source": [
    "## Part 2: Text and some math"
   ]
  },
  {
   "cell_type": "code",
   "execution_count": null,
   "id": "079135ec",
   "metadata": {},
   "outputs": [],
   "source": [
    "# 1. We have the following variable:\n",
    "\n",
    "text = 'everyone'\n",
    "\n",
    "# and the following print statement:\n",
    "\n",
    "print('Good news, !')\n",
    "\n",
    "# Modify this print statement (using a Python f-string) so that it prints out\n",
    "# Good news, everyone!\n",
    "# that is, modify it so that it inserts the value in the variable \"text\" after the \",\"."
   ]
  },
  {
   "cell_type": "code",
   "execution_count": null,
   "id": "2f28e556",
   "metadata": {},
   "outputs": [],
   "source": [
    "# 2. We are printing out the result of a calculation:\n",
    "\n",
    "result = 1.2288767781234\n",
    "\n",
    "print(f'The number is {result}')\n",
    "\n",
    "# modify the print statement above so that we print out just two digits after the decimal sign."
   ]
  },
  {
   "cell_type": "code",
   "execution_count": null,
   "id": "5379e71c",
   "metadata": {},
   "outputs": [],
   "source": [
    "# 3. Consider the following string:\n",
    "\n",
    "text = 'The value you are looking for is: 1234.567 millidooms'\n",
    "\n",
    "# extract the number 1234.567 from this string using the \"split()\" method of strings"
   ]
  },
  {
   "cell_type": "code",
   "execution_count": null,
   "id": "f240f9eb",
   "metadata": {},
   "outputs": [],
   "source": [
    "# 4. Consider the following string:\n",
    "\n",
    "text = 'NIR.920 nm'\n",
    "\n",
    "# This string contains a wavelength (920) in units of nanometers (nm).\n",
    "# Extract the number 920 from this string, convert it to a number,\n",
    "# and store it in a new variable:"
   ]
  },
  {
   "cell_type": "code",
   "execution_count": null,
   "id": "5744e2a8",
   "metadata": {},
   "outputs": [],
   "source": [
    "# 5. Consider the following list of strings that contains wavelengths (similar to the string above):\n",
    "\n",
    "lst = ['NIR.900 nm', 'NIR.902 nm', 'NIR.905 nm', 'NIR.920 nm']\n",
    "\n",
    "# Extract the wavelengths (900, 902, 905, 920) from this list and store them in a\n",
    "# new list (containing just the numbers)."
   ]
  },
  {
   "cell_type": "code",
   "execution_count": null,
   "id": "973926d3",
   "metadata": {},
   "outputs": [],
   "source": [
    "# 5. Consider the following list of numbers:\n",
    "\n",
    "x = [1, 2, 4, 16]\n",
    "\n",
    "# 5.1. Calculate the exponential of these numbers (exp(x)) and store that in a new variable y.\n",
    "\n",
    "# 5.2. Calculate the natural logarithm of the values in y.\n",
    "\n",
    "# Hint: This can be solved by importing relevant functions from the math library or the numpy library."
   ]
  },
  {
   "cell_type": "code",
   "execution_count": null,
   "id": "cc1d289f",
   "metadata": {},
   "outputs": [],
   "source": [
    "# 6. Consider these two snippets of code:\n",
    "\n",
    "# Code 1:\n",
    "x = []\n",
    "for i in range(1, 8):\n",
    "    if i % 2 == 0:\n",
    "        x.append(f'{i}: even')\n",
    "    else:\n",
    "        x.append(f'{i}: odd')\n",
    "\n",
    "# Code 2:\n",
    "x = [f'{i}: even' if i % 2 == 0 else f'{i}: odd' for i in range(1, 8)]\n",
    "\n",
    "# 6.1. Is the result of Code 1 and Code 2 different?\n",
    "\n",
    "# 6.2. The syntax we use for creating the list in Code 2 is given a special name in Python. What do we call this?"
   ]
  },
  {
   "cell_type": "code",
   "execution_count": null,
   "id": "5cc0cc72",
   "metadata": {},
   "outputs": [],
   "source": [
    "# 7. Consider the following list:\n",
    "\n",
    "lst = [1, 2, 3, 4, 5, 6]\n",
    "\n",
    "# 7.1. Create a new list that contains the squared of each number in \"lst\":\n",
    "\n",
    "# 7.2. Create a new list that contains the numbers in \"lst\" (each one) divided by 3: "
   ]
  },
  {
   "cell_type": "markdown",
   "id": "45d6f988",
   "metadata": {},
   "source": [
    "## Part 3: NumPy basics"
   ]
  },
  {
   "cell_type": "code",
   "execution_count": null,
   "id": "ea96481b",
   "metadata": {},
   "outputs": [],
   "source": [
    "# 1. Consider the following array of numbers:\n",
    "import numpy as np\n",
    "number = np.array([1, 5, 6, 2, 2, 2, 6, 9, 101, 55, -1])\n",
    "\n",
    "# 1.1 Find the minimum and maximum numbers in this array:\n",
    "\n",
    "# 1.2 Find the mean of all the numbers in this array:\n",
    "\n",
    "# 1.3 Find the standard deviation of the numbers in this array:\n",
    "\n",
    "# Hint: You can solve all these by using methods of the \"number\" array, or methods from numpy."
   ]
  },
  {
   "cell_type": "code",
   "execution_count": null,
   "id": "7fc0bbf8",
   "metadata": {},
   "outputs": [],
   "source": [
    "# 2. For the dissolution of a weak acid in water, we have the following equilibrium\n",
    "# constant:\n",
    "#\n",
    "# Ka = [H+] * [A-] / [HA] = 1e-5\n",
    "#\n",
    "# Assuming that the initial concentration of [HA] is 0.1 we can turn this into the\n",
    "# following equation for the equilibrium concentrations:\n",
    "#\n",
    "# Ka = 1e-5 = x*x / (0.1 - x)\n",
    "#\n",
    "# Solve this equation for the unknown x which is the concentration of H+ ([H+]) and calculate\n",
    "# the pH at equilibrium (pH = -log [H+]):\n",
    "#\n",
    "# Some hints:\n",
    "#\n",
    "# a) The log can be taken using the function log 10 from numpy:\n",
    "import numpy as np\n",
    "print('log10 of 100', np.log10(100))\n",
    "#\n",
    "# b) You can find roots of a polynomial using the numpy methood \"roots\" or the\n",
    "# more general \"fsolve\" method from scipy\n",
    "# Example with roots: Let us say we are looking for the roots of -3 * x² + 2x + 1 = 0\n",
    "# then we can find the roots by giving the roots method the coefficients of the polynomial:\n",
    "p = [-3, 2, 1]\n",
    "print('Roots of -3*x² + 2x + 1 = 0:', np.roots(p))"
   ]
  },
  {
   "cell_type": "code",
   "execution_count": null,
   "id": "e9d06006",
   "metadata": {},
   "outputs": [],
   "source": [
    "# 2. Consider the following array of numbers:\n",
    "import numpy as np\n",
    "number = np.array([1, 5, 6, 2, 2, 2, 6, 9, 101, 55, -1])\n",
    "\n",
    "# Make a new list with the numbers from this array that are greater than 5. Do this without using a for loop.\n",
    "# Hint: https://python-course.eu/numerical-programming/numpy-boolean-indexing.php"
   ]
  },
  {
   "cell_type": "code",
   "execution_count": null,
   "id": "2c6f2298",
   "metadata": {},
   "outputs": [],
   "source": [
    "# 3. Create a numpy array containing numbers from 1 to (and including) 10 in steps of 0.5:\n",
    "# Hint use \"arange()\" from numpy"
   ]
  },
  {
   "cell_type": "code",
   "execution_count": null,
   "id": "83bea570",
   "metadata": {},
   "outputs": [],
   "source": [
    "# 4. Create a numpy array containing 100 evenly spaced numbers between 1 and 10 (including 10):\n",
    "# Hint use \"linspace\" from numpy"
   ]
  },
  {
   "cell_type": "code",
   "execution_count": null,
   "id": "0cc67a5c",
   "metadata": {},
   "outputs": [],
   "source": [
    "# 5. Create a numpy array containing 100 evenly spaced numbers between -π and +π and calculate the cosine and sine\n",
    "# of these values:"
   ]
  },
  {
   "cell_type": "code",
   "execution_count": null,
   "id": "70db5f4e",
   "metadata": {},
   "outputs": [],
   "source": [
    "# 6. Plot the cosine and sine you just calculated as a function of the array you created\n",
    "# (the one with 100 evenly spaced numbers between -π and +π):\n",
    "\n",
    "# Hint: Use matplotlib for the plotting:\n",
    "from matplotlib import pyplot as plt"
   ]
  },
  {
   "cell_type": "markdown",
   "id": "019295b1",
   "metadata": {},
   "source": [
    "## Part 4: Loading data and plotting"
   ]
  },
  {
   "cell_type": "code",
   "execution_count": null,
   "id": "a31b5f5e",
   "metadata": {},
   "outputs": [],
   "source": [
    "# 1. The file \"somedata1.txt\" contains some numerical data in two columns.\n",
    "# The first column contains the x-values and the second the y-values.\n",
    "# Read this file and plot the x- and y-values in a scatter plot\n",
    "# Hint: Use np.loadtxt() or pandas.read_csv to read in the file.\n",
    "# Note, if you are using loadtxt, you have to tell it to use \",\" as a delimiter and skip the first row."
   ]
  },
  {
   "cell_type": "markdown",
   "id": "6e619d9d",
   "metadata": {},
   "source": [
    "If you want to have a look at the file, it is here: [somedata1.txt](./somedata1.txt)"
   ]
  },
  {
   "cell_type": "code",
   "execution_count": null,
   "id": "3dc2aa21",
   "metadata": {},
   "outputs": [],
   "source": [
    "# 2. The file \"somedata2.txt\" contains the same data as \"somedata1.txt\", but it is stored differently.\n",
    "# Each line contains a pair of x- and y-values on the form:\n",
    "# x = 55.3846, y = 97.1795\n",
    "# Make a method that reads in this file and extracts the x- and y-values. Plot the x- and y-values\n",
    "# you extracted from \"somedata2.txt\" in a scatter plot:"
   ]
  },
  {
   "cell_type": "markdown",
   "id": "3a5ed9fb",
   "metadata": {},
   "source": [
    "If you want to have a look at the file, it is here: [somedata2.txt](./somedata2.txt)"
   ]
  }
 ],
 "metadata": {
  "kernelspec": {
   "display_name": "Python 3 (ipykernel)",
   "language": "python",
   "name": "python3"
  },
  "language_info": {
   "codemirror_mode": {
    "name": "ipython",
    "version": 3
   },
   "file_extension": ".py",
   "mimetype": "text/x-python",
   "name": "python",
   "nbconvert_exporter": "python",
   "pygments_lexer": "ipython3",
   "version": "3.9.9"
  }
 },
 "nbformat": 4,
 "nbformat_minor": 5
}
