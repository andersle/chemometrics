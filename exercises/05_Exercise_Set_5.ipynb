{
 "cells": [
  {
   "cell_type": "markdown",
   "metadata": {},
   "source": [
    "**Exercise set 5**\n",
    "==============\n",
    "\n",
    "\n",
    ">The goal of this exercise is to perform and analyze experimental\n",
    ">designs. After this exercise you should have gained familiarity\n",
    ">with both full and fractional factorial designs and concepts\n",
    ">such as **effects**, **confounding**, **defining contrast**,\n",
    ">**generators** and **resolution**.\n",
    "\n",
    "\n",
    "**Exercise 5.1**\n",
    "\n",
    "The growth rate of a certain bacterium specie depends\n",
    "on the concentration of nutrients such as phosphate,\n",
    "sucrose, and nitrate. We have conducted a set of\n",
    "experiments where we have investigated how the\n",
    "growth is influenced by the concentration of\n",
    "phosphate ($P$), the concentration of sucrose ($S$) and\n",
    "the concentration of nitrate ($N$). The design\n",
    "matrix and the measured growth rate are given in table 1.\n",
    "\n",
    "\n",
    "|$P$  | $S$ | $N$ | **Growth rate**  |\n",
    "|:---:|:---:|:---:|:---:|\n",
    "|$+$ | $-$ | $-$ | $7$ |\n",
    "|$-$ | $+$ | $-$ | $10$ |\n",
    "|$+$ | $-$ | $+$ | $8$ |\n",
    "|$-$ | $+$ | $+$ | $11$ |\n",
    "|$-$ | $-$ | $-$ | $11$ |\n",
    "|$+$ | $+$ | $+$ | $12$ |\n",
    "|$+$ | $+$ | $-$ | $7$ |\n",
    "|$-$ | $-$ | $+$ | $7$ |\n",
    "\n",
    "| |\n",
    "|:---|\n",
    "|**Table 1:** *Experimental design matrix for the growth rate of the investigated bacteria. The factors are the concentration of phosphate ($P$), the concentration of sucrose ($S$), and the concentration of nitrate ($N$).*|\n",
    "\n",
    "\n",
    "**(a)**  Compute all the main effects.\n",
    "\n"
   ]
  },
  {
   "cell_type": "code",
   "execution_count": null,
   "metadata": {},
   "outputs": [],
   "source": [
    "# Your code here"
   ]
  },
  {
   "cell_type": "markdown",
   "metadata": {},
   "source": [
    "**Your answer to question 5.1(a):** *Double click here*"
   ]
  },
  {
   "cell_type": "markdown",
   "metadata": {},
   "source": [
    "**(b)**  Extend the design matrix with the possible $2$-factor and $3$-factor\n",
    "interaction effects. Compute these interaction effects.\n",
    "\n"
   ]
  },
  {
   "cell_type": "code",
   "execution_count": null,
   "metadata": {},
   "outputs": [],
   "source": [
    "# Your code here"
   ]
  },
  {
   "cell_type": "markdown",
   "metadata": {},
   "source": [
    "**Your answer to question 5.1(b):** *Double click here*"
   ]
  },
  {
   "cell_type": "markdown",
   "metadata": {},
   "source": [
    "**(c)** What factors and interactions seem\n",
    "to increase the growth rate?\n",
    "\n"
   ]
  },
  {
   "cell_type": "code",
   "execution_count": null,
   "metadata": {},
   "outputs": [],
   "source": [
    "# Your code here"
   ]
  },
  {
   "cell_type": "markdown",
   "metadata": {},
   "source": [
    "**Your answer to question 5.1(c):** *Double click here*"
   ]
  },
  {
   "cell_type": "markdown",
   "metadata": {},
   "source": [
    "**(d)**  Make two least-squares models of the data\n",
    "given in table 1:\n",
    "\n",
    "* (i)  Model 1, which only includes the main effects.\n",
    "\n",
    "* (ii)  Model 2, which includes the main effects and\n",
    "the interactions.\n",
    "\n",
    "\n",
    "When making the least-squares models, convert \"$+$\" to $1$ and\n",
    "\"$-$\" to $-1$.\n",
    "\n",
    "Compare the two models with the effects you have calculated, and the\n",
    "conclusions you made in point **(c)**.\n"
   ]
  },
  {
   "cell_type": "code",
   "execution_count": null,
   "metadata": {},
   "outputs": [],
   "source": [
    "# Your code here"
   ]
  },
  {
   "cell_type": "markdown",
   "metadata": {},
   "source": [
    "**Your answer to question 5.1(d):** *Double click here*"
   ]
  },
  {
   "cell_type": "markdown",
   "metadata": {},
   "source": [
    "\n",
    "**Exercise 5.2**\n",
    "\n",
    "You have recently started a new job as the lead\n",
    "experimental chemist in a company that makes chocolate bars.\n",
    "A new, and supposedly tasty, chocolate is being developed, and the\n",
    "main ingredients that you can vary are: \n",
    "\n",
    "\n",
    "*  The amount of cocoa ($A$).\n",
    "\n",
    "*  The number of pecan nuts ($B$).\n",
    "\n",
    "*  The amount of caramel ($C$).\n",
    "\n",
    "*  The amount of milk powder ($D$).\n",
    "\n",
    "*  The amount of sugar ($E$).\n",
    "\n",
    "*  The amount of vanilla ($F$).\n",
    "\n",
    "You are tasked with carrying out a maximum of $16$ experiments (limited due to cost\n",
    "and time constraints) in which the best mixture of the main ingredients ($A$–$F$)\n",
    "is found. (\"Best\" is here determined by a tasting panel made up of $30$ people.)\n",
    "For this task you decide on making a two-level fractional factorial design.\n",
    "\n",
    "\n",
    "**(a)**  How many experiments would you have to carry out\n",
    "if you were to perform a full factorial design?\n",
    "\n"
   ]
  },
  {
   "cell_type": "code",
   "execution_count": null,
   "metadata": {},
   "outputs": [],
   "source": [
    "# Your code here"
   ]
  },
  {
   "cell_type": "markdown",
   "metadata": {},
   "source": [
    "**Your answer to question 5.2(a):** *Double click here*"
   ]
  },
  {
   "cell_type": "markdown",
   "metadata": {},
   "source": [
    "**(b)**  As stated, you can only carry out $16$ experiments. \n",
    "Explain what confounding is and why the set up with\n",
    "$16$ experiments will lead to confounding.\n",
    "\n"
   ]
  },
  {
   "cell_type": "code",
   "execution_count": null,
   "metadata": {},
   "outputs": [],
   "source": [
    "# Your code here"
   ]
  },
  {
   "cell_type": "markdown",
   "metadata": {},
   "source": [
    "**Your answer to question 5.2(b):** *Double click here*"
   ]
  },
  {
   "cell_type": "markdown",
   "metadata": {},
   "source": [
    "**(c)**  After talking with the chocolate design team, you\n",
    "decide on the following generators:\n",
    "\n",
    "*  $E = ABC$.\n",
    "\n",
    "*  $F = BCD$.\n",
    "\n",
    "What is a defining contrast, and what are the\n",
    "defining contrasts in this case?\n",
    "\n"
   ]
  },
  {
   "cell_type": "code",
   "execution_count": null,
   "metadata": {},
   "outputs": [],
   "source": [
    "# Your code here"
   ]
  },
  {
   "cell_type": "markdown",
   "metadata": {},
   "source": [
    "**Your answer to question 5.2(c):** *Double click here*"
   ]
  },
  {
   "cell_type": "markdown",
   "metadata": {},
   "source": [
    "**(d)**  Are any of the main effects confounded with $2$-factor\n",
    "interactions in this case?\n",
    "\n"
   ]
  },
  {
   "cell_type": "code",
   "execution_count": null,
   "metadata": {},
   "outputs": [],
   "source": [
    "# Your code here"
   ]
  },
  {
   "cell_type": "markdown",
   "metadata": {},
   "source": [
    "**Your answer to question 5.2(d):** *Double click here*"
   ]
  },
  {
   "cell_type": "markdown",
   "metadata": {},
   "source": [
    "**(e)**  What is the resolution for this design? Write out\n",
    "the short-hand representation of this design on the\n",
    "form $2^{N-p}_R$, where $N$ is the number of factors,\n",
    "$p$ is the number of generators, and $R$ the resolution.\n",
    "\n"
   ]
  },
  {
   "cell_type": "code",
   "execution_count": null,
   "metadata": {},
   "outputs": [],
   "source": [
    "# Your code here"
   ]
  },
  {
   "cell_type": "markdown",
   "metadata": {},
   "source": [
    "**Your answer to question 5.2(e):** *Double click here*"
   ]
  },
  {
   "cell_type": "markdown",
   "metadata": {},
   "source": [
    "**(f)**  Construct the design matrix for the current design, but show\n",
    "only the columns for the main effects.\n",
    "\n"
   ]
  },
  {
   "cell_type": "code",
   "execution_count": null,
   "metadata": {},
   "outputs": [],
   "source": [
    "# Your code here"
   ]
  },
  {
   "cell_type": "markdown",
   "metadata": {},
   "source": [
    "**Your answer to question 5.2(f):** *Double click here*"
   ]
  },
  {
   "cell_type": "markdown",
   "metadata": {},
   "source": [
    "**(g)**  Another member of your team suggests doing just $8$ experiments\n",
    "as this will cut time and cost.\n",
    "Do you think this is a good idea? Why/why not? What would\n",
    "the design matrix look like in this case?\n"
   ]
  },
  {
   "cell_type": "code",
   "execution_count": null,
   "metadata": {},
   "outputs": [],
   "source": [
    "# Your code here"
   ]
  },
  {
   "cell_type": "markdown",
   "metadata": {},
   "source": [
    "**Your answer to question 5.2(g):** *Double click here*"
   ]
  },
  {
   "cell_type": "markdown",
   "metadata": {},
   "source": [
    "\n"
   ]
  }
 ],
 "metadata": {
  "kernelspec": {
   "display_name": "Python 3",
   "language": "python",
   "name": "python3"
  },
  "language_info": {
   "codemirror_mode": {
    "name": "ipython",
    "version": 3
   },
   "file_extension": ".py",
   "mimetype": "text/x-python",
   "name": "python",
   "nbconvert_exporter": "python",
   "pygments_lexer": "ipython3",
   "version": "3.9.1"
  }
 },
 "nbformat": 4,
 "nbformat_minor": 2
}
