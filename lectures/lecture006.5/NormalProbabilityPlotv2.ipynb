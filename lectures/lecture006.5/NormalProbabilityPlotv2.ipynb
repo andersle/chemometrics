{
 "cells": [
  {
   "cell_type": "markdown",
   "id": "07558a63",
   "metadata": {},
   "source": [
    "# Creating a normal probability plot"
   ]
  },
  {
   "cell_type": "code",
   "execution_count": null,
   "id": "21fab47e",
   "metadata": {},
   "outputs": [],
   "source": [
    "import numpy as np\n",
    "from matplotlib import pyplot as plt\n",
    "import seaborn as sns\n",
    "\n",
    "sns.set_theme(style=\"ticks\", context=\"notebook\", palette=\"muted\")\n",
    "%matplotlib notebook"
   ]
  },
  {
   "cell_type": "code",
   "execution_count": null,
   "id": "25793b68",
   "metadata": {},
   "outputs": [],
   "source": [
    "# To have an example, we generate 100 numbers from a normal distribution:\n",
    "x1 = np.random.normal(size=100)\n",
    "# and 100 numbers from a different distribution (The Cauchy distribution)\n",
    "x2 = np.random.standard_cauchy(size=100)"
   ]
  },
  {
   "cell_type": "code",
   "execution_count": null,
   "id": "49661bb9",
   "metadata": {},
   "outputs": [],
   "source": [
    "# We create two histograms to have a look at the data:\n",
    "fig, (ax1, ax2) = plt.subplots(\n",
    "    constrained_layout=True, ncols=2, figsize=(8, 4)\n",
    ")\n",
    "ax1.hist(x1)\n",
    "ax2.hist(x2)\n",
    "sns.despine(fig=fig)"
   ]
  },
  {
   "cell_type": "markdown",
   "id": "e97f317e",
   "metadata": {},
   "source": [
    "## Normal probability plot with SciPy:"
   ]
  },
  {
   "cell_type": "code",
   "execution_count": null,
   "id": "36e639a6",
   "metadata": {},
   "outputs": [],
   "source": [
    "from scipy.stats import probplot"
   ]
  },
  {
   "cell_type": "code",
   "execution_count": null,
   "id": "d323fe1e",
   "metadata": {},
   "outputs": [],
   "source": [
    "fig, (ax1, ax2) = plt.subplots(\n",
    "    constrained_layout=True, ncols=2, figsize=(8, 4)\n",
    ")\n",
    "res1 = probplot(x1, dist=\"norm\", fit=True, plot=ax1, rvalue=True)\n",
    "res2 = probplot(x2, dist=\"norm\", fit=True, plot=ax2, rvalue=True)\n",
    "sns.despine(fig=fig)"
   ]
  },
  {
   "cell_type": "markdown",
   "id": "2aacd441",
   "metadata": {},
   "source": [
    "## Normal probability plot with statsmodels:"
   ]
  },
  {
   "cell_type": "code",
   "execution_count": null,
   "id": "3755271b",
   "metadata": {},
   "outputs": [],
   "source": [
    "import statsmodels.api as sm"
   ]
  },
  {
   "cell_type": "code",
   "execution_count": null,
   "id": "26cf2d56",
   "metadata": {},
   "outputs": [],
   "source": [
    "plot1 = sm.ProbPlot(x1, fit=False)\n",
    "plot2 = sm.ProbPlot(x2, fit=False)"
   ]
  },
  {
   "cell_type": "code",
   "execution_count": null,
   "id": "291b4a2b",
   "metadata": {},
   "outputs": [],
   "source": [
    "fig, (ax1, ax2) = plt.subplots(\n",
    "    constrained_layout=True, ncols=2, figsize=(8, 4)\n",
    ")\n",
    "fig1 = plot1.qqplot(line=\"45\", ax=ax1)\n",
    "fig2 = plot2.qqplot(line=\"45\", ax=ax2)\n",
    "ax2.set_xlim(-3, 3)\n",
    "sns.despine(fig=fig)"
   ]
  }
 ],
 "metadata": {
  "kernelspec": {
   "display_name": "Python 3 (ipykernel)",
   "language": "python",
   "name": "python3"
  },
  "language_info": {
   "codemirror_mode": {
    "name": "ipython",
    "version": 3
   },
   "file_extension": ".py",
   "mimetype": "text/x-python",
   "name": "python",
   "nbconvert_exporter": "python",
   "pygments_lexer": "ipython3",
   "version": "3.11.7"
  }
 },
 "nbformat": 4,
 "nbformat_minor": 5
}
