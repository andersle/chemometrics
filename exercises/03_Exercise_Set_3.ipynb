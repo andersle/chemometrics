{
 "cells": [
  {
   "cell_type": "markdown",
   "metadata": {},
   "source": [
    "# Exercise set 3\n",
    "\n",
    ">The goal of this exercise is to perform least squares regression and calculate some metrics for evaluating the regression ($R^2$ and residuals). We will also deal with a categorical variable."
   ]
  },
  {
   "cell_type": "markdown",
   "metadata": {},
   "source": [
    "## Exercise 3.1\n",
    "\n",
    "[Crampton](https://doi.org/10.1093/jn/33.5.491) studied the effect of vitamin C on\n",
    "Guinea pigs' teeth.<a name=\"cite_ref-1\"></a>[<sup>[†]</sup>](#cite_note-1)\n",
    "The guinea pigs were given vitamin C\n",
    "(either as orange juice or as ascorbic acid in water)\n",
    "at three different levels (0.5, 1, and 2 mg/day) and the\n",
    "length of their odontoblasts (cells that are important for tooth development) were measured after six weeks.\n",
    "The file [Data/guinea.csv](Data/guinea.csv) contains the measured lengths, delivery method, and\n",
    "dosage (see the description in Table 1).\n",
    "\n",
    "\n",
    "| Column     | Description                                              |\n",
    "|:-----------|:---------------------------------------------------------|\n",
    "| length     | Measured length of odontoblasts  (unit not given). |\n",
    "| delivery   | How the vitamin C was administered: either as ascorbic acid in water (“W”) or as orange juice (“O”).            |\n",
    "| dose       | Dosage of vitamin C (mg/day).                            |\n",
    "||**Table 1:** *Data columns present in the file [guinea.csv](Data/guinea.csv)*|\n",
    "\n",
    "\n",
    "<a name=\"cite_note-1\"></a>1. [^](#cite_ref-1) The Canadian Government had difficulty providing natural sources of vitamin C to its armed forces during world war II. Different foods were tested for their potency, but the different chemical\n",
    "procedures used at the time frequently gave inconsistent results. This study was carried out to establish a vitamin C bioassay that the chemical procedures could be checked against."
   ]
  },
  {
   "cell_type": "markdown",
   "metadata": {},
   "source": [
    "### 3.1(a)\n",
    "\n",
    "Plot the length as a function of the dose and fit a straight line (giving the length as a function of the dose)\n",
    "using least squares. Add the\n",
    "straight line to the plot, calculate $R^2$ and add this as well to a suitable place in your figure. Does the\n",
    "length increase or decrease with the dosage?"
   ]
  },
  {
   "cell_type": "code",
   "execution_count": null,
   "metadata": {},
   "outputs": [],
   "source": [
    "# Here is some code to get you started:\n",
    "import numpy as np\n",
    "import matplotlib.pyplot as plt\n",
    "import pandas as pd\n",
    "import seaborn as sns\n",
    "from sklearn.metrics import r2_score  # For calculating R²\n",
    "\n",
    "sns.set_theme(style=\"ticks\", context=\"notebook\", palette=\"colorblind\")\n",
    "\n",
    "# Load the data\n",
    "data = pd.read_csv(\"Data/guinea.csv\")\n",
    "data.head()"
   ]
  },
  {
   "cell_type": "code",
   "execution_count": null,
   "metadata": {},
   "outputs": [],
   "source": [
    "# And some more code for making straight lines with least squares:\n",
    "p = np.polyfit(x, y, deg=1)\n",
    "# p = the coefficients of a polynomial of degree \"deg\" fitted using x and y.\n",
    "# To evaluate the polynomial, you can use numpy.polyval:\n",
    "y_hat = np.polyval(p, x)  # Calculate y using p and x: y = p[0] * x^(N-1) + ... + p[N-1]\n",
    "\n",
    "# To calculate R², we only need the real y-values\n",
    "# and the y-values predicted by the model:\n",
    "r2 = r2_score(y, y_hat)"
   ]
  },
  {
   "cell_type": "markdown",
   "metadata": {},
   "source": [
    "### Answer to question 3.1(a):\n",
    "*Double click here*"
   ]
  },
  {
   "cell_type": "markdown",
   "metadata": {},
   "source": [
    "### 3.1(b)\n",
    "Is the measured length longer when the guinea pigs are given orange juice?\n",
    "Investigate this by comparing two least squares models: \n",
    "\n",
    "- (i) One for the length as a function of the dose for delivery = W,\n",
    "- (ii) and one for the length as a function of the dose for delivery = O."
   ]
  },
  {
   "cell_type": "code",
   "execution_count": null,
   "metadata": {},
   "outputs": [],
   "source": [
    "# Your code here\n",
    "\n",
    "# Note you can select from the pandas data frame like this:\n",
    "water = data[data[\"delivery\"]==\"W\"]\n",
    "x = water[\"dose\"]\n",
    "y = water[\"length\"]"
   ]
  },
  {
   "cell_type": "markdown",
   "metadata": {},
   "source": [
    "### Answer to question 3.1(b):\n",
    "*Double click here*"
   ]
  },
  {
   "cell_type": "markdown",
   "metadata": {},
   "source": [
    "### 3.1(c)\n",
    "Investigate the previous point again by including the delivery as a variable in a model.\n",
    "First, you will have to convert the delivery variable to numerical variables;\n",
    "see the [appendix](#Appendix:-Categorical-variables) for a short explanation.\n",
    "After you have done that, create a new least squares model on the form,\n",
    "\n",
    "\\begin{equation}\n",
    "y = b_0 + b_1 x_1 + b_2 x_2 + b_{12} x_1 x_2,\n",
    "\\end{equation}\n",
    "\n",
    "where $x_1$ is the dose, $x_2$ the variable representing the delivery, and $b_i$ are the\n",
    "coefficients. Compare this with the models in point [3.1(b)](#3.1(b))"
   ]
  },
  {
   "cell_type": "code",
   "execution_count": null,
   "metadata": {},
   "outputs": [],
   "source": [
    "# Example: Creating new variables with dummies:\n",
    "data2 = pd.get_dummies(data, columns=[\"delivery\"])\n",
    "data2.head()"
   ]
  },
  {
   "cell_type": "code",
   "execution_count": null,
   "metadata": {},
   "outputs": [],
   "source": [
    "# Example: Creating a least squares model with scikit-learn:\n",
    "from sklearn.linear_model import LinearRegression\n",
    "model = LinearRegression(fit_intercept=True)  # Set ut the model\n",
    "model.fit(X, y)  # Fit it using X and y, note there that:\n",
    "# X should contain all the columns you are interested in, but not a column of ones.\n",
    "# The constant is take care of automatically with fit_intercept=True.\n",
    "y_hat = model.predict(X)  # Use the model for calculating something (y from X).\n",
    "r2 = r2_score(y, y_hat)"
   ]
  },
  {
   "cell_type": "markdown",
   "metadata": {},
   "source": [
    "### Answer to question 3.1(c):\n",
    "*Double click here*"
   ]
  },
  {
   "cell_type": "markdown",
   "metadata": {},
   "source": [
    "## Exercise 3.2\n",
    "\n",
    "Assume that we have recorded data as shown in Fig. 1.\n",
    "\n",
    "<figure>\n",
    "<img src=\"Figures/Fig_3_1.png\" width=\"50%\">\n",
    "    <figcaption> <p style='text-align: center;'><b>Figure 1: </b>Points for Exercise 3.2.</p> </figcaption>\n",
    "</figure>\n",
    "\n",
    "To model this data (i.e. $y$ as a function of $x$), we suggest a third-order polynomial in $x$:\n",
    "\n",
    "\\begin{equation}\n",
    "y = b_0 + b_1 x + b_2 x^2 + b_3 x^3 .\n",
    "\\end{equation}\n",
    "\n",
    "Explain how you can formulate this on a form suitable for least-squares regression,\n",
    "$\\mathbf{y} = \\mathbf{X} \\mathbf{b}$:\n",
    "\n",
    "- (a) What do the vectors $\\mathbf{y}$ and $\\mathbf{b}$ contain?\n",
    "- (b) What does the matrix $\\mathbf{X}$ contain?"
   ]
  },
  {
   "cell_type": "markdown",
   "metadata": {},
   "source": [
    "### Answer to question 3.2:\n",
    "*Double click here*"
   ]
  },
  {
   "cell_type": "markdown",
   "metadata": {},
   "source": [
    "## Exercise 3.3\n",
    "\n",
    "The temperature (°C) is measured continuously over time at a high altitude\n",
    "in the atmosphere using a\n",
    "weather balloon. Every hour a measurement is made and sent to an onboard computer.\n",
    "The measurements are \n",
    "shown in Fig. 2 and can be found in [the data file](Data/temperature.txt) (located at 'Data/temperature.txt').\n",
    "\n",
    "<figure>\n",
    "<img src=\"Figures/Fig_3_2.png\" width=\"50%\">\n",
    "<figcaption><p style='text-align: center;'><b>Fig. 2:</b> Measured temperature as a function of time.</p></figcaption> \n",
    "</figure>"
   ]
  },
  {
   "cell_type": "markdown",
   "metadata": {},
   "source": [
    "### 3.3(a)\n",
    "Create a Python script that performs polynomial fitting to the data using a first-, second-,\n",
    "third-, fourth-, and fifth-order polynomial model. Plot the fitted curves for the five models\n",
    "together with the raw data."
   ]
  },
  {
   "cell_type": "code",
   "execution_count": 1,
   "metadata": {},
   "outputs": [
    {
     "data": {
      "text/html": [
       "<div>\n",
       "<style scoped>\n",
       "    .dataframe tbody tr th:only-of-type {\n",
       "        vertical-align: middle;\n",
       "    }\n",
       "\n",
       "    .dataframe tbody tr th {\n",
       "        vertical-align: top;\n",
       "    }\n",
       "\n",
       "    .dataframe thead th {\n",
       "        text-align: right;\n",
       "    }\n",
       "</style>\n",
       "<table border=\"1\" class=\"dataframe\">\n",
       "  <thead>\n",
       "    <tr style=\"text-align: right;\">\n",
       "      <th></th>\n",
       "      <th>hour</th>\n",
       "      <th>yobs</th>\n",
       "    </tr>\n",
       "  </thead>\n",
       "  <tbody>\n",
       "    <tr>\n",
       "      <th>0</th>\n",
       "      <td>1</td>\n",
       "      <td>31.312231</td>\n",
       "    </tr>\n",
       "    <tr>\n",
       "      <th>1</th>\n",
       "      <td>2</td>\n",
       "      <td>25.648250</td>\n",
       "    </tr>\n",
       "    <tr>\n",
       "      <th>2</th>\n",
       "      <td>3</td>\n",
       "      <td>18.575565</td>\n",
       "    </tr>\n",
       "    <tr>\n",
       "      <th>3</th>\n",
       "      <td>4</td>\n",
       "      <td>27.077625</td>\n",
       "    </tr>\n",
       "    <tr>\n",
       "      <th>4</th>\n",
       "      <td>5</td>\n",
       "      <td>14.760071</td>\n",
       "    </tr>\n",
       "  </tbody>\n",
       "</table>\n",
       "</div>"
      ],
      "text/plain": [
       "   hour       yobs\n",
       "0     1  31.312231\n",
       "1     2  25.648250\n",
       "2     3  18.575565\n",
       "3     4  27.077625\n",
       "4     5  14.760071"
      ]
     },
     "execution_count": 1,
     "metadata": {},
     "output_type": "execute_result"
    }
   ],
   "source": [
    "# Here is some code to get you started:\n",
    "import numpy as np\n",
    "import matplotlib.pyplot as plt\n",
    "import pandas as pd\n",
    "import seaborn as sns\n",
    "\n",
    "sns.set_theme(style=\"ticks\", context=\"notebook\", palette=\"colorblind\")\n",
    "\n",
    "# Load the data\n",
    "data = pd.read_csv(\"Data/temperature.txt\", delim_whitespace=True)\n",
    "data.head()"
   ]
  },
  {
   "cell_type": "code",
   "execution_count": 2,
   "metadata": {},
   "outputs": [],
   "source": [
    "# Select the x and y values\n",
    "xdata = data[\"hour\"]\n",
    "ydata = data[\"yobs\"]\n",
    "# Fit a 5th order polynomial:\n",
    "p = np.polyfit(xdata, ydata, deg=5)\n",
    "y_hat = np.polyval(p, xdata)"
   ]
  },
  {
   "cell_type": "markdown",
   "metadata": {},
   "source": [
    "### 3.3(b)\n",
    "Plot the residual curves for the five models and determine,\n",
    "from a visual inspection, the best polynomial order to use for modeling the\n",
    "temperature as a function of time."
   ]
  },
  {
   "cell_type": "code",
   "execution_count": null,
   "metadata": {
    "scrolled": false
   },
   "outputs": [],
   "source": [
    "# Your code here"
   ]
  },
  {
   "cell_type": "markdown",
   "metadata": {},
   "source": [
    "### Answer to question 3.3(b)\n",
    "*Double click here*"
   ]
  },
  {
   "cell_type": "markdown",
   "metadata": {},
   "source": [
    "### 3.3(c)\n",
    "Obtain the sum of squared residuals for each polynomial and plot this as a function of the\n",
    "polynomial degree. Use this plot to determine (from visual inspection) the best polynomial\n",
    "order for modeling the temperature as a function of time. Does this agree with your\n",
    "conclusion in point [(b)](#3.3(b))?"
   ]
  },
  {
   "cell_type": "code",
   "execution_count": null,
   "metadata": {},
   "outputs": [],
   "source": [
    "# Your code here"
   ]
  },
  {
   "cell_type": "markdown",
   "metadata": {},
   "source": [
    "### Answer to question 3.3(c)\n",
    "*Double click here*"
   ]
  },
  {
   "cell_type": "markdown",
   "metadata": {},
   "source": [
    "## Appendix: Categorical variables\n",
    "The delivery in exercise [3.1](#Exercise-3.1)\n",
    "is a categorical variable (it is either ``W'' or ``O'').\n",
    "To include it in a model,\n",
    "we first have to convert the categories to numerical values to do math with them.\n",
    "Let us first think of\n",
    "a more general case with $N$ categories.\n",
    "It could be tempting to represent each category with a number, $1$, $2$, $3$, and so on, but this\n",
    "is not a good idea. A numeric representation like that introduces\n",
    "an artificial ordering: e.g., $5$ is a larger number than $1$, but that does not make sense for categories!\n",
    "\n",
    "One way to fix this and include\n",
    "categorical variables is\n",
    "to use [dummy variables](https://en.wikipedia.org/wiki/Dummy_variable_(statistics)).\n",
    "(And another way is [one-hot encoding](https://en.wikipedia.org/wiki/One-hot))\n",
    "\n",
    "With dummy variables, we add more variables that can take values $0$ or $1$ for ``off''/``on''.\n",
    "If we have\n",
    "$N$ categories, we need $N-1$ dummy variables to represent the categories.\n",
    "We can then include the \"presence\" of the categories without adding an order.\n",
    "Since this is a standard operation, there is an automatic method to do this in\n",
    "pandas: [pandas.get_dummies()](https://pandas.pydata.org/docs/reference/api/pandas.get_dummies.html)."
   ]
  }
 ],
 "metadata": {
  "kernelspec": {
   "display_name": "Python 3 (ipykernel)",
   "language": "python",
   "name": "python3"
  },
  "language_info": {
   "codemirror_mode": {
    "name": "ipython",
    "version": 3
   },
   "file_extension": ".py",
   "mimetype": "text/x-python",
   "name": "python",
   "nbconvert_exporter": "python",
   "pygments_lexer": "ipython3",
   "version": "3.10.6"
  }
 },
 "nbformat": 4,
 "nbformat_minor": 2
}
