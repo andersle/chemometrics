{
 "cells": [
  {
   "cell_type": "code",
   "execution_count": null,
   "metadata": {},
   "outputs": [],
   "source": [
    "import pandas as pd\n",
    "from matplotlib import pyplot as plt\n",
    "import numpy as np\n",
    "plt.style.use('seaborn-talk')\n",
    "%matplotlib notebook"
   ]
  },
  {
   "cell_type": "code",
   "execution_count": null,
   "metadata": {},
   "outputs": [],
   "source": [
    "# Load the data set:\n",
    "data = pd.read_csv('Data/gasoline.csv')\n",
    "# Each row contain a measured spectrum and a corresponding octane number\n",
    "# Extract the octane numbers:\n",
    "yvars = ['octane']\n",
    "# Extract the spectra:\n",
    "xvars = [i for i in data.columns if i not in yvars]\n",
    "wavelengths = [int(i.split()[0].split('.')[1]) for i in xvars]\n",
    "print(f'Number of wavelengths measured: {len(xvars)}')\n",
    "data.describe()"
   ]
  },
  {
   "cell_type": "code",
   "execution_count": null,
   "metadata": {},
   "outputs": [],
   "source": [
    "# Let us visualize the spectra, just to see what we have to work with:\n",
    "spec = data[xvars].to_numpy()\n",
    "octane = data['octane'].to_numpy()\n",
    "\n",
    "# Plot the first spectra:\n",
    "figi = plt.figure(constrained_layout=True)\n",
    "axi = figi.add_subplot(projection='3d')\n",
    "axi.set_title('NIR spectra')\n",
    "\n",
    "ribbon = 4\n",
    "xticks = []\n",
    "xticks_labels = []\n",
    "for i, speci in enumerate(spec):\n",
    "    x = wavelengths\n",
    "    X = np.vstack((x, x)).T\n",
    "    Y = np.full_like(X, 5 * i)\n",
    "    xticks.append(5 * i)\n",
    "    xticks_labels.append(i + 1)\n",
    "    Y[:,1] = Y[:,0] + ribbon\n",
    "    Z = np.vstack((speci, speci)).T\n",
    "    surf = axi.plot_surface(X,Y,Z, rstride=1, cstride=1, cmap='Spectral', vmin=spec.min(), vmax=spec.max(), lw=1)\n",
    "    if i >= 9:\n",
    "        break\n",
    "axi.grid(False)\n",
    "axi.w_xaxis.pane.set_visible(False)\n",
    "axi.w_yaxis.pane.set_visible(False)\n",
    "axi.set_yticks(xticks[::2])\n",
    "axi.set_yticklabels(xticks_labels[::2])\n",
    "axi.set_xlabel('Wavelength (nm)', labelpad=10)\n",
    "axi.set_ylabel('Spectrum no.', labelpad=10)\n",
    "\n",
    " \n",
    "# Plot the spectrum with the lowest and highest octane number:\n",
    "idxmin = np.argmin(octane)\n",
    "idxmax = np.argmax(octane)\n",
    "figj, axj = plt.subplots(constrained_layout=True)\n",
    "axj.plot(wavelengths, spec[idxmin], label=f'Octane: {octane[idxmin]}')\n",
    "axj.plot(wavelengths, spec[idxmax], label=f'Octane: {octane[idxmax]}')\n",
    "axj.set_title('Highest and lowest octane numbers')\n",
    "axj.set_xlabel('Wavelength (nm)')\n",
    "axj.legend()\n",
    "# And make a histogram of the octane numbers so we know what values we are working with:\n",
    "figk, axk = plt.subplots(constrained_layout=True)\n",
    "axk.hist(octane)\n",
    "axk.set_title('Octane numbers');"
   ]
  },
  {
   "cell_type": "code",
   "execution_count": null,
   "metadata": {},
   "outputs": [],
   "source": [
    "from sklearn.preprocessing import scale\n",
    "X = scale(data[xvars])\n",
    "Y = scale(data[yvars])"
   ]
  },
  {
   "cell_type": "code",
   "execution_count": null,
   "metadata": {},
   "outputs": [],
   "source": [
    "# Create a PLS model to relate the octane content to the NIR spectra:\n",
    "from sklearn.cross_decomposition import PLSRegression\n",
    "pls = PLSRegression(n_components=5, scale=False)\n",
    "pls.fit(X, Y)\n",
    "Y_hat = pls.predict(X)\n",
    "B_PLS = pls.coef_"
   ]
  },
  {
   "cell_type": "code",
   "execution_count": null,
   "metadata": {},
   "outputs": [],
   "source": [
    "# Create a linear model to relate the octane content to the NIR spectra:\n",
    "from sklearn.linear_model import LinearRegression\n",
    "linear = LinearRegression(fit_intercept=False)\n",
    "linear.fit(X, Y)\n",
    "Y_hat_lin = linear.predict(X)\n",
    "B_MLR = linear.coef_.T"
   ]
  },
  {
   "cell_type": "code",
   "execution_count": null,
   "metadata": {},
   "outputs": [],
   "source": [
    "from sklearn.metrics import r2_score\n",
    "figi, (axi, axj) = plt.subplots(constrained_layout=True, ncols=2, nrows=1, sharex=True, sharey=True)\n",
    "axi.set_title('PLS')\n",
    "axi.scatter(Y, Y_hat, label=f'r² = {r2_score(Y, Y_hat):6.4f}')\n",
    "axi.set(xlabel='y', ylabel='ŷ')\n",
    "axj.set_title('Least squares')\n",
    "axj.scatter(Y, Y_hat_lin, label=f'r² = {r2_score(Y, Y_hat_lin):6.4f}')\n",
    "axj.set(xlabel='y', ylabel='ŷ')\n",
    "axi.legend();\n",
    "axj.legend();"
   ]
  },
  {
   "cell_type": "code",
   "execution_count": null,
   "metadata": {},
   "outputs": [],
   "source": [
    "figi, (axi, axj) = plt.subplots(constrained_layout=True, ncols=1, nrows=2)\n",
    "axi.set_title('PLS coefficients')\n",
    "axi.plot(wavelengths, B_PLS[:, 0])\n",
    "axi.set(xlabel='Wavelength (nm)', ylabel='Coeff.')\n",
    "axi.axhline(y=0.0, ls=':', color='k')\n",
    "axj.set_title('Least squares coefficients')\n",
    "axj.plot(wavelengths, B_MLR[:, 0])\n",
    "axj.axhline(y=0.0, ls=':', color='k')\n",
    "axj.set(xlabel='Wavelength (nm)', ylabel='Coeff.');"
   ]
  },
  {
   "cell_type": "code",
   "execution_count": null,
   "metadata": {},
   "outputs": [],
   "source": [
    "# Try it all again with a training and test set:\n",
    "from sklearn.model_selection import train_test_split\n",
    "X_train, X_test, Y_train, Y_test = train_test_split(\n",
    "    X, Y, test_size=0.3,\n",
    ")"
   ]
  },
  {
   "cell_type": "code",
   "execution_count": null,
   "metadata": {},
   "outputs": [],
   "source": [
    "pls = PLSRegression(n_components=5, scale=False)\n",
    "pls.fit(X_train, Y_train)\n",
    "Y_hat_train = pls.predict(X_train)\n",
    "Y_hat_test = pls.predict(X_test)"
   ]
  },
  {
   "cell_type": "code",
   "execution_count": null,
   "metadata": {},
   "outputs": [],
   "source": [
    "linear = LinearRegression(fit_intercept=False)\n",
    "linear.fit(X_train, Y_train)\n",
    "Y_hat_lin_train = linear.predict(X_train)\n",
    "Y_hat_lin_test = linear.predict(X_test)"
   ]
  },
  {
   "cell_type": "code",
   "execution_count": null,
   "metadata": {},
   "outputs": [],
   "source": [
    "figi, (axi, axj) = plt.subplots(constrained_layout=True, ncols=2, nrows=1, sharex=True, sharey=True)\n",
    "axi.scatter(Y_train, Y_hat_train, label=f'Train, r² = {r2_score(Y_train, Y_hat_train):6.4f}')\n",
    "axi.scatter(Y_test, Y_hat_test, label=f'Test, r² = {r2_score(Y_test, Y_hat_test):6.4f}', marker='X')\n",
    "axj.scatter(Y_train, Y_hat_lin_train, label=f'Train, r² = {r2_score(Y_train, Y_hat_lin_train):6.4f}')\n",
    "axj.scatter(Y_test, Y_hat_lin_test, label=f'Test, r² = {r2_score(Y_test, Y_hat_lin_test):6.4f}', marker='X')\n",
    "axi.set_title('PLS')\n",
    "axj.set_title('Least squares')\n",
    "axi.set(xlabel='y', ylabel='ŷ')\n",
    "axj.set(xlabel='y', ylabel='ŷ')\n",
    "axi.legend();\n",
    "axj.legend();"
   ]
  },
  {
   "cell_type": "code",
   "execution_count": null,
   "metadata": {},
   "outputs": [],
   "source": [
    "# Repeat training and testing 20 times:\n",
    "pls_test = []\n",
    "ls_test = []\n",
    "for i in range(20):\n",
    "    X_train, X_test, Y_train, Y_test = train_test_split(X, Y, test_size=0.3)\n",
    "    pls = PLSRegression(n_components=5, scale=False)\n",
    "    pls.fit(X_train, Y_train)\n",
    "    Y_hat_train = pls.predict(X_train)\n",
    "    Y_hat_test = pls.predict(X_test)\n",
    "    pls_test.append(r2_score(Y_test, Y_hat_test))\n",
    "    linear = LinearRegression(fit_intercept=False)\n",
    "    linear.fit(X_train, Y_train)\n",
    "    Y_hat_lin_train = linear.predict(X_train)\n",
    "    Y_hat_lin_test = linear.predict(X_test)\n",
    "    ls_test.append(r2_score(Y_test, Y_hat_lin_test))\n",
    "figi, axi = plt.subplots(constrained_layout=True)\n",
    "x = np.arange(len(pls_test))\n",
    "axi.plot(x, pls_test, marker='o', label='PLS')\n",
    "axi.axhline(y=np.mean(pls_test), label='Avg. PLS', ls=':', color='k')\n",
    "axi.plot(x, ls_test, marker='X', label='LS')\n",
    "axi.axhline(y=np.mean(ls_test), label='Avg. LS', ls='--', color='k')\n",
    "axi.set(xlabel='Test no.', ylabel='r² (test)')\n",
    "axi.legend();"
   ]
  },
  {
   "cell_type": "code",
   "execution_count": null,
   "metadata": {},
   "outputs": [],
   "source": [
    "# Use training and testing for checking the performance as a function of PLS components:\n",
    "pls_test2 = []\n",
    "for comp in range(1, 11):\n",
    "    score = []\n",
    "    for i in range(10):\n",
    "        X_train, X_test, Y_train, Y_test = train_test_split(X, Y, test_size=0.3)\n",
    "        pls = PLSRegression(n_components=comp, scale=False)\n",
    "        pls.fit(X_train, Y_train)\n",
    "        Y_hat_test = pls.predict(X_test)\n",
    "        score.append(r2_score(Y_test, Y_hat_test))\n",
    "    pls_test2.append([np.mean(score), np.std(score)])\n",
    "pls_test2 = np.array(pls_test2)\n",
    "figi, axi = plt.subplots(constrained_layout=True)\n",
    "axi.errorbar(range(1, 11), pls_test2[:, 0], yerr=pls_test2[:, 1], marker='o')\n",
    "axi.set_xlabel('No. of components')\n",
    "axi.set_ylabel('r² (test)');"
   ]
  }
 ],
 "metadata": {
  "kernelspec": {
   "display_name": "Python 3",
   "language": "python",
   "name": "python3"
  },
  "language_info": {
   "codemirror_mode": {
    "name": "ipython",
    "version": 3
   },
   "file_extension": ".py",
   "mimetype": "text/x-python",
   "name": "python",
   "nbconvert_exporter": "python",
   "pygments_lexer": "ipython3",
   "version": "3.9.2"
  }
 },
 "nbformat": 4,
 "nbformat_minor": 4
}
