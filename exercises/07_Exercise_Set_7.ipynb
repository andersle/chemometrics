{
 "cells": [
  {
   "cell_type": "markdown",
   "metadata": {},
   "source": [
    "# Exercise set 7\n",
    "\n",
    "\n",
    ">The goal of this exercise is to learn how to perform a\n",
    ">**principal component analysis (PCA)**. We will here focus\n",
    ">on how we can plot and inspect the scores and loadings,\n",
    ">and the variance explained by different principal components (PCs)."
   ]
  },
  {
   "cell_type": "markdown",
   "metadata": {},
   "source": [
    "## Exercise 7.1\n",
    "\n",
    "In the exercise, we will investigate if we can\n",
    "\"discover\" the periodic table from a data set that\n",
    "contains information on the first 86 elements (period 1&ndash;6).\n",
    "The variables present in this data set are described\n",
    "in Table 1.\n",
    "\n",
    "|**Column**        | **Description**                                         | **Unit** |\n",
    "|------------------|---------------------------------------------------------|----------|\n",
    "|element           | The symbol for the element (e.g. H, He, etc.)           | —        |\n",
    "|metal             | Classification of the element as a metal (1) or not (0) | —        |\n",
    "|density           | Density of the element                                  | g/cm$^3$ |\n",
    "|atomic_radius     | Radius of the element                                   | Å        |\n",
    "|electronegativity | The electronegativity of the element                    | —        |\n",
    "|first_ionization  | The first ionization energy of the element              |          |\n",
    "|neutrons          | The number of neutrons in the element                   | —        |\n",
    "|protons           | The number of protons in the element                    | —        |\n",
    "|electrons         | The number of electrons in the element                  | —        |\n",
    "|1s, 2s, 2p, etc.  | The number of electrons in different orbitals           | —        |\n",
    "|**Table 1:** *Data columns present in the file [Data/periodic_table.csv](./Data/periodic_table.csv)*        |          |\n",
    "\n",
    "We will use principal component analysis to investigate the data set,\n",
    "and in this exercise, we will focus on creating plots for\n",
    "the scores, loadings, and explained variance."
   ]
  },
  {
   "cell_type": "markdown",
   "metadata": {},
   "source": [
    "**(a)**  Begin by loading the data, this can be done with:"
   ]
  },
  {
   "cell_type": "code",
   "execution_count": null,
   "metadata": {},
   "outputs": [],
   "source": [
    "from itertools import cycle\n",
    "import pandas as pd\n",
    "import numpy as np\n",
    "from matplotlib import pyplot as plt\n",
    "from matplotlib.cm import get_cmap\n",
    "from sklearn.preprocessing import scale\n",
    "from sklearn.decomposition import PCA\n",
    "%matplotlib notebook\n",
    "plt.style.use(['seaborn-notebook', './tkj4175.mplstyle'])\n",
    "\n",
    "data = pd.read_csv('Data/periodic_table.csv')\n",
    "data"
   ]
  },
  {
   "cell_type": "markdown",
   "metadata": {},
   "source": [
    "After having a quick look at the data (and the description in Table 1) &ndash;\n",
    "do you think it is a good idea to scale the data in this case? Why/why not?"
   ]
  },
  {
   "cell_type": "code",
   "execution_count": null,
   "metadata": {},
   "outputs": [],
   "source": [
    "# Your code here"
   ]
  },
  {
   "cell_type": "markdown",
   "metadata": {},
   "source": [
    "**Your answer to question 7.1(a):** *Double click here*"
   ]
  },
  {
   "cell_type": "markdown",
   "metadata": {},
   "source": [
    "**(b)**  Next, run a principal component analysis on the data you just\n",
    "loaded. This can be done with:"
   ]
  },
  {
   "cell_type": "code",
   "execution_count": null,
   "metadata": {},
   "outputs": [],
   "source": [
    "variables = [i for i in data.columns if i not in ('element', 'metal')] \n",
    "elements = data['element'].values\n",
    "X = data[variables]\n",
    "\n",
    "# To not scale the data, comment this:\n",
    "X = scale(X)\n",
    "\n",
    "# Run PCA and obtain the scores:\n",
    "pca = PCA()\n",
    "scores = pca.fit_transform(X)"
   ]
  },
  {
   "cell_type": "markdown",
   "metadata": {},
   "source": [
    "Notice here that we do not include the metal classification in the\n",
    "data set we analyze. This is\n",
    "because we are going to use it for \"coloring\" the data at a later\n",
    "point, without using it to create the PCA model. (That is, since we\n",
    "do not use it when running the PCA, we can later check if the PCA\n",
    "groups metals in a particular way.)\n",
    "\n",
    "The last line in the code above\n",
    "performs the principal component analysis and returns the scores.\n",
    "In your own words, how would you describe scores? Check the\n",
    "dimensionality of the scores matrix &ndash; is this as expected?"
   ]
  },
  {
   "cell_type": "code",
   "execution_count": null,
   "metadata": {},
   "outputs": [],
   "source": [
    "# Your code here"
   ]
  },
  {
   "cell_type": "markdown",
   "metadata": {},
   "source": [
    "**Your answer to question 7.1(b):** *Double click here*"
   ]
  },
  {
   "cell_type": "markdown",
   "metadata": {},
   "source": [
    "**(c)**  Plot the scores for principal component number 1 agains the scores\n",
    "of principal component number 2. This can be done with:"
   ]
  },
  {
   "cell_type": "code",
   "execution_count": null,
   "metadata": {},
   "outputs": [],
   "source": [
    "# Plot scores for the two first principal components:\n",
    "fig, ax = plt.subplots(constrained_layout=True)\n",
    "ax.scatter(scores[:, 0], scores[:, 1])\n",
    "ax.set(xlabel='Scores for PC1', ylabel='Scores for PC2');"
   ]
  },
  {
   "cell_type": "markdown",
   "metadata": {},
   "source": [
    "Here, you can also\n",
    "show labels for the elements with the following modification to the code above:"
   ]
  },
  {
   "cell_type": "code",
   "execution_count": null,
   "metadata": {},
   "outputs": [],
   "source": [
    "# Plot scores for the two first principal components\n",
    "# + add element symbols\n",
    "fig, ax = plt.subplots(constrained_layout=True)\n",
    "ax.scatter(scores[:, 0], scores[:, 1])\n",
    "ax.set(xlabel='Scores for PC1', ylabel='Scores for PC2')\n",
    "# Add labels for the elements:\n",
    "for i, symbol in enumerate(elements):\n",
    "    ax.text(scores[i, 0], scores[i, 1], symbol, fontsize='large')"
   ]
  },
  {
   "cell_type": "markdown",
   "metadata": {},
   "source": [
    "Do you observe any groupings or trends in the data? How does this compare with the periodic system?"
   ]
  },
  {
   "cell_type": "code",
   "execution_count": null,
   "metadata": {},
   "outputs": [],
   "source": [
    "# Your code here"
   ]
  },
  {
   "cell_type": "markdown",
   "metadata": {},
   "source": [
    "**Your answer to question 7.1(c):** *Double click here*"
   ]
  },
  {
   "cell_type": "markdown",
   "metadata": {},
   "source": [
    "**(d)**  Add some color to your scores plot by coloring the elements according to their\n",
    "classification as metals or not. This can be done by using the `c` argument\n",
    "of the `ax.scatter` method:"
   ]
  },
  {
   "cell_type": "code",
   "execution_count": null,
   "metadata": {},
   "outputs": [],
   "source": [
    "# Plot scores for the two first principal components + add element symbols\n",
    "fig, ax = plt.subplots(constrained_layout=True)\n",
    "ax.scatter(scores[:, 0], scores[:, 1], c=data['metal'].values)\n",
    "ax.set(xlabel='Scores for PC1', ylabel='Scores for PC2')\n",
    "# Add labels for the elements:\n",
    "for i, symbol in enumerate(elements):\n",
    "    ax.text(scores[i, 0], scores[i, 1], symbol, fontsize='large')"
   ]
  },
  {
   "cell_type": "markdown",
   "metadata": {},
   "source": [
    "Do you observe any new groupings/trends in the data after\n",
    "adding this extra color? Here, you can also experiment with using different\n",
    "columns for coloring the data, for instance, the number of electrons."
   ]
  },
  {
   "cell_type": "code",
   "execution_count": null,
   "metadata": {},
   "outputs": [],
   "source": [
    "# Your code here"
   ]
  },
  {
   "cell_type": "markdown",
   "metadata": {},
   "source": [
    "**Your answer to question 7.1(d):** *Double click here*"
   ]
  },
  {
   "cell_type": "markdown",
   "metadata": {},
   "source": [
    "**(e)**  Next, we will investigate how much of the variance we explain\n",
    "with the different principal components.\n",
    "The variance explained by a particular\n",
    "component can be accessed by using `pca.explained_variance_ratio_`.\n",
    "Below, you can find some code that will plot\n",
    "the explained variance per component in a bar plot:"
   ]
  },
  {
   "cell_type": "code",
   "execution_count": null,
   "metadata": {},
   "outputs": [],
   "source": [
    "# Plot the explained variance:\n",
    "fig, (ax1, ax2) = plt.subplots(constrained_layout=True, ncols=2)\n",
    "variance = pca.explained_variance_ratio_ * 100\n",
    "components = 1 + np.arange(len(variance))\n",
    "ax1.bar(components, variance)\n",
    "ax1.set_xticks(components[::2])\n",
    "ax1.set(xlabel='No. of principal components', ylabel='Percentage of variance explained');"
   ]
  },
  {
   "cell_type": "markdown",
   "metadata": {},
   "source": [
    "Add a line plot to the second axis, `ax2`, in the plot above that\n",
    "shows the total variance explained by $x$ components. That is, the $x$-axis should\n",
    "show the number of components used, and the $y$-axis should show the summed explained variance\n",
    "when using $x$ components. For calculating the summed explained variance, you can\n",
    "use the cumulative sum which can be obtained by `np.cumsum(pca.explained_variance_ratio_)`."
   ]
  },
  {
   "cell_type": "code",
   "execution_count": null,
   "metadata": {},
   "outputs": [],
   "source": [
    "# Your code here"
   ]
  },
  {
   "cell_type": "markdown",
   "metadata": {},
   "source": [
    "**Your answer to question 7.1(e):** *Double click here*"
   ]
  },
  {
   "cell_type": "markdown",
   "metadata": {},
   "source": [
    "**(f)**  Based on the plot you just created for the explained variance,\n",
    "how many principal components are needed\n",
    "to explain at least 90\\% of the variance (in the next lecture,\n",
    "we will discuss why/how we use this plot to determine the \"best\" number of\n",
    "principal components to use) in the data set?"
   ]
  },
  {
   "cell_type": "code",
   "execution_count": null,
   "metadata": {},
   "outputs": [],
   "source": [
    "# Your code here"
   ]
  },
  {
   "cell_type": "markdown",
   "metadata": {},
   "source": [
    "**Your answer to question 7.1(f):** *Double click here*"
   ]
  },
  {
   "cell_type": "markdown",
   "metadata": {},
   "source": [
    "**(g)**  Next, we will investigate the loadings. In your own words, how would you\n",
    "describe the term loadings?\n",
    "\n",
    "\n"
   ]
  },
  {
   "cell_type": "code",
   "execution_count": null,
   "metadata": {},
   "outputs": [],
   "source": [
    "# Your code here"
   ]
  },
  {
   "cell_type": "markdown",
   "metadata": {},
   "source": [
    "**Your answer to question 7.1(g):** *Double click here*"
   ]
  },
  {
   "cell_type": "markdown",
   "metadata": {},
   "source": [
    "**(h)**  The loadings can be accessed with:"
   ]
  },
  {
   "cell_type": "code",
   "execution_count": null,
   "metadata": {},
   "outputs": [],
   "source": [
    "# Get the loadings for PC1 and PC2:\n",
    "loadings = pca.components_.T\n",
    "pc1 = loadings[:, 0]\n",
    "pc2 = loadings[:, 1]"
   ]
  },
  {
   "cell_type": "markdown",
   "metadata": {},
   "source": [
    "Verify that `pc1` and `pc2` are normalized and that they are orthogonal to\n",
    "each other (Hint: The dot product can be taken with `np.dot`)."
   ]
  },
  {
   "cell_type": "code",
   "execution_count": null,
   "metadata": {},
   "outputs": [],
   "source": [
    "# Your code here"
   ]
  },
  {
   "cell_type": "markdown",
   "metadata": {},
   "source": [
    "**Your answer to question 7.1(h):** *Double click here*"
   ]
  },
  {
   "cell_type": "markdown",
   "metadata": {},
   "source": [
    "**(i)**  For a particular loadings vector, the $i$'th component contains the\n",
    "contribution from the original variable $i$ to the principal\n",
    "component described by this loadings vector. This contribution\n",
    "is a number between $-1$ and $1$.\n",
    "\n",
    "We can get an overview of the contributions to\n",
    "principal component number 1 and 2 by plotting the loadings in a bar plot as follows:"
   ]
  },
  {
   "cell_type": "code",
   "execution_count": null,
   "metadata": {},
   "outputs": [],
   "source": [
    "fig, (ax1, ax2) = plt.subplots(constrained_layout=True, nrows=2, sharex=True, sharey=True)\n",
    "position = np.arange(len(pc1))\n",
    "ax1.bar(position, pc1)\n",
    "ax1.set_xticks(position)\n",
    "ax1.set_xticklabels(variables, rotation=90)\n",
    "ax1.axhline(y=0, ls=':', color='k')  # Horizontal line to show 0\n",
    "ax2.bar(position, pc2)\n",
    "ax2.set_xticks(position)\n",
    "ax2.set_xticklabels(variables, rotation=90)\n",
    "ax2.axhline(y=0, ls=':', color='k')  # Horizontal line to show 0\n",
    "ax1.set_title('PC1')\n",
    "ax2.set_title('PC2');"
   ]
  },
  {
   "cell_type": "markdown",
   "metadata": {},
   "source": [
    "Make this plot and inspect the contributions from the different variables. The plots\n",
    "should indicate that the variables neutrons, protons, and electrons give\n",
    "almost equal contributions to PC1 and PC2. Can you give an interpretation of this\n",
    "observation?"
   ]
  },
  {
   "cell_type": "code",
   "execution_count": null,
   "metadata": {},
   "outputs": [],
   "source": [
    "# Your code here"
   ]
  },
  {
   "cell_type": "markdown",
   "metadata": {},
   "source": [
    "**Your answer to question 7.1(i):** *Double click here*"
   ]
  },
  {
   "cell_type": "markdown",
   "metadata": {},
   "source": [
    "**(j)**  The loadings plot is usually easier to interpret than the plot we just made.\n",
    "Here, we will make the loadings plot\n",
    "for principal component 1 and principal component 2.\n",
    "The current case we are investigating is a bit complex since we have many\n",
    "variables! Let us proceed in steps:\n",
    "\n",
    "1. We prepare for the plotting by defining markers and colors. To make the plot\n",
    "   easier to read, we will select some markers and generate unique colors for the variables.\n",
    "   Let us first define $n$ different colors, where $n$ is the number of original variables\n",
    "   we have:"
   ]
  },
  {
   "cell_type": "code",
   "execution_count": null,
   "metadata": {},
   "outputs": [],
   "source": [
    "# Define colors:\n",
    "colors = get_cmap(name='PiYG')(np.linspace(0, 1, len(variables)))"
   ]
  },
  {
   "cell_type": "markdown",
   "metadata": {},
   "source": [
    "In the code above, the text `'PiYG'` selects the color map, here you\n",
    "can experiment with [other options](https://matplotlib.org/stable/tutorials/colors/colormaps.html)\n",
    "to get something where it is easy to separate the different variables\n",
    "(and more to your liking).\n",
    "\n",
    "To help separate the points, we would also like to use distinct markers\n",
    "for the different variables. But here we have more variables than we\n",
    "have markers in matplotlib! (Note: there are more markers available than we select here,\n",
    "but some of them are small, and others are hard to distinguish. It is also possible\n",
    "to define new markers!)\n",
    "We will therefore use a trick that makes it possible\n",
    "to cycle through markers, so we still get some diversity:"
   ]
  },
  {
   "cell_type": "code",
   "execution_count": null,
   "metadata": {},
   "outputs": [],
   "source": [
    "# Define markers:\n",
    "my_markers = ['o', 'v', '^', '8', 's', 'p', '*', 'h', 'H', 'D', 'P', 'X']\n",
    "markers = cycle(my_markers)"
   ]
  },
  {
   "cell_type": "markdown",
   "metadata": {},
   "source": [
    "2. Next, we plot the loadings along principal component 1 and principal component 2:"
   ]
  },
  {
   "cell_type": "code",
   "execution_count": null,
   "metadata": {},
   "outputs": [],
   "source": [
    "fig, ax = plt.subplots(constrained_layout=True)\n",
    "for i, vari in enumerate(variables):\n",
    "    ax.scatter(\n",
    "        pc1[i], pc2[i],  # Loadings for variable no. i\n",
    "        label=vari,\n",
    "        marker=next(markers),\n",
    "        s=100,\n",
    "        color=colors[i],\n",
    "        edgecolors='k'  # add color around symbols, to make them more visible\n",
    "    )"
   ]
  },
  {
   "cell_type": "markdown",
   "metadata": {},
   "source": [
    "3. Now, we do some styling of the plot, and we show a legend for the variables:"
   ]
  },
  {
   "cell_type": "code",
   "execution_count": null,
   "metadata": {},
   "outputs": [],
   "source": [
    "ax.set(xlabel='Loadings for PC1', ylabel='Loadings for PC2')\n",
    "# Make the scale for the x- and y-axis the same:\n",
    "ax.set_xlim(-0.4, 0.4)\n",
    "ax.set_ylim(ax.get_xlim())\n",
    "ax.set_aspect('equal')\n",
    "# Add x=0 and y=0 lines to help location positive and negative values:\n",
    "ax.axhline(y=0, ls=':', color='k')\n",
    "ax.axvline(x=0, ls=':', color='k')\n",
    "# Add a legend to show the variables:\n",
    "ax.legend(ncol=1, bbox_to_anchor=(1.05, 1), loc='upper left', borderaxespad=0.);"
   ]
  },
  {
   "cell_type": "markdown",
   "metadata": {},
   "source": [
    "Note here that we use `next(markers)` to access the next marker. If we\n",
    "had just used `markers` we would run out of markers at some point!\n",
    "\n",
    "After you have made the loadings plot, locate the\n",
    "electronegativity and the atomic radius. Are these located (relative\n",
    "to each other) as you would expect?"
   ]
  },
  {
   "cell_type": "code",
   "execution_count": null,
   "metadata": {},
   "outputs": [],
   "source": [
    "# Your code here"
   ]
  },
  {
   "cell_type": "markdown",
   "metadata": {},
   "source": [
    "**Your answer to question 7.1(j):** *Double click here*"
   ]
  },
  {
   "cell_type": "markdown",
   "metadata": {},
   "source": [
    "**(k)**  Finally, we will create the biplot. In this plot\n",
    "we show the scores and loadings together. This is a bit more\n",
    "challenging to make, and it can often look crowded. Here\n",
    "is an example of how it can be created:"
   ]
  },
  {
   "cell_type": "code",
   "execution_count": null,
   "metadata": {},
   "outputs": [],
   "source": [
    "# Biplot:\n",
    "markers = cycle(my_markers)\n",
    "fig, ax = plt.subplots(constrained_layout=True)\n",
    "ax.scatter(scores[:, 0], scores[:, 1], s=75, label='Elements')\n",
    "ax.set(xlabel='Scores for PC1', ylabel='Scores for PC2')\n",
    "ax.axhline(y=0, ls=':', color='k')\n",
    "ax.axvline(x=0, ls=':', color='k')\n",
    "\n",
    "xlim = ax.get_xlim()\n",
    "ylim = ax.get_ylim()\n",
    "\n",
    "# Get relative scale of the x- and y-axes:\n",
    "scalex = (max(xlim) - min(xlim))\n",
    "scaley = (max(ylim) - min(ylim))\n",
    "scale_max = max(scalex, scaley)\n",
    "scalex /= scale_max\n",
    "scaley /= scale_max\n",
    "\n",
    "# Figure out the \"longest\" loading:\n",
    "lengths_max = max(pc1**2 + pc2**2)\n",
    "\n",
    "# And figure out the largest circle we could put in\n",
    "# the current axes:\n",
    "radius = min([abs(i) for i in xlim + ylim])\n",
    "# Scale things so that the \"longest\" loading will have\n",
    "# a length equal to the radius we just found:\n",
    "scale_factor = radius / lengths_max\n",
    "\n",
    "for i, vari in enumerate(variables):\n",
    "    # Scale lengths so that they are easier to see,\n",
    "    # here it also works to just do:\n",
    "    # x = pc1[i] * scalex * factor\n",
    "    # y = pc2[i] * scaley * factor\n",
    "    # for a suitable factor (just find one by trial and error).\n",
    "    x = pc1[i] * scalex\n",
    "    y = pc2[i] * scaley\n",
    "    norm = np.sqrt(x**2 + y**2)\n",
    "    x /= norm\n",
    "    y /= norm\n",
    "    length = pc1[i]**2 + pc2[i]**2\n",
    "    x *= length * scale_factor\n",
    "    y *= length * scale_factor\n",
    "\n",
    "    # Add the scatter point, uncomment to draw the locations:\n",
    "    #scat = ax.scatter(\n",
    "    #    x, y,\n",
    "    #    label=vari,\n",
    "    #    marker=next(markers),\n",
    "    #    s=100,\n",
    "    #    color=colors[i],\n",
    "    #    edgecolors='k',\n",
    "    #)\n",
    "    length = np.sqrt(x**2 + y**2)\n",
    "    dx = x / length\n",
    "    dy = y / length\n",
    "    ax.text(x+0.1*dx, y+0.1*dy, vari)\n",
    "    # Draw arrow from the origin to the point:\n",
    "    ax.annotate(\n",
    "        '',\n",
    "        xy=(x, y),\n",
    "        xytext=(0, 0),\n",
    "        arrowprops=dict(arrowstyle='-|>', lw=2, color='red', mutation_scale=25),\n",
    "    )\n",
    "# Uncomment to add a legend:\n",
    "#ax.legend(ncol=1, bbox_to_anchor=(1.05, 1), loc='upper left', borderaxespad=0.)\n",
    "ax.set_xlim(xlim);\n",
    "ax.set_ylim(ylim);"
   ]
  },
  {
   "cell_type": "markdown",
   "metadata": {},
   "source": [
    "We could also scale the loadings by a larger factor to extend them to the borders of\n",
    "the plot (you can try this on your own).\n",
    "\n",
    "Create the biplot (run the code above, adding your own modifications (if any)) and\n",
    "consider the following:\n",
    "\n",
    "1. Does the direction of increasing mass correspond to what you would expect?\n",
    "\n",
    "2. In this case, it is not so easy to interpret the biplot since we have many variables, and\n",
    "   they seem to be almost equally important. But, if you were to give a simplified description of\n",
    "   the two principal components, how would you describe them, and, does this fit with your\n",
    "   understanding of the periodic system?"
   ]
  },
  {
   "cell_type": "code",
   "execution_count": null,
   "metadata": {},
   "outputs": [],
   "source": [
    "# Your code here"
   ]
  },
  {
   "cell_type": "markdown",
   "metadata": {},
   "source": [
    "**Your answer to question 7.1(k):** *Double click here*"
   ]
  },
  {
   "cell_type": "markdown",
   "metadata": {},
   "source": [
    "\n"
   ]
  }
 ],
 "metadata": {
  "kernelspec": {
   "display_name": "Python 3 (ipykernel)",
   "language": "python",
   "name": "python3"
  },
  "language_info": {
   "codemirror_mode": {
    "name": "ipython",
    "version": 3
   },
   "file_extension": ".py",
   "mimetype": "text/x-python",
   "name": "python",
   "nbconvert_exporter": "python",
   "pygments_lexer": "ipython3",
   "version": "3.9.10"
  }
 },
 "nbformat": 4,
 "nbformat_minor": 2
}
