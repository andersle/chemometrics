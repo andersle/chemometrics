{
 "cells": [
  {
   "cell_type": "markdown",
   "metadata": {},
   "source": [
    "## Getting Started\n",
    "\n",
    "The document you are reading is a  [Jupyter notebook](https://jupyter.org/), provided by [binder](https://mybinder.org) and running on [Google Cloud](https://cloud.google.com). It is not a static page, but an interactive environment that lets you write and execute code in Python and other languages. We will be using this for the exercises of the Chemometrics course. \n",
    "\n",
    "\n",
    "For example, here is a **code cell** with a short Python script that computes a value, stores it in a variable, and prints the result:"
   ]
  },
  {
   "cell_type": "code",
   "execution_count": null,
   "metadata": {},
   "outputs": [],
   "source": [
    "seconds_in_a_day = 24 * 60 * 60\n",
    "print(seconds_in_a_day)"
   ]
  },
  {
   "cell_type": "markdown",
   "metadata": {},
   "source": [
    "To execute the code in the above cell, select it with a click and then either press the **Run** button at the top, or use the keyboard shortcut:\n",
    "\"Command/Ctrl+Enter\". (Or Shift+Enter to execute the current cell and move to the cell below)\n",
    "\n",
    "All cells modify the same global state, so variables that you define by executing a cell can be used in other cells:"
   ]
  },
  {
   "cell_type": "code",
   "execution_count": null,
   "metadata": {},
   "outputs": [],
   "source": [
    "seconds_in_a_week = 7 * seconds_in_a_day\n",
    "print(seconds_in_a_week)"
   ]
  },
  {
   "cell_type": "markdown",
   "metadata": {},
   "source": [
    "## Saving your work\n",
    "\n",
    "Due to hosting this through Binder, any changes that you make to the notebooks or filesystem will **not** be stored when you close all the browser windows or press the *Quit* button on the file selection screen. \n",
    "\n",
    "If you want to keep your answers and alterations of the notebook you are working in, please click *File* -> *Download as* -> *Your preferred file format*. "
   ]
  },
  {
   "cell_type": "markdown",
   "metadata": {},
   "source": [
    "# Making plots\n",
    "\n",
    "Plots are a nice way of visualizing data. In Python we use a package called `matplotlib` for that. and for fast math and array operations we will use `numpy`. We will now show an example on how to plot the cosine of 360 degrees.\n",
    "\n",
    "First we will import the packages we will be using:"
   ]
  },
  {
   "cell_type": "code",
   "execution_count": null,
   "metadata": {},
   "outputs": [],
   "source": [
    "import numpy as np  # This will import numpy and rename it to 'np'.\n",
    "import matplotlib.pyplot as plt # This will import matplotlib.pyplot and rename it to 'plt'."
   ]
  },
  {
   "cell_type": "markdown",
   "metadata": {},
   "source": [
    "Next we will make a list of all numbers from 0 till 359 devide it by 360 and multiply it by $2\\pi$. (These text cells can handle Latex math code as well)"
   ]
  },
  {
   "cell_type": "code",
   "execution_count": null,
   "metadata": {},
   "outputs": [],
   "source": [
    "degree = np.arange(360) \n",
    "rad = degree/360*2*np.pi\n",
    "print(degree[:20]) # Print the first 20 items of the degree list\n",
    "print(rad[:20]) # Print the first 20 items of the rad list"
   ]
  },
  {
   "cell_type": "markdown",
   "metadata": {},
   "source": [
    "**Note:**\n",
    "If you want to know more about a function that we are using, like `numpy.arrange()`, you can click to place the cursor inside the function parentheses and press \"Shift+Tab\" (press more than once for more info)"
   ]
  },
  {
   "cell_type": "markdown",
   "metadata": {},
   "source": [
    "Now we calculate the sine and plot it:"
   ]
  },
  {
   "cell_type": "code",
   "execution_count": null,
   "metadata": {},
   "outputs": [],
   "source": [
    "y = np.sin(rad)\n",
    "fig, ax = plt.subplots(nrows=1, ncols=1)  # Create a figure and axes\n",
    "ax.plot(rad, y, label='sin') # Plot x, y\n",
    "ax.legend()  # Plot the legends\n",
    "ax.set(xlabel='x', ylabel='y')  # Set the label for the x-axis and y-axis"
   ]
  },
  {
   "cell_type": "markdown",
   "metadata": {},
   "source": [
    "# Saving plots\n",
    "In order to save this plot as a .png you can run `fig.savefig('name.png')`.\n",
    "\n",
    "It will then show up on the file selection screen, where you can select it and press the *Download* button to download it."
   ]
  },
  {
   "cell_type": "code",
   "execution_count": null,
   "metadata": {},
   "outputs": [],
   "source": [
    "fig.savefig('test.png')"
   ]
  },
  {
   "cell_type": "markdown",
   "metadata": {},
   "source": [
    "This notebook was inspired by the welcome.ipynb of Google Colaboratory"
   ]
  }
 ],
 "metadata": {
  "kernelspec": {
   "display_name": "Python 3",
   "language": "python",
   "name": "python3"
  },
  "language_info": {
   "codemirror_mode": {
    "name": "ipython",
    "version": 3
   },
   "file_extension": ".py",
   "mimetype": "text/x-python",
   "name": "python",
   "nbconvert_exporter": "python",
   "pygments_lexer": "ipython3",
   "version": "3.8.1"
  }
 },
 "nbformat": 4,
 "nbformat_minor": 2
}
