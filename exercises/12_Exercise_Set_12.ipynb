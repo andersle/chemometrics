{
 "cells": [
  {
   "cell_type": "markdown",
   "metadata": {},
   "source": [
    "**Exercise set 12**\n",
    "==============\n",
    "\n",
    "\n",
    ">In this exercise set, we use the discrete Fourier transform\n",
    ">for analyzing some simple signals. Our focus here is on the practical\n",
    ">use of the fast Fourier transform for identifying frequencies\n",
    ">present in signals and removing unwanted ones.\n",
    "\n",
    "\n",
    "**Exercise 12.1**\n",
    "\n",
    "In this exercise, we will investigate how the time resolution and the\n",
    "length of the measured signal (in time) will influence the discrete Fourier transform.\n",
    "For performing the Fourier transform, we will make use of the\n",
    "[`scipy.fft`](https://docs.scipy.org/doc/scipy/reference/fft.html) \n",
    "module which contains several methods for applying the fast Fourier transform (FFT).\n",
    "\n",
    "Below, you will find some Python code for\n",
    "calculating the FFT for a given signal."
   ]
  },
  {
   "cell_type": "code",
   "execution_count": null,
   "metadata": {},
   "outputs": [],
   "source": [
    "import numpy as np\n",
    "from scipy.fft import fft, fftfreq\n",
    "import matplotlib as mpl\n",
    "from matplotlib import pyplot as plt\n",
    "mpl.rcParams[\"savefig.format\"] = 'pdf'\n",
    "plt.style.use('seaborn-notebook')\n",
    "\n",
    "\n",
    "def run_fft(time, signal):\n",
    "    \"\"\"Do fft for the given signal.\n",
    "\n",
    "    Parameters\n",
    "    ----------\n",
    "    time : numpy.array\n",
    "        The times we have measured the signal at.\n",
    "    signal : numpy.array\n",
    "        The measured signal.\n",
    "\n",
    "    Returns\n",
    "    -------\n",
    "    freq : numpy.array\n",
    "        The positive frequencies.\n",
    "    fourier : numpy.array\n",
    "        The Fourier transform coefficients.\n",
    "    amplitude : numpy.array\n",
    "        The amplitude spectrum.\n",
    "    power : numpy.array\n",
    "        The power spectrum.\n",
    "\n",
    "    \"\"\"\n",
    "    fourier = fft(signal)\n",
    "    delta_t = time[1] - time[0]\n",
    "    N = signal.size\n",
    "    freq = fftfreq(N, delta_t)\n",
    "    amplitude = np.abs(fourier / N)\n",
    "    power = np.abs(fourier)**2\n",
    "    # Normalize power:\n",
    "    power = power / power.sum()\n",
    "    return freq[:N//2], fourier, amplitude[:N//2], power[:N//2]\n",
    "\n",
    "\n",
    "time = np.arange(0, 2, 0.01)\n",
    "signal = np.sin(2.0 * 2.0 * np.pi * time)\n",
    "freq, _, amplitude, _ = run_fft(time, signal)\n",
    "\n",
    "\n",
    "fig, (ax1, ax2) = plt.subplots(constrained_layout=True, ncols=2)\n",
    "ax1.plot(time, signal, lw=3)\n",
    "ax2.plot(freq, amplitude, lw=3)\n",
    "ax1.set(xlabel='Time (s)', ylabel='Signal amplitude')\n",
    "ax2.set(xlabel='Frequency (Hz)', ylabel='Amplitude')\n",
    "plt.show()"
   ]
  },
  {
   "cell_type": "markdown",
   "metadata": {},
   "source": [
    "The method `run_fft`\n",
    "returns several arrays of numbers:\n",
    "\n",
    "1. The positive frequencies.\n",
    "\n",
    "2. The Fourier transform coefficients (note that these are complex numbers).\n",
    "\n",
    "3. The amplitude spectrum, obtained by taking the absolute value of the\n",
    "   complex numbers.\n",
    "\n",
    "4. The power spectrum, obtained by taking the square of the amplitude spectrum.\n",
    "\n",
    "When we analyze the Fourier transform, we are typically plotting the amplitude spectrum,\n",
    "or the power spectrum, as a function of the frequencies.\n",
    "\n",
    "**(a)** We will now consider the function,\n",
    "\n",
    "\\begin{equation}\n",
    "y(t) = \\sin (2 \\times 2\\pi t),\n",
    "\\label{eq:signal1}\n",
    "\\tag{1}\\end{equation}\n",
    "\n",
    "where $t$ is the time in seconds. This function has\n",
    "a frequency of $2$ and a period of $\\tfrac{1}{2}$.\n",
    "Create three versions of this function by evaluating it for\n",
    "different time ranges:\n",
    "\n",
    "* (i)  from $0$ to $0.5$ (i.e. one period)\n",
    "  with a time step of $0.01$:\n",
    "  \n",
    "  `time = np.arange(0, 0.5, 0.01)`\n",
    "\n",
    "\n",
    "* (ii) from $0$ to $1$ (i.e. two periods)\n",
    "  with a time step of $0.01$:\n",
    "  \n",
    "  `time = np.arange(0, 1, 0.01)`\n",
    "\n",
    "\n",
    "* (iii) from $0$ to $5$ (i.e. $10$ periods)\n",
    "  with a time step of $0.01$:\n",
    "  \n",
    "  `time = np.arange(0, 5, 0.01)`\n",
    "\n",
    "Create these three versions of the function in Eq. \\eqref{eq:signal1},\n",
    "calculate the FFT for each of them, and compare the amplitude spectra.\n",
    "Based on your comparison, what is the effect of increasing the *length*\n",
    "in time we sample the signal for?"
   ]
  },
  {
   "cell_type": "code",
   "execution_count": null,
   "metadata": {},
   "outputs": [],
   "source": [
    "# Your code here"
   ]
  },
  {
   "cell_type": "markdown",
   "metadata": {},
   "source": [
    "**Your answer to question 12.1(a):** *Double click here*"
   ]
  },
  {
   "cell_type": "markdown",
   "metadata": {},
   "source": [
    "**(b)**  One \"trick\" we can do to increase the length of a signal is to\n",
    "simply add zeros to the beginning and the end of the signal. This is\n",
    "called \"zero-padding\", and we can do this with the method\n",
    "[`pad`](https://docs.scipy.org/doc/numpy/reference/generated/numpy.pad.html) \n",
    "from `numpy`:\n",
    "`zero_pad = np.pad(signal, pad_width=250)`.  This will add $250$ zeros to\n",
    "the beginning of the signal, and $250$ zeros to the end of the signal. Consider again\n",
    "the signal you created in point (i) in part **12.1(a)** of this\n",
    "exercise. Pad this signal by adding $250$ zeros to the beginning and $250$ zeros to\n",
    "the end\n",
    "of the signal, and calculate the FFT for the padded signal. Comparing this to\n",
    "the non-padded version, what seems to\n",
    "be the effect when you pad the signal?\n",
    "\n"
   ]
  },
  {
   "cell_type": "code",
   "execution_count": null,
   "metadata": {},
   "outputs": [],
   "source": [
    "# Your code here"
   ]
  },
  {
   "cell_type": "markdown",
   "metadata": {},
   "source": [
    "**Your answer to question 12.1(b):** *Double click here*"
   ]
  },
  {
   "cell_type": "markdown",
   "metadata": {},
   "source": [
    "**(c)**  We will continue with the signal in Eq. 1, but this time we will\n",
    "investigate the effect of changing the sampling frequency (i.e. the time step/how often\n",
    "we measure the signal in time).\n",
    "Create $4$ new versions of this signal:\n",
    "\n",
    "* (i) from $0$ to $0.5$ (i.e. one period)\n",
    "  with a time step of $0.01$:\n",
    "\n",
    "  `time = np.arange(0, 0.5, 0.01)`\n",
    "\n",
    "\n",
    "* (ii) from $0$ to $0.5$ (i.e. one period)\n",
    "  with a time step of $0.005$:\n",
    "\n",
    "  `time = np.arange(0, 0.5, 0.005)`\n",
    "\n",
    "\n",
    "* (iii) from $0$ to $1$ (i.e. two periods)\n",
    "  with a time step of $0.125$:\n",
    "  \n",
    "  `time = np.arange(0, 1, 0.125)`\n",
    "\n",
    "\n",
    "* (iv) from $0$ to $10$ (i.e. $20$ periods)\n",
    "  with a time step of $0.3$:\n",
    "  \n",
    "  `time = np.arange(0, 10, 0.3)`\n",
    "\n",
    "\n",
    "Create these $4$ signals, calculate the FFT for each of\n",
    "them, and compare the amplitude spectra. Based on your results, what seems\n",
    "to be the effect of changing the sampling frequency? Can you explain the\n",
    "results you obtain for the $4$th signal (point (iv) above)?"
   ]
  },
  {
   "cell_type": "code",
   "execution_count": null,
   "metadata": {},
   "outputs": [],
   "source": [
    "# Your code here"
   ]
  },
  {
   "cell_type": "markdown",
   "metadata": {},
   "source": [
    "**Your answer to question 12.1(c):** *Double click here*"
   ]
  },
  {
   "cell_type": "markdown",
   "metadata": {},
   "source": [
    "**(d)**  We will now consider a new signal which contains two frequencies:\n",
    "\n",
    "\\begin{equation}\n",
    "y(t) = \\sin (2 \\times 2\\pi t)\n",
    "+ \\sin (2.1 \\times 2\\pi t),\n",
    "\\label{eq:signal2}\n",
    "\\tag{2}\\end{equation}\n",
    "\n",
    "If you were to separate these two frequencies ($2$ and $2.1$) with the FFT method,\n",
    "how long would you have to sample the signal for? Test this by\n",
    "calculating the FFT of this signal (Eq. \\eqref{eq:signal2}) and\n",
    "plotting the amplitude spectrum."
   ]
  },
  {
   "cell_type": "code",
   "execution_count": null,
   "metadata": {},
   "outputs": [],
   "source": [
    "# Your code here"
   ]
  },
  {
   "cell_type": "markdown",
   "metadata": {},
   "source": [
    "**Your answer to question 12.1(d):** *Double click here*"
   ]
  },
  {
   "cell_type": "markdown",
   "metadata": {},
   "source": [
    "**Exercise 12.2**\n",
    "\n",
    "The file [`Data/unknown_signal.txt`](Data/unknown_signal.txt) contains a measurement\n",
    "of a signal with noise. The first column are the times for which the signal was\n",
    "measured, and the signal itself can be found in the second column. You know that this\n",
    "signal, $y$, should have the following form as a function of time, $t$,\n",
    "\n",
    "\\begin{equation}\n",
    "y(t) = a \\sin (f_1 \\times 2\\pi t) + b \\sin(f_2 \\times 2\\pi t),\n",
    "\\label{eq:signal3}\\tag{3}\n",
    "\\end{equation}\n",
    "\n",
    "where $a$ and $b$ are coefficients, and $f_1$ and $f_2$ are two\n",
    "frequencies. Determine the coefficients and the two frequencies by\n",
    "calculating the FFT of the given signal. Note: Since the FFT method will find\n",
    "both negative and positive frequencies, you should also include the\n",
    "negative frequencies. We can show that, in this case, this is effectively\n",
    "the same as only \n",
    "considering the positive frequencies, but doubling the \n",
    "amplitudes.\n",
    "\n",
    "Here is a justifaction for this statement:\n",
    "One simple argument\n",
    "is as follows. For Eq. \\eqref{eq:signal3}, the Fourier coefficients will be\n",
    "purely imaginary. Further, the coefficients for a pair of frequencies, $f$ and $-f$,\n",
    "will be complex conjugates of each other. The sum of the contributions for these\n",
    "two frequencies will be $c_{f} \\text{e}^{2\\pi f t} + c_{-f} \\text{e}^{-2 \\pi f t}$,\n",
    "where $c_f$ and $c_{-f}$ are the two coefficients.\n",
    "Performing this summation results in  $2 A_f \\sin (2 \\pi f t)$,\n",
    "where $A_f = \\sqrt{||c_f||^2} = \\sqrt{||c_{-f}||^2}$ is\n",
    "the amplitude. Try to show this yourself, by using\n",
    "[Euler's formula](https://en.wikipedia.org/wiki/Euler\\%27s\\_formula),\n",
    "and assuming that $c_f=c_{-f}^\\ast$ is purely imaginary (here \"$^\\ast$\" denotes\n",
    "the complex conjugate)."
   ]
  },
  {
   "cell_type": "code",
   "execution_count": null,
   "metadata": {},
   "outputs": [],
   "source": [
    "# Your code here"
   ]
  },
  {
   "cell_type": "markdown",
   "metadata": {},
   "source": [
    "**Your answer to question 12.2:** *Double click here*"
   ]
  },
  {
   "cell_type": "markdown",
   "metadata": {},
   "source": [
    "**Exercise 12.3**\n",
    "\n",
    "[Scar tissue](https://open.spotify.com/track/1G391cbiT3v3Cywg8T7DM1?autoplay=true&v=T) \n",
    "is a song by the Red Hot Chili Peppers (RHCP).\n",
    "By nerdy inspection of RHCP music videos, one can see that the two\n",
    "first notes played by the guitar in the intro should be a\n",
    "F note followed by a A note.\n",
    "However, the second note (the A note) sounds slightly out of tune when comparing\n",
    "a tuned guitar playing this note, to the album recording of the song. We\n",
    "will here investigate if this is true and to what extent it is out of tune.\n",
    "\n",
    "\n",
    "**(a)**  We will start by analyzing a known signal. The file [`Data/440hz.txt.gz`](Data/440hz.txt.gz)\n",
    "contains a sample of a A note at $440$ Hz. The first column of this file\n",
    "is the time, and the second column is the sampled A note at the corresponding time.\n",
    "Compute the FFT of this signal and verify that it contains the expected frequency.\n",
    "Note: This file is compressed with\n",
    "[gzip](https://en.wikipedia.org/wiki/Gzip) , but `numpy` can read this\n",
    "file directly with the\n",
    "[`loadtxt`](https://docs.scipy.org/doc/numpy/reference/generated/numpy.loadtxt.html)  \n",
    "method: `np.loadtxt(\"Data/440hz.txt.gz\")`"
   ]
  },
  {
   "cell_type": "code",
   "execution_count": null,
   "metadata": {},
   "outputs": [],
   "source": [
    "# Your code here"
   ]
  },
  {
   "cell_type": "markdown",
   "metadata": {},
   "source": [
    "**Your answer to question 12.3(a):** *Double click here*"
   ]
  },
  {
   "cell_type": "markdown",
   "metadata": {},
   "source": [
    "**(b)** A recording of the first few seconds of\n",
    "[Scar tissue](https://open.spotify.com/track/1G391cbiT3v3Cywg8T7DM1?autoplay=true&v=T) \n",
    "is shown in Fig 1. We will here focus on two parts of the signal, as\n",
    "highlighted in the figure. In the first part of the signal, we expect to mainly\n",
    "find the F note at $174.61$ Hz and harmonics which are multiples of this\n",
    "frequency, for instance, $349.23\\,\\text{Hz} = 2 \\times 174.61\\,\\text{Hz}$, and\n",
    "$698.46\\,\\text{Hz} = 4 \\times 174.61\\,\\text{Hz}$. (A table of notes and\n",
    "frequencies can be found [here](https://pages.mtu.edu/~suits/notefreqs.html))\n",
    "\n",
    "In the second part of the signal, we expect to still find the F note, but also\n",
    "the possible A note at $440$ Hz, as this is approximately when that note is\n",
    "played. We will now try to identify the second note by comparing the\n",
    "amplitude spectra obtained by taking the Fourier transform of the two parts separately.\n",
    "\n",
    "* (i)  Calculate the FFT of the first part. The recording of this part\n",
    "  can be found in the file [`Data/part1.txt.gz`](Data/part1.txt.gz) where the first\n",
    "  column is the time and the second column is the amplitude. Can you find\n",
    "  the F note in this signal?\n",
    "\n",
    "\n",
    "* (ii)  Calculate the FFT of the second part.\n",
    "  The recording of this part\n",
    "  can be found in the file [`Data/part2.txt.gz`](Data/part2.txt.gz) where the first\n",
    "  column is the time and the second column is the amplitude. Can you still find\n",
    "  the F note in this signal?\n",
    "\n",
    "\n",
    "* (iii)  Compare the two amplitude spectra you have obtained. For your comparison,\n",
    "  it might be helpful to normalize the spectra so that the largest amplitude\n",
    "  is equal to $1$ in both spectra. When you compare the two spectra, can you\n",
    "  see a difference around $440$ Hz? Estimate the frequency\n",
    "  associated with the largest amplitude close to $440$ Hz in the amplitude\n",
    "  spectrum of part 2.\n",
    "\n",
    "![scar.png](Figures/scar.png)\n",
    "\n",
    "**Figure 1:** (Left) Amplitude in a recording of Scar Tissue as a function of time. (Right-top)\n",
    "The first part (color red) of the signal we will analyze. (Right-bottom)\n",
    "The second part (color red) of the signal we will analyze."
   ]
  },
  {
   "cell_type": "code",
   "execution_count": null,
   "metadata": {},
   "outputs": [],
   "source": [
    "# Your code here"
   ]
  },
  {
   "cell_type": "markdown",
   "metadata": {},
   "source": [
    "**Your answer to question 12.3(b):** *Double click here*"
   ]
  },
  {
   "cell_type": "markdown",
   "metadata": {},
   "source": [
    "**(c)**  Would you say that the frequency you identified above in part **12.3(b)**&ndash;(iii)\n",
    "is out of tune with respect to the expected A note at $440$ Hz? Since we are, after all, at a\n",
    "technical university, we can try to quantify this by calculating \n",
    "the number of cents measuring the interval between the two frequencies.\n",
    "The number of cents, $n$, is a unit of measure for the ratio\n",
    "between two frequencies, $f_1$ and $f_2$,\n",
    "\n",
    "\\begin{equation}\n",
    "n = 1200 \\times \\log_2 \\frac{f_1}{f_2},\n",
    "\\tag{4}\\end{equation}\n",
    "\n",
    "and\n",
    "[Wikipedia](https://en.wikipedia.org/wiki/Cent\\_(music)\\#Human_perception)  states that\n",
    "we humans can distinguish a difference in pitch of about $5$&ndash;$6$ cents. Calculate the number\n",
    "of cents for the two frequencies $f_1 = 440\\,\\text{Hz}$ and $f_2$ equal to the\n",
    "frequency you identified above, and use this to support your conclusion.\n",
    "Further, Wikipedia gives a [Just-noticeable difference](https://en.wikipedia.org/wiki/Just-noticeable_difference) of 3 Hz for frequencies below 500 Hz for\n",
    "simple tones, and you can also use this to support your conclusion."
   ]
  },
  {
   "cell_type": "code",
   "execution_count": null,
   "metadata": {},
   "outputs": [],
   "source": [
    "# Your code here"
   ]
  },
  {
   "cell_type": "markdown",
   "metadata": {},
   "source": [
    "**Your answer to question 12.3(c):** *Double click here*"
   ]
  },
  {
   "cell_type": "markdown",
   "metadata": {},
   "source": [
    "\n",
    "\n"
   ]
  }
 ],
 "metadata": {
  "kernelspec": {
   "display_name": "Python 3",
   "language": "python",
   "name": "python3"
  },
  "language_info": {
   "codemirror_mode": {
    "name": "ipython",
    "version": 3
   },
   "file_extension": ".py",
   "mimetype": "text/x-python",
   "name": "python",
   "nbconvert_exporter": "python",
   "pygments_lexer": "ipython3",
   "version": "3.9.2"
  }
 },
 "nbformat": 4,
 "nbformat_minor": 2
}
