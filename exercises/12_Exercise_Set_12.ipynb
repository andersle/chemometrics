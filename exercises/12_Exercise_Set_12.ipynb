{
 "cells": [
  {
   "cell_type": "markdown",
   "metadata": {},
   "source": [
    "**Exercise set 12**\n",
    "==============\n",
    "\n",
    "\n",
    ">In this exercise, we will process signals and you will learn how you\n",
    ">can remove noise, obtain numerical derivatives of noisy signals, and\n",
    ">correct near-infrared spectra by removing unwanted scattering effects.\n",
    "\n",
    "\n",
    "**Exercise 12.1**\n",
    "\n",
    "In this exercise, we will test out the Savitzky&ndash;Golay filter for smoothing\n",
    "and numerical differentiation. We will use a test signal which has been generated\n",
    "from the following analytical function,\n",
    "\n",
    "\\begin{equation}\n",
    "y(t) = \\sin 8t - 1.8t^2 + 0.5t^3.\n",
    "\\label{eq:signal}\n",
    "\\tag{1}\\end{equation}\n",
    "\n",
    "The signal is available in the file `Data/signal.txt`.\n",
    "In addition, we will investigate a test signal which is generated from the same\n",
    "analytical function, but with noise added. This signal is available in the file\n",
    "`Data/signal_noise.txt`.\n",
    "In `scipy` a Savitzky&ndash;Golay filter can be created by using\n",
    "the method `savgol_filter` from `scipy.signal`.(https://docs.scipy.org/doc/scipy/reference/generated/scipy.signal.savgol_filter.html)\n",
    "\n",
    "\n",
    "**(a)**  Create a Savitzky&ndash;Golay smoothing filter with a window of size $5$\n",
    "and polynomial order of $3$. Apply this filter to the signal without noise\n",
    "and compare the filtered signal with the original signal.\n",
    "\n"
   ]
  },
  {
   "cell_type": "code",
   "execution_count": null,
   "metadata": {},
   "outputs": [],
   "source": [
    "# Your code here"
   ]
  },
  {
   "cell_type": "markdown",
   "metadata": {},
   "source": [
    "**Your answer to question 12.1(a):** *Double click here*"
   ]
  },
  {
   "cell_type": "markdown",
   "metadata": {},
   "source": [
    "**(b)**  Create a Savitzky&ndash;Golay smoothing filter with a window of size $7$\n",
    "and polynomial order of $3$. Apply this filter to the signal without noise\n",
    "and compare the filtered signal with the original signal.\n",
    "\n"
   ]
  },
  {
   "cell_type": "code",
   "execution_count": null,
   "metadata": {},
   "outputs": [],
   "source": [
    "# Your code here"
   ]
  },
  {
   "cell_type": "markdown",
   "metadata": {},
   "source": [
    "**Your answer to question 12.1(b):** *Double click here*"
   ]
  },
  {
   "cell_type": "markdown",
   "metadata": {},
   "source": [
    "**(c)**  Create a Savitzky&ndash;Golay filter for first-order differentiation with a\n",
    "window size of $5$ and polynomial order of $3$. Apply this to the signal\n",
    "without noise and compare the differentiated signal with the analytical\n",
    "derivative of Eq. 1. \n",
    "\n",
    "**Note:** In order to obtain the derivative,\n",
    "you will have to supply the spacing between your points using the\n",
    "`delta` parameter of the `savgol_filter` method."
   ]
  },
  {
   "cell_type": "code",
   "execution_count": null,
   "metadata": {},
   "outputs": [],
   "source": [
    "# Your code here"
   ]
  },
  {
   "cell_type": "markdown",
   "metadata": {},
   "source": [
    "**Your answer to question 12.1(c):** *Double click here*"
   ]
  },
  {
   "cell_type": "markdown",
   "metadata": {},
   "source": [
    "**(d)**  Create a Savitzky&ndash;Golay filter for first-order differentiation with a\n",
    "window size of $7$ and polynomial order of $3$. Apply this to the signal\n",
    "without noise and compare the differentiated signal with the analytical\n",
    "derivative of Eq. 1.\n",
    "\n"
   ]
  },
  {
   "cell_type": "code",
   "execution_count": null,
   "metadata": {},
   "outputs": [],
   "source": [
    "# Your code here"
   ]
  },
  {
   "cell_type": "markdown",
   "metadata": {},
   "source": [
    "**Your answer to question 12.1(d):** *Double click here*"
   ]
  },
  {
   "cell_type": "markdown",
   "metadata": {},
   "source": [
    "**(e)**  Create a Savitzky&ndash;Golay filter for smoothing of the signal with noise.\n",
    "Here, you have to experiment with the window size to use. Use a polynomial\n",
    "order of $3$, and compare your smoothed signal with the original signal, and\n",
    "the signal without noise.\n",
    "\n"
   ]
  },
  {
   "cell_type": "code",
   "execution_count": null,
   "metadata": {},
   "outputs": [],
   "source": [
    "# Your code here"
   ]
  },
  {
   "cell_type": "markdown",
   "metadata": {},
   "source": [
    "**Your answer to question 12.1(e):** *Double click here*"
   ]
  },
  {
   "cell_type": "markdown",
   "metadata": {},
   "source": [
    "**(f)**  Create a Savitzky&ndash;Golay filter for first-order differentiation of the signal\n",
    "with noise. Here, you have to experiment with the window size to use.\n",
    "Use a polynomial order of $3$ and compare your differentiated signal\n",
    "with the analytical derivative of Eq. 1.\n"
   ]
  },
  {
   "cell_type": "code",
   "execution_count": null,
   "metadata": {},
   "outputs": [],
   "source": [
    "# Your code here"
   ]
  },
  {
   "cell_type": "markdown",
   "metadata": {},
   "source": [
    "**Your answer to question 12.1(f):** *Double click here*"
   ]
  },
  {
   "cell_type": "markdown",
   "metadata": {},
   "source": [
    "\n",
    "\n",
    "**Exercise 12.2**\n",
    "\n",
    "In this exercise, we will try to smooth by performing convolution.\n",
    "We will attempt to smooth the signal given in Eq. 1\n",
    "with added noise (data file: `Data/signal_noise.txt`). A short example\n",
    "on performing convolution with `numpy`:\n",
    "```python\n",
    "import numpy as np\n",
    "\n",
    "signal = np.loadtxt('Data/signal_noise.txt')[:, 1]  # Load signal.\n",
    "window = np.bartlett(21)  # Create a triangular window.\n",
    "window /= window.sum()  # Normalize the window.\n",
    "conv = np.convolve(signal, window, mode='same')  # Calculate convolution.\n",
    "```\n",
    "\n",
    "\n",
    "**(a)**  Select a windowing function(A list of the available windowing\n",
    "functions in `numpy` can be found at [here](https://docs.scipy.org/doc/numpy/reference/routines.window.html)\n",
    "and use this to smooth the signal by convolution. Compare your\n",
    "smoothed signal with the raw data and the analytical expression\n",
    "without noise (Eq. 1).\n",
    "\n"
   ]
  },
  {
   "cell_type": "code",
   "execution_count": null,
   "metadata": {},
   "outputs": [],
   "source": [
    "# Your code here"
   ]
  },
  {
   "cell_type": "markdown",
   "metadata": {},
   "source": [
    "**Your answer to question 12.2(a):** *Double click here*"
   ]
  },
  {
   "cell_type": "markdown",
   "metadata": {},
   "source": [
    "**(b)**  Create a windowing function which is \"rectangular\": constant for a small and\n",
    "finite region, and zero otherwise. Use this function to smooth the signal, and\n",
    "compare it with the raw data and Eq. 1.\n"
   ]
  },
  {
   "cell_type": "code",
   "execution_count": null,
   "metadata": {},
   "outputs": [],
   "source": [
    "# Your code here"
   ]
  },
  {
   "cell_type": "markdown",
   "metadata": {},
   "source": [
    "**Your answer to question 12.2(b):** *Double click here*"
   ]
  },
  {
   "cell_type": "markdown",
   "metadata": {},
   "source": [
    "\n",
    "**Exercise 12.3**\n",
    "\n",
    "We will now investigate a noise signal that contains an artificially added\n",
    "trend. We will try to remove this trend and locate the peaks present in the signal.\n",
    "\n",
    "\n",
    "**(a)**  Consider the signal given in `Data/peaks.txt`. \n",
    "Use a third-order polynomial to estimate the trend in the data.\n",
    "Subtract this trend from the raw data and plot the resulting signal.\n",
    "\n"
   ]
  },
  {
   "cell_type": "code",
   "execution_count": null,
   "metadata": {},
   "outputs": [],
   "source": [
    "# Your code here"
   ]
  },
  {
   "cell_type": "markdown",
   "metadata": {},
   "source": [
    "**Your answer to question 12.3(a):** *Double click here*"
   ]
  },
  {
   "cell_type": "markdown",
   "metadata": {},
   "source": [
    "**(b)** Smooth the signal with the trend removed (either by\n",
    "convolution or by using a Savitzky&ndash;Golay\n",
    "filter) and plot the smoothed signal. Identify the $6$ main peaks present\n",
    "in the signal. "
   ]
  },
  {
   "cell_type": "code",
   "execution_count": null,
   "metadata": {},
   "outputs": [],
   "source": [
    "# Your code here"
   ]
  },
  {
   "cell_type": "markdown",
   "metadata": {},
   "source": [
    "**Your answer to question 12.3(b):** *Double click here*"
   ]
  },
  {
   "cell_type": "markdown",
   "metadata": {},
   "source": [
    "\n",
    "**Exercise 12.4**\n",
    "\n",
    "You have measured the signal given in the file `Data/spike.txt`. Unfortunately, \n",
    "the signal contains a prominent spike that you would like to remove.\n",
    "\n",
    "**(a)**  Process the signal by convolution. Use a window of your choice,\n",
    "for instance, the [Bartlett](https://en.wikipedia.org/wiki/Window_function#Triangular_window) window.\n",
    "Are you able to remove the spike?\n",
    "\n"
   ]
  },
  {
   "cell_type": "code",
   "execution_count": null,
   "metadata": {},
   "outputs": [],
   "source": [
    "# Your code here"
   ]
  },
  {
   "cell_type": "markdown",
   "metadata": {},
   "source": [
    "**Your answer to question 12.4(a):** *Double click here*"
   ]
  },
  {
   "cell_type": "markdown",
   "metadata": {},
   "source": [
    "**(b)**  Process the signal by implementing a *median* filter.\n",
    "The median filter\n",
    "returns the median value of the signal in a given window.\n",
    "Unfortunately, this filter can not\n",
    "be expressed as a simple convolution and you will thus have to create\n",
    "a new method that processes the signal.\n",
    "Create such a method, and process the signal. Are you able to remove the\n",
    "spike with this filter?\n",
    "\n"
   ]
  },
  {
   "cell_type": "code",
   "execution_count": null,
   "metadata": {},
   "outputs": [],
   "source": [
    "# Your code here"
   ]
  },
  {
   "cell_type": "markdown",
   "metadata": {},
   "source": [
    "**Your answer to question 12.4(b):** *Double click here*"
   ]
  },
  {
   "cell_type": "markdown",
   "metadata": {},
   "source": [
    "**(c)**  Compare the median filter you have created with the convolution results.\n"
   ]
  },
  {
   "cell_type": "code",
   "execution_count": null,
   "metadata": {},
   "outputs": [],
   "source": [
    "# Your code here"
   ]
  },
  {
   "cell_type": "markdown",
   "metadata": {},
   "source": [
    "**Your answer to question 12.4(c):** *Double click here*"
   ]
  },
  {
   "cell_type": "markdown",
   "metadata": {},
   "source": [
    "\n",
    "\n",
    "**Exercise 12.5**\n",
    "\n",
    "Multiple Scatter Correction (MSC) is one approach to remove non-linear\n",
    "effects in near-infrared (NIR) spectra. Such effects may arise as a result\n",
    "of scattering effects in a sample.\n",
    "This will generate additional variance which is not related to the\n",
    "chemical interesting information contained in the spectrum, and we would,\n",
    "therefore, like to remove it.\n",
    "\n",
    "The file `Data/nir_msc.txt` contains $222$ spectra which have been\n",
    "sampled at $121$ wavelengths. Each row contains a spectrum, and each\n",
    "column represents a single wavelength. You will now apply MSC to\n",
    "correct these spectra.\n",
    "\n",
    "\n",
    "**(a)**  Find a representative spectrum by taking the mean of the $222$ spectra.\n",
    "We will refer to this representative spectrum as $f(x)$ in the following.\n",
    "\n"
   ]
  },
  {
   "cell_type": "code",
   "execution_count": null,
   "metadata": {},
   "outputs": [],
   "source": [
    "# Your code here"
   ]
  },
  {
   "cell_type": "markdown",
   "metadata": {},
   "source": [
    "**Your answer to question 12.5(a):** *Double click here*"
   ]
  },
  {
   "cell_type": "markdown",
   "metadata": {},
   "source": [
    "**(b)**  Correct each spectrum, $h_i(x)$, by first fitting it to a linear\n",
    "equation,\n",
    "\\begin{equation}\n",
    "h_i(x) = a_i f(x) + b_i ,\n",
    "\\end{equation}\n",
    "\n",
    "and then remove the scattering effects by taking,\n",
    "\\begin{equation}\n",
    "h_{i, \\text{corrected}}(x) = \\frac{h_i(x) -b_i}{a_i} .\n",
    "\\end{equation}\n",
    "\n",
    "\n"
   ]
  },
  {
   "cell_type": "code",
   "execution_count": null,
   "metadata": {},
   "outputs": [],
   "source": [
    "# Your code here"
   ]
  },
  {
   "cell_type": "markdown",
   "metadata": {},
   "source": [
    "**Your answer to question 12.5(b):** *Double click here*"
   ]
  },
  {
   "cell_type": "markdown",
   "metadata": {},
   "source": [
    "**(c)**  Plot the corrected and uncorrected spectra.\n",
    "Does this look like what you would expect?\n",
    "\n"
   ]
  },
  {
   "cell_type": "code",
   "execution_count": null,
   "metadata": {},
   "outputs": [],
   "source": [
    "# Your code here"
   ]
  },
  {
   "cell_type": "markdown",
   "metadata": {},
   "source": [
    "**Your answer to question 12.5(c):** *Double click here*"
   ]
  },
  {
   "cell_type": "markdown",
   "metadata": {},
   "source": [
    "**(d)**  Quantify the effect of the MSC by calculating the sum of squares, $SS_0$,\n",
    "of the *centered* spectra,\n",
    "\\begin{equation}\n",
    "SS_0 = \\sum_i \\sum_j (x_{ij} - \\overline{x}_j)^2,\n",
    "\\end{equation}\n",
    "\n",
    "where $x_{ij}$ is the intensity for spectrum $i$ at wavelength $j$, and\n",
    "$\\overline{x}_j$ is the mean of all spectra for wavelength $j$.\n",
    "Calculate $SS_0$ for both the corrected and uncorrected spectra.\n",
    "Are these values as you would expect?\n",
    "\n"
   ]
  },
  {
   "cell_type": "code",
   "execution_count": null,
   "metadata": {},
   "outputs": [],
   "source": [
    "# Your code here"
   ]
  },
  {
   "cell_type": "markdown",
   "metadata": {},
   "source": [
    "**Your answer to question 12.5(d):** *Double click here*"
   ]
  },
  {
   "cell_type": "markdown",
   "metadata": {},
   "source": [
    "**(e)**  A simple alternative to MSC is to \"auto-scale\" each spectrum,\n",
    "\\begin{equation}\n",
    "h_{i, \\text{auto-scale}}(x) = \\frac{h_i(x) - \\overline{h}_i}{\\sigma_i},\n",
    "\\end{equation}\n",
    "\n",
    "where $h_i(x)$ is the original spectrum, $\\overline{h}_i$ its average, and\n",
    "$\\sigma_i$ the standard deviation of the spectrum. Apply this to the\n",
    "original spectra, and compare with the uncorrected spectra and the MSC spectra.\n"
   ]
  },
  {
   "cell_type": "code",
   "execution_count": null,
   "metadata": {},
   "outputs": [],
   "source": [
    "# Your code here"
   ]
  },
  {
   "cell_type": "markdown",
   "metadata": {},
   "source": [
    "**Your answer to question 12.5(e):** *Double click here*"
   ]
  }
 ],
 "metadata": {
  "kernelspec": {
   "display_name": "Python 3",
   "language": "python",
   "name": "python3"
  },
  "language_info": {
   "codemirror_mode": {
    "name": "ipython",
    "version": 3
   },
   "file_extension": ".py",
   "mimetype": "text/x-python",
   "name": "python",
   "nbconvert_exporter": "python",
   "pygments_lexer": "ipython3",
   "version": "3.8.1"
  }
 },
 "nbformat": 4,
 "nbformat_minor": 2
}
