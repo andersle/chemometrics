{
 "cells": [
  {
   "cell_type": "markdown",
   "metadata": {},
   "source": [
    "**Exercise set 11**\n",
    "==============\n",
    "\n",
    "\n",
    ">In this exercise, we will process signals and you will learn how you\n",
    ">can remove noise, obtain numerical derivatives of noisy signals, and\n",
    ">correct near-infrared spectra by removing unwanted scattering effects.\n",
    "\n",
    "\n",
    "**Exercise 11.1**\n",
    "\n",
    "Savitzky&ndash;Golay filtering can be used to both smooth a signal and to obtain numerical\n",
    "derivatives. We will here check that we indeed can obtain the numerical derivative\n",
    "with a Savitzky&ndash;Golay filter. Note: A slightly more involved version of this\n",
    "question can be found in the 2020 practice exam.\n",
    "\n",
    "We consider a case where we set the window length to 3 and we have measured a signal, $y = f(x)$,\n",
    "at uniformly spaced locations $x$. We set the spacing between points to be $h$. If we let\n",
    "$x_0$ be the first point where we have measured the signal, then the locations of\n",
    "the other points are given by $x_i = x_0 + i \\times h$ for $i = 0, 1, 2, \\ldots$.\n",
    "\n",
    "\n",
    "**(a)**  Consider a specific window of length 3 where we have the set of points\n",
    "$(x_0, f(x_0))$,\n",
    "$(x_1, f(x_1))$, and,\n",
    "$(x_2, f(x_2))$,\n",
    "At a first step, we transform the original $x_i$ to scaled coordinates $z_i$\n",
    "so that $z_0 = -1$, $z_1 = 0$, and $z_2 = 1$, \n",
    "This can be done\n",
    "with the following transformation:\n",
    "\n",
    "\\begin{equation}\n",
    "z_ i = \\frac{x_i - \\alpha}{\\beta} .\n",
    "\\label{eq:transform}\n",
    "\\tag{1}\\end{equation}\n",
    "\n",
    "Verify that $\\alpha = x_0 + h$ and $\\beta = h$ gives the desired transformation."
   ]
  },
  {
   "cell_type": "code",
   "execution_count": null,
   "metadata": {},
   "outputs": [],
   "source": [
    "# Your code here"
   ]
  },
  {
   "cell_type": "markdown",
   "metadata": {},
   "source": [
    "**Your answer to question 11.1(a):** *Double click here*"
   ]
  },
  {
   "cell_type": "markdown",
   "metadata": {},
   "source": [
    "**(b)**  In the window we are considering, we are going to fit a polynomial of order 2,\n",
    "\\begin{equation}\n",
    "y = b_0 + b_1 z + b_2 z^2 .\n",
    "\\tag{2}\\end{equation}\n",
    "\n",
    "where we use $z$ as the variable. That is, we are now fitting to the set of points,\n",
    "$(z_0, f(x_0))$,\n",
    "$(z_1, f(x_1))$, and\n",
    "$(z_2, f(x_2))$,\n",
    "This fitting can be done with least squares and we can formulate the problem as,\n",
    "\n",
    "\\begin{equation}\n",
    "\\mathbf{y} = \\mathbf{J} \\mathbf{b},\n",
    "\\label{eq:ls}\n",
    "\\tag{3}\n",
    "\\end{equation}\n",
    "\n",
    "where\n",
    "\n",
    "\\begin{equation}\n",
    "\\mathbf{y} = \n",
    "\\begin{pmatrix}\n",
    "f(x_0) \\\\\n",
    "f(x_1) \\\\\n",
    "f(x_2) \\\\\n",
    "\\end{pmatrix}\n",
    ", \\quad\n",
    "\\mathbf{b} = \\begin{pmatrix}\n",
    "b_0 \\\\\n",
    "b_1 \\\\\n",
    "b_2 \\\\\n",
    "\\end{pmatrix},\n",
    "\\tag{4}\n",
    "\\end{equation}\n",
    "\n",
    "and $\\mathbf{J}$ is a matrix created from $z_0$, $z_1$, and $z_2$.\n",
    "What does the matrix $\\mathbf{J}$ contain in this case and how would you construct it? Below\n",
    "you can find a partially filled out $\\mathbf{J}$ (one column is missing), can you\n",
    "complete it by filling in the missing values?\n",
    "\n",
    "\\begin{equation}\n",
    "\\mathbf{J} =\n",
    "\\begin{pmatrix}\n",
    "1 &  ? & 1 \\\\\n",
    "1 &  ? & 0 \\\\\n",
    "1 &  ? & 1 \\\\\n",
    "\\end{pmatrix}\n",
    "\\tag{5}\\end{equation}"
   ]
  },
  {
   "cell_type": "code",
   "execution_count": null,
   "metadata": {},
   "outputs": [],
   "source": [
    "# Your code here"
   ]
  },
  {
   "cell_type": "markdown",
   "metadata": {},
   "source": [
    "**Your answer to question 11.1(b):** *Double click here*"
   ]
  },
  {
   "cell_type": "markdown",
   "metadata": {},
   "source": [
    "**(c)**  If you were to move the window and consider 3 new points,\n",
    "say, $(x_{10}, f(x_{10}))$, $(x_{11}, f(x_{11}))$, and $(x_{12}, f(x_{12}))$,\n",
    "would the\n",
    "$\\mathbf{J}$-matrix above change? Briefly justify your answer.\n",
    "\n"
   ]
  },
  {
   "cell_type": "code",
   "execution_count": null,
   "metadata": {},
   "outputs": [],
   "source": [
    "# Your code here"
   ]
  },
  {
   "cell_type": "markdown",
   "metadata": {},
   "source": [
    "**Your answer to question 11.1(c):** *Double click here*"
   ]
  },
  {
   "cell_type": "markdown",
   "metadata": {},
   "source": [
    "**(d)**  The least-squares solution to Eq. (3) can be written as,\n",
    "\n",
    "\\begin{equation}\n",
    "  \\mathbf{b} = \n",
    "\\begin{pmatrix} \n",
    "b_0 \\\\\n",
    "b_1 \\\\                 \n",
    "b_2 \\\\\n",
    "\\end{pmatrix} = \n",
    "\\begin{pmatrix}\n",
    "0  &  1  &   0 \\\\\n",
    "-1/2  &  0  & 1/2 \\\\\n",
    "1/2  & -1  & 1/2 \\\\\n",
    "\\end{pmatrix}\n",
    "\\begin{pmatrix} \n",
    "f(x_0) \\\\ \n",
    "f(x_1) \\\\   \n",
    "f(x_2) \n",
    "\\end{pmatrix}.\n",
    "\\tag{6}\n",
    "\\end{equation}\n",
    "\n",
    "Explain how you can use this equation to obtain the first derivative\n",
    "at the central location where $z=0$."
   ]
  },
  {
   "cell_type": "code",
   "execution_count": null,
   "metadata": {},
   "outputs": [],
   "source": [
    "# Your code here"
   ]
  },
  {
   "cell_type": "markdown",
   "metadata": {},
   "source": [
    "**Your answer to question 11.1(d):** *Double click here*"
   ]
  },
  {
   "cell_type": "markdown",
   "metadata": {},
   "source": [
    "**(e)**  An alternative numerical expression for the derivative at the central\n",
    "point is the central-difference expression:\n",
    "\n",
    "\\begin{equation}\n",
    "f^\\prime (x) = \\frac{f(x + h) - f(x - h)}{2 h}.\n",
    "\\tag{7}\\end{equation}\n",
    "\n",
    "Show that this expression is the same as you can obtain from the Savitzky&ndash;Golay coefficients.\n",
    "Three hints:\n",
    "\n",
    "*  Consider the expression for the derivative using the Savitzky&ndash;Golay coefficients at\n",
    "   the central location $x_1$ ($z_1 = 0$).\n",
    "\n",
    "*  Use that $x_i = x_0 + i\\times h$, i.e. $x_0 = x_1 - h$ and $x_2 = x_1 + h$.\n",
    "\n",
    "*  Use the chain rule for the polynomial,\n",
    "   $\\frac{\\text{d} y}{\\text{d} x} = \\frac{\\text{d} y}{\\text{d} z} \n",
    "   \\frac{\\text{d} z}{\\text{d} x}$, and show that $\\frac{\\text{d} z}{\\text{d} x} = \\frac{1}{h}$ using\n",
    "   Eq. (1)."
   ]
  },
  {
   "cell_type": "code",
   "execution_count": null,
   "metadata": {},
   "outputs": [],
   "source": [
    "# Your code here"
   ]
  },
  {
   "cell_type": "markdown",
   "metadata": {},
   "source": [
    "**Your answer to question 11.1(e):** *Double click here*"
   ]
  },
  {
   "cell_type": "markdown",
   "metadata": {},
   "source": [
    "**Exercise 11.2**\n",
    "\n",
    "In this exercise, we will test out the Savitzky&ndash;Golay filter for smoothing\n",
    "and numerical differentiation. We will use a test signal which has been generated\n",
    "from the following analytical function,\n",
    "\n",
    "\\begin{equation}\n",
    "y(t) = \\sin 8t - 1.8t^2 + 0.5t^3.\n",
    "\\label{eq:signal}\n",
    "\\tag{8}\\end{equation}\n",
    "\n",
    "The signal is available in the file [`Data/signal.txt`](Data/signal.txt).\n",
    "In addition, we will investigate a test signal which is generated from the same\n",
    "analytical function, but with noise added. This signal is available in the file\n",
    "[`Data/signal_noise.txt`](Data/signal_noise.txt).\n",
    "\n",
    "In `scipy`, a Savitzky&ndash;Golay filter can be created by using\n",
    "the method `savgol_filter` from [`scipy.signal`](https://docs.scipy.org/doc/scipy/reference/generated/scipy.signal.savgol_filter.html).\n",
    "An example is given below:"
   ]
  },
  {
   "cell_type": "code",
   "execution_count": null,
   "metadata": {},
   "outputs": [],
   "source": [
    "import numpy as np\n",
    "from scipy.signal import savgol_filter\n",
    "from matplotlib import pyplot as plt\n",
    "plt.style.use('seaborn-notebook')\n",
    "\n",
    "signal = np.loadtxt('Data/signal_noise.txt')[:, 1]  # Load signal.\n",
    "# Apply a Savitzky-Golay filter, length 21 and polynomial order of 3\n",
    "smooth = savgol_filter(signal, 21, polyorder=3)\n",
    "# Plot the original signal and the filtered one.\n",
    "plt.plot(signal, label='Original signal')\n",
    "plt.plot(smooth, label='Filtered signal')\n",
    "plt.legend()\n",
    "plt.show()"
   ]
  },
  {
   "cell_type": "markdown",
   "metadata": {},
   "source": [
    "**(a)**  Consider first the signal without the noise and apply a\n",
    "Savitzky&ndash;Golay smoothing filter to it. Here you can experiment\n",
    "with the window size and polynomial order, for instance, a window size of $5$\n",
    "or $7$ and a polynomial order of $3$ or $5$.\n",
    "Does the filter you are considering change the original signal?"
   ]
  },
  {
   "cell_type": "code",
   "execution_count": null,
   "metadata": {},
   "outputs": [],
   "source": [
    "# Your code here"
   ]
  },
  {
   "cell_type": "markdown",
   "metadata": {},
   "source": [
    "**Your answer to question 11.2(a):** *Double click here*"
   ]
  },
  {
   "cell_type": "markdown",
   "metadata": {},
   "source": [
    "**(b)**  Create a Savitzky&ndash;Golay filter for first-order differentiation with a\n",
    "window size of $7$ and polynomial order of $3$. Apply this to the signal\n",
    "without noise and compare the differentiated signal with the analytical\n",
    "derivative of Eq. (8). \n",
    "\n",
    "Note: In order to obtain the derivative,\n",
    "you will have to supply the spacing between your points using the\n",
    "`delta` parameter of the `savgol_filter` method.\n",
    "Further, you will have to tell the method to compute the derivative by\n",
    "setting the parameter `deriv`  to the order of the derivative\n",
    "you want. An example of this can be found below:"
   ]
  },
  {
   "cell_type": "code",
   "execution_count": null,
   "metadata": {},
   "outputs": [],
   "source": [
    "import numpy as np\n",
    "from scipy.signal import savgol_filter\n",
    "from matplotlib import pyplot as plt\n",
    "plt.style.use('seaborn-notebook')\n",
    "\n",
    "data = np.loadtxt('Data/signal_noise.txt')  # Load signal.\n",
    "x = data[:, 0]\n",
    "delta_x = x[1] - x[0]  # Spacing between x-points\n",
    "signal = data[:, 1]\n",
    "# Apply a Savitzky-Golay filter, length 51 and polynomial order of 3,\n",
    "# and obtain the first derivative:\n",
    "deriv = savgol_filter(signal, 51, polyorder=3, delta=delta_x, deriv=1)\n",
    "# Plot the original signal and the filtered one.\n",
    "plt.plot(x, signal, label='Original signal')\n",
    "plt.plot(x, deriv, label='Derivative of signal')\n",
    "plt.legend()\n",
    "plt.show()"
   ]
  },
  {
   "cell_type": "code",
   "execution_count": null,
   "metadata": {},
   "outputs": [],
   "source": [
    "# Your code here"
   ]
  },
  {
   "cell_type": "markdown",
   "metadata": {},
   "source": [
    "**Your answer to question 11.2(b):** *Double click here*"
   ]
  },
  {
   "cell_type": "markdown",
   "metadata": {},
   "source": [
    "**(c)**  Create a Savitzky&ndash;Golay filter for smoothing of the signal *with* noise.\n",
    "Here, you have to experiment with the window size to use. Use a polynomial\n",
    "order of $3$, and compare your smoothed signal with the original signal, and\n",
    "the signal without noise.\n",
    "\n"
   ]
  },
  {
   "cell_type": "code",
   "execution_count": null,
   "metadata": {},
   "outputs": [],
   "source": [
    "# Your code here"
   ]
  },
  {
   "cell_type": "markdown",
   "metadata": {},
   "source": [
    "**Your answer to question 11.2(c):** *Double click here*"
   ]
  },
  {
   "cell_type": "markdown",
   "metadata": {},
   "source": [
    "**(d)**  Create a Savitzky&ndash;Golay filter for first-order differentiation of the signal\n",
    "*with* noise. Here, you have to experiment with the window size to use.\n",
    "Use a polynomial order of $3$ and compare your differentiated signal\n",
    "with the analytical derivative of Eq. (8)."
   ]
  },
  {
   "cell_type": "code",
   "execution_count": null,
   "metadata": {},
   "outputs": [],
   "source": [
    "# Your code here"
   ]
  },
  {
   "cell_type": "markdown",
   "metadata": {},
   "source": [
    "**Your answer to question 11.2(d):** *Double click here*"
   ]
  },
  {
   "cell_type": "markdown",
   "metadata": {},
   "source": [
    "**Exercise 11.3**\n",
    "\n",
    "In this exercise, we will try to smooth a signal by performing convolution.\n",
    "We will attempt to smooth the signal given in Eq. (8)\n",
    "with added noise (data file: [`Data/signal_noise.txt`](Data/signal_noise.txt)). A short example\n",
    "of performing convolution with `scipy/numpy` can be found below:"
   ]
  },
  {
   "cell_type": "code",
   "execution_count": null,
   "metadata": {},
   "outputs": [],
   "source": [
    "import numpy as np\n",
    "from scipy.signal import windows\n",
    "from matplotlib import pyplot as plt\n",
    "plt.style.use('seaborn-notebook')\n",
    "\n",
    "signal = np.loadtxt('Data/signal_noise.txt')[:, 1]  # Load signal.\n",
    "window = windows.boxcar(21)  # Create a rectangular window of 21 points\n",
    "window /= window.sum()  # Normalize the window.\n",
    "conv = np.convolve(signal, window, mode='same')  # Calculate convolution.\n",
    "# Plot the original signal and the filtered one.\n",
    "plt.plot(signal, label='Original signal')\n",
    "plt.plot(conv, label='Filtered signal (convolution, rectangular)')\n",
    "plt.legend()\n",
    "plt.show()"
   ]
  },
  {
   "cell_type": "markdown",
   "metadata": {},
   "source": [
    "**(a)**  For smoothing the signal, we will use a windowing function for the convolution.\n",
    "In the code above we use a simple rectangular window for the smoothing,\n",
    "but in `scipy`, there are several windowing functions\n",
    "available. A list of the available windowing\n",
    "functions can be found [here](https://docs.scipy.org/doc/scipy/reference/signal.windows.html) and\n",
    "they behave differently. Here,\n",
    "you can experiment with different windowing functions and/or different\n",
    "windowing lengths. Are you able to remove most of the noise from\n",
    "the given signal?"
   ]
  },
  {
   "cell_type": "code",
   "execution_count": null,
   "metadata": {},
   "outputs": [],
   "source": [
    "# Your code here"
   ]
  },
  {
   "cell_type": "markdown",
   "metadata": {},
   "source": [
    "**Your answer to question 11.3(a):** *Double click here*"
   ]
  },
  {
   "cell_type": "markdown",
   "metadata": {},
   "source": [
    "**Exercise 11.4**\n",
    "\n",
    "You have measured the signal given in the file [`Data/spike.txt`](Data/spike.txt). Unfortunately, \n",
    "the signal contains a prominent spike that you would like to remove. In the code below,\n",
    "we attempt to remove the spike by doing a convolution with\n",
    "a rectangular window. Run this code and observe the results."
   ]
  },
  {
   "cell_type": "code",
   "execution_count": null,
   "metadata": {},
   "outputs": [],
   "source": [
    "import numpy as np\n",
    "from matplotlib import pyplot as plt\n",
    "from scipy.signal import windows\n",
    "plt.style.use('seaborn-notebook')\n",
    "\n",
    "\n",
    "def median_filter(yvalues, width=11):\n",
    "    \"\"\"Apply a median filter to the given y-values.\"\"\"\n",
    "    medians = []\n",
    "    half = width // 2\n",
    "    length = len(yvalues) - 1\n",
    "    for i, _ in enumerate(yvalues):\n",
    "        left = max(0, i - half)\n",
    "        right = min(length, i + half)\n",
    "        med = np.median(yvalues[left:right + 1])\n",
    "        medians.append(med)\n",
    "    return np.array(medians)\n",
    "\n",
    "signal = np.loadtxt('Data/spike.txt')\n",
    "window = window = windows.boxcar(21)\n",
    "window /= window.sum()\n",
    "conv = np.convolve(signal, window, mode='same')  # Do convolution\n",
    "filter_median = median_filter(signal, width=21)  # Apply median filter\n",
    "# Plot the results:\n",
    "fig, axes = plt.subplots(constrained_layout=True, ncols=2)\n",
    "axes[0].plot(signal, label='Original signal')\n",
    "axes[0].legend()\n",
    "axes[1].plot(signal, alpha=0.5, label='Original signal')\n",
    "axes[1].plot(conv, label='Signal after convolution')\n",
    "axes[1].plot(filter_median, label='Signal after median filter')\n",
    "# Zoom in around the spike:\n",
    "axes[1].set_xlim(600, 950)  \n",
    "axes[1].set_ylim(0, 2)\n",
    "axes[1].legend()\n",
    "plt.show()"
   ]
  },
  {
   "cell_type": "markdown",
   "metadata": {},
   "source": [
    "**(a)**  As you can see from the results of applying the convolution, \n",
    "the spike has not been completely removed, rather,\n",
    "it has been made broader. Can you explain what seems to be\n",
    "happening around the spike when you apply the convolution?"
   ]
  },
  {
   "cell_type": "code",
   "execution_count": null,
   "metadata": {},
   "outputs": [],
   "source": [
    "# Your code here"
   ]
  },
  {
   "cell_type": "markdown",
   "metadata": {},
   "source": [
    "**Your answer to question 11.4(a):** *Double click here*"
   ]
  },
  {
   "cell_type": "markdown",
   "metadata": {},
   "source": [
    "**(b)**  The code given above also includes a so-called *median* filter.\n",
    "The median filter\n",
    "returns the median value of the signal in a given window. Applying\n",
    "this filter seems to do a better job of removing the spike. Can you explain\n",
    "why this is the case?"
   ]
  },
  {
   "cell_type": "code",
   "execution_count": null,
   "metadata": {},
   "outputs": [],
   "source": [
    "# Your code here"
   ]
  },
  {
   "cell_type": "markdown",
   "metadata": {},
   "source": [
    "**Your answer to question 11.4(b):** *Double click here*"
   ]
  },
  {
   "cell_type": "markdown",
   "metadata": {},
   "source": [
    "**Exercise 11.5**\n",
    "\n",
    "Multiple Scatter Correction (MSC) is one approach to remove non-linear\n",
    "effects in near-infrared (NIR) spectra. Such effects may arise as a result\n",
    "of scattering effects in a sample.\n",
    "This will generate additional variance which is not related to the\n",
    "chemical interesting information contained in the spectrum, and we would,\n",
    "therefore, like to remove it.\n",
    "\n",
    "The file [`Data/nir_msc.txt`](Data/nir_msc.txt) contains $222$ spectra that have been\n",
    "sampled at $121$ wavelengths. Each row contains a spectrum, and each\n",
    "column represents a single wavelength. You will now apply MSC to\n",
    "correct these spectra.\n",
    "\n",
    "\n",
    "**(a)**  Find a representative spectrum by taking the mean of the $222$ spectra.\n",
    "We will refer to this representative spectrum as $f(x)$ in the following."
   ]
  },
  {
   "cell_type": "code",
   "execution_count": null,
   "metadata": {},
   "outputs": [],
   "source": [
    "# Your code here"
   ]
  },
  {
   "cell_type": "markdown",
   "metadata": {},
   "source": [
    "**Your answer to question 11.5(a):** *Double click here*"
   ]
  },
  {
   "cell_type": "markdown",
   "metadata": {},
   "source": [
    "**(b)**  Correct each spectrum, $h_i(x)$, by first fitting it to a linear\n",
    "equation,\n",
    "\n",
    "\\begin{equation}\n",
    "h_i(x) = a_i f(x) + b_i ,\n",
    "\\end{equation}\n",
    "\n",
    "and then remove the scattering effects by taking,\n",
    "\n",
    "\\begin{equation}\n",
    "h_{i, \\text{corrected}}(x) = \\frac{h_i(x) -b_i}{a_i} .\n",
    "\\end{equation}"
   ]
  },
  {
   "cell_type": "code",
   "execution_count": null,
   "metadata": {},
   "outputs": [],
   "source": [
    "# Your code here"
   ]
  },
  {
   "cell_type": "markdown",
   "metadata": {},
   "source": [
    "**Your answer to question 11.5(b):** *Double click here*"
   ]
  },
  {
   "cell_type": "markdown",
   "metadata": {},
   "source": [
    "**(c)**  Plot the corrected and uncorrected spectra.\n",
    "Does this look like what you would expect?\n",
    "\n"
   ]
  },
  {
   "cell_type": "code",
   "execution_count": null,
   "metadata": {},
   "outputs": [],
   "source": [
    "# Your code here"
   ]
  },
  {
   "cell_type": "markdown",
   "metadata": {},
   "source": [
    "**Your answer to question 11.5(c):** *Double click here*"
   ]
  },
  {
   "cell_type": "markdown",
   "metadata": {},
   "source": [
    "**(d)**  As stated above MSC will remove some of the (presumably) uninteresting\n",
    "variance. We can quantify this by calculating the sum of squares, $SS_0$,\n",
    "\n",
    "\\begin{equation}\n",
    "SS_0 = \\sum_i \\sum_j (x_{ij} - \\overline{x}_j)^2,\n",
    "\\end{equation}\n",
    "\n",
    "where $x_{ij}$ is the absorbance for spectrum $i$ at wavelength $j$, and\n",
    "$\\overline{x}_j$ is the mean of all spectra for wavelength $j$.\n",
    "Calculate $SS_0$ for both the corrected and uncorrected spectra.\n",
    "Does MSC reduce $SS_0$ as we expect?"
   ]
  },
  {
   "cell_type": "code",
   "execution_count": null,
   "metadata": {},
   "outputs": [],
   "source": [
    "# Your code here"
   ]
  },
  {
   "cell_type": "markdown",
   "metadata": {},
   "source": [
    "**Your answer to question 11.5(d):** *Double click here*"
   ]
  }
 ],
 "metadata": {
  "kernelspec": {
   "display_name": "Python 3",
   "language": "python",
   "name": "python3"
  },
  "language_info": {
   "codemirror_mode": {
    "name": "ipython",
    "version": 3
   },
   "file_extension": ".py",
   "mimetype": "text/x-python",
   "name": "python",
   "nbconvert_exporter": "python",
   "pygments_lexer": "ipython3",
   "version": "3.9.2"
  }
 },
 "nbformat": 4,
 "nbformat_minor": 2
}
