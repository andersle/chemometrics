{
 "cells": [
  {
   "cell_type": "markdown",
   "metadata": {},
   "source": [
    "**Exercise set 11**\n",
    "==============\n",
    "\n",
    "\n",
    ">In connection with experimental design, we have seen two approaches\n",
    ">for checking if determined effects are important or not. These two\n",
    ">approaches are based on creating a probability plot and performing ANOVA.\n",
    ">The goal of this exercise is to learn how we use these two approaches in\n",
    ">practice.\n",
    "\n",
    "\n",
    "**Exercise 11.1**\n",
    "\n",
    "In this part of the exercise, we will deal with the technical aspects of\n",
    "creating a normal probability plot. Our final aim is here\n",
    "to check if the data for some measured quantities (given in\n",
    "the data files: `Data/data1.txt`, `Data/data2.txt`,\n",
    "`Data/data3.txt`, and `Data/data4.txt`) comes\n",
    "from a normal distribution.\n",
    "\n",
    "\n",
    "**(a)**  Before we begin creating normal probability plots, we should\n",
    "inspect the raw data. Plot histograms for the raw data. Based\n",
    "on this, would you say that any of the data files contain numbers\n",
    "that might come from a normal distribution?\n",
    "You can also, for each data set, try to compare with\n",
    "a normal distribution (using the mean and standard deviation\n",
    "you can obtain from the raw data).\n",
    "\n",
    "\n"
   ]
  },
  {
   "cell_type": "code",
   "execution_count": null,
   "metadata": {},
   "outputs": [],
   "source": [
    "# Your code here"
   ]
  },
  {
   "cell_type": "markdown",
   "metadata": {},
   "source": [
    "**Your answer to question 11.1(a):** *Double click here*"
   ]
  },
  {
   "cell_type": "markdown",
   "metadata": {},
   "source": [
    "**(b)**  For creating the normal probability plot, we need to be able\n",
    "to obtain certain parameters for the standard normal distribution.\n",
    "Here, we will investigate some of the functions that can give us\n",
    "such parameters.\n",
    "\n",
    "The standard normal probability density function ($\\operatorname{PDF}$) is given by,\n",
    "\n",
    "$\\operatorname{PDF}(x) = \\frac{1}{\\sqrt{2 \\pi}} \\operatorname{e}^{-\\tfrac{x^2}{2}},$\n",
    "\n",
    "and the cumulative distribution function (CDF) is,\n",
    "\n",
    "$\n",
    "\\operatorname{CDF}(x) = \\int_{-\\infty}^{x} \\operatorname{PDF} (t)\\,\\operatorname{d}t = \n",
    "\\frac{1}{2} \\left[ 1 + \\operatorname{erf} \\left( \\frac{x}{\\sqrt{2}} \\right) \\right],\n",
    "$\n",
    "\n",
    "where $\\operatorname{erf}(\\ldots)$ is the error function.\n",
    "The cumulative distribution function gives the probability of observing a\n",
    "value less than or equal to $x$: $P(X \\leq x) = \\operatorname{CDF}(x)$.\n",
    "\n",
    "We can also turn this equation around: Given a probability $P$ what is\n",
    "the value of $x$ that gives this probability? To answer this question,\n",
    "we need the quantile function (also known as the percent-point function),\n",
    "which is the inverse of the cumulative distribution function.\n",
    "For the standard normal distribution, the percent-point\n",
    "function ($\\operatorname{PPF}$),\n",
    "is given by,\n",
    "\n",
    "$\n",
    "\\operatorname{PPF}(P) = \\sqrt{2} \\operatorname{erf}^{-1}(2P - 1).\n",
    "$\n",
    "\n",
    "If we make use of the `scipy` package, all these functions\n",
    "are available to us:\n",
    "```python\n",
    "from scipy.stats import norm\n",
    "import numpy as np\n",
    "\n",
    "x = np.linspace(-2, 2, 100)\n",
    "pdf = norm.pdf(x)  # Probability density function.\n",
    "cdf = norm.cdf(x)  # Cumulative probability density function.\n",
    "ppf = norm.ppf(x)  # Quantile function/percent-point function.\n",
    "```\n",
    "\n",
    "\n",
    "Use these methods to answer the following questions for the standard normal distribution:\n",
    "\n",
    "* (i)  What is the probability of observing a $x \\leq 1$?\n",
    "\n",
    "* (ii)  What is the probability of observing a $x \\leq 0$?\n",
    "\n",
    "* (iii)  What is the probability of observing a $x \\leq -2$?\n",
    "\n",
    "* (iv)  Given that the probability of observing $x \\leq \\alpha$ is\n",
    "$10$\\%, what is $\\alpha$?\n",
    "\n",
    "* (v)  Given that the probability of observing $x \\leq \\alpha$ is\n",
    "$90$\\%, what is $\\alpha$?\n",
    "\n",
    "* (vi)  Given that the probability of observing $x \\leq \\alpha$ is\n",
    "$99$\\%, what is $\\alpha$?\n",
    "\n",
    "\n",
    "\n",
    "\n"
   ]
  },
  {
   "cell_type": "code",
   "execution_count": null,
   "metadata": {},
   "outputs": [],
   "source": [
    "# Your code here"
   ]
  },
  {
   "cell_type": "markdown",
   "metadata": {},
   "source": [
    "**Your answer to question 11.1(b):** *Double click here*"
   ]
  },
  {
   "cell_type": "markdown",
   "metadata": {},
   "source": [
    "**(c)**  To construct the normal probability plot, we will make use of\n",
    "the $\\operatorname{PPF}$.\n",
    "If the data we are to investigate contain $n$ points, then\n",
    "we need to figure out how these $n$ points would be placed\n",
    "in the distribution we are going to compare with (here: the standard normal distribution).\n",
    "In the following, we will call the $n$ points we have measured\n",
    "for $y_1$, $y_2$, $\\ldots$, $y_n$, and we assume that we have\n",
    "sorted them so that $y_1 \\leq y_2 \\leq \\ldots \\leq y_n$.\n",
    "\n",
    "We now need to check\n",
    "how $n$ points drawn from a normal distribution would\n",
    "be distributed, and compare this with how our measured data is distributed.\n",
    "The simplest approach would be\n",
    "(as we did in lecture $11$) to find the locations in the\n",
    "normal distribution where the probabilities are $\\tfrac{1}{n}$, $\\tfrac{2}{n}$,\n",
    "$\\ldots$, $\\tfrac{n}{n}$. This we can obtain using the $\\operatorname{PPF}$.\n",
    "If we call these locations $x_1$, $x_2$, $\\ldots$,\n",
    "$x_n$, then we expect to have seen\n",
    "one data point ($y_1$) for $x \\leq x_1$,\n",
    "two data points ($y_1$ and $y_2$) for $x \\leq x_2$, $\\ldots$,\n",
    "and $n$ points for $x \\leq x_n$.\n",
    "So far so good, but we have two complicating factors:\n",
    "(i) $x_i$ is *not* necessarily the most *probable* location\n",
    "for the $i$'th smallest point, and (ii) how do we deal with $x_n = \\infty$?\n",
    "\n",
    "To solve these two potential problems, we have to rely on some theoretical\n",
    "results from statistics. The correct $x_i$'s we are looking for are actually\n",
    "something called the order statistic medians and these are exactly\n",
    "related to order statistic medians from a *uniform distribution*, $m_i$,\n",
    "\\begin{equation}\n",
    "x_i = \\operatorname{PPF}(m_i) .\n",
    "\\label{eq:orderstat}\n",
    "\\tag{1}\\end{equation}\n",
    "\n",
    "Thus we can potentially find $x_i$ by first obtaining the corresponding\n",
    "$m_i$. Unfortunately, no analytical expression for $m_i$ exist and\n",
    "we have to rely on approximate estimates. One such approximation\n",
    "was\n",
    "suggested by [Filliben](https://doi.org/10.1080/00401706.1975.10489279),\n",
    "\n",
    "\\begin{equation}\n",
    "m_i = \n",
    "\\begin{cases}\n",
    "1 - 0.5^{1/n} & \\text{if } i = 1, \\\\\n",
    "\\frac{i - 0.3175}{n + 0.365} & \\text{if } i = 2, 3, \\ldots, n-1, \\\\\n",
    "0.5^{1/n} & \\text{if } i=n,\n",
    "\\end{cases}\n",
    "\\label{eq:uniformorderstat}\n",
    "\\tag{2}\n",
    "\\end{equation}\n",
    "\n",
    "Thus, in summary, to create the normal probability plot we do the following:\n",
    "\n",
    "* (i)  We sort our original data.\n",
    "\n",
    "* (ii)  For each sorted data point, we calculate its\n",
    "uniform statistic median, $m_i$,\n",
    "using Eq. \\eqref{eq:orderstat}.\n",
    "\n",
    "* (iii)  For each sorted data point, we calculate its most\n",
    "probable location, $x_i$, in a normal distribution using\n",
    "Eq. \\eqref{eq:uniformorderstat} and\n",
    "the $m_i$ value we found in the previous step. \n",
    "\n",
    "* (iv)  We plot the sorted data against the most probable locations\n",
    "found in the previous step. That is, we plot the pairs ($x_i$, $y_i$).\n",
    "\n",
    "\n",
    "\n",
    "Create the normal probability plots for the four data sets given\n",
    "in `Data/data1.txt`, `Data/data2.txt`,\n",
    "`Data/data3.txt`, and `Data/data4.txt`. Which\n",
    "of these would you say are numbers that could originate from a\n",
    "normal distribution?\n",
    "\n",
    "\n"
   ]
  },
  {
   "cell_type": "code",
   "execution_count": null,
   "metadata": {},
   "outputs": [],
   "source": [
    "# Your code here"
   ]
  },
  {
   "cell_type": "markdown",
   "metadata": {},
   "source": [
    "**Your answer to question 11.1(c):** *Double click here*"
   ]
  },
  {
   "cell_type": "markdown",
   "metadata": {},
   "source": [
    "**(d)**  The method we have described above works for any distribution,\n",
    "not just the normal distribution. We can create similar plots\n",
    "for other distributions by changing the $\\operatorname{PPF}$ function\n",
    "to the corresponding function for the distribution we wish to check for.\n",
    "Repeat the previous step, but use the `Gumbel distribution`\n",
    "(in `scipy` this is available by\n",
    "`from scipy.stats import gumbel_r`) in place of the\n",
    "normal distribution. Based on the plots you create, would you say\n",
    "that any of the data sets may contain numbers from a Gumbel distribution?\n"
   ]
  },
  {
   "cell_type": "code",
   "execution_count": null,
   "metadata": {},
   "outputs": [],
   "source": [
    "# Your code here"
   ]
  },
  {
   "cell_type": "markdown",
   "metadata": {},
   "source": [
    "**Your answer to question 11.1(d):** *Double click here*"
   ]
  },
  {
   "cell_type": "markdown",
   "metadata": {},
   "source": [
    "\n",
    "**Exercise 11.2**\n",
    "\n",
    "After running a set of experiments, you determine the effects\n",
    "given in Table 1 for $4$ factors: A, B, C, and D.\n",
    "Use a normal probability plot to identify the important effects among\n",
    "the ones listed in this table.\n",
    "\n",
    "|**Factor** | **Effect** |\n",
    "|:---:|---:|\n",
    "|A    | $-8.00$ |\n",
    "|B    | $24.00$ |\n",
    "|C    | $-2.25$ |\n",
    "|D    | $-5.50$ |\n",
    "|AB   | $ 1.00$ |\n",
    "|AC   | $ 0.75$ |\n",
    "|AD   | $ 0.00$ |\n",
    "|BC   | $-1.25$ |\n",
    "|BD   | $ 4.50$ |\n",
    "|CD   | $-0.25$ |\n",
    "|ABC  | $-0.75$ |\n",
    "|ABD  | $ 0.50$ |\n",
    "|ACD  | $-0.25$ |\n",
    "|BCD  | $-0.75$ |\n",
    "|ABCD | $-0.25$ |\n",
    "\n",
    "| |\n",
    "|---|\n",
    "|**Table 1:** *Effects determined in a set of experiments.*|\n",
    "\n",
    "\n"
   ]
  },
  {
   "cell_type": "code",
   "execution_count": null,
   "metadata": {},
   "outputs": [],
   "source": [
    "# Your code here"
   ]
  },
  {
   "cell_type": "markdown",
   "metadata": {},
   "source": [
    "**Your answer to question 11.2:** *Double click here*"
   ]
  },
  {
   "cell_type": "markdown",
   "metadata": {},
   "source": [
    "**Exercise 11.3**\n",
    "\n",
    "The fertilizer magnesium ammonium phosphate MgNH$_4$PO$_4$ is an effective\n",
    "supplier for nutrients necessary for plant growth. In an experiment, you have\n",
    "tested the effect of this fertilizer on the growth of Chrysanthemums by\n",
    "measuring the height of the plants after growing them for four weeks.\n",
    "You have considered $4$ different concentrations of the fertilizer (measured in g/bu)\n",
    "and you have measured the mean height by growing $10$ plants per concentration.\n",
    "The measured data is given in Table 2, and is\n",
    "also given in the file `Data/fertilizer.txt`.\n",
    "\n",
    "|**50 g/bu** | **100 g/bu** | **200 g/bu** | **400 g/bu** |\n",
    "|:---:|:---:|:---:|:---:|\n",
    "|$13.2$ | $16.0$ | $ 7.8$ | $21.0$ |\n",
    "|$12.4$ | $12.6$ | $14.4$ | $14.8$ |\n",
    "|$12.8$ | $14.8$ | $20.0$ | $19.1$ |\n",
    "|$17.2$ | $13.0$ | $15.8$ | $15.8$ |\n",
    "|$13.0$ | $14.0$ | $17.0$ | $18.0$ |\n",
    "|$14.0$ | $23.6$ | $27.0$ | $26.0$ |\n",
    "|$14.2$ | $14.0$ | $19.6$ | $21.1$ |\n",
    "|$21.6$ | $17.0$ | $18.0$ | $22.0$ |\n",
    "|$15.0$ | $22.2$ | $20.2$ | $25.0$ |\n",
    "|$20.0$ | $24.4$ | $23.2$ | $18.2$ |\n",
    "\n",
    "| |\n",
    "|---|\n",
    "|**Table 2:** *Measured plant heights (in cm) as a function of the fertilizer concentration (in g/bu).*|\n",
    "\n",
    "\n",
    "**(a)**  Here, we will test the hypothesis that the mean height\n",
    "of the plants is not affected by the amount of fertilizer. We\n",
    "are going to test this with a specified significance level, $\\alpha$.\n",
    "What is the meaning of $\\alpha$ in connection with a hypothesis test?\n",
    "\n"
   ]
  },
  {
   "cell_type": "code",
   "execution_count": null,
   "metadata": {},
   "outputs": [],
   "source": [
    "# Your code here"
   ]
  },
  {
   "cell_type": "markdown",
   "metadata": {},
   "source": [
    "**Your answer to question 11.3(a):** *Double click here*"
   ]
  },
  {
   "cell_type": "markdown",
   "metadata": {},
   "source": [
    "**(b)**  Based on this data, can you conclude on the $0.05$ level of significance that\n",
    "different concentrations of the fertilizer affect the mean attained height\n",
    "of the plants? What concentration, if any, appears to give the tallest plants?\n",
    "\n"
   ]
  },
  {
   "cell_type": "code",
   "execution_count": null,
   "metadata": {},
   "outputs": [],
   "source": [
    "# Your code here"
   ]
  },
  {
   "cell_type": "markdown",
   "metadata": {},
   "source": [
    "**Your answer to question 11.3(b):** *Double click here*"
   ]
  },
  {
   "cell_type": "markdown",
   "metadata": {},
   "source": [
    "**(c)**  Would your conclusion change with a significance level of $0.10$?\n"
   ]
  },
  {
   "cell_type": "code",
   "execution_count": null,
   "metadata": {},
   "outputs": [],
   "source": [
    "# Your code here"
   ]
  },
  {
   "cell_type": "markdown",
   "metadata": {},
   "source": [
    "**Your answer to question 11.3(c):** *Double click here*"
   ]
  },
  {
   "cell_type": "markdown",
   "metadata": {},
   "source": [
    "\n",
    "The relevant critical values for the $f$ distribution with $3$ and $36$ degrees of\n",
    "freedom  are: $f_{\\alpha = 0.05}(3, 36) = 2.866$ and $f_{\\alpha=0.10}(3, 36) = 2.243$.\n",
    "\n",
    "\n",
    "**Exercise 11.4**\n",
    "\n",
    "From a $2^2$ factorial experiment replicated three times you have obtained\n",
    "the data given in Table 3. We use here a short-hand notation\n",
    "for the $4$ possible combinations of the variables: $(1)$, $a$, $b$, and $ab$.\n",
    "In this notation $(1)$ is the experiment where all factors are at their low level. For the\n",
    "other cases, the absence of a letter means that the corresponding factor was at a low level, and\n",
    "the presence of a letter means that the corresponding factor was at a high level. \n",
    "\n",
    "|**Experiment** | **Replicate 1** | **Replicate 2** | **Replicate 2** |\n",
    "|:---:|:---:|:---:|:---:|\n",
    "|$(1)$ | $9$  | $10$ | $11$ |\n",
    "|$a$   | $30$ | $31$ | $29$ |\n",
    "|$b$   | $19$ | $20$ | $21$ |\n",
    "|$ab$  | $5$  | $6$  | $4$  |\n",
    "\n",
    "| |\n",
    "|---|\n",
    "|**Table 3:** *Results from a $2^2$ factorial experiment, repeated $3$ times.*|\n",
    "\n",
    "\n",
    "\n",
    "**(a)**  Calculate the effects. Here you should average the effects over the\n",
    "replicates.\n",
    "\n"
   ]
  },
  {
   "cell_type": "code",
   "execution_count": null,
   "metadata": {},
   "outputs": [],
   "source": [
    "# Your code here"
   ]
  },
  {
   "cell_type": "markdown",
   "metadata": {},
   "source": [
    "**Your answer to question 11.4(a):** *Double click here*"
   ]
  },
  {
   "cell_type": "markdown",
   "metadata": {},
   "source": [
    "**(b)**  Use ANOVA to investigate which effects are important in this case. For\n",
    "a significance level of $\\alpha = 0.01$, the relevant critical\n",
    "$f$-value is $f_{\\alpha=0.01}(1, 8) = 11.259$ with $1$ and $8$ degrees\n",
    "of freedom.\n"
   ]
  },
  {
   "cell_type": "code",
   "execution_count": null,
   "metadata": {},
   "outputs": [],
   "source": [
    "# Your code here"
   ]
  },
  {
   "cell_type": "markdown",
   "metadata": {},
   "source": [
    "**Your answer to question 11.4(b):** *Double click here*"
   ]
  },
  {
   "cell_type": "markdown",
   "metadata": {},
   "source": [
    "\n",
    "\n",
    "\n"
   ]
  }
 ],
 "metadata": {
  "kernelspec": {
   "display_name": "Python 3",
   "language": "python",
   "name": "python3"
  },
  "language_info": {
   "codemirror_mode": {
    "name": "ipython",
    "version": 3
   },
   "file_extension": ".py",
   "mimetype": "text/x-python",
   "name": "python",
   "nbconvert_exporter": "python",
   "pygments_lexer": "ipython3",
   "version": "3.8.1"
  }
 },
 "nbformat": 4,
 "nbformat_minor": 2
}
