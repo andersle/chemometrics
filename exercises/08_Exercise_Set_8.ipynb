{
 "cells": [
  {
   "cell_type": "markdown",
   "metadata": {},
   "source": [
    "# Exercise set 8\n",
    "\n",
    "\n",
    ">The goal of this exercise is to perform **principal component analysis**\n",
    ">and **clustering** on a data set with many variables."
   ]
  },
  {
   "cell_type": "markdown",
   "metadata": {},
   "source": [
    "## Exercise 8.1\n",
    "\n",
    "In this exercise, we will explore the \"wine data set\" which is a common example\n",
    "data set used for classification. The data set contains the results of\n",
    "a chemical analysis of wines from a region in Italy. These\n",
    "wines are made using grapes grown by three different cultivators.\n",
    "In this first exercise, we will explore the\n",
    "data set using principal component analysis, and we will investigate\n",
    "if the results from the chemical analysis can be used to separate\n",
    "the wines into groups that correspond to the cultivator of the grapes.\n",
    "\n",
    "The data set contains the following columns:\n",
    "\n",
    "\n",
    "| Column name                    | Description                                              |\n",
    "|--------------------------------|----------------------------------------------------------|\n",
    "| alcohol                        | The alcohol content of the wine.                         | \n",
    "| malic_acid                     | The amount of malic acid in the wine (malic acid has an apple aroma).  |\n",
    "| ash                            | The amount of ash in the wine (ash is the matter that remains after evaporation and incineration).   | \n",
    "| alcalinity_of_ash              | The alkalinity of the ash content of the wine.           |\n",
    "| magnesium                      | The amount of magnesium in the wine.                      |\n",
    "| total_phenols                  | The total amount of [phenols](https://en.wikipedia.org/wiki/Phenolic_content_in_wine) (that are not flavanoids) in the wine. |\n",
    "| flavanoids                     | The amount of [flavanoids](https://en.wikipedia.org/wiki/Flavonoid) in the wine |\n",
    "| nonflavanoid_phenols           | The total amount of phenols in the wine.   |\n",
    "| proanthocyanins                | The amount of [proanthocyanins](https://en.wikipedia.org/wiki/Proanthocyanidin) in the wine (important for red/blue/purple colors).   |\n",
    "| color_intensity                | Color intensity of the wine (measured spectroscopically).  |\n",
    "| hue                            | Color hue of the wine (measured spectroscopically).         |\n",
    "| od280/od315_of_diluted_wines   | The protein content of the wine. OD280/OD315 is a method for determining the protein concentration.                                     |\n",
    "| proline                        | The amount of proline in the wine (proline is the main amino acid found in red wine).   |  \n",
    "| target                         | The cultivator of the wine, given as 0, 1, or 2.   |"
   ]
  },
  {
   "cell_type": "markdown",
   "metadata": {},
   "source": [
    "**(a)**  Begin by exploring the raw data. Here, you should choose\n",
    "the method yourself. You can, for instance, look at histograms of the\n",
    "different measured quantities, correlations between the quantities,\n",
    "or other plots of the raw data (for instance, the \n",
    "[scatter plot matrix](https://seaborn.pydata.org/examples/scatterplot_matrix.html) we used in a previous exercise).\n",
    "\n",
    "To get you started, you can find some Python code below for loading the data and creating\n",
    "a report using the [pandas-profiling](https://pandas-profiling.ydata.ai/docs/master/rtd/) library.\n",
    "This report will give you some information about the correlation/distribution of the different\n",
    "variables in the data set.\n",
    "\n",
    "After looking at the raw data, are there some of the\n",
    "variables that seem to be able to distinguish\n",
    "between the wines produced by the different cultivators?"
   ]
  },
  {
   "cell_type": "code",
   "execution_count": null,
   "metadata": {
    "scrolled": false
   },
   "outputs": [],
   "source": [
    "\"\"\"Load the wine data set and print some info.\"\"\"\n",
    "from pandas_profiling import ProfileReport\n",
    "from sklearn.datasets import load_wine\n",
    "from matplotlib import pyplot as plt\n",
    "\n",
    "plt.style.use(\"seaborn-talk\")\n",
    "\n",
    "\n",
    "# Load the data set as a pandas frame:\n",
    "data_set = load_wine(as_frame=True)[\"frame\"]\n",
    "variables = [i for i in data_set.columns if i != \"target\"]\n",
    "data_set"
   ]
  },
  {
   "cell_type": "code",
   "execution_count": null,
   "metadata": {},
   "outputs": [],
   "source": [
    "# To display properties grouped by the cultivator, we can do:\n",
    "class_data = data_set.groupby(\"target\")\n",
    "print(\"\\nInformation on malic_acid:\")\n",
    "class_data[\"malic_acid\"].describe()"
   ]
  },
  {
   "cell_type": "code",
   "execution_count": null,
   "metadata": {},
   "outputs": [],
   "source": [
    "# Create a report for the data set:\n",
    "from pandas_profiling import ProfileReport\n",
    "\n",
    "# There is a bug in newer versions in pandas_profiling - this is a workaround (we skip the target variables)\n",
    "# Ref: https://github.com/ydataai/pandas-profiling/issues/911\n",
    "data = data_set[variables].copy()\n",
    "# In jupyter, the profiler will open up figures it is creating with matplotlib notebook,\n",
    "# we therefore set it to inline when creating the report (we reset it later):\n",
    "%matplotlib inline\n",
    "# Make the report\n",
    "profile = ProfileReport(data, title='Wine data set')\n",
    "profile.to_file('dataprofile.html')  # Save it as a HTML, in case you want to download it.\n",
    "%matplotlib notebook"
   ]
  },
  {
   "cell_type": "markdown",
   "metadata": {},
   "source": [
    "The report can (if it was successuflly created above) be [opened in a new tab here](./dataprofile.html)."
   ]
  },
  {
   "cell_type": "code",
   "execution_count": null,
   "metadata": {},
   "outputs": [],
   "source": [
    "# Uncomment this line to show the HTML report in jupyter:\n",
    "#profile"
   ]
  },
  {
   "cell_type": "code",
   "execution_count": null,
   "metadata": {},
   "outputs": [],
   "source": [
    "# Your code here"
   ]
  },
  {
   "cell_type": "markdown",
   "metadata": {},
   "source": [
    "**Your answer to 8.1(a)**: *Double click here*"
   ]
  },
  {
   "cell_type": "markdown",
   "metadata": {},
   "source": [
    "**(b)** Perform a PCA on the data set (some example code \n",
    "for this can be found in below)\n",
    "and plot the explained variance as a function\n",
    "of the number of principal components.\n",
    "\n",
    "* (i)  Do you need to scale your data before\n",
    "  performing PCA in this case (why/why not)?\n",
    "\n",
    "\n",
    "* (ii)  Should you include the `target` column in the data you use for the PCA?\n",
    "\n",
    "\n",
    "* (iii)  How many principal components are needed to explain 95\\% of the\n",
    "  variance in the data? \n",
    "\n",
    "\n",
    "The following code can be used to run the PCA:"
   ]
  },
  {
   "cell_type": "code",
   "execution_count": null,
   "metadata": {},
   "outputs": [],
   "source": [
    "\"\"\"Load the wine data set and run PCA.\"\"\"\n",
    "from sklearn.datasets import load_wine\n",
    "from sklearn.preprocessing import scale\n",
    "from sklearn.decomposition import PCA\n",
    "\n",
    "\n",
    "data_set = load_wine(as_frame=True)[\"frame\"]\n",
    "variables = [i for i in data_set.columns if i != \"target\"]\n",
    "X = data_set[variables].to_numpy()\n",
    "# Uncomment the following line to scale your data:\n",
    "# X = scale(X)\n",
    "pca = PCA()\n",
    "scores = pca.fit_transform(X)\n",
    "# Print out the percentage of variance explained by each component:\n",
    "print(pca.explained_variance_ratio_)"
   ]
  },
  {
   "cell_type": "markdown",
   "metadata": {},
   "source": [
    "**Your answer to 8.1(b)**: *Double click here*"
   ]
  },
  {
   "cell_type": "markdown",
   "metadata": {},
   "source": [
    "**(c)**\n",
    "\n",
    "* (i)  Rerun the PCA with\n",
    "  the number of components you found in the previous question.\n",
    "  This can be done by defining the argument\n",
    "  `n_components` in `PCA()`, e.g. `pca = PCA(n_components=13)`,\n",
    "  or, (for 95 \\% of the variance) `pca = PCA(n_components=0.95)`\n",
    "\n",
    "\n",
    "* (ii)  Obtain the scores, and make a plot of the scores for\n",
    "  principal component 1 (on the $x$-axis) and principal component 2 (on the $y$-axis).\n",
    "\n",
    "\n",
    "* (iii)  Do you see any grouping(s) (\"clusters\") in your scores plot?\n",
    "  Here, you can choose to color the scores according\n",
    "  to the cultivator (i.e. by using the values in the `target`\n",
    "  column in the data set)."
   ]
  },
  {
   "cell_type": "code",
   "execution_count": null,
   "metadata": {},
   "outputs": [],
   "source": [
    "# Your code here"
   ]
  },
  {
   "cell_type": "markdown",
   "metadata": {},
   "source": [
    "**Your answer to 8.1(c):** *Double click here*"
   ]
  },
  {
   "cell_type": "markdown",
   "metadata": {},
   "source": [
    "**(d)**  Explore the loadings for your PCA model by plotting the\n",
    "loadings for the variables (on principal component 1 and\n",
    "principal component 2). Do any of the variables seem to be correlated?"
   ]
  },
  {
   "cell_type": "code",
   "execution_count": null,
   "metadata": {},
   "outputs": [],
   "source": [
    "# Your code here"
   ]
  },
  {
   "cell_type": "markdown",
   "metadata": {},
   "source": [
    "**Your answer to 8.1(d):** *Double click here*"
   ]
  },
  {
   "cell_type": "markdown",
   "metadata": {},
   "source": [
    "**(e)** Save the scores for a PCA using only two principal components to a new file.\n",
    "We will use this information in the next part\n",
    "of the exercise, where we will try to find clusters in our data.\n",
    "Saving the scores can be\n",
    "done with `pandas` as follows:"
   ]
  },
  {
   "cell_type": "code",
   "execution_count": null,
   "metadata": {},
   "outputs": [],
   "source": [
    "\"\"\"Load the wine data set, run PCA and save scores.\"\"\"\n",
    "from sklearn.datasets import load_wine\n",
    "from sklearn.preprocessing import scale\n",
    "from sklearn.decomposition import PCA\n",
    "import pandas as pd\n",
    "\n",
    "\n",
    "data_set = load_wine(as_frame=True)[\"frame\"]\n",
    "variables = [i for i in data_set.columns if i != \"target\"]\n",
    "X = scale(data_set[variables].to_numpy())\n",
    "pca = PCA(n_components=2)\n",
    "scores = pca.fit_transform(X)\n",
    "\n",
    "# Create variable names for the principal components:\n",
    "pc_name = [f\"PC{i+1}\" for i in range(pca.n_components_)]\n",
    "# Create a DataFrame from the scores:\n",
    "scores_data = pd.DataFrame(scores, columns=pc_name)\n",
    "scores_data[\"target\"] = data_set[\"target\"]\n",
    "# Save the scores to a comma separated values-file:\n",
    "scores_data.to_csv(\"scores.csv\", index=False)"
   ]
  },
  {
   "cell_type": "markdown",
   "metadata": {},
   "source": [
    "After running the code below, the file should be avaiable here: [scores.csv](./scores.csv)"
   ]
  },
  {
   "cell_type": "markdown",
   "metadata": {},
   "source": [
    "## Exercise 8.2\n",
    "\n",
    "We will continue exploring the wine data set. We will pretend that we do not\n",
    "know that there are 3 cultivators in the data set, and we will investigate\n",
    "what the `KMeans` clustering method can tell us about it. For this\n",
    "exercise, it is a good idea to read through all points below before\n",
    "starting, as you will find\n",
    "a link to a specific example you can use to answer most of the questions.\n",
    "\n",
    "**(a)**  Explain the steps in the `KMeans` clustering algorithm.\n",
    "How can we use this algorithm without knowing how many clusters\n",
    "there are in the data?"
   ]
  },
  {
   "cell_type": "markdown",
   "metadata": {},
   "source": [
    "**Your answer to 8.2(a):** *Double click here*"
   ]
  },
  {
   "cell_type": "markdown",
   "metadata": {},
   "source": [
    "**(b)** Run `KMeans` clustering on the wine data set. Here, you will have to\n",
    "select a set of numbers of clusters to look for. (Limit yourself to\n",
    "a maximum of 10 clusters) After running the clustering for your \n",
    "data, plot the sum of squared distances of samples to their closest\n",
    "cluster center, as a function of the number of clusters considered. \n",
    "\n",
    "Explain briefly how this plot can be used to identify the \"correct\"\n",
    "number of clusters. \n",
    "\n",
    "How many clusters would you say there are in the\n",
    "data set, based on this plot alone?\n",
    "      \n",
    "To get you started, the cell below has some Python code that can be used to run the\n",
    "clustering and store the results (see also the [silhouette example](https://scikit-learn.org/stable/modules/generated/sklearn.metrics.silhouette_samples.html))\n",
    "\n",
    "Note that the `cluster_km` object contains the following results as attributes:\n",
    " * `cluster_centers_`: Coordinates of cluster centers.\n",
    " * `labels_`: Labels of each point.\n",
    " * `inertia_`: Sum of squared distances of samples to their closest cluster center.\n",
    " * `n_iter_`: Number of iterations run."
   ]
  },
  {
   "cell_type": "code",
   "execution_count": null,
   "metadata": {},
   "outputs": [],
   "source": [
    "\"\"\"Load the wine data set and run KMeans.\"\"\"\n",
    "from sklearn.datasets import load_wine\n",
    "from sklearn.preprocessing import scale\n",
    "from sklearn.cluster import KMeans\n",
    "\n",
    "\n",
    "data_set = load_wine(as_frame=True)[\"frame\"]\n",
    "variables = [i for i in data_set.columns if i != \"target\"]\n",
    "X = scale(data_set[variables].to_numpy())\n",
    "# Define a set of numbers of clusters to run KMeans for:\n",
    "number_of_clusters = [2, 3, 4, 5]\n",
    "# Set up variables for storing the results\n",
    "results = []  # Results for the clustering\n",
    "yfit = []  # Predicted clusters for data points in X\n",
    "for i in number_of_clusters:\n",
    "    cluster_km = KMeans(\n",
    "        n_clusters=i,\n",
    "        init=\"k-means++\",\n",
    "    )\n",
    "    y = cluster_km.fit_predict(X)\n",
    "    results.append(cluster_km)\n",
    "    yfit.append(y)\n",
    "# Print out some results:\n",
    "print(\"Sum of squared distances of samples to their closest cluster center:\")\n",
    "for i, result in zip(number_of_clusters, results):\n",
    "    print(f\"Clusters: {i}: {result.inertia_}\")"
   ]
  },
  {
   "cell_type": "code",
   "execution_count": null,
   "metadata": {},
   "outputs": [],
   "source": [
    "# Your code here"
   ]
  },
  {
   "cell_type": "markdown",
   "metadata": {},
   "source": [
    "**Your answer to 8.2(b):** *Double click here*"
   ]
  },
  {
   "cell_type": "markdown",
   "metadata": {},
   "source": [
    "**(c)** \n",
    "A general method that can be used to assess the clustering, \n",
    "is the silhouette method. This method calculates a silhouette \n",
    "value for each object which is a measure of how similar the \n",
    "object is to the cluster it belongs to (cohesion) compared to\n",
    "other clusters (separation). This is rather easy to calculate \n",
    "with `sklearn` as there is a method to do just so: \n",
    "[silhouette_samples](https://scikit-learn.org/stable/modules/generated/sklearn.metrics.silhouette_samples.html) from the module `sklearn.metrics`.\n",
    "\n",
    "Do the following:\n",
    "\n",
    "* (i)  Calculate the silhouette values for each clustering you have tried.\n",
    "\n",
    "\n",
    "* (ii)  Plot the average silhouette value as a function of the number of clusters considered.\n",
    "\n",
    "\n",
    "* (iii)  For each clustering, plot the silhouette values\n",
    "  grouped into clusters. Say, if you,\n",
    "  for instance, considered 4 clusters in one of your clusterings, plot the silhouette\n",
    "  values for each of these 4 clusters. An example of how to do this is available on\n",
    "  the website\n",
    "  of [`sklearn`](https://scikit-learn.org/stable/auto_examples/cluster/plot_kmeans_silhouette_analysis.html).\n",
    "   \n",
    "\n",
    "Using these results (average silhouette values) and the plots of silhouette values, what\n",
    "is the best number of clusters to use? How does this compare with what we already know -\n",
    "that the samples come from three different cultivators?"
   ]
  },
  {
   "cell_type": "code",
   "execution_count": null,
   "metadata": {},
   "outputs": [],
   "source": [
    "# Your code here"
   ]
  },
  {
   "cell_type": "markdown",
   "metadata": {},
   "source": [
    "**Your answer to 8.2(c):** *Double click here*"
   ]
  },
  {
   "cell_type": "markdown",
   "metadata": {},
   "source": [
    "**(d)** The clustering you just have done used all the variables. It is not easy to\n",
    "visualize the clusters (and potential regions for the different types) in\n",
    "this 13-dimensional space! We will therefore use the scores from the principal\n",
    "component where we just used two components. This means\n",
    "that we now have a 2-dimensional problem!\n",
    "\n",
    "Do the following:\n",
    "\n",
    "* (i)  Run a cluster analysis on the scores from the PCA and find the\n",
    "  best number of clusters. Are your results different from the\n",
    "  cluster analysis on the full data set, and how does it compare to\n",
    "  what we know - that the samples come from three different cultivators of wine?\n",
    "\n",
    "\n",
    "* (ii)  Visualize the clusters by plotting the original scores and coloring\n",
    "  them according to the cluster they belong to. Also, plot the\n",
    "  boundaries for the clusters. It is easiest to plot the boundaries\n",
    "  by creating a bunch of points and then checking which of the cluster\n",
    "  centers they are closest to.\n",
    "  You can find an example of how this can be done in the cell below."
   ]
  },
  {
   "cell_type": "code",
   "execution_count": null,
   "metadata": {},
   "outputs": [],
   "source": [
    "from sklearn.datasets import load_wine\n",
    "from sklearn.preprocessing import scale\n",
    "from sklearn.cluster import KMeans\n",
    "from matplotlib import pyplot as plt\n",
    "import numpy as np\n",
    "\n",
    "data_set = load_wine(as_frame=True)[\"frame\"]\n",
    "# Just pick two variables for this example:\n",
    "X = scale(data_set[[\"proline\", \"hue\"]].to_numpy())\n",
    "cluster = KMeans(\n",
    "    n_clusters=3,\n",
    "    init=\"k-means++\",\n",
    ")\n",
    "y = cluster.fit_predict(X)\n",
    "\n",
    "fig, ax = plt.subplots()\n",
    "ax.set(xlabel=\"proline\", ylabel=\"hue\")\n",
    "for i in sorted(set(y)):\n",
    "    ax.scatter(X[y == i, 0], X[y == i, 1], label=i)\n",
    "ax.legend(title=\"Cultivator\")\n",
    "\n",
    "xlim = ax.get_xlim()\n",
    "ylim = ax.get_ylim()\n",
    "\n",
    "# generate a bunch of points to find the regions:\n",
    "XX, YY = np.meshgrid(\n",
    "    np.linspace(min(xlim), max(xlim), 200),\n",
    "    np.linspace(min(ylim), max(ylim), 200),\n",
    ")\n",
    "Z = cluster.predict(np.c_[XX.ravel(), YY.ravel()])\n",
    "Z = Z.reshape(XX.shape)\n",
    "ax.contourf(XX, YY, Z, alpha=0.2)"
   ]
  },
  {
   "cell_type": "code",
   "execution_count": null,
   "metadata": {},
   "outputs": [],
   "source": [
    "# Your code here"
   ]
  },
  {
   "cell_type": "markdown",
   "metadata": {},
   "source": [
    "**Your answer to 8.2(d):** *Double click here*"
   ]
  }
 ],
 "metadata": {
  "kernelspec": {
   "display_name": "Python 3 (ipykernel)",
   "language": "python",
   "name": "python3"
  },
  "language_info": {
   "codemirror_mode": {
    "name": "ipython",
    "version": 3
   },
   "file_extension": ".py",
   "mimetype": "text/x-python",
   "name": "python",
   "nbconvert_exporter": "python",
   "pygments_lexer": "ipython3",
   "version": "3.9.10"
  }
 },
 "nbformat": 4,
 "nbformat_minor": 2
}
