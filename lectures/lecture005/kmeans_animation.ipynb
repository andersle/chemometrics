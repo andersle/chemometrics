{
 "cells": [
  {
   "cell_type": "code",
   "execution_count": null,
   "metadata": {},
   "outputs": [],
   "source": [
    "from matplotlib import pyplot as plt\n",
    "from matplotlib.colors import ListedColormap\n",
    "from matplotlib import animation\n",
    "from IPython.display import HTML\n",
    "import numpy as np\n",
    "from sklearn.datasets import make_blobs\n",
    "from sklearn.cluster import KMeans\n",
    "plt.style.use('seaborn-talk')\n",
    "%matplotlib inline"
   ]
  },
  {
   "cell_type": "code",
   "execution_count": null,
   "metadata": {},
   "outputs": [],
   "source": [
    "# Set up colors:\n",
    "color_map = ListedColormap(['#1b9e77', '#d95f02', '#7570b3'])"
   ]
  },
  {
   "cell_type": "code",
   "execution_count": null,
   "metadata": {},
   "outputs": [],
   "source": [
    "# Make raw data using blobs\n",
    "X, y = make_blobs(\n",
    "    n_samples=200,\n",
    "    n_features=2,\n",
    "    centers=3,\n",
    "    cluster_std=0.5,\n",
    "    shuffle=True,\n",
    "    random_state=0\n",
    ")"
   ]
  },
  {
   "cell_type": "code",
   "execution_count": null,
   "metadata": {},
   "outputs": [],
   "source": [
    "# Plot the raw data:\n",
    "plt.scatter(X[:,0], X[:, 1], c=y, cmap=color_map)"
   ]
  },
  {
   "cell_type": "code",
   "execution_count": null,
   "metadata": {},
   "outputs": [],
   "source": [
    "# Define some initial centers, these are designed to be \"bad\":\n",
    "initial = np.array(\n",
    "    [\n",
    "        [-3.0, 0.0],\n",
    "        [-2.0, 0.0],\n",
    "        [-1.0, 0.0],\n",
    "    ]\n",
    ")\n",
    "y_c = [0, 1, 2]"
   ]
  },
  {
   "cell_type": "code",
   "execution_count": null,
   "metadata": {},
   "outputs": [],
   "source": [
    "# Plot the initial situation:\n",
    "fig0, ax0 = plt.subplots(constrained_layout=True)\n",
    "ax0.scatter(X[:,0], X[:, 1], c=y, cmap=color_map)\n",
    "ax0.scatter(initial[:,0], initial[:, 1],\n",
    "            c=y_c, cmap=color_map, marker='X', edgecolors='black', s=150)\n",
    "ax0.text(-3, 5, 'Iteration: 0', fontsize='xx-large')\n",
    "xlim = ax0.get_xlim()\n",
    "ylim = ax0.get_ylim()\n",
    "results = [(np.full_like(y, 0), initial)]"
   ]
  },
  {
   "cell_type": "code",
   "execution_count": null,
   "metadata": {},
   "outputs": [],
   "source": [
    "# Run clustering for different number of maximum iterations:\n",
    "max_clusters = 15\n",
    "for iterations in range(1, 15):\n",
    "    km = KMeans(n_clusters=3, init=initial, n_init=1, max_iter=iterations,\n",
    "                random_state=0)\n",
    "    y_km = km.fit_predict(X)\n",
    "    results.append((y_km, km.cluster_centers_))\n",
    "    figi, axi = plt.subplots(constrained_layout=True)\n",
    "    axi.scatter(X[:, 0], X[:, 1], c=y_km, cmap=color_map)\n",
    "    axi.set_xlim(xlim)\n",
    "    axi.set_ylim(ylim)\n",
    "    axi.text(-3, 5, 'Iteration: {}'.format(iterations), fontsize='xx-large')\n",
    "    axi.scatter(km.cluster_centers_[:, 0],\n",
    "                km.cluster_centers_[:, 1],\n",
    "                c=y_c, cmap=color_map,\n",
    "                marker='X', edgecolors='black', s=150)"
   ]
  },
  {
   "cell_type": "code",
   "execution_count": null,
   "metadata": {},
   "outputs": [],
   "source": [
    "# Create an animation:\n",
    "fig2, ax2 = plt.subplots(constrained_layout=True)\n",
    "ax2.set_xlim(xlim)\n",
    "ax2.set_ylim(ylim)\n",
    "yi, centers = results[0]\n",
    "scat = ax2.scatter(X[:, 0], X[:, 1])\n",
    "cent = ax2.scatter(centers[:, 0], centers[:, 1], c=y_c, cmap=color_map,\n",
    "                   marker='X', edgecolors='black', s=250)\n",
    "text = ax2.text(-3, 5, 'Iteration: 0', fontsize='xx-large')"
   ]
  },
  {
   "cell_type": "code",
   "execution_count": null,
   "metadata": {},
   "outputs": [],
   "source": [
    "def animate(i):\n",
    "    \"\"\"Update the animation.\"\"\"\n",
    "    yi, centers = results[i]\n",
    "    cent.set_offsets(centers)\n",
    "    text.set_text('Iteration: {}'.format(i))\n",
    "    if i == 0:\n",
    "        colors = ['#377eb8' for _ in yi]\n",
    "    else:\n",
    "        colors = [color_map.colors[j] for j in yi]\n",
    "    scat.set_facecolors(colors)\n",
    "    return (cent, scat, text)"
   ]
  },
  {
   "cell_type": "code",
   "execution_count": null,
   "metadata": {},
   "outputs": [],
   "source": [
    "anim = animation.FuncAnimation(fig2, animate,\n",
    "                               frames=max_clusters,\n",
    "                               interval=300, blit=True, repeat=True)"
   ]
  },
  {
   "cell_type": "code",
   "execution_count": null,
   "metadata": {},
   "outputs": [],
   "source": [
    "HTML(anim.to_jshtml())"
   ]
  }
 ],
 "metadata": {
  "kernelspec": {
   "display_name": "Python 3",
   "language": "python",
   "name": "python3"
  },
  "language_info": {
   "codemirror_mode": {
    "name": "ipython",
    "version": 3
   },
   "file_extension": ".py",
   "mimetype": "text/x-python",
   "name": "python",
   "nbconvert_exporter": "python",
   "pygments_lexer": "ipython3",
   "version": "3.7.5"
  }
 },
 "nbformat": 4,
 "nbformat_minor": 2
}
