{
 "cells": [
  {
   "cell_type": "markdown",
   "id": "93e2b5f9",
   "metadata": {},
   "source": [
    "# Partial least squares regression \"by hand\"\n",
    "\n",
    "Here, we will find the latent variables in partial least squares (PLS) regression by hand. As an\n",
    "example we will consider the solubility data again but in reduced form:\n",
    "\n",
    "* We will only consider alcohols\n",
    "\n",
    "* We use only logP and the number of atoms in the molecule as our X\n",
    "\n",
    "* We use the solubility and the molecular weight as our Y\n",
    "\n",
    "From the regression we did on the full data set, we know that logP is important for predicting the\n",
    "solubility, and we also expect that the molecular weight is correlated with the number of atoms."
   ]
  },
  {
   "cell_type": "markdown",
   "id": "c2af7e74",
   "metadata": {},
   "source": [
    "## Loading the data\n",
    "\n",
    "The data we will use can be found in the file [solubility_alc.csv](./solubility_alc.csv):"
   ]
  },
  {
   "cell_type": "code",
   "execution_count": null,
   "id": "a3d24b10",
   "metadata": {},
   "outputs": [],
   "source": [
    "from sklearn.cross_decomposition import PLSRegression\n",
    "from sklearn.preprocessing import StandardScaler\n",
    "import numpy as np\n",
    "import matplotlib.pyplot as plt\n",
    "import seaborn as sns\n",
    "import pandas as pd\n",
    "from scipy.linalg import svd\n",
    "from numpy.linalg import norm\n",
    "\n",
    "\n",
    "%matplotlib notebook\n",
    "sns.set_theme(style=\"ticks\", context=\"notebook\", palette=\"muted\")"
   ]
  },
  {
   "cell_type": "code",
   "execution_count": null,
   "id": "61976b26",
   "metadata": {},
   "outputs": [],
   "source": [
    "data = pd.read_csv(\"solubility_alc.csv\")\n",
    "data"
   ]
  },
  {
   "cell_type": "code",
   "execution_count": null,
   "id": "0331dc29",
   "metadata": {},
   "outputs": [],
   "source": [
    "xvars = [\"MolLogP\", \"nAtom\"]\n",
    "yvars = [\"measured log solubility in mols per litre\", \"Molecular Weight\"]\n",
    "\n",
    "scaler_x, scaler_y = StandardScaler(), StandardScaler()\n",
    "\n",
    "Y = scaler_y.fit_transform(data[yvars].to_numpy())\n",
    "X = scaler_x.fit_transform(data[xvars].to_numpy())"
   ]
  },
  {
   "cell_type": "markdown",
   "id": "c42a6675",
   "metadata": {},
   "source": [
    "### Plotting X- and Y-data\n",
    "\n",
    "Before we start, let us first plot the X- and Y-data:"
   ]
  },
  {
   "cell_type": "code",
   "execution_count": null,
   "id": "4bb3d38b",
   "metadata": {},
   "outputs": [],
   "source": [
    "fig, axes = plt.subplots(constrained_layout=True, ncols=2, figsize=(8, 4))\n",
    "axes[0].scatter(X[:, 0], X[:, 1])\n",
    "axes[0].set(xlabel=xvars[0], ylabel=xvars[1])\n",
    "axes[0].set_title(\"X-data\", loc=\"left\")\n",
    "\n",
    "axes[1].scatter(Y[:, 0], Y[:, 1])\n",
    "axes[1].set(xlabel=yvars[0], ylabel=yvars[1])\n",
    "axes[1].set_title(\"Y-data\", loc=\"left\")\n",
    "\n",
    "sns.despine(fig=fig)"
   ]
  },
  {
   "cell_type": "markdown",
   "id": "1a688800",
   "metadata": {},
   "source": [
    "## Finding a latent variable for PLS\n",
    "\n",
    "\n",
    "In PLS, we are looking for scores $\\mathbf{t}$ (for X) and $\\mathbf{u}$ (for y) so that the covariance\n",
    "is maximized. The main idea is that the scores should explain the variance in X, Y, and the\n",
    "covariance between X and Y.\n",
    "\n",
    "The covariance can be calculated by $\\mathbf{t}^\\top \\mathbf{u}$ (the dot product between\n",
    "the scores). Further, the scores are calculated using the *weights* $\\mathbf{w}$ (for X) and $\\mathbf{q}$ (for Y):\n",
    "\n",
    "\n",
    "\\begin{align}\n",
    "\\mathbf{t} &= \\mathbf{X} \\mathbf{w} \\\\\n",
    "\\mathbf{u} &= \\mathbf{Y} \\mathbf{q}\n",
    "\\end{align}\n",
    "\n",
    "\n",
    "Note that we refer to $\\mathbf{w}$ and $\\mathbf{q}$ as *weights*. In PCA, we can invert the relation\n",
    "giving the scores by multiplying with the transpose of the *loadings*.\n",
    "In PLS, this is no longer valid for the weights, and PLS introduces\n",
    "separate *loadings* to do this. For instance, the loadings $\\mathbf{p}$ for X so that we can write $\\mathbf{X} = \\mathbf{t} \\mathbf{p}^\\top$.\n",
    "\n",
    "What we will do now, is to create some $\\mathbf{w}$ and $\\mathbf{q}$ vectors by hand, and check what\n",
    "the correlation is (by calculating the correlation and by plotting the scores $\\mathbf{t}$ vs. $\\mathbf{u}$).\n",
    "Both $\\mathbf{X}$ and $\\mathbf{Y}$ have\n",
    "dimensions $n \\times 2$ (we have $n$ samples and $2$ variables). So if $\\mathbf{w}$ and $\\mathbf{q}$\n",
    "have dimensions $2 \\times 1$ (that is, they are *column* vectors), then the scores will\n",
    "have a dimension of $(n \\times 2) \\times (2 \\times 1) = n \\times 1$."
   ]
  },
  {
   "cell_type": "markdown",
   "id": "8d81cd53",
   "metadata": {},
   "source": [
    "## A short example\n",
    "\n",
    "We set set $\\mathbf{w} = (0.0, 1.0)^\\top$ and $\\mathbf{q} = (0.0, 1.0)^\\top$. Then \n",
    "the product $\\mathbf{X} \\mathbf{w}$ will just pick out\n",
    "the second column of $\\mathbf{X}$ (just the number of atoms) and $\\mathbf{Y} \\mathbf{q}$ will\n",
    "pick out the second column of $\\mathbf{Y}$ (just the molecular weight). Then a plot of\n",
    "$\\mathbf{t}$ vs. $\\mathbf{q}$ will show how the number of atoms is correlated with the\n",
    "molecular weight."
   ]
  },
  {
   "cell_type": "code",
   "execution_count": null,
   "id": "edf6dce2",
   "metadata": {},
   "outputs": [],
   "source": [
    "def make_plot(X, Y, w, q):\n",
    "    \"\"\"Plot X, Y and t vs. u (calculated using w and q)\"\"\"\n",
    "    fig, axes = plt.subplots(constrained_layout=True, ncols=3, figsize=(9, 3))\n",
    "    axes[0].scatter(X[:, 0], X[:, 1])\n",
    "    axes[0].set(xlabel=xvars[0], ylabel=xvars[1], title='X')\n",
    "\n",
    "    axes[1].scatter(Y[:, 0], Y[:, 1])\n",
    "    axes[1].set(xlabel=yvars[0], ylabel=yvars[1], title='Y')\n",
    "\n",
    "    axes[0].quiver(0, 0, w[0][0], w[1][0], color='black',\n",
    "                   angles='xy', scale_units='xy', scale=0.25, width=0.015)\n",
    "    \n",
    "    axes[1].quiver(0, 0, q[0][0], q[1][0], color='red',\n",
    "                   angles='xy', scale_units='xy', scale=0.25, width=0.015)\n",
    "    \n",
    "    t = X @ (w / norm(w)) \n",
    "    u = Y @ (q / norm(q))\n",
    "    # Technical detail: we norm both w and q here to get similar reults from different methods\n",
    "    \n",
    "    correlation = t.T @ u\n",
    "\n",
    "    axes[2].scatter(t[:, 0], u[:, 0])\n",
    "    axes[2].set(\n",
    "        xlabel='X-scores (t)',\n",
    "        ylabel='Y-scores (u)',\n",
    "        title=f'Correlation: {correlation[0][0]:.2f}')\n",
    "    sns.despine(fig=fig)"
   ]
  },
  {
   "cell_type": "code",
   "execution_count": null,
   "id": "f982c6f7",
   "metadata": {},
   "outputs": [],
   "source": [
    "# Loadings by hand:\n",
    "w = np.array([0.0, 1.0])\n",
    "w = w / norm(w)  # Normalize to unit vector\n",
    "w = w.reshape(2, -1)  # Make it a column vector\n",
    "    \n",
    "q = np.array([0.0, 1.0])\n",
    "q = q / norm(q)\n",
    "q = q.reshape(2, -1)  # Make it a column vector\n",
    "\n",
    "print(f\"w.T = {w.T}, shape of w: {w.shape}\")\n",
    "print(f\"q.T = {q.T}, shape of q: {q.shape}\")\n",
    "make_plot(X, Y, w, q)"
   ]
  },
  {
   "cell_type": "markdown",
   "id": "5b78880d",
   "metadata": {},
   "source": [
    "In the plot above, the X-data is projected onto the black vector and this gives the X-scores (t). In the\n",
    "same way, the Y-data is projected onto the red vector and this gives the Y-scores.\n",
    "The rightmost plot show the scores plotted against each other.\n",
    "\n",
    "Here, we see that we can use the X-scores to predict the Y-scores. And we would probably make a good prediction.\n",
    "But our aim is to predict the whole $\\mathbf{Y}$! If we convert the Y-scores to $\\mathbf{Y}$, we would probably\n",
    "predict the molecular weight quite good, but fail at predicting the solubility."
   ]
  },
  {
   "cell_type": "markdown",
   "id": "ed1027fc",
   "metadata": {},
   "source": [
    "Below, you will find the same code for creating $\\mathbf{w}$ and $\\mathbf{q}$ as above. Can you find\n",
    "two other vectors that give a larger correlation?"
   ]
  },
  {
   "cell_type": "code",
   "execution_count": null,
   "id": "fd4cd3a0",
   "metadata": {},
   "outputs": [],
   "source": [
    "w = np.array([0.0, 1.0])\n",
    "w = w / norm(w)  # Normalize to unit vector\n",
    "w = w.reshape(2, -1)  # Make it a column vector\n",
    "    \n",
    "q = np.array([0.0, 1.0])\n",
    "q = q / norm(q)\n",
    "q = q.reshape(2, -1)  # Make it a column vector\n",
    "\n",
    "make_plot(X, Y, w, q)"
   ]
  },
  {
   "cell_type": "markdown",
   "id": "33acdc76",
   "metadata": {},
   "source": [
    "## Making use of `PLSRegression` from `sklearn`"
   ]
  },
  {
   "cell_type": "code",
   "execution_count": null,
   "id": "1452d1bd",
   "metadata": {},
   "outputs": [],
   "source": [
    "model = PLSRegression(scale=False, n_components=1)\n",
    "model.fit(X, Y)\n",
    "make_plot(X, Y, model.x_weights_, model.y_weights_)"
   ]
  },
  {
   "cell_type": "markdown",
   "id": "05f0c695",
   "metadata": {},
   "source": [
    "## Calculating the loadings\n",
    "\n",
    "One can show that maximizing the covariance,\n",
    "\n",
    "\n",
    "\\begin{equation}\n",
    "\\max  \\mathbf{t}^\\top \\mathbf{u} = (\\mathbf{X} \\mathbf{w})^\\top (\\mathbf{Y} \\mathbf{q})\n",
    "= \\mathbf{w}^\\top \\mathbf{X}^\\top \\mathbf{Y} \\mathbf{q}\n",
    "\\end{equation}\n",
    "\n",
    "\n",
    "is the same as finding the\n",
    "[singular value decomposition](https://en.wikipedia.org/wiki/Singular_value_decomposition)\n",
    "of $\\mathbf{X}^\\top \\mathbf{Y}$. Let us also try this:"
   ]
  },
  {
   "cell_type": "code",
   "execution_count": null,
   "id": "295692b4",
   "metadata": {},
   "outputs": [],
   "source": [
    "U, _, Vt = np.linalg.svd(X.T @ Y)  # Find the singular value decomposition.\n",
    "\n",
    "w = U[:, 0].reshape(2, -1)\n",
    "q = Vt[0, :].reshape(2, -1)"
   ]
  },
  {
   "cell_type": "code",
   "execution_count": null,
   "id": "dc8cfc80",
   "metadata": {},
   "outputs": [],
   "source": [
    "make_plot(X, Y, -w, -q)"
   ]
  }
 ],
 "metadata": {
  "kernelspec": {
   "display_name": "Python 3 (ipykernel)",
   "language": "python",
   "name": "python3"
  },
  "language_info": {
   "codemirror_mode": {
    "name": "ipython",
    "version": 3
   },
   "file_extension": ".py",
   "mimetype": "text/x-python",
   "name": "python",
   "nbconvert_exporter": "python",
   "pygments_lexer": "ipython3",
   "version": "3.9.12"
  }
 },
 "nbformat": 4,
 "nbformat_minor": 5
}
