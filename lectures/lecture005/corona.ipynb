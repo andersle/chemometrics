{
 "cells": [
  {
   "cell_type": "code",
   "execution_count": null,
   "metadata": {},
   "outputs": [],
   "source": [
    "%matplotlib notebook\n",
    "from datetime import datetime, timedelta\n",
    "from matplotlib import pyplot as plt\n",
    "from lxml import html\n",
    "import requests\n",
    "import pandas as pd\n",
    "import numpy as np"
   ]
  },
  {
   "cell_type": "code",
   "execution_count": null,
   "metadata": {},
   "outputs": [],
   "source": [
    "# Wikipedia article with raw data:\n",
    "URL = 'https://en.wikipedia.org/wiki/Timeline_of_the_2019%E2%80%9320_Wuhan_coronavirus_outbreak'"
   ]
  },
  {
   "cell_type": "code",
   "execution_count": null,
   "metadata": {},
   "outputs": [],
   "source": [
    "# Method to read the raw data from the Wikipedia article:\n",
    "def read_wikipedia(url):\n",
    "    page = requests.get(url)\n",
    "    tree = html.fromstring(page.content)\n",
    "    table = tree.xpath('/html/body/div[3]/div[3]/div[4]/div/table[2]/tbody')[0]\n",
    "    data = []\n",
    "    for row in table.xpath('.//tr'):\n",
    "        date, confirmed = None, None\n",
    "        try:\n",
    "            confirmed = row.xpath('.//td[3]/text()')[0].strip()\n",
    "            confirmed = confirmed.replace(',', '')\n",
    "            if confirmed:\n",
    "                confirmed = int(confirmed)\n",
    "            else:\n",
    "                confirmed = None\n",
    "        except IndexError:\n",
    "            confirmed = None\n",
    "        try:\n",
    "            date = row.xpath('.//td[1]/text()')[0].strip()\n",
    "            if date:\n",
    "                try:\n",
    "                    date = datetime.strptime(date, '%Y-%m-%d')\n",
    "                except ValueError:\n",
    "                    date = None\n",
    "            else:\n",
    "                date = None\n",
    "        except IndexError:\n",
    "            date = None\n",
    "        data.append((date, confirmed))\n",
    "    data_frame = pd.DataFrame(data, columns=['date', 'confirmed'])\n",
    "    data_frame.dropna(inplace=True)\n",
    "    return data_frame"
   ]
  },
  {
   "cell_type": "code",
   "execution_count": null,
   "metadata": {},
   "outputs": [],
   "source": [
    "# Method to fit a exponential function:\n",
    "def fit_exponential(x, y, xend=20):\n",
    "    param = np.polyfit(x, np.log(y), 1)\n",
    "    x_hat = np.linspace(0, xend, 100)\n",
    "    y_hat = predict_exponential(x_hat, param)\n",
    "    return x_hat, y_hat, param"
   ]
  },
  {
   "cell_type": "code",
   "execution_count": null,
   "metadata": {},
   "outputs": [],
   "source": [
    "# Methods for prediction:\n",
    "def predict_exponential(x, param):\n",
    "    return np.exp(param[1]) * np.exp(param[0] * x)\n",
    "\n",
    "\n",
    "def predict_for_dates(dates, date_zero, param):\n",
    "    predicted = []\n",
    "    for date in dates:\n",
    "        days_end = (datetime(**date) - date_zero).days\n",
    "        predicted.append([days_end, predict_exponential(days_end, param)])\n",
    "    return np.array(predicted)"
   ]
  },
  {
   "cell_type": "code",
   "execution_count": null,
   "metadata": {},
   "outputs": [],
   "source": [
    "# A method for plotting:\n",
    "def plot_raw_and_fit(days, cases, x_hat, y_hat, date_zero, predicted=None,\n",
    "                     logscale=False, xlims=None, ylims=None):\n",
    "    fig, ax1 = plt.subplots()\n",
    "    ax1.set_title('Novel coronavirus in Mainland China.')\n",
    "    if logscale:\n",
    "        ax1.set_yscale('log')\n",
    "    ax1.scatter(days, cases, s=150, alpha=0.8)\n",
    "    ax1.plot(x_hat, y_hat, color='black', label='Fitted')\n",
    "    max_x = int(x_hat.max())\n",
    "    min_x = min(ax1.get_xlim())\n",
    "    if predicted is not None:\n",
    "        ax1.scatter(predicted[:, 0], predicted[:, 1], s=200,\n",
    "                    alpha=0.8, label='Predicted', marker='X')\n",
    "        for values in predicted:\n",
    "            xlims = ax1.get_xlim()\n",
    "            ax1.plot(\n",
    "                [min_x - 1, values[0]],\n",
    "                [values[1], values[1]],\n",
    "                ls=':', alpha=0.8, color='black'\n",
    "            )\n",
    "            ax1.text(min_x + 1, values[1]*1.4, '{:4.2g}'.format(values[1]), fontsize='x-large')\n",
    "            ax1.set_xlim(xlims)\n",
    "        max_x = max((max_x, int(predicted[:, 0].max())))\n",
    "    ticks = [i for i in range(0, max_x + 1, 2)]\n",
    "    times = [date_zero + timedelta(days=i) for i in ticks]\n",
    "    times_str = [i.strftime('%d.%m.%Y') for i in times]\n",
    "    ax1.set_xticks(ticks)\n",
    "    ax1.set_xticklabels(times_str, rotation=30,\n",
    "                        rotation_mode='anchor', ha='right')\n",
    "    ax1.set(xlabel='Date', ylabel='Confirmed cases')\n",
    "    if xlims:\n",
    "        ax1.set_xlim(xlims)\n",
    "    if ylims:\n",
    "        ax1.set_ylim(ylims)\n",
    "    ax1.legend()\n",
    "    fig.tight_layout()\n",
    "    return fig, ax1"
   ]
  },
  {
   "cell_type": "code",
   "execution_count": null,
   "metadata": {},
   "outputs": [],
   "source": [
    "# Get the data:\n",
    "data = read_wikipedia(URL)"
   ]
  },
  {
   "cell_type": "code",
   "execution_count": null,
   "metadata": {},
   "outputs": [],
   "source": [
    "# Print raw data table:\n",
    "data"
   ]
  },
  {
   "cell_type": "code",
   "execution_count": null,
   "metadata": {},
   "outputs": [],
   "source": [
    "# Get cases and days:\n",
    "date_zero = data['date'].iloc[0]\n",
    "days = (data['date'] - date_zero).dt.days.values\n",
    "cases = data['confirmed'].values"
   ]
  },
  {
   "cell_type": "code",
   "execution_count": null,
   "metadata": {},
   "outputs": [],
   "source": [
    "# Do a fit up to February 4th:\n",
    "date_end = datetime(year=2020, month=2, day=4)\n",
    "days_end = (date_end - data['date'].iloc[0]).days + 1\n",
    "x_hat, y_hat, param = fit_exponential(days[5:], cases[5:], xend=days_end)"
   ]
  },
  {
   "cell_type": "code",
   "execution_count": null,
   "metadata": {},
   "outputs": [],
   "source": [
    "# Plot the raw data and the fitted exponential:\n",
    "fig1, ax1 = plot_raw_and_fit(days, cases, x_hat, y_hat,\n",
    "                             date_zero, ylims=(-100, max(cases)*1.1))"
   ]
  },
  {
   "cell_type": "code",
   "execution_count": null,
   "metadata": {},
   "outputs": [],
   "source": [
    "# Predict cases on some specific dates:\n",
    "dates_predict = [\n",
    "    {'year': 2020, 'month': 2, 'day': 4},\n",
    "    {'year': 2020, 'month': 2, 'day': 11}\n",
    "]\n",
    "predicted = predict_for_dates(dates_predict, date_zero, param)"
   ]
  },
  {
   "cell_type": "code",
   "execution_count": null,
   "metadata": {},
   "outputs": [],
   "source": [
    "# Show the predicted values:\n",
    "x_hat2 = np.linspace(\n",
    "    x_hat.min(), max((x_hat.max(), predicted[:, 0].max())), 100\n",
    ")\n",
    "y_hat2 = predict_exponential(x_hat2, param)\n",
    "fig2, _ = plot_raw_and_fit(days, cases, x_hat2, y_hat2, date_zero,\n",
    "                           predicted=predicted, logscale=True)"
   ]
  }
 ],
 "metadata": {
  "kernelspec": {
   "display_name": "Python 3",
   "language": "python",
   "name": "python3"
  },
  "language_info": {
   "codemirror_mode": {
    "name": "ipython",
    "version": 3
   },
   "file_extension": ".py",
   "mimetype": "text/x-python",
   "name": "python",
   "nbconvert_exporter": "python",
   "pygments_lexer": "ipython3",
   "version": "3.7.5"
  }
 },
 "nbformat": 4,
 "nbformat_minor": 2
}
