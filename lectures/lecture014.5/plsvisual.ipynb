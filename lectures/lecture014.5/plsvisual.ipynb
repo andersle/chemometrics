{
 "cells": [
  {
   "cell_type": "code",
   "execution_count": null,
   "id": "a3d24b10",
   "metadata": {},
   "outputs": [],
   "source": [
    "from sklearn.cross_decomposition import PLSRegression\n",
    "from sklearn.preprocessing import StandardScaler\n",
    "import numpy as np\n",
    "import matplotlib.pyplot as plt\n",
    "import seaborn as sns\n",
    "import pandas as pd\n",
    "from scipy.linalg import svd\n",
    "from numpy.linalg import norm\n",
    "\n",
    "\n",
    "%matplotlib notebook\n",
    "sns.set_theme(style=\"ticks\", context=\"notebook\", palette=\"muted\")"
   ]
  },
  {
   "cell_type": "code",
   "execution_count": null,
   "id": "61976b26",
   "metadata": {},
   "outputs": [],
   "source": [
    "data = pd.read_csv(\"solubility_alc.csv\")\n",
    "data"
   ]
  },
  {
   "cell_type": "code",
   "execution_count": null,
   "id": "0331dc29",
   "metadata": {},
   "outputs": [],
   "source": [
    "xvars = ['MolLogP', 'nAtom']\n",
    "yvars = ['measured log solubility in mols per litre', 'Molecular Weight']\n",
    "\n",
    "scaler_x, scaler_y = StandardScaler(), StandardScaler()\n",
    "\n",
    "Y = scaler_y.fit_transform(data[yvars].to_numpy())\n",
    "X = scaler_x.fit_transform(data[xvars].to_numpy())"
   ]
  },
  {
   "cell_type": "code",
   "execution_count": null,
   "id": "4bb3d38b",
   "metadata": {},
   "outputs": [],
   "source": [
    "fig, axes = plt.subplots(constrained_layout=True, ncols=2, figsize=(8, 4))\n",
    "axes[0].scatter(X[:, 0], X[:, 1])\n",
    "axes[0].set(xlabel=xvars[0], ylabel=xvars[1], title='X')\n",
    "\n",
    "axes[1].scatter(Y[:, 0], Y[:, 1])\n",
    "axes[1].set(xlabel=yvars[0], ylabel=yvars[1], title='Y')\n",
    "\n",
    "\n",
    "sns.despine(fig=fig)"
   ]
  },
  {
   "cell_type": "code",
   "execution_count": null,
   "id": "f982c6f7",
   "metadata": {},
   "outputs": [],
   "source": [
    "# Loadings by hand:\n",
    "R = np.array([0.0, 1.0])\n",
    "R = R / norm(R)  # Normalize to unit vector\n",
    "R = R.reshape(2, -1)  # Make it a column vector\n",
    "    \n",
    "Ry = np.array([0.0, 1.0])\n",
    "Ry = Ry / norm(Ry)\n",
    "Ry = Ry.reshape(2, -1)  # Make it a column vector\n",
    "\n",
    "print(\"R\", R, R.shape)\n",
    "print(\"Ry\", Ry, Ry.shape)"
   ]
  },
  {
   "cell_type": "code",
   "execution_count": null,
   "id": "2ad8b760",
   "metadata": {},
   "outputs": [],
   "source": [
    "def make_plot(X, Y, R, Ry):\n",
    "    fig, axes = plt.subplots(constrained_layout=True, ncols=3, figsize=(9, 3))\n",
    "    axes[0].scatter(X[:, 0], X[:, 1])\n",
    "    axes[0].set(xlabel=xvars[0], ylabel=xvars[1], title='X')\n",
    "\n",
    "    axes[1].scatter(Y[:, 0], Y[:, 1])\n",
    "    axes[1].set(xlabel=yvars[0], ylabel=yvars[1], title='Y')\n",
    "\n",
    "    axes[0].quiver(0, 0, R[0][0], R[1][0], color='black',\n",
    "               angles='xy', scale_units='xy', scale=0.25, width=0.015)\n",
    "    \n",
    "    axes[1].quiver(0, 0, Ry[0][0], Ry[1][0], color='red',\n",
    "               angles='xy', scale_units='xy', scale=0.25, width=0.015)\n",
    "    \n",
    "    T = X @ (R / norm(R))\n",
    "    U = Y @ (Ry / norm(Ry))\n",
    "    \n",
    "    correlation = T.T @ U\n",
    "\n",
    "    axes[2].scatter(T[:, 0], U[:, 0])\n",
    "    axes[2].set(\n",
    "        xlabel='X-scores (T)',\n",
    "        ylabel='Y-scores (U)',\n",
    "        title=f'Correlation: {correlation[0][0]:.2f}1')\n",
    "    sns.despine(fig=fig)"
   ]
  },
  {
   "cell_type": "code",
   "execution_count": null,
   "id": "7d61f741",
   "metadata": {},
   "outputs": [],
   "source": [
    "make_plot(X, Y, R, Ry)"
   ]
  },
  {
   "cell_type": "code",
   "execution_count": null,
   "id": "fd4cd3a0",
   "metadata": {},
   "outputs": [],
   "source": [
    "# Loadings by hand:\n",
    "R = np.array([, ])\n",
    "R = R / norm(R)  # Normalize to unit vector\n",
    "R = R.reshape(2, -1)  # Make it a column vector\n",
    "    \n",
    "Ry = np.array([, ])\n",
    "Ry = Ry / norm(Ry)\n",
    "Ry = Ry.reshape(2, -1)  # Make it a column vector\n",
    "make_plot(X, Y, R, Ry)"
   ]
  },
  {
   "cell_type": "code",
   "execution_count": null,
   "id": "1452d1bd",
   "metadata": {},
   "outputs": [],
   "source": [
    "model = PLSRegression(scale=False, n_components=1)\n",
    "model.fit(X, Y)\n",
    "make_plot(X, Y, model.x_rotations_, model.y_rotations_)"
   ]
  },
  {
   "cell_type": "code",
   "execution_count": null,
   "id": "295692b4",
   "metadata": {},
   "outputs": [],
   "source": [
    "U, _, Vt = svd(X.T @ Y)\n",
    "w = U[:, 0].reshape(2, -1)\n",
    "\n",
    "w = w / norm(w)\n",
    "\n",
    "q = Vt[0, :].reshape(2, -1)\n",
    "q = q / norm(q)"
   ]
  },
  {
   "cell_type": "code",
   "execution_count": null,
   "id": "dc8cfc80",
   "metadata": {},
   "outputs": [],
   "source": [
    "make_plot(X, Y, -w, -q)"
   ]
  }
 ],
 "metadata": {
  "kernelspec": {
   "display_name": "Python 3 (ipykernel)",
   "language": "python",
   "name": "python3"
  },
  "language_info": {
   "codemirror_mode": {
    "name": "ipython",
    "version": 3
   },
   "file_extension": ".py",
   "mimetype": "text/x-python",
   "name": "python",
   "nbconvert_exporter": "python",
   "pygments_lexer": "ipython3",
   "version": "3.9.12"
  }
 },
 "nbformat": 4,
 "nbformat_minor": 5
}
