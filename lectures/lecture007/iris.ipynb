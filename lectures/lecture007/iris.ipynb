{
 "cells": [
  {
   "cell_type": "code",
   "execution_count": null,
   "metadata": {},
   "outputs": [],
   "source": [
    "from matplotlib import pyplot as plt\n",
    "import numpy as np\n",
    "import pandas as pd\n",
    "from sklearn.decomposition import PCA\n",
    "from sklearn.datasets import load_iris\n",
    "from sklearn.preprocessing import scale\n",
    "plt.style.use('seaborn-notebook')\n",
    "%matplotlib notebook"
   ]
  },
  {
   "cell_type": "code",
   "execution_count": null,
   "metadata": {},
   "outputs": [],
   "source": [
    "raw_data = load_iris()\n",
    "variables = raw_data['feature_names']\n",
    "data = pd.DataFrame(raw_data['data'], columns=raw_data['feature_names'])\n",
    "data['target'] = raw_data['target']\n",
    "data"
   ]
  },
  {
   "cell_type": "code",
   "execution_count": null,
   "metadata": {},
   "outputs": [],
   "source": [
    "print(variables)"
   ]
  },
  {
   "cell_type": "code",
   "execution_count": null,
   "metadata": {},
   "outputs": [],
   "source": [
    "print(set(data['target'].values))\n",
    "flower_names = {0: 'setosa', 1: 'versicolor', 2: 'virginica'}"
   ]
  },
  {
   "cell_type": "code",
   "execution_count": null,
   "metadata": {},
   "outputs": [],
   "source": [
    "# Plot the raw data in 3D:\n",
    "fig1 = plt.figure(constrained_layout=True)\n",
    "ax1 = fig1.add_subplot(111, projection='3d')\n",
    "# Plot the three classes of flowers with different colors:\n",
    "class0 = data.loc[data['target'] == 0]\n",
    "class1 = data.loc[data['target'] == 1]\n",
    "class2 = data.loc[data['target'] == 2]\n",
    "\n",
    "x = 'sepal length (cm)'\n",
    "y = 'petal length (cm)'\n",
    "z = 'petal width (cm)'\n",
    "\n",
    "for klass in (class0, class1, class2):\n",
    "    ax1.scatter(\n",
    "        klass[x].values,\n",
    "        klass[y].values,\n",
    "        klass[z].values,\n",
    "        s=150,\n",
    "        label=flower_names[klass['target'].values[0]]\n",
    "    )\n",
    "ax1.legend()\n",
    "ax1.set_xlabel(x, labelpad=10);\n",
    "ax1.set_ylabel(y, labelpad=10);\n",
    "ax1.set_zlabel(z, labelpad=10);"
   ]
  },
  {
   "cell_type": "code",
   "execution_count": null,
   "metadata": {},
   "outputs": [],
   "source": [
    "# Run Principal Component Analysis:\n",
    "pca = PCA()\n",
    "X = scale(data[variables].values)\n",
    "scores = pca.fit_transform(X)\n",
    "# \"scores\" are the new coordinates!"
   ]
  },
  {
   "cell_type": "code",
   "execution_count": null,
   "metadata": {},
   "outputs": [],
   "source": [
    "# We can plot the scores agains each other:\n",
    "fig2, ax2 = plt.subplots(constrained_layout=True)\n",
    "ax2.scatter(scores[:, 0], scores[:, 1])\n",
    "ax2.set(xlabel='Principal component 1', ylabel='Principal component 2');"
   ]
  },
  {
   "cell_type": "code",
   "execution_count": null,
   "metadata": {},
   "outputs": [],
   "source": [
    "# We can plot the scores agains each other:\n",
    "fig3, ax3 = plt.subplots(constrained_layout=True)\n",
    "# Let us add colors according to the original classes:\n",
    "idx0 = data.index[data['target'] == 0].tolist()\n",
    "idx1 = data.index[data['target'] == 1].tolist()\n",
    "idx2 = data.index[data['target'] == 2].tolist()\n",
    "ax3.scatter(scores[idx0, 0], scores[idx0, 1], label=flower_names[0])\n",
    "ax3.scatter(scores[idx1, 0], scores[idx1, 1], label=flower_names[1])\n",
    "ax3.scatter(scores[idx2, 0], scores[idx2, 1], label=flower_names[2])\n",
    "ax3.legend()\n",
    "ax3.set(xlabel='Principal component 1', ylabel='Principal component 2');"
   ]
  },
  {
   "cell_type": "code",
   "execution_count": null,
   "metadata": {},
   "outputs": [],
   "source": [
    "# Loadings represents the transformation from the old axes to the new ones.\n",
    "# We can get information on the loadings by inspecting the pca object:\n",
    "loadings = pca.components_\n",
    "loadings"
   ]
  },
  {
   "cell_type": "code",
   "execution_count": null,
   "metadata": {},
   "outputs": [],
   "source": [
    "# Here, each row is a single principal component, for instance:\n",
    "pc1 = pca.components_[0, :]\n",
    "print(pc1)"
   ]
  },
  {
   "cell_type": "code",
   "execution_count": null,
   "metadata": {},
   "outputs": [],
   "source": [
    "# These numbers, i.e. from print(pc1), define how we construct the first principal component:\n",
    "text = ' + '.join([f'{i:4.2f} * ({j})' for i, j in zip(pc1, variables)])\n",
    "print(f'pc1 = {text}')"
   ]
  },
  {
   "cell_type": "code",
   "execution_count": null,
   "metadata": {},
   "outputs": [],
   "source": [
    "# Let us try to add this line to the original 3D plot\n",
    "# It here a vector pointing in the direction [0.52, 0.58, 0.56]\n",
    "fig4 = plt.figure(constrained_layout=True)\n",
    "ax4 = fig4.add_subplot(111, projection='3d')\n",
    "\n",
    "x = 'sepal length (cm)'\n",
    "y = 'petal length (cm)'\n",
    "z = 'petal width (cm)'\n",
    "\n",
    "for i, klass in enumerate((idx0, idx1, idx2)):\n",
    "    ax4.scatter(\n",
    "        X[klass, 0],\n",
    "        X[klass, 2],\n",
    "        X[klass, 3],\n",
    "        s=150,\n",
    "        label=flower_names[i],\n",
    "    )\n",
    "    \n",
    "direction = np.array([0.52, 0.58, 0.56])\n",
    "origin = np.array([0, 0, 0])\n",
    "\n",
    "vector1 = origin + 3*direction\n",
    "vector2 = origin - 3*direction\n",
    "\n",
    "ax4.plot(\n",
    "    [vector2[0], vector1[0]],\n",
    "    [vector2[1], vector1[1]],\n",
    "    [vector2[2], vector1[2]],\n",
    "    color='k', lw=4\n",
    ")\n",
    "ax4.set_xlabel(x, labelpad=10);\n",
    "ax4.set_ylabel(y, labelpad=10);\n",
    "ax4.set_zlabel(z, labelpad=10);\n",
    "ax4.legend();"
   ]
  },
  {
   "cell_type": "code",
   "execution_count": null,
   "metadata": {},
   "outputs": [],
   "source": [
    "# Let us look at the two first principal components:\n",
    "pc1 = pca.components_[0, :]\n",
    "pc2 = pca.components_[1, :]\n",
    "print(f'PC1 = {pc1}')\n",
    "print(f'PC2 = {pc2}')\n",
    "text1 = ' + '.join([f'{i:4.2f} * ({j})' for i, j in zip(pc1, variables)])\n",
    "print(f'PC1 = {text1}')\n",
    "text2 = ' + '.join([f'{i:4.2f} * ({j})' for i, j in zip(pc2, variables)])\n",
    "print(f'PC2 = {text2}')"
   ]
  },
  {
   "cell_type": "code",
   "execution_count": null,
   "metadata": {},
   "outputs": [],
   "source": [
    "# We can plot contributions from the original variables to the new ones in a loadings plot:\n",
    "fig5, ax5 = plt.subplots(constrained_layout=True)\n",
    "markers = ['o', 'X', 's', '>']\n",
    "for i, name in enumerate(variables):\n",
    "    ax5.scatter(pc1[i], pc2[i], s=150, label=name, marker=markers[i], edgecolor='k', linewidth=1.25)\n",
    "ax5.set_xlim(-1, 1)\n",
    "ax5.set_ylim(-1, 1)\n",
    "ax5.axhline(y=0, ls=':', color='k')\n",
    "ax5.axvline(x=0, ls=':', color='k')\n",
    "ax5.set(xlabel='PC1', ylabel='PC2')\n",
    "ax5.legend();"
   ]
  },
  {
   "cell_type": "markdown",
   "metadata": {},
   "source": [
    "From this plot we can learn the following:\n",
    "\n",
    "* We see that the petal length and the petal width are close together. This means that they are correlated. The practical implication of this is: *we only need one of them for describing the variation in the data (not both)*.\n",
    "\n",
    "* Along PC2, the sepal width has a much larger value than the others. This means that PC2 is largely determined by the sepal width.\n",
    "\n",
    "* Along PC1, the sepal length, the petal length, and the petal width have almost the same contribution (i.e. they are close together viewed along PC1). That means that they are all correlated here and we can probably explain a lot of the variance using just one of them.\n",
    "\n",
    "Based on this we expect that we can explain a lot of the variance in the data using just two variables,\n",
    "for instance, **sepal width** and **petal length**. Of course, this is something we could have figured out just by plotting all pairs of possible variables. Here there are only four variables and the number of such plots would then be $\\binom{4}{2} = 6$. This is something we can manage. But if we have many variables, it will be tedious to do!\n",
    "\n",
    "Let us test this conclusion by plotting the original data using the two original variables petal length and sepal width:"
   ]
  },
  {
   "cell_type": "code",
   "execution_count": null,
   "metadata": {},
   "outputs": [],
   "source": [
    "fig6, ax6 = plt.subplots(constrained_layout=True)\n",
    "\n",
    "x = 'petal length (cm)'\n",
    "y = 'sepal width (cm)'\n",
    "\n",
    "for i, klass in enumerate((class0, class1, class2)):\n",
    "    ax6.scatter(\n",
    "        klass[x].values,\n",
    "        klass[y].values,\n",
    "        s=100,\n",
    "        label=flower_names[i],\n",
    "    )\n",
    "ax6.legend()\n",
    "ax6.set_xlabel(x);\n",
    "ax6.set_ylabel(y);"
   ]
  },
  {
   "cell_type": "code",
   "execution_count": null,
   "metadata": {},
   "outputs": [],
   "source": [
    "# In the previous plot, we used two variables. But they are not necessarily equally important for\n",
    "# describing the variance in the original data. We can check their importance by plotting the explained\n",
    "# variance as a function of the number of principal components:\n",
    "fig7, ax7 = plt.subplots(constrained_layout=True)\n",
    "ax7.plot([1, 2, 3, 4], pca.explained_variance_ratio_, marker='X')\n",
    "ax7.set(xlabel='Principal component', ylabel='Fraction of explained variance');\n",
    "fig7.savefig('variance.pdf', bbox_inches='tight')"
   ]
  }
 ],
 "metadata": {
  "kernelspec": {
   "display_name": "Python 3 (ipykernel)",
   "language": "python",
   "name": "python3"
  },
  "language_info": {
   "codemirror_mode": {
    "name": "ipython",
    "version": 3
   },
   "file_extension": ".py",
   "mimetype": "text/x-python",
   "name": "python",
   "nbconvert_exporter": "python",
   "pygments_lexer": "ipython3",
   "version": "3.9.10"
  }
 },
 "nbformat": 4,
 "nbformat_minor": 4
}
