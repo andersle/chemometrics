{
 "cells": [
  {
   "cell_type": "markdown",
   "id": "07558a63",
   "metadata": {},
   "source": [
    "# The normal probability plot"
   ]
  },
  {
   "cell_type": "code",
   "execution_count": null,
   "id": "21fab47e",
   "metadata": {},
   "outputs": [],
   "source": [
    "import numpy as np\n",
    "from matplotlib import pyplot as plt\n",
    "from scipy.stats import norm\n",
    "import seaborn as sns\n",
    "\n",
    "sns.set_theme(style=\"ticks\", context=\"notebook\", palette=\"muted\")\n",
    "%matplotlib notebook"
   ]
  },
  {
   "cell_type": "code",
   "execution_count": null,
   "id": "25793b68",
   "metadata": {},
   "outputs": [],
   "source": [
    "numbers = []\n",
    "for i in range(1):\n",
    "    x = np.random.normal(size=15)\n",
    "    x.sort()\n",
    "    numbers.append(x)\n",
    "numbers = np.array(numbers)\n",
    "med = np.median(numbers, axis=0)"
   ]
  },
  {
   "cell_type": "code",
   "execution_count": null,
   "id": "0fa44c2e",
   "metadata": {},
   "outputs": [],
   "source": [
    "med"
   ]
  },
  {
   "cell_type": "code",
   "execution_count": null,
   "id": "6536ac33",
   "metadata": {},
   "outputs": [],
   "source": [
    "fig, ax = plt.subplots(constrained_layout=True)\n",
    "x = np.linspace(-3, 3, 100)\n",
    "y = norm.pdf(x)\n",
    "ax.plot(x, y)\n",
    "for i in med:\n",
    "    ax.axvline(x=i, ls=\":\", color=\"k\")\n",
    "sns.despine(fig=fig)"
   ]
  },
  {
   "cell_type": "markdown",
   "id": "064cbceb",
   "metadata": {},
   "source": [
    "## Example: A normal probability plot"
   ]
  },
  {
   "cell_type": "code",
   "execution_count": null,
   "id": "6382a56e",
   "metadata": {},
   "outputs": [],
   "source": [
    "my_numbers = np.array([0.00, -0.29, -1.12, -0.01, -0.38, -0.48, -1.52, -0.49])"
   ]
  },
  {
   "cell_type": "code",
   "execution_count": null,
   "id": "a23c87d4",
   "metadata": {},
   "outputs": [],
   "source": [
    "# Sort the numbers:\n",
    "my_numbers.sort()\n",
    "my_numbers"
   ]
  },
  {
   "cell_type": "code",
   "execution_count": null,
   "id": "2557742f",
   "metadata": {},
   "outputs": [],
   "source": [
    "# Find medians in uniform distribution with approximate equation:\n",
    "def uniform_medians(n):\n",
    "    medians = np.zeros(n)\n",
    "    medians[0] = 1.0 - 0.5 ** (1.0 / n)\n",
    "    medians[-1] = 0.5 ** (1.0 / n)\n",
    "    i = np.arange(2, n)\n",
    "    print(i)\n",
    "    medians[1:-1] = (i - 0.3175) / (n + 0.365)\n",
    "    return medians"
   ]
  },
  {
   "cell_type": "code",
   "execution_count": null,
   "id": "5b5c055f",
   "metadata": {},
   "outputs": [],
   "source": [
    "medians_u = uniform_medians(len(my_numbers))\n",
    "medians_u"
   ]
  },
  {
   "cell_type": "code",
   "execution_count": null,
   "id": "15c911cf",
   "metadata": {},
   "outputs": [],
   "source": [
    "# Transform medians to normal distribution:\n",
    "medians_normal = norm.ppf(medians_u)\n",
    "medians_normal"
   ]
  },
  {
   "cell_type": "code",
   "execution_count": null,
   "id": "e181636e",
   "metadata": {},
   "outputs": [],
   "source": [
    "# Plot :-)\n",
    "fig, ax = plt.subplots(constrained_layout=True)\n",
    "ax.scatter(medians_normal, my_numbers)\n",
    "ax.set(xlabel=\"Theoretical quantiles\", ylabel=\"Order values\")\n",
    "sns.despine(fig=fig)"
   ]
  },
  {
   "cell_type": "markdown",
   "id": "e97f317e",
   "metadata": {},
   "source": [
    "## Same example, but using SciPy:"
   ]
  },
  {
   "cell_type": "code",
   "execution_count": null,
   "id": "36e639a6",
   "metadata": {},
   "outputs": [],
   "source": [
    "from scipy.stats import probplot"
   ]
  },
  {
   "cell_type": "code",
   "execution_count": null,
   "id": "d323fe1e",
   "metadata": {},
   "outputs": [],
   "source": [
    "fig, ax = plt.subplots(constrained_layout=True)\n",
    "res = probplot(my_numbers, dist=\"norm\", fit=True, plot=ax, rvalue=True)\n",
    "sns.despine(fig=fig)"
   ]
  },
  {
   "cell_type": "markdown",
   "id": "de01a31b",
   "metadata": {},
   "source": [
    "## Same example, but using statsmodels:"
   ]
  },
  {
   "cell_type": "code",
   "execution_count": null,
   "id": "6e18fa33",
   "metadata": {},
   "outputs": [],
   "source": [
    "import statsmodels.api as sm"
   ]
  },
  {
   "cell_type": "code",
   "execution_count": null,
   "id": "baf48947",
   "metadata": {},
   "outputs": [],
   "source": [
    "fig, ax = plt.subplots(constrained_layout=True)\n",
    "plot = sm.ProbPlot(my_numbers, fit=True, a=0)\n",
    "_ = plot.qqplot(line=\"45\", ax=ax)\n",
    "sns.despine(fig=fig)"
   ]
  },
  {
   "cell_type": "code",
   "execution_count": null,
   "id": "8874af19",
   "metadata": {},
   "outputs": [],
   "source": []
  }
 ],
 "metadata": {
  "kernelspec": {
   "display_name": "Python 3 (ipykernel)",
   "language": "python",
   "name": "python3"
  },
  "language_info": {
   "codemirror_mode": {
    "name": "ipython",
    "version": 3
   },
   "file_extension": ".py",
   "mimetype": "text/x-python",
   "name": "python",
   "nbconvert_exporter": "python",
   "pygments_lexer": "ipython3",
   "version": "3.11.7"
  }
 },
 "nbformat": 4,
 "nbformat_minor": 5
}
