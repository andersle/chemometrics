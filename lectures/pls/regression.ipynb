{
 "cells": [
  {
   "attachments": {
    "test.png": {
     "image/png": "[encoded data removed]"
    }
   },
   "cell_type": "markdown",
   "id": "62090c65",
   "metadata": {},
   "source": [
    "# Predicting solubility\n",
    "In this notebook, we are going to predict \n",
    "water solubility for some common organic molecules.\n",
    "\n",
    "![test.png](attachment:test.png)\n",
    "\n",
    "We have solubility data (the logarithm of the solubility in mols per litre) for 1128 molecules. For each molecule, we have calculated around 1100 molecular descriptors. These range from simple ones\n",
    "(for example, the molecular mass) to more complex ones such as [logP](https://en.wikipedia.org/wiki/Partition_coefficient) (logP is the logarithm of the equilibrium\n",
    "concentrations of a compound in a mixture of water and 1-octanol \n",
    "and measures how hydrophilic or hydrophobic the molecule is).\n",
    "\n",
    "These descriptors have been calculated with two different libraries, [rdkit](https://www.rdkit.org/) and [mordred](https://jcheminf.biomedcentral.com/articles/10.1186/s13321-018-0258-y).\n",
    "We have not checked if we have (accidentally) calculated the same descriptor twice (with different names in rdkit/mordred), and many\n",
    "descriptors are correlated, for instance, the exact molecular weight (based on the IUPAC atomic mass for the most common\n",
    "isotope of each atom) and the average molecular weight (based on averaging the isotopes for each atom, weighted by natural\n",
    "fractional abundance of the isotopes).\n",
    "\n",
    "We will here see how well we can predict the solubility from\n",
    "the molecular descriptors with three linear models (least squares, PLS, and LASSO)."
   ]
  },
  {
   "cell_type": "markdown",
   "id": "d610934d",
   "metadata": {},
   "source": [
    "## Loading the raw data\n",
    "We start by loading the raw data from the file [solubility_descriptors.csv.zip](./solubility_descriptors.csv.zip):"
   ]
  },
  {
   "cell_type": "code",
   "execution_count": null,
   "id": "77aa6e2f",
   "metadata": {},
   "outputs": [],
   "source": [
    "from matplotlib import pyplot as plt\n",
    "import numpy as np\n",
    "import pandas as pd\n",
    "import seaborn as sns\n",
    "\n",
    "%matplotlib inline\n",
    "sns.set_theme(style=\"ticks\", context=\"notebook\", palette=\"muted\")"
   ]
  },
  {
   "cell_type": "code",
   "execution_count": null,
   "id": "f146e5da",
   "metadata": {},
   "outputs": [],
   "source": [
    "data = pd.read_csv(\"solubility_descriptors.csv.zip\")\n",
    "data"
   ]
  },
  {
   "cell_type": "markdown",
   "id": "28d7cd55",
   "metadata": {},
   "source": [
    "Here, we have included the smiles strings for the molecules. We can use this to draw the molecules,\n",
    "for instance:"
   ]
  },
  {
   "cell_type": "code",
   "execution_count": null,
   "id": "37ffc5aa",
   "metadata": {},
   "outputs": [],
   "source": [
    "from rdkit import Chem\n",
    "from rdkit.Chem.Draw import IPythonConsole\n",
    "from rdkit.Chem import Draw\n",
    "\n",
    "IPythonConsole.ipython_useSVG = True\n",
    "mol = Chem.MolFromSmiles(data[\"smiles\"].values[1])\n",
    "mol"
   ]
  },
  {
   "cell_type": "code",
   "execution_count": null,
   "id": "b01d39b6",
   "metadata": {},
   "outputs": [],
   "source": [
    "mols = [Chem.MolFromSmiles(i) for i in data[\"smiles\"].values[:9]]\n",
    "names = [i for i in data[\"Compound ID\"].values[:9]]\n",
    "Draw.MolsToGridImage(mols, legends=names, subImgSize=(300, 300))"
   ]
  },
  {
   "cell_type": "markdown",
   "id": "0ff96aba",
   "metadata": {},
   "source": [
    "A short description of the different descriptors can be found in the file [descriptors.csv](./descriptors.csv).\n",
    "We will load it here so we can understand the different variables:"
   ]
  },
  {
   "cell_type": "code",
   "execution_count": null,
   "id": "4a8ececc",
   "metadata": {},
   "outputs": [],
   "source": [
    "descriptors = pd.read_csv(\"descriptors.csv\")\n",
    "descriptors"
   ]
  },
  {
   "cell_type": "code",
   "execution_count": null,
   "id": "11582ee6",
   "metadata": {},
   "outputs": [],
   "source": [
    "# We convert the table above to a dictionary, so that we can pick out descriptions:\n",
    "descriptors_dict = descriptors.set_index(\"Descriptor name\")[\n",
    "    \"Description\"\n",
    "].to_dict()"
   ]
  },
  {
   "cell_type": "markdown",
   "id": "e49a231a",
   "metadata": {},
   "source": [
    "Let us now extract the variables we are going to use:\n",
    "\n",
    "- `smiles` & `Compound ID`: We will ignore these columns (they are just the smiles and the names).\n",
    "\n",
    "\n",
    "- `measured log solubility in mols per litre`: This is the solubility, and we will use it as our `y`.\n",
    "\n",
    "\n",
    "- All other variables will be used as `X`."
   ]
  },
  {
   "cell_type": "code",
   "execution_count": null,
   "id": "8ca26d52",
   "metadata": {},
   "outputs": [],
   "source": [
    "yvars = [\"measured log solubility in mols per litre\"]\n",
    "ydata = data[yvars].to_numpy()\n",
    "print(ydata.shape)\n",
    "skip = [\"smiles\", \"Compound ID\"]\n",
    "xvars = [i for i in data.columns if i not in skip + yvars]\n",
    "Xdata = data[xvars].to_numpy()\n",
    "print(Xdata.shape)"
   ]
  },
  {
   "cell_type": "markdown",
   "id": "75937a20",
   "metadata": {},
   "source": [
    "## Preprocessing and setting up for train/test\n",
    "\n",
    "We start by scaling the data and splitting it into training/testing sets:"
   ]
  },
  {
   "cell_type": "code",
   "execution_count": null,
   "id": "c5730fa2",
   "metadata": {},
   "outputs": [],
   "source": [
    "from sklearn.model_selection import train_test_split\n",
    "from sklearn.preprocessing import StandardScaler"
   ]
  },
  {
   "cell_type": "code",
   "execution_count": null,
   "id": "98fb70ca",
   "metadata": {},
   "outputs": [],
   "source": [
    "X_train, X_test, y_train, y_test = train_test_split(\n",
    "    Xdata, ydata, test_size=0.33\n",
    ")\n",
    "scale_x = StandardScaler().fit(X_train)\n",
    "scale_y = StandardScaler().fit(y_train)\n",
    "\n",
    "X_train = scale_x.transform(X_train)\n",
    "X_test = scale_x.transform(X_test)\n",
    "\n",
    "y_train = scale_y.transform(y_train)\n",
    "y_test = scale_y.transform(y_test)"
   ]
  },
  {
   "cell_type": "markdown",
   "id": "9b88daad",
   "metadata": {},
   "source": [
    "## Least squares"
   ]
  },
  {
   "cell_type": "code",
   "execution_count": null,
   "id": "aad113cd",
   "metadata": {},
   "outputs": [],
   "source": [
    "from sklearn.linear_model import LinearRegression"
   ]
  },
  {
   "cell_type": "code",
   "execution_count": null,
   "id": "6892f7cc",
   "metadata": {},
   "outputs": [],
   "source": [
    "# Create a least squares model here:\n",
    "# model_least_squares = LinearRegression()"
   ]
  },
  {
   "cell_type": "code",
   "execution_count": null,
   "id": "c1d8af5a",
   "metadata": {},
   "outputs": [],
   "source": [
    "from fancyplots import mpl_yhat_vs_y"
   ]
  },
  {
   "cell_type": "code",
   "execution_count": null,
   "id": "45a03808",
   "metadata": {},
   "outputs": [],
   "source": [
    "mpl_yhat_vs_y(\n",
    "    model_least_squares,\n",
    "    X_train,\n",
    "    y_train,\n",
    "    X_test=X_test,\n",
    "    y_test=y_test,\n",
    "    title=\"Least squares\",\n",
    ")"
   ]
  },
  {
   "cell_type": "code",
   "execution_count": null,
   "id": "1e3e0e6d",
   "metadata": {},
   "outputs": [],
   "source": [
    "from fancyplots import mpl_show_coefficients\n",
    "\n",
    "mpl_show_coefficients(model_least_squares, xvars, yvars)"
   ]
  },
  {
   "cell_type": "code",
   "execution_count": null,
   "id": "88a9ef62",
   "metadata": {},
   "outputs": [],
   "source": [
    "table = pd.DataFrame(\n",
    "    {\n",
    "        \"Variable\": xvars,\n",
    "        \"Coefficient\": model_least_squares.coef_.flatten(),\n",
    "        \"Description\": [descriptors_dict.get(i, i) for i in xvars],\n",
    "    }\n",
    ")\n",
    "table.sort_values(\"Coefficient\", key=abs, ascending=False)"
   ]
  },
  {
   "cell_type": "markdown",
   "id": "e93e522a",
   "metadata": {},
   "source": [
    "## Partial Least Squares"
   ]
  },
  {
   "cell_type": "code",
   "execution_count": null,
   "id": "a5d49197",
   "metadata": {},
   "outputs": [],
   "source": [
    "from sklearn.cross_decomposition import PLSRegression\n",
    "from sklearn.model_selection import GridSearchCV"
   ]
  },
  {
   "cell_type": "code",
   "execution_count": null,
   "id": "e0821df1",
   "metadata": {},
   "outputs": [],
   "source": [
    "# Create the PLS model here:\n",
    "# model_pls = PLSRegression(...)\n",
    "# To use grid search:\n",
    "# parameters = {\"n_components\": range(1, 16)}\n",
    "# grid = GridSearchCV(\n",
    "#    PLSRegression(scale=False),\n",
    "#    parameters,\n",
    "#    scoring=\"r2\",\n",
    "#    cv=10,\n",
    "#    verbose=3,\n",
    "# )\n",
    "# grid.fit(X_train, y_train)\n",
    "# model_pls = grid.best_estimator_\n",
    "# model_pls"
   ]
  },
  {
   "cell_type": "code",
   "execution_count": null,
   "id": "ad870108",
   "metadata": {},
   "outputs": [],
   "source": [
    "mpl_yhat_vs_y(\n",
    "    model_pls, X_train, y_train, X_test=X_test, y_test=y_test, title=\"PLS\"\n",
    ")"
   ]
  },
  {
   "cell_type": "code",
   "execution_count": null,
   "id": "eaa53ea8",
   "metadata": {},
   "outputs": [],
   "source": [
    "mpl_show_coefficients(model_pls, xvars, yvars)"
   ]
  },
  {
   "cell_type": "code",
   "execution_count": null,
   "id": "8015e80f",
   "metadata": {},
   "outputs": [],
   "source": [
    "table = pd.DataFrame(\n",
    "    {\n",
    "        \"Variable\": xvars,\n",
    "        \"Coefficient\": model_pls.coef_.flatten(),\n",
    "        \"Description\": [descriptors_dict.get(i, i) for i in xvars],\n",
    "    }\n",
    ")\n",
    "table.sort_values(\"Coefficient\", key=abs, ascending=False)"
   ]
  },
  {
   "cell_type": "markdown",
   "id": "f056f88e",
   "metadata": {},
   "source": [
    "## LASSO"
   ]
  },
  {
   "cell_type": "code",
   "execution_count": null,
   "id": "8c4b32d1",
   "metadata": {},
   "outputs": [],
   "source": [
    "from sklearn.linear_model import Lasso"
   ]
  },
  {
   "cell_type": "code",
   "execution_count": null,
   "id": "8ec129d9",
   "metadata": {},
   "outputs": [],
   "source": [
    "# Create the LASSO model here:\n",
    "# model_lasso = Lasso(...)\n",
    "# To do a grid search:\n",
    "# parameters = {\"alpha\": np.logspace(-3, 0, 10)}\n",
    "# grid = GridSearchCV(\n",
    "#    Lasso(fit_intercept=False, max_iter=10000),\n",
    "#    parameters,\n",
    "#    scoring=\"r2\",\n",
    "#    cv=10,\n",
    "#    verbose=3,\n",
    "# )\n",
    "# grid.fit(X_train, y_train)\n",
    "# model_lasso = grid.best_estimator_\n",
    "# model_lasso"
   ]
  },
  {
   "cell_type": "code",
   "execution_count": null,
   "id": "abba5d58",
   "metadata": {},
   "outputs": [],
   "source": [
    "mpl_yhat_vs_y(\n",
    "    model_lasso, X_train, y_train, X_test=X_test, y_test=y_test, title=\"LASSO\"\n",
    ")"
   ]
  },
  {
   "cell_type": "code",
   "execution_count": null,
   "id": "e8b5ecb8",
   "metadata": {},
   "outputs": [],
   "source": [
    "mpl_show_coefficients(model_lasso, xvars, yvars)"
   ]
  },
  {
   "cell_type": "code",
   "execution_count": null,
   "id": "b7253531",
   "metadata": {},
   "outputs": [],
   "source": [
    "table = pd.DataFrame(\n",
    "    {\n",
    "        \"Variable\": xvars,\n",
    "        \"Coefficient\": model_lasso.coef_.flatten(),\n",
    "        \"Description\": [descriptors_dict.get(i, i) for i in xvars],\n",
    "    }\n",
    ")\n",
    "table.sort_values(\"Coefficient\", key=abs, ascending=False)"
   ]
  },
  {
   "cell_type": "markdown",
   "id": "10833020",
   "metadata": {},
   "source": [
    "Rerun the creation of all three models and observe the results:\n",
    "\n",
    "- are the models very different each time?\n",
    "\n",
    "- which of the models do you prefer?\n",
    "\n",
    "- which one do you think is performing better?\n",
    "\n",
    "- can you create a better model, for instance, by picking variables that you think are important for the solubility? (Alternatively, you can try a \"fancy\" gradient boosting regressor such as [CatBoost](https://catboost.ai/))"
   ]
  }
 ],
 "metadata": {
  "kernelspec": {
   "display_name": "Python 3 (ipykernel)",
   "language": "python",
   "name": "python3"
  },
  "language_info": {
   "codemirror_mode": {
    "name": "ipython",
    "version": 3
   },
   "file_extension": ".py",
   "mimetype": "text/x-python",
   "name": "python",
   "nbconvert_exporter": "python",
   "pygments_lexer": "ipython3",
   "version": "3.11.8"
  }
 },
 "nbformat": 4,
 "nbformat_minor": 5
}
