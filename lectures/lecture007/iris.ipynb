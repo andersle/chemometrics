{
 "cells": [
  {
   "cell_type": "code",
   "execution_count": null,
   "metadata": {},
   "outputs": [],
   "source": [
    "import numpy as np\n",
    "import pandas as pd\n",
    "import seaborn as sns\n",
    "from matplotlib import pyplot as plt\n",
    "from sklearn.datasets import load_iris\n",
    "from sklearn.decomposition import PCA\n",
    "from sklearn.preprocessing import scale\n",
    "\n",
    "sns.set_theme(style=\"ticks\", context=\"notebook\", palette=\"muted\")\n",
    "%matplotlib inline"
   ]
  },
  {
   "cell_type": "code",
   "execution_count": null,
   "metadata": {},
   "outputs": [],
   "source": [
    "raw_data = load_iris()\n",
    "variables = raw_data[\"feature_names\"]\n",
    "data = pd.DataFrame(raw_data[\"data\"], columns=raw_data[\"feature_names\"])\n",
    "data[\"target\"] = raw_data[\"target\"]\n",
    "data"
   ]
  },
  {
   "cell_type": "code",
   "execution_count": null,
   "metadata": {},
   "outputs": [],
   "source": [
    "print(variables)"
   ]
  },
  {
   "cell_type": "code",
   "execution_count": null,
   "metadata": {},
   "outputs": [],
   "source": [
    "# Add flower names:\n",
    "flower_names = {0: \"setosa\", 1: \"versicolor\", 2: \"virginica\"}\n",
    "data[\"Flower\"] = [flower_names[i] for i in data[\"target\"]]"
   ]
  },
  {
   "cell_type": "code",
   "execution_count": null,
   "metadata": {},
   "outputs": [],
   "source": [
    "# Plot the raw data in 3D:\n",
    "fig1 = plt.figure(constrained_layout=True)\n",
    "ax1 = fig1.add_subplot(111, projection=\"3d\")\n",
    "\n",
    "x = \"sepal length (cm)\"\n",
    "y = \"petal length (cm)\"\n",
    "z = \"petal width (cm)\"\n",
    "\n",
    "for flower in data[\"Flower\"].unique():\n",
    "    ax1.scatter(\n",
    "        data[data[\"Flower\"] == flower][x],\n",
    "        data[data[\"Flower\"] == flower][y],\n",
    "        data[data[\"Flower\"] == flower][z],\n",
    "        s=90,\n",
    "        label=flower,\n",
    "    )\n",
    "ax1.legend()\n",
    "ax1.set_xlabel(x, labelpad=10)\n",
    "ax1.set_ylabel(y, labelpad=10)\n",
    "ax1.set_zlabel(z, labelpad=10);"
   ]
  },
  {
   "cell_type": "code",
   "execution_count": null,
   "metadata": {},
   "outputs": [],
   "source": [
    "# Run Principal Component Analysis:\n",
    "pca = PCA()\n",
    "X = scale(data[variables])\n",
    "scores = pca.fit_transform(X)\n",
    "# \"scores\" are the new coordinates!"
   ]
  },
  {
   "cell_type": "code",
   "execution_count": null,
   "metadata": {},
   "outputs": [],
   "source": [
    "# We can plot the scores agains each other:\n",
    "fig2, ax2 = plt.subplots(constrained_layout=True)\n",
    "sns.scatterplot(data=data, x=scores[:, 0], y=scores[:, 1], ax=ax2, s=90)\n",
    "\n",
    "# The rest of the code here is just to style the plot:\n",
    "ax2.axhline(y=0, ls=\":\", c=\"k\", lw=1)\n",
    "ax2.axvline(x=0, ls=\":\", c=\"k\", lw=1)\n",
    "ax2.set(xlabel=f\"Scores PC1 ({pca.explained_variance_ratio_[0]*100:.2g}%)\")\n",
    "ax2.set(ylabel=f\"Scores PC2 ({pca.explained_variance_ratio_[1]*100:.2g}%)\")\n",
    "sns.despine(fig=fig2)"
   ]
  },
  {
   "cell_type": "code",
   "execution_count": null,
   "metadata": {},
   "outputs": [],
   "source": [
    "# We can plot the scores agains each other:\n",
    "fig3, ax3 = plt.subplots(constrained_layout=True)\n",
    "sns.scatterplot(\n",
    "    data=data, x=scores[:, 0], y=scores[:, 1], ax=ax3, s=90, hue=\"Flower\"\n",
    ")\n",
    "\n",
    "# The rest of the code here is just to style the plot:\n",
    "ax3.axhline(y=0, ls=\":\", c=\"k\", lw=1)\n",
    "ax3.axvline(x=0, ls=\":\", c=\"k\", lw=1)\n",
    "ax3.set(xlabel=f\"Scores PC1 ({pca.explained_variance_ratio_[0]*100:.2g}%)\")\n",
    "ax3.set(ylabel=f\"Scores PC2 ({pca.explained_variance_ratio_[1]*100:.2g}%)\")\n",
    "sns.despine(fig=fig3)"
   ]
  },
  {
   "cell_type": "code",
   "execution_count": null,
   "metadata": {},
   "outputs": [],
   "source": [
    "# Loadings represents the transformation from the old axes to the new ones.\n",
    "# We can get information on the loadings by inspecting the pca object:\n",
    "loadings = pca.components_\n",
    "loadings"
   ]
  },
  {
   "cell_type": "code",
   "execution_count": null,
   "metadata": {},
   "outputs": [],
   "source": [
    "# Here, each row is a single principal component, for instance:\n",
    "pc1 = pca.components_[0, :]\n",
    "print(pc1)"
   ]
  },
  {
   "cell_type": "code",
   "execution_count": null,
   "metadata": {},
   "outputs": [],
   "source": [
    "# These numbers, i.e. from print(pc1), define how we construct the first principal component:\n",
    "text = \" + \".join([f\"{i:4.2f} * ({j})\" for i, j in zip(pc1, variables)])\n",
    "print(f\"pc1 = {text}\")"
   ]
  },
  {
   "cell_type": "code",
   "execution_count": null,
   "metadata": {},
   "outputs": [],
   "source": [
    "# Let us try to add this line to the original 3D plot\n",
    "fig4 = plt.figure(constrained_layout=True)\n",
    "ax4 = fig4.add_subplot(111, projection=\"3d\")\n",
    "\n",
    "x = \"sepal length (cm)\"\n",
    "y = \"petal length (cm)\"\n",
    "z = \"petal width (cm)\"\n",
    "\n",
    "for flower in data[\"Flower\"].unique():\n",
    "    ax4.scatter(\n",
    "        X[data[\"Flower\"] == flower, 0],\n",
    "        X[data[\"Flower\"] == flower, 2],\n",
    "        X[data[\"Flower\"] == flower, 3],\n",
    "        s=90,\n",
    "        label=flower,\n",
    "    )\n",
    "\n",
    "direction = np.array([pc1[0], pc1[2], pc1[3]])\n",
    "\n",
    "vector1 = 3 * direction\n",
    "vector2 = -3 * direction\n",
    "\n",
    "ax4.plot(\n",
    "    [vector2[0], vector1[0]],\n",
    "    [vector2[1], vector1[1]],\n",
    "    [vector2[2], vector1[2]],\n",
    "    color=\"k\",\n",
    "    lw=4,\n",
    ")\n",
    "ax4.set_xlabel(x, labelpad=10)\n",
    "ax4.set_ylabel(y, labelpad=10)\n",
    "ax4.set_zlabel(z, labelpad=10)\n",
    "ax4.legend();"
   ]
  },
  {
   "cell_type": "code",
   "execution_count": null,
   "metadata": {},
   "outputs": [],
   "source": [
    "# Let us look at the two first principal components:\n",
    "pc1 = pca.components_[0, :]\n",
    "pc2 = pca.components_[1, :]\n",
    "print(f\"PC1 = {pc1}\")\n",
    "print(f\"PC2 = {pc2}\")\n",
    "text1 = \" + \".join([f\"{i:4.2f} * ({j})\" for i, j in zip(pc1, variables)])\n",
    "print(f\"PC1 = {text1}\")\n",
    "text2 = \" + \".join([f\"{i:4.2f} * ({j})\" for i, j in zip(pc2, variables)])\n",
    "print(f\"PC2 = {text2}\")"
   ]
  },
  {
   "cell_type": "code",
   "execution_count": null,
   "metadata": {},
   "outputs": [],
   "source": [
    "# We can plot contributions from the original variables to the new ones in a loadings plot:\n",
    "def plot_loadings_arrows(pca, idxi=0, idxj=1, labels=None):\n",
    "    fig, ax = plt.subplots(constrained_layout=True)\n",
    "\n",
    "    loadings = pca.components_.T\n",
    "\n",
    "    load1 = loadings[:, idxi]\n",
    "    load2 = loadings[:, idxj]\n",
    "\n",
    "    var1 = pca.explained_variance_ratio_[idxi] * 100\n",
    "    var2 = pca.explained_variance_ratio_[idxj] * 100\n",
    "\n",
    "    ax.set(xlabel=f\"Loadings PC1 ({var1:.2g}%)\")\n",
    "    ax.set(ylabel=f\"Loadings PC2 ({var2:.2g}%)\")\n",
    "    ax.axhline(y=0, ls=\":\", color=\"k\")\n",
    "    ax.axvline(x=0, ls=\":\", color=\"k\")\n",
    "\n",
    "    ax.scatter(load1, load2, color=\"none\")  # to adjust the axes\n",
    "\n",
    "    for i in range(pca.n_features_in_):\n",
    "        x, y = load1[i], load2[i]\n",
    "\n",
    "        ax.annotate(\n",
    "            \"\",\n",
    "            xy=(x, y),\n",
    "            xytext=(0, 0),\n",
    "            arrowprops=dict(\n",
    "                arrowstyle=\"-|>\", lw=2, color=\"red\", mutation_scale=25\n",
    "            ),\n",
    "        )\n",
    "        txt = f\"{i}\"\n",
    "        if labels is not None:\n",
    "            txt = labels[i]\n",
    "        ax.text(x, y, txt, fontsize=\"xx-small\")\n",
    "\n",
    "    ax.set_xlim(-1, 1)\n",
    "    ax.set_ylim(-1, 1)\n",
    "    ax.set_aspect(\"equal\")\n",
    "    sns.despine(fig=fig)"
   ]
  },
  {
   "cell_type": "code",
   "execution_count": null,
   "metadata": {},
   "outputs": [],
   "source": [
    "plot_loadings_arrows(pca, idxi=0, idxj=1, labels=variables)"
   ]
  },
  {
   "cell_type": "markdown",
   "metadata": {},
   "source": [
    "From this plot we can learn the following:\n",
    "\n",
    "* We see that the petal length and the petal width are close together. This means that they are correlated. The practical implication of this is: *we only need one of them for describing the variation in the data (not both)*.\n",
    "\n",
    "* Along PC2, the sepal width has a much larger value than the others. This means that PC2 is largely determined by the sepal width.\n",
    "\n",
    "* Along PC1, the sepal length, the petal length, and the petal width have almost the same contribution (i.e. they are close together viewed along PC1). That means that they are all correlated here and we can probably explain a lot of the variance using just one of them.\n",
    "\n",
    "Based on this we expect that we can explain a lot of the variance in the data using just two variables,\n",
    "for instance, **sepal width** and **petal length**. Of course, this is something we could have figured out just by plotting all pairs of possible variables. Here there are only four variables and the number of such plots would then be $\\binom{4}{2} = 6$. This is something we can manage. But if we have many variables, it will be tedious to do!\n",
    "\n",
    "Let us test this conclusion by plotting the original data using the two original variables petal length and sepal width:"
   ]
  },
  {
   "cell_type": "code",
   "execution_count": null,
   "metadata": {},
   "outputs": [],
   "source": [
    "fig6, ax6 = plt.subplots(constrained_layout=True)\n",
    "sns.scatterplot(\n",
    "    data, x=\"petal length (cm)\", y=\"sepal width (cm)\", hue=\"Flower\", s=90\n",
    ")\n",
    "sns.despine(fig=fig6)"
   ]
  },
  {
   "cell_type": "code",
   "execution_count": null,
   "metadata": {},
   "outputs": [],
   "source": [
    "# In the previous plot, we used two variables. But they are not necessarily equally important for\n",
    "# describing the variance in the original data. We can check their importance by plotting the explained\n",
    "# variance as a function of the number of principal components:\n",
    "fig7, ax7 = plt.subplots(constrained_layout=True)\n",
    "bar = ax7.bar([1, 2, 3, 4], pca.explained_variance_ratio_)\n",
    "ax7.bar_label(bar, fmt=\"{:.2f}\")\n",
    "\n",
    "ax7.set(\n",
    "    xlabel=\"Principal component no.\", ylabel=\"Fraction of explained variance\"\n",
    ")\n",
    "sns.despine(fig=fig7)"
   ]
  }
 ],
 "metadata": {
  "kernelspec": {
   "display_name": "Python 3 (ipykernel)",
   "language": "python",
   "name": "python3"
  },
  "language_info": {
   "codemirror_mode": {
    "name": "ipython",
    "version": 3
   },
   "file_extension": ".py",
   "mimetype": "text/x-python",
   "name": "python",
   "nbconvert_exporter": "python",
   "pygments_lexer": "ipython3",
   "version": "3.11.7"
  }
 },
 "nbformat": 4,
 "nbformat_minor": 4
}
