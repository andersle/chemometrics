{
 "cells": [
  {
   "cell_type": "code",
   "execution_count": null,
   "metadata": {},
   "outputs": [],
   "source": [
    "# Import libraries:\n",
    "import numpy as np\n",
    "import pandas as pd\n",
    "from matplotlib import pyplot as plt\n",
    "from tabulate import tabulate\n",
    "from IPython.display import Markdown, display"
   ]
  },
  {
   "cell_type": "code",
   "execution_count": null,
   "metadata": {},
   "outputs": [],
   "source": [
    "data = pd.read_csv('data-b.txt', delim_whitespace=True)"
   ]
  },
  {
   "cell_type": "code",
   "execution_count": null,
   "metadata": {},
   "outputs": [],
   "source": [
    "data.head()"
   ]
  },
  {
   "cell_type": "code",
   "execution_count": null,
   "metadata": {},
   "outputs": [],
   "source": [
    "# Define some variables for convenience:\n",
    "y = data['y1']\n",
    "x1 = data['x1']\n",
    "x2 = data['x2']"
   ]
  },
  {
   "cell_type": "code",
   "execution_count": null,
   "metadata": {},
   "outputs": [],
   "source": [
    "# We first plot the raw data and we see that x1 and x2 are strongly correlated.\n",
    "plt.style.use('seaborn-darkgrid')\n",
    "fig1, axes = plt.subplots(nrows=1, ncols=3)\n",
    "axes[0].scatter(x1, y, s=200)\n",
    "axes[1].scatter(x2, y, s=200)\n",
    "axes[2].scatter(x1, x2, s=200)\n",
    "axes[0].set(xlabel='$x_1$', ylabel='$y$')\n",
    "axes[1].set(xlabel='$x_2$', ylabel='$y$')\n",
    "axes[2].set(xlabel='$x_1$', ylabel='$x_2$')\n",
    "fig1.tight_layout()"
   ]
  },
  {
   "cell_type": "code",
   "execution_count": null,
   "metadata": {},
   "outputs": [],
   "source": [
    "# We are making a linear model here. Let us try with the standard equation: b = (X.T X)⁻1 X.T y\n",
    "# We start by creating the X matrix:\n",
    "ones = np.ones_like(x1)  # Make a column of [1 1 1 ... 1]\n",
    "X = np.column_stack((ones, x1, x2))  # Make the X matrix.\n",
    "# Print it out\n",
    "display(Markdown('$X=$'))\n",
    "print(tabulate(X, tablefmt='fancy_grid'))"
   ]
  },
  {
   "cell_type": "code",
   "execution_count": null,
   "metadata": {},
   "outputs": [],
   "source": [
    "# Calculate the (X.T X)^-1 matrix:\n",
    "mat = np.dot(X.T, X)\n",
    "display(Markdown('$(X^T X)=$'))\n",
    "print(tabulate(mat, tablefmt='fancy_grid'))"
   ]
  },
  {
   "cell_type": "code",
   "execution_count": null,
   "metadata": {},
   "outputs": [],
   "source": [
    "# Take the inverse:\n",
    "mat_inv = np.linalg.inv(mat)"
   ]
  },
  {
   "cell_type": "code",
   "execution_count": null,
   "metadata": {},
   "outputs": [],
   "source": [
    "# Aww, that did not work... The matrix is actually singular since x2 = 2 * x1...\n",
    "# Let us try the pseudo inverse:\n",
    "pinv = np.linalg.pinv(X)\n",
    "display(Markdown('$X^+=$'))\n",
    "pd.DataFrame(pinv)"
   ]
  },
  {
   "cell_type": "code",
   "execution_count": null,
   "metadata": {},
   "outputs": [],
   "source": [
    "# Let us get the parameters for the linear model (y = a_0 + a_1 * x1 + a_2 * x2)\n",
    "b = np.dot(pinv, y)\n",
    "print('a_0 = {:4.2f}\\na_1 = {:4.2f}\\na_2 = {:4.2f}'.format(*b))"
   ]
  },
  {
   "cell_type": "code",
   "execution_count": null,
   "metadata": {},
   "outputs": [],
   "source": [
    "# Plot the measured y vs. the predicted y:\n",
    "y_hat = np.dot(X, b)\n",
    "fig2, ax2 = plt.subplots(nrows=1, ncols=1)\n",
    "ax2.scatter(y, y_hat, s=200)\n",
    "ax2.set(xlabel='$y$', ylabel='$\\hat{y}$')\n",
    "# Add a x=y line:\n",
    "lims = [\n",
    "    np.min([ax2.get_xlim(), ax2.get_ylim()]),  # min of both axes\n",
    "    np.max([ax2.get_xlim(), ax2.get_ylim()]),  # max of both axes\n",
    "]\n",
    "ax2.plot(lims, lims, 'black')\n",
    "fig2.tight_layout()"
   ]
  },
  {
   "cell_type": "code",
   "execution_count": null,
   "metadata": {},
   "outputs": [],
   "source": [
    "# Let's try another library, statsmodels:\n",
    "import statsmodels.api as sm  # Import statsmodels\n",
    "model = sm.OLS(y, X).fit()  # Do the least-squares fitting"
   ]
  },
  {
   "cell_type": "code",
   "execution_count": null,
   "metadata": {},
   "outputs": [],
   "source": [
    "print(model.summary())"
   ]
  },
  {
   "cell_type": "code",
   "execution_count": null,
   "metadata": {},
   "outputs": [],
   "source": [
    "# Recalculate y using the model:\n",
    "y_hat = model.predict(X)"
   ]
  },
  {
   "cell_type": "code",
   "execution_count": null,
   "metadata": {},
   "outputs": [],
   "source": [
    "# Plot the measured y vs. the predicted y:\n",
    "fig2, ax2 = plt.subplots(nrows=1, ncols=1)\n",
    "ax2.scatter(y, y_hat, s=200)\n",
    "ax2.set(xlabel='$y$', ylabel='$\\hat{y}$')\n",
    "# Add a y=y_hat line:\n",
    "lims = [\n",
    "    np.min([ax2.get_xlim(), ax2.get_ylim()]),  # min of both axes\n",
    "    np.max([ax2.get_xlim(), ax2.get_ylim()]),  # max of both axes\n",
    "]\n",
    "ax2.plot(lims, lims, 'black')\n",
    "fig2.tight_layout()"
   ]
  }
 ],
 "metadata": {
  "kernelspec": {
   "display_name": "Python 3",
   "language": "python",
   "name": "python3"
  },
  "language_info": {
   "codemirror_mode": {
    "name": "ipython",
    "version": 3
   },
   "file_extension": ".py",
   "mimetype": "text/x-python",
   "name": "python",
   "nbconvert_exporter": "python",
   "pygments_lexer": "ipython3",
   "version": "3.7.5"
  }
 },
 "nbformat": 4,
 "nbformat_minor": 2
}
