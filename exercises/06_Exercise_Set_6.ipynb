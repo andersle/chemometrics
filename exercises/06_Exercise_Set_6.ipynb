{
 "cells": [
  {
   "cell_type": "markdown",
   "metadata": {},
   "source": [
    "# Exercise set 6\n",
    "\n",
    "> The first goal of this exercise is to analyze a fractional factorial design and use **confounding**, **deﬁning contrast(s)**, **generators** and the **resolution**.\n",
    ">\n",
    "> In connection with experimental design, we have seen two approaches for checking whether\n",
    "determined effects are important. These two approaches are based on creating a probability\n",
    "plot and performing ANOVA. The second goal of this exercise is to use these two approaches.\n",
    ">\n",
    "> Finally, we are also going to analyze the results of a more complex experimental design."
   ]
  },
  {
   "cell_type": "markdown",
   "metadata": {},
   "source": [
    "## Exercise 6.1\n",
    "\n",
    "You have recently started a new job in a chocolate bars company. A new and supposedly tasty\n",
    "chocolate is under development, and the main ingredients that you can vary are:\n",
    "\n",
    "\n",
    "*  The amount of cocoa ($A$).\n",
    "\n",
    "*  The number of pecan nuts ($B$).\n",
    "\n",
    "*  The amount of caramel ($C$).\n",
    "\n",
    "*  The amount of milk powder ($D$).\n",
    "\n",
    "*  The amount of sugar ($E$).\n",
    "\n",
    "*  The amount of vanilla ($F$).\n",
    "\n",
    "You are tasked with carrying out a maximum of $16$\n",
    "experiments (limited due to cost\n",
    "and time constraints) in which the best mixture of\n",
    "the main ingredients ($A$--$F$)\n",
    "is found. (\"Best\" is here determined by a tasting panel of $30$ people.)\n",
    "For this task, you decide on making a two-level\n",
    "fractional factorial design.\n",
    "\n",
    "\n",
    "### 6.1(a)\n",
    "How many experiments would you have to carry out in a full factorial design?"
   ]
  },
  {
   "cell_type": "code",
   "execution_count": null,
   "metadata": {},
   "outputs": [],
   "source": [
    "# Your code here"
   ]
  },
  {
   "cell_type": "markdown",
   "metadata": {},
   "source": [
    "#### Your answer to question 6.1(a):\n",
    "*Double click here*"
   ]
  },
  {
   "cell_type": "markdown",
   "metadata": {},
   "source": [
    "### 6.1(b)\n",
    "As stated, you can only carry out $16$ experiments. \n",
    "Explain what confounding is and why the set up with\n",
    "$16$ experiments will lead to confounding."
   ]
  },
  {
   "cell_type": "markdown",
   "metadata": {},
   "source": [
    "#### Your answer to question 6.1(b):\n",
    "*Double click here*"
   ]
  },
  {
   "cell_type": "markdown",
   "metadata": {},
   "source": [
    "### 6.1(c)\n",
    "After talking with the chocolate design team, you\n",
    "decide on the following generators:\n",
    "\n",
    "*  $E = ABC$.\n",
    "\n",
    "*  $F = BCD$.\n",
    "\n",
    "What is a defining contrast, and what are the\n",
    "defining contrasts in this case?"
   ]
  },
  {
   "cell_type": "markdown",
   "metadata": {},
   "source": [
    "#### Your answer to question 6.1(c):\n",
    "*Double click here*"
   ]
  },
  {
   "cell_type": "markdown",
   "metadata": {},
   "source": [
    "### 6.1(d)\n",
    "Find the resolution for this design and write out the\n",
    "short-hand representation of the design on the\n",
    "form $2^{N-p}_R$. Are any of the main effects\n",
    "confounded with $2$-factor\n",
    "interactions? Hint: Consult the summary tables\n",
    "at [https://www.itl.nist.gov/div898/handbook/pri/section3/pri3347.htm](https://www.itl.nist.gov/div898/handbook/pri/section3/pri3347.htm)."
   ]
  },
  {
   "cell_type": "markdown",
   "metadata": {},
   "source": [
    "#### Your answer to question 6.1(d):\n",
    "*Double click here*"
   ]
  },
  {
   "cell_type": "markdown",
   "metadata": {},
   "source": [
    "### 6.1(e)\n",
    "Construct the design matrix for the current design but show only the columns for the main effects."
   ]
  },
  {
   "cell_type": "markdown",
   "metadata": {},
   "source": [
    "#### Your answer to question 6.1(e):\n",
    "*Double click here*"
   ]
  },
  {
   "cell_type": "markdown",
   "metadata": {},
   "source": [
    "### 6.1(f)\n",
    "Another member of your team suggests doing just $8$ experiments\n",
    "as this will cut time and cost.\n",
    "Do you think this is a good idea? Why/why not? What would\n",
    "the design matrix look like in this case?"
   ]
  },
  {
   "cell_type": "code",
   "execution_count": null,
   "metadata": {},
   "outputs": [],
   "source": [
    "# Your code here"
   ]
  },
  {
   "cell_type": "markdown",
   "metadata": {},
   "source": [
    "#### Your answer to question 6.1(f):\n",
    "*Double click here*"
   ]
  },
  {
   "cell_type": "markdown",
   "metadata": {},
   "source": [
    "## Exercise 6.2\n",
    "\n",
    "After running a set of experiments, you determine the effects\n",
    "given in Table 1 for $4$ factors: A, B, C, and D.\n",
    "Use a normal probability plot to identify the important effects among\n",
    "the ones listed in this table.\n",
    "\n",
    "\n",
    "**Table 1:** *Effects determined in a set of experiments. Data for [Exercise 6.2](#Exercise-6.2)*\n",
    "\n",
    "\n",
    "| A    | B    | C     | D     | AB  | AC   | AD   | BC    | BD   | CD    | ABC   | ACD   | BCD   | ABCD  | ABD   |\n",
    "|:-----|:-----|:------|:------|:----|:-----|:-----|:------|:-----|:------|:------|:------|:------|:------|:------|\n",
    "| -8.0 | 24.0 | -2.25 | -5.50 | 1.0 | 0.75 | 0.00 | -1.25 | 4.50 | -0.25 | -0.75 | -0.25 | -0.75 | -0.25 | 0.50  |"
   ]
  },
  {
   "cell_type": "code",
   "execution_count": null,
   "metadata": {},
   "outputs": [],
   "source": [
    "# Example code to get you started:\n",
    "import pandas as pd\n",
    "from matplotlib import pyplot as plt\n",
    "import numpy as np\n",
    "import statsmodels.api as sm\n",
    "import seaborn as sns  # Styling of plots\n",
    "\n",
    "%matplotlib notebook\n",
    "sns.set_theme(style=\"ticks\", context=\"notebook\", palette=\"muted\")\n",
    "\n",
    "effects = [\n",
    "    (\"A\", -8.00),\n",
    "    (\"B\", 24.00),\n",
    "    (\"C\", -2.25),\n",
    "    (\"D\", -5.50),\n",
    "    (\"AB\", 1.00),\n",
    "    (\"AC\", 0.75),\n",
    "    (\"AD\", 0.00),\n",
    "    (\"BC\", -1.25),\n",
    "    (\"BD\", 4.50),\n",
    "    (\"CD\", -0.25),\n",
    "    (\"ABC\", -0.75),\n",
    "    (\"ACD\", -0.25),\n",
    "    (\"BCD\", -0.75),\n",
    "    (\"ABCD\", -0.25),\n",
    "    (\"ABD\", 0.50),\n",
    "]\n",
    "\n",
    "table1 = pd.DataFrame(effects, columns=[\"factor\", \"effect\"])\n",
    "\n",
    "# A normal probability plot can be created with statsmodels:\n",
    "fig, ax = plt.subplots()\n",
    "plot = sm.ProbPlot(table1[\"effect\"], fit=False)\n",
    "_ = plot.qqplot(ax=ax)"
   ]
  },
  {
   "cell_type": "code",
   "execution_count": null,
   "metadata": {},
   "outputs": [],
   "source": [
    "# Your code here"
   ]
  },
  {
   "cell_type": "markdown",
   "metadata": {},
   "source": [
    "#### Your answer to question 6.2:\n",
    "*Double click here*"
   ]
  },
  {
   "cell_type": "markdown",
   "metadata": {},
   "source": [
    "## Exercise 6.3\n",
    "\n",
    "**Only do this exercise if you have time, or did not do [Exercise 6.2](#Exercise-6.2).**\n",
    "\n",
    "From a $2^2$ factorial experiment replicated three times you have obtained\n",
    "the data given in Table 2. We use here a short-hand notation\n",
    "for the $4$ possible combinations of the variables: $(1)$, $a$, $b$, and $ab$.\n",
    "In this notation, $(1)$ is the experiment where all factors were at their low levels. For the other cases, the absence of a letter means that the corresponding factor was at a low level, and\n",
    "the presence of a letter indicates that the corresponding factor was at a high level (e.g., \"$a$\" is the\n",
    "same as saying that factor A was at the high level and B at the low level).\n",
    "\n",
    "**Table 2:** *Results from a $2^2$ factorial experiment, repeated $3$ times. Data for [Exercise 6.3](#Exercise-6.3)*\n",
    "\n",
    "|**Experiment** | **Replicate 1** | **Replicate 2** | **Replicate 2** |\n",
    "|:---:|:---:|:---:|:---:|\n",
    "|$(1)$ | $9$  | $10$ | $11$ |\n",
    "|$a$   | $30$ | $31$ | $29$ |\n",
    "|$b$   | $19$ | $20$ | $21$ |\n",
    "|$ab$  | $5$  | $6$  | $4$  |\n",
    "\n",
    "\n",
    "### 6.3(a)\n",
    "Calculate the effects (A, B, and AB)."
   ]
  },
  {
   "cell_type": "code",
   "execution_count": null,
   "metadata": {},
   "outputs": [],
   "source": [
    "# Your code here"
   ]
  },
  {
   "cell_type": "markdown",
   "metadata": {},
   "source": [
    "#### Your answer to question 6.3(a):\n",
    "*Double click here*"
   ]
  },
  {
   "cell_type": "markdown",
   "metadata": {},
   "source": [
    "### 6.3(b)\n",
    "Use ANOVA to investigate which effects are important in this case.\n",
    "Use a significance level of $\\alpha = 0.01$. For\n",
    "a significance level of $\\alpha = 0.01$, the relevant critical\n",
    "$f$-value is $f_{\\alpha=0.01}(1, 8) = 11.259$ with $1$ and $8$ degrees\n",
    "of freedom. (Note: The numbers in Table 2\n",
    "are the same as for the example on\n",
    "page 96 in the textbook.)"
   ]
  },
  {
   "cell_type": "code",
   "execution_count": null,
   "metadata": {},
   "outputs": [],
   "source": [
    "# Your code here"
   ]
  },
  {
   "cell_type": "markdown",
   "metadata": {},
   "source": [
    "#### Your answer to question 6.3(b):\n",
    "*Double click here*"
   ]
  },
  {
   "cell_type": "markdown",
   "metadata": {},
   "source": [
    "## Exercise 6.4\n",
    "\n",
    "A chemical company is producing the\n",
    "compound B from compound A in the reaction $\\text{A} \\to \\text{B}$\n",
    "and the company is running a project to \n",
    "maximize the yield of compound B.\n",
    "\n",
    "The yield for the conversion from A to B is low\n",
    "at low temperatures. The yield increases at\n",
    "higher temperatures, but\n",
    "a competing secondary reaction transforms B into C, an unwanted product.\n",
    "The secondary reaction, $\\text{A} \\to \\text{B} \\to \\text{C}$,\n",
    "is more prominent at higher temperatures, especially when the reaction is allowed to run for a long time.\n",
    "To determine what combinations of temperature and\n",
    "reaction time result in the best yield, the company has\n",
    "carried out a set of experiments. The experimental space and the experimental points\n",
    "are shown in the figure below (in the Python cell).\n",
    "\n",
    "Here, the company first\n",
    "defined a feasibility region (based on chemical knowledge)\n",
    "and then created a *D*-optimal\n",
    "design for a cubic model. The experimental results are given\n",
    "in the Excel file [Data/yield.xls](Data/yield.xls). Use the experimental data to create a cubic model and locate the settings (temperature & time)\n",
    "that gives the highest yield."
   ]
  },
  {
   "cell_type": "code",
   "execution_count": null,
   "metadata": {},
   "outputs": [],
   "source": [
    "# Example code to get you started:\n",
    "import pandas as pd\n",
    "from matplotlib import pyplot as plt\n",
    "import numpy as np\n",
    "import statsmodels.api as sm\n",
    "import seaborn as sns  # Styling of plots\n",
    "\n",
    "%matplotlib notebook\n",
    "sns.set_theme(style=\"ticks\", context=\"notebook\", palette=\"muted\")\n",
    "\n",
    "data = pd.read_excel(\n",
    "    \"Data/yield.xls\"\n",
    ")  # you might have to first do: pip install openpyxl\n",
    "data.head()"
   ]
  },
  {
   "cell_type": "code",
   "execution_count": null,
   "metadata": {},
   "outputs": [],
   "source": [
    "# Plot experimental region\n",
    "from matplotlib.patches import Polygon\n",
    "\n",
    "fig, ax = plt.subplots(constrained_layout=True)\n",
    "ax.set(xlabel=\"Time (s)\", ylabel=\"Temperature (K)\")\n",
    "points = [\n",
    "    (660, 520),\n",
    "    (360, 529),\n",
    "    (360, 550),\n",
    "    (420, 550),\n",
    "    (720, 523),\n",
    "    (720, 520),\n",
    "]\n",
    "region = Polygon(\n",
    "    points,\n",
    "    edgecolor=\"k\",\n",
    "    facecolor=\"0.95\",\n",
    "    linestyle=\"--\",\n",
    "    label=\"Feasible settings\",\n",
    ")\n",
    "ax.add_artist(region)\n",
    "ax.scatter(\n",
    "    data[\"Time (s)\"], data[\"Temperature (K)\"], label=\"Experimental points\"\n",
    ")\n",
    "ax.legend()\n",
    "ax.set_title(\"Experimental space\", loc=\"left\")\n",
    "sns.despine(fig=fig)"
   ]
  },
  {
   "cell_type": "markdown",
   "metadata": {},
   "source": [
    "To generate all the possible terms for a cubic polynomial can be a hassle (and it is easy to\n",
    "forget some terms!). Here we would need to have: time, temperature, time², temperature², time × temperature, time³, temperature³, time × temperature² and time² × temperature.\n",
    "\n",
    "Below is some Python code that will do this for you:"
   ]
  },
  {
   "cell_type": "code",
   "execution_count": null,
   "metadata": {},
   "outputs": [],
   "source": [
    "# Here are some hints for creating the model:\n",
    "# 1) We can transform the variables to -1, 1 with a MinMaxScaler from sklearn.\n",
    "# 2) We can generate all cubic terms for a polynomial with PolynomialFeatures from sklearn\n",
    "# 3) We can join these two operations with a so-called pipeline.\n",
    "# Here is an example:\n",
    "\n",
    "from sklearn.preprocessing import PolynomialFeatures, MinMaxScaler\n",
    "from sklearn.pipeline import Pipeline\n",
    "\n",
    "# We do not need to use the scaler here, and we do not need the pipeline.\n",
    "# The pipeline is convenient if we want to redo this preprocessing on new data\n",
    "# (for instance, if we want to use the model in the future for predictions).\n",
    "# The MinMaxScaler is not really needed, but it can make it easier to compare\n",
    "# regression coefficients.\n",
    "\n",
    "X_raw = data[[\"Time (s)\", \"Temperature (K)\"]]\n",
    "y = data[\"Yield\"]\n",
    "\n",
    "# Make a pipeline for preprocessing (first scale Time & Temperature, the add polynomial)\n",
    "preprocess = Pipeline(\n",
    "    steps=[\n",
    "        (\n",
    "            \"minmax-scale\",\n",
    "            MinMaxScaler(feature_range=(-1, 1)),\n",
    "        ),  # Scale to -1 to 1\n",
    "        (\n",
    "            \"cubic\",\n",
    "            PolynomialFeatures(degree=3, include_bias=True),\n",
    "        ),  # Add x1, x1^2, x2, x1*x2, ...\n",
    "        # include_bias = True = add also a constant term\n",
    "    ]\n",
    ")\n",
    "preprocess.fit(X_raw)\n",
    "# The line above is fitting the pipeline to the data (this sets up the scaler and polynomial transformation).\n",
    "# This does not apply it yet!\n",
    "\n",
    "X = pd.DataFrame(\n",
    "    preprocess.transform(\n",
    "        X_raw\n",
    "    ),  # Transform the data = scale and make the polynomial\n",
    "    columns=preprocess.get_feature_names_out(),  # Store the variables\n",
    ")\n",
    "X"
   ]
  },
  {
   "cell_type": "code",
   "execution_count": null,
   "metadata": {},
   "outputs": [],
   "source": [
    "# Your code here: fit the polynomial and locate the maximum (you can do this graphically)"
   ]
  },
  {
   "cell_type": "markdown",
   "metadata": {},
   "source": [
    "#### Your answer to question 6.4: What settings gives you the highest yield?\n",
    "*Double click here*"
   ]
  }
 ],
 "metadata": {
  "kernelspec": {
   "display_name": "Python 3 (ipykernel)",
   "language": "python",
   "name": "python3"
  },
  "language_info": {
   "codemirror_mode": {
    "name": "ipython",
    "version": 3
   },
   "file_extension": ".py",
   "mimetype": "text/x-python",
   "name": "python",
   "nbconvert_exporter": "python",
   "pygments_lexer": "ipython3",
   "version": "3.11.7"
  }
 },
 "nbformat": 4,
 "nbformat_minor": 2
}
