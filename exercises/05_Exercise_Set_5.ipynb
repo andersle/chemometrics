{
 "cells": [
  {
   "cell_type": "markdown",
   "metadata": {},
   "source": [
    "# Exercise set 5\n",
    "\n",
    "\n",
    ">The first goal of this exercise is to perform\n",
    ">**least squares regression** for a case where we have\n",
    ">**correlations** between variables. We will also see how\n",
    ">we can use a **training set** and a **test set** to\n",
    ">assess the quality of a model.\n",
    ">\n",
    ">The second goal of this exercise is to analyze the results from a experimental\n",
    ">design. After this exercise, you should have gained familiarity\n",
    ">with a full fractional factorial design and know how to calculate\n",
    ">effects."
   ]
  },
  {
   "cell_type": "markdown",
   "metadata": {},
   "source": [
    "## Exercise 5.1 \n",
    "\n",
    "In this exercise, we will make a least squares model for a case where we have several\n",
    "variables which may be correlated.\n",
    "The file [bloodpress.txt](Data/bloodpress.txt) ('Data/bloodpress.txt') contains data about 20 individuals with high blood pressure.\n",
    "The data columns present in the file are given in Table 1.\n",
    "\n",
    "\n",
    "| Column | Description              |             Unit |\n",
    "|:-------|:-------------------------|-----------------:|\n",
    "| PT     | Label for person         |              --- |\n",
    "| BP     | Blood pressure           |             mmHg |\n",
    "| Age    | Age                      |            years |\n",
    "| Weight | Weight                   |               kg |\n",
    "| BSA    | Body surface area        |            m$^2$ |\n",
    "| DUR    | Duration of hypertension |            years |\n",
    "| Pulse  | Basal heart rate         | beats per minute |\n",
    "| Stress | Stress index             |              --- |\n",
    "||**Table 1:** *Data columns present in the file [bloodpress.txt](Data/bloodpress.txt)*|\n",
    "\n",
    "\n",
    "**(a)** Begin by exploring the data. Plot pairs of variables against each other\n",
    "to visually inspect which variables might be correlated. Based on your plots, which pairs\n",
    "of variables seem to be correlated? Hint: The [scatter plot matrix](https://seaborn.pydata.org/examples/scatterplot_matrix.html) from [seaborn](https://seaborn.pydata.org/index.html) might help with these plots."
   ]
  },
  {
   "cell_type": "code",
   "execution_count": null,
   "metadata": {},
   "outputs": [],
   "source": [
    "# Your code here"
   ]
  },
  {
   "cell_type": "markdown",
   "metadata": {},
   "source": [
    "**Your answer to 5.1(a):** (double click here)"
   ]
  },
  {
   "cell_type": "markdown",
   "metadata": {},
   "source": [
    "**(b)** To quantitatively investigate possible correlations, we can calculate\n",
    "the [Pearson correlation\n",
    "coefficient](https://en.wikipedia.org/wiki/Pearson_correlation_coefficient) ($\\rho_{X,Y}$),\n",
    "\n",
    "\\begin{equation*}\n",
    "\\rho_{X,Y} = \\frac{\\mathrm{cov}(X,Y)}{S_X S_Y},\n",
    "\\end{equation*}\n",
    "\n",
    "where $\\mathrm{cov}(X,Y)$ is the covariance between the variables $X$ and $Y$, and\n",
    "$S_i$ is the estimated standard deviation for variable $i$.\n",
    "In `scipy`, this coefficient is a part of the [stats package](https://docs.scipy.org/doc/scipy/reference/generated/scipy.stats.pearsonr.html) \n",
    "and can be imported by:\n",
    "```Python\n",
    "from scipy.stats import pearsonr\n",
    "```\n",
    "This function returns two values:\n",
    " * The correlation coefficient itself. It is close to $1$ for positively correlated distributions\n",
    "   and close to $-1$ for negatively correlated distributions.\n",
    " * A \"p-value\" which (to quote the documentation of `scipy`):\n",
    "\n",
    "> roughly indicates the probability of an uncorrelated system\n",
    "> producing datasets that have a Pearson correlation at least as extreme\n",
    "> as the one computed from these datasets.\n",
    "\n",
    "\n",
    "Calculate this coefficient for each of the pairs of variables and\n",
    "use it to judge if the variables\n",
    "are correlated. Note: You can also create a heat map of correlations to visualize them.\n",
    "This can be done with the [heatmap](https://seaborn.pydata.org/generated/seaborn.heatmap.html)\n",
    "method from [seaborn](https://seaborn.pydata.org/index.html) in combination\n",
    "with the [corr](https://pandas.pydata.org/docs/reference/api/pandas.DataFrame.corr.html)\n",
    "method from [pandas](https://pandas.pydata.org/docs/index.html)."
   ]
  },
  {
   "cell_type": "code",
   "execution_count": null,
   "metadata": {},
   "outputs": [],
   "source": [
    "# Your code here"
   ]
  },
  {
   "cell_type": "markdown",
   "metadata": {},
   "source": [
    "**Your answer to 5.1(b):** (double click here)"
   ]
  },
  {
   "cell_type": "markdown",
   "metadata": {},
   "source": [
    "**(c)** Create a linear model in which you predict the blood pressure ($y$) from\n",
    "all 6 available variables (Age, Weight, BSA, DUR, Pulse, and Stress).\n",
    "For this, make use of the `statsmodels` package and the\n",
    "ordinary least squares (OLS) estimation. (For an example of the usage, see: [here](https://www.statsmodels.org/dev/examples/notebooks/generated/ols.html))\n",
    "It might be beneficial to scale your variables so that they have a\n",
    "mean of $0$ and a variance of $1$. This can, for instance, be done using the\n",
    "[scale](https://scikit-learn.org/stable/modules/generated/sklearn.preprocessing.scale.html)\n",
    "method from [sklearn](https://scikit-learn.org/stable/).\n",
    "\n",
    "**Note:** One motivation for using the `statsmodels` package is that it will do\n",
    "some additional statistics in connection with the fitting. To print out\n",
    "the results of a fitting, we can do the following:\n",
    "\n",
    "```Python\n",
    "import statsmodels.api as sm\n",
    "# load X data...\n",
    "# load y data...\n",
    "# Do fitting:\n",
    "model = sm.OLS(y, X).fit()\n",
    "# Print out statistics:\n",
    "print(model.summary())\n",
    "```\n",
    "\n",
    "Some information on the interpretation of this summary can be found [here](https://blog.datarobot.com/ordinary-least-squares-in-python)."
   ]
  },
  {
   "cell_type": "code",
   "execution_count": null,
   "metadata": {},
   "outputs": [],
   "source": [
    "# Your code here"
   ]
  },
  {
   "cell_type": "markdown",
   "metadata": {},
   "source": [
    "**Your answer to 5.1(c):** (double click here)"
   ]
  },
  {
   "cell_type": "markdown",
   "metadata": {},
   "source": [
    "**(d)** Your results so far should indicate that some of the variables\n",
    "are correlated. Create a new model where you remove variables\n",
    "that are correlated. That is, if a variable, say $u$, is correlated with\n",
    "another variable, say $v$, pick either $u$ or $v$ for your new model.\n",
    "\n",
    "1. Fit your new model to the blood pressure data\n",
    "   and compare it with the model where you included all variables.\n",
    "2. How many variables can you remove and still get a good model?\n",
    "3. Which variables seem\n",
    "   to be more important for predicting if a person will have high blood pressure?"
   ]
  },
  {
   "cell_type": "code",
   "execution_count": null,
   "metadata": {},
   "outputs": [],
   "source": [
    "# Your code here"
   ]
  },
  {
   "cell_type": "markdown",
   "metadata": {},
   "source": [
    "**Your answer to 5.1(d):** (double click here)"
   ]
  },
  {
   "cell_type": "markdown",
   "metadata": {},
   "source": [
    "**(e)** One strategy to assess the quality of a model is to split the raw data\n",
    "into a **training set** and a **test set**. Then the **training set**\n",
    "is used to fit the data and the **test set** is used to test the quality of\n",
    "the model.\n",
    "\n",
    "Consider a data set containing $n$ samples. If the data set is\n",
    "relatively small, we can use the \"Leave-one-out cross-validation (LOOCV)\"\n",
    "approach. Here, we pick one sample, say measurement number $j$, which we\n",
    "keep out of the fitting and we fit the model using the $n-1$ other points.\n",
    "Now, we can *predict* the value of measurement $j$ using the fitted model,\n",
    "let us call the predicted value $\\tilde{y}_j$. The difference between the predicted\n",
    "value from the model and the measured value $y_j$ can then be taken as a measure\n",
    "of the error,\n",
    "\n",
    "\\begin{equation*}\n",
    "r_j = y_{j} - \\tilde{y}_j,\n",
    "\\end{equation*}\n",
    "\n",
    "where $r_j$ is the so-called predicted residual.\n",
    "There is nothing special about picking point $j$, and we can try all possibilities\n",
    "of leaving one point out, and refitting the model using the remaining $n-1$\n",
    "measurements. After doing this for all possibilities, we have fitted the model\n",
    "$n$ times and the mean squared error (obtained from the squared\n",
    "residuals), $\\mathrm{MSE}_{\\mathrm{CV}}$, can then be used\n",
    "to estimate the error in the model,\n",
    "\n",
    "\\begin{equation*}\n",
    "\\mathrm{MSE}_{\\mathrm{CV}} = \\frac{1}{n} \\sum_{i=1}^{n} r_i^2 =  \\frac{1}{n} \\sum_{i=1}^{n} (y_i - \\tilde{y}_i)^2,\n",
    "\\end{equation*}\n",
    "\n",
    "where $y_i$ is the measured $y$ in experiment $i$, and $\\tilde{y}_i$ is the\n",
    "predicted $y$, using a model which was fitted using all point *except* $y_i$.\n",
    "\n",
    "1. Implement the LOOCV approach and calculate the mean squared error for a linear fit\n",
    "   using all variables, and for a linear fit using just the weight and age as\n",
    "   variables.\n",
    "\n",
    "   **Hint:** The splitting into training and test sets can be done with the method\n",
    "   [LeaveOneOut](https://scikit-learn.org/stable/modules/generated/sklearn.model_selection.LeaveOneOut.html)\n",
    "   from [sklearn](https://scikit-learn.org/stable/):\n",
    "\n",
    "   ```Python\n",
    "   from sklearn.model_selection import LeaveOneOut\n",
    "   # load X data...\n",
    "   # load y data...\n",
    "   loo = LeaveOneOut()\n",
    "   for train_index, test_index in loo.split(X):\n",
    "       X_train, X_test = X[train_index], X[test_index]\n",
    "       y_train, y_test = y[train_index], y[test_index]\n",
    "       # Do fitting using X_train and y_train.\n",
    "       # Calculate error using y_test and predicted y from the model.\n",
    "   ```\n",
    "\n",
    "2. One can show that for polynomial fitting, the mean squared error can\n",
    "   be obtained in a simpler way,\n",
    "\n",
    "   \\begin{equation*}\n",
    "   \\mathrm{MSE}_{\\mathrm{CV}} = \\frac{1}{n}\\sum_{i=1}^{n} (y_i - \\tilde{y}_i)^2 =\n",
    "   \\frac{1}{n}\\sum_{i=1}^{m} \\left(\\frac{y_i - \\hat{y}_i}{1 - h_{ii}} \\right)^2,\n",
    "   \\end{equation*}\n",
    "\n",
    "   where the $\\hat{y}_i$'s are predicted values using the\n",
    "   model fitted with *all data points*,\n",
    "   and $h_{ii}$ is the $i$'th diagonal element of the\n",
    "   $\\mathbf{H}$ matrix (the projection matrix,\n",
    "   see Eq. (2) in exercise 3),\n",
    "   \n",
    "   \\begin{equation}\n",
    "   \\mathbf{H} =\n",
    "   \\mathbf{X} \n",
    "   \\left( \n",
    "     \\mathbf{X}^\\mathrm{T} \\mathbf{X}\n",
    "   \\right)^{-1}\n",
    "   \\mathbf{X}^\\mathrm{T} = \\mathbf{X} \\mathbf{X}^+\n",
    "   \\end{equation}\n",
    "\n",
    "   Using the equations given above, recalculate $\\mathrm{MSE}_{\\mathrm{CV}}$ and compare\n",
    "   with your previous answers.\n",
    "\n",
    "   Note the difference between $\\hat{y}_i$ and $\\tilde{y}_i$, and the\n",
    "   fact that we actually don't have to do the\n",
    "   refitting(!) in order to obtain the $\\mathrm{MSE}_{\\mathrm{CV}}$."
   ]
  },
  {
   "cell_type": "code",
   "execution_count": null,
   "metadata": {},
   "outputs": [],
   "source": [
    "# Your code here"
   ]
  },
  {
   "cell_type": "markdown",
   "metadata": {},
   "source": [
    "**Your answer to 5.1(e):** (double click here)"
   ]
  },
  {
   "cell_type": "markdown",
   "metadata": {},
   "source": [
    "## Exercise 5.2\n",
    "\n",
    "The growth rate of a certain bacterium specie depends\n",
    "on the concentration of nutrients such as phosphate,\n",
    "sucrose, and nitrate. We have conducted a set of\n",
    "experiments where we have investigated how the\n",
    "growth is influenced by the concentration of\n",
    "phosphate ($P$), the concentration of sucrose ($S$) and\n",
    "the concentration of nitrate ($N$). The design\n",
    "matrix and the measured growth rate are given in Table 2.\n",
    "\n",
    "\n",
    "|$P$  | $S$ | $N$ | **Growth rate**  |\n",
    "|:---:|:---:|:---:|:---:|\n",
    "|$+$ | $-$ | $-$ | $7$ |\n",
    "|$-$ | $+$ | $-$ | $10$ |\n",
    "|$+$ | $-$ | $+$ | $8$ |\n",
    "|$-$ | $+$ | $+$ | $11$ |\n",
    "|$-$ | $-$ | $-$ | $11$ |\n",
    "|$+$ | $+$ | $+$ | $12$ |\n",
    "|$+$ | $+$ | $-$ | $7$ |\n",
    "|$-$ | $-$ | $+$ | $7$ |\n",
    "\n",
    "| |\n",
    "|:---|\n",
    "|**Table 2:** *Experimental design matrix for the growth rate of the investigated bacteria. The factors are the concentration of phosphate ($P$), the concentration of sucrose ($S$), and the concentration of nitrate ($N$).*|"
   ]
  },
  {
   "cell_type": "markdown",
   "metadata": {},
   "source": [
    "**(a)**  Compute all the main effects."
   ]
  },
  {
   "cell_type": "code",
   "execution_count": null,
   "metadata": {},
   "outputs": [],
   "source": [
    "# Your code here"
   ]
  },
  {
   "cell_type": "markdown",
   "metadata": {},
   "source": [
    "**Your answer to question 5.2(a):** *Double click here*"
   ]
  },
  {
   "cell_type": "markdown",
   "metadata": {},
   "source": [
    "**(b)**  Extend the design matrix with the possible $2$-factor and $3$-factor\n",
    "interaction effects. Compute these interaction effects.\n",
    "\n"
   ]
  },
  {
   "cell_type": "code",
   "execution_count": null,
   "metadata": {},
   "outputs": [],
   "source": [
    "# Your code here"
   ]
  },
  {
   "cell_type": "markdown",
   "metadata": {},
   "source": [
    "**Your answer to question 5.2(b):** *Double click here*"
   ]
  },
  {
   "cell_type": "markdown",
   "metadata": {},
   "source": [
    "**(c)** What factors and interactions seem\n",
    "to increase the growth rate?\n",
    "\n"
   ]
  },
  {
   "cell_type": "code",
   "execution_count": null,
   "metadata": {},
   "outputs": [],
   "source": [
    "# Your code here"
   ]
  },
  {
   "cell_type": "markdown",
   "metadata": {},
   "source": [
    "**Your answer to question 5.2(c):** *Double click here*"
   ]
  },
  {
   "cell_type": "markdown",
   "metadata": {},
   "source": [
    "**(d)**  Make two least-squares models of the data\n",
    "given in Table 2 (convert \"$+$\" to $1$ and\n",
    "\"$-$\" to $-1$):\n",
    "\n",
    "* (i)  Model 1, which only includes the main effects.\n",
    "\n",
    "* (ii)  Model 2, which includes the main effects and\n",
    "  the interactions."
   ]
  },
  {
   "cell_type": "code",
   "execution_count": null,
   "metadata": {},
   "outputs": [],
   "source": [
    "# Your code here"
   ]
  },
  {
   "cell_type": "markdown",
   "metadata": {},
   "source": [
    "**Your answer to question 5.2(d):** *Double click here*"
   ]
  },
  {
   "cell_type": "markdown",
   "metadata": {},
   "source": [
    "**(e)** Compare the two models with the effects you have calculated, and the conclusions you\n",
    "made in point (c). You can fill out this table for your comparison:\n",
    "\n",
    "\n",
    "| **Factor**   | **Regression coefficient**   | **Effect**        |        **Effect/regression coefficient** |\n",
    "|--------------|------------------------------|-------------------|------------------------------------------|\n",
    "| Average      |   $a_0 = ...$                | Average y = ...   |  Average y / $a_0$                       |\n",
    "| $P$          |   $a_1 = ...$                | Effect($P$) = ... |  Effect($P$) / $a_1$                     |\n",
    "| $S$          |                              |                   |                                          |\n",
    "| $N$          |                              |                   |                                          |\n",
    "| $PS$         |                              |                   |                                          |\n",
    "| $PN$         |                              |                   |                                          |\n",
    "| $SN$         |                              |                   |                                          |\n",
    "| $PSN$        |                              |                   |                                          |\n",
    "\n",
    "| |\n",
    "|:---|\n",
    "|**Table 3:** *Table for regression coefficients, effects, and the ratio effect/(regression coefficient).*|\n",
    "\n",
    "\n",
    "(There is a nicer table in the PDF-version of the exercise!)"
   ]
  },
  {
   "cell_type": "code",
   "execution_count": null,
   "metadata": {},
   "outputs": [],
   "source": [
    "# Your code here"
   ]
  },
  {
   "cell_type": "markdown",
   "metadata": {},
   "source": [
    "**Your answer to question 5.2(e):** *Double click here*"
   ]
  }
 ],
 "metadata": {
  "kernelspec": {
   "display_name": "Python 3 (ipykernel)",
   "language": "python",
   "name": "python3"
  },
  "language_info": {
   "codemirror_mode": {
    "name": "ipython",
    "version": 3
   },
   "file_extension": ".py",
   "mimetype": "text/x-python",
   "name": "python",
   "nbconvert_exporter": "python",
   "pygments_lexer": "ipython3",
   "version": "3.9.10"
  }
 },
 "nbformat": 4,
 "nbformat_minor": 2
}
