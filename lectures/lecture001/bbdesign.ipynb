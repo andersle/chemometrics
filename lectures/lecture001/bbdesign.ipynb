{
 "cells": [
  {
   "cell_type": "markdown",
   "metadata": {},
   "source": [
    "# Example 1: Multiple-response optimization of the acidic treatment of the brown alga Ecklonia radiata for the sequential extraction of fucoidan and alginate\n",
    "\n",
    "In the [original article](https://www.sciencedirect.com/science/article/pii/S0960852415012092), the authors optimized the acidic treatment of the brown alga Ecklonia radiata in order to extract [fucoidan](https://en.wikipedia.org/wiki/Fucoidan) and facilitate the efficient sequential extraction of alginates.\n",
    "\n",
    "They investigated the effects of\n",
    "\n",
    "* temperature\n",
    "* pH\n",
    "* and duration of the acidic treatment\n",
    "\n",
    "on fucoidan yield, alginate extractability, and the molecular weight of sequentially extracted alginates.\n",
    "\n",
    "![](https://ars.els-cdn.com/content/image/1-s2.0-S0960852415012092-fx1.jpg)\n",
    "\n",
    "Here, we use the data from the article to reproduce their models."
   ]
  },
  {
   "cell_type": "code",
   "execution_count": null,
   "metadata": {},
   "outputs": [],
   "source": [
    "%matplotlib notebook\n",
    "import pandas as pd\n",
    "import numpy as np\n",
    "from sklearn.preprocessing import PolynomialFeatures\n",
    "from sklearn.linear_model import LinearRegression\n",
    "from mpl_toolkits.mplot3d import axes3d\n",
    "from matplotlib import pyplot as plt\n",
    "plt.style.use('seaborn-notebook')"
   ]
  },
  {
   "cell_type": "code",
   "execution_count": null,
   "metadata": {},
   "outputs": [],
   "source": [
    "tabell = \"\"\"Temperature (°C)\tx1\tpH\tx2\tDuration (min)\tx3\tFRPF yieldc (%)\tAlginate yieldd (%)\tAlginate MWe (kDa)\n",
    "35\t0\t3.5\t0\t60\t0\t3.19\t33.7\t709\n",
    "35\t0\t3.5\t0\t60\t0\t3.05\t33.2\t719\n",
    "35\t0\t3.5\t0\t60\t0\t2.98\t34.7\t746\n",
    "25\t-1\t3.5\t0\t10\t-1\t2.31\t32.2\t736\n",
    "25\t-1\t3.5\t0\t110\t1\t3.10\t33.3\t734\n",
    "45\t1\t3.5\t0\t10\t-1\t2.69\t33.1\t728\n",
    "45\t1\t3.5\t0\t110\t1\t3.00\t34.5\t798\n",
    "35\t0\t2\t-1\t10\t-1\t2.65\t35.0\t672\n",
    "35\t0\t2\t-1\t110\t1\t3.03\t38.0\t663\n",
    "35\t0\t5\t1\t10\t-1\t2.92\t35.0\t677\n",
    "35\t0\t5\t1\t110\t1\t3.09\t33.7\t693\n",
    "25\t-1\t2\t-1\t60\t0\t2.86\t36.4\t514\n",
    "25\t-1\t5\t1\t60\t0\t2.93\t33.1\t616\n",
    "45\t1\t2\t-1\t60\t0\t3.03\t38.3\t690\n",
    "45\t1\t5\t1\t60\t0\t2.95\t35.1\t586\"\"\""
   ]
  },
  {
   "cell_type": "code",
   "execution_count": null,
   "metadata": {},
   "outputs": [],
   "source": [
    "header = []\n",
    "numbers = []\n",
    "for i, row in enumerate(tabell.split('\\n')):\n",
    "    split = row.split('\\t')\n",
    "    if i == 0:\n",
    "        header = [key for key in split]\n",
    "    else:\n",
    "        numbers.append([float(j) for j in split])\n",
    "numbers = np.array(numbers)\n",
    "tabell_dict = {}\n",
    "for i, key in enumerate(header):\n",
    "    tabell_dict[key] = numbers[:, i]\n",
    "data = pd.DataFrame.from_dict(tabell_dict)"
   ]
  },
  {
   "cell_type": "code",
   "execution_count": null,
   "metadata": {},
   "outputs": [],
   "source": [
    "data"
   ]
  },
  {
   "cell_type": "markdown",
   "metadata": {},
   "source": [
    "The models created were on the form:\n",
    "\n",
    "\\begin{equation}\n",
    "Y = a + b_1 x_1 + b_2 x_2 + b_3 x_3 + b_{12} x_1 x_2 + b_{13} x_1 x_3 + b_{23} x_2 x_3 + b_{11} x_1^2 + b_{22} x_2^2 + b_{33} x_3^2\n",
    "\\end{equation}"
   ]
  },
  {
   "cell_type": "code",
   "execution_count": null,
   "metadata": {},
   "outputs": [],
   "source": [
    "data[['x1', 'x2', 'x3']]"
   ]
  },
  {
   "cell_type": "code",
   "execution_count": null,
   "metadata": {},
   "outputs": [],
   "source": [
    "x1_x2_x3 = data[['x1', 'x2', 'x3']].to_numpy()\n",
    "y1 = data['FRPF yieldc (%)'].to_numpy()\n",
    "y2 = data['Alginate yieldd (%)'].to_numpy()\n",
    "y3 = data['Alginate MWe (kDa)'].to_numpy()"
   ]
  },
  {
   "cell_type": "code",
   "execution_count": null,
   "metadata": {},
   "outputs": [],
   "source": [
    "# Make X matrix, consisting of [1, x1, x2, x3, x1^2, x1x2, ...] etc. for fitting:\n",
    "poly = PolynomialFeatures(degree=2)  # second order polynomial & interactions\n",
    "X = poly.fit_transform(x1_x2_x3)\n",
    "# print out the columns of X:\n",
    "print('Columns in X are:', poly.get_feature_names_out())"
   ]
  },
  {
   "cell_type": "code",
   "execution_count": null,
   "metadata": {},
   "outputs": [],
   "source": [
    "model1 = LinearRegression(fit_intercept=False)\n",
    "model1.fit(X, y1)\n",
    "print(model1.coef_)"
   ]
  },
  {
   "cell_type": "code",
   "execution_count": null,
   "metadata": {},
   "outputs": [],
   "source": [
    "model2 = LinearRegression(fit_intercept=False)\n",
    "model2.fit(X, y2)\n",
    "print(model2.coef_)"
   ]
  },
  {
   "cell_type": "code",
   "execution_count": null,
   "metadata": {},
   "outputs": [],
   "source": [
    "model3 = LinearRegression(fit_intercept=False)\n",
    "model3.fit(X, y3)\n",
    "print(model3.coef_)"
   ]
  },
  {
   "cell_type": "code",
   "execution_count": null,
   "metadata": {},
   "outputs": [],
   "source": [
    "coefficients = {\n",
    "    'a': 0,\n",
    "    'b1': 1,\n",
    "    'b2': 2,\n",
    "    'b3': 3,\n",
    "    'b12': 5,\n",
    "    'b13': 6,\n",
    "    'b23': 8,\n",
    "    'b11': 4,\n",
    "    'b22': 7,\n",
    "    'b33': 9,\n",
    "}\n",
    "# Make table similar to table 3:\n",
    "table3 = {\n",
    "    'y': ['FRPF yieldc (%)', 'Alginate yieldd (%)', 'Alginate MWe (kDa)'],\n",
    "}\n",
    "for i, idx in coefficients.items():\n",
    "    table3[i] = [model1.coef_[idx], model2.coef_[idx], model3.coef_[idx]]\n",
    "table3 = pd.DataFrame.from_dict(table3)\n",
    "table3"
   ]
  },
  {
   "cell_type": "code",
   "execution_count": null,
   "metadata": {},
   "outputs": [],
   "source": [
    "# Reproduce fig 2, at T = 35 C, x1 = 0\n",
    "pH = np.linspace(2, 5, 25)\n",
    "dur = np.linspace(10, 110, len(pH))\n",
    "# Transform pH -> x2, dur -> x3\n",
    "x2 = ((1-(-1))/(5-2)) * (pH - 2) + (-1)\n",
    "x3 = ((1-(-1))/(110-10)) * (dur - 10) + (-1)\n",
    "x1 = 0\n",
    "# Create matrices for evaluating surfaces:\n",
    "X2, X3 = np.meshgrid(x2, x3)\n",
    "X1 = np.zeros_like(X2)"
   ]
  },
  {
   "cell_type": "code",
   "execution_count": null,
   "metadata": {},
   "outputs": [],
   "source": [
    "# Evaluate the models using the fitted objects:\n",
    "x1_x2_x3_p = np.c_[X1.ravel(), X2.ravel(), X3.ravel()]\n",
    "X = poly.fit_transform(x1_x2_x3_p)\n",
    "\n",
    "Y1 = model1.predict(X).reshape(X1.shape)\n",
    "Y2 = model2.predict(X).reshape(X1.shape)\n",
    "Y3 = model3.predict(X).reshape(X1.shape)"
   ]
  },
  {
   "cell_type": "code",
   "execution_count": null,
   "metadata": {},
   "outputs": [],
   "source": [
    "# Plot Y1, Y2, and Y3:\n",
    "fig1, ax1 = plt.subplots(constrained_layout=True, subplot_kw={'projection': '3d'})\n",
    "pH_mat, dur_mat = np.meshgrid(pH, dur)\n",
    "# Plot the 3D surface\n",
    "cset = ax1.contour(pH_mat, dur_mat, Y1, zdir='z', offset=2.4, levels=10)\n",
    "ax1.plot_surface(pH_mat, dur_mat, Y1, cmap='viridis')\n",
    "ax1.set_xlabel('pH')\n",
    "ax1.set_ylabel('Duration')\n",
    "ax1.set_zlabel('FRPF yieldc (%)')\n",
    "ax1.set_zlim(2.4, 3.2)\n",
    "ax1.set_xlim(2, 5)\n",
    "ax1.set_ylim(10, 110)\n",
    "ax1.xaxis.pane.fill = False\n",
    "ax1.yaxis.pane.fill = False\n",
    "ax1.zaxis.pane.fill = False"
   ]
  },
  {
   "cell_type": "code",
   "execution_count": null,
   "metadata": {},
   "outputs": [],
   "source": [
    "fig1, ax1 = plt.subplots(constrained_layout=True, subplot_kw={'projection': '3d'})\n",
    "pH_mat, dur_mat = np.meshgrid(pH, dur)\n",
    "# Plot the 3D surface\n",
    "cset = ax1.contour(pH_mat, dur_mat, Y2, zdir='z', offset=32, levels=10)\n",
    "ax1.plot_surface(pH_mat, dur_mat, Y2, cmap='viridis')\n",
    "ax1.set_xlabel('pH')\n",
    "ax1.set_ylabel('Duration')\n",
    "ax1.set_zlabel('Alginate yieldd (%)')\n",
    "ax1.set_zlim(32, 39)\n",
    "ax1.set_xlim(2, 5)\n",
    "ax1.set_ylim(10, 110)\n",
    "ax1.xaxis.pane.fill = False\n",
    "ax1.yaxis.pane.fill = False\n",
    "ax1.zaxis.pane.fill = False"
   ]
  },
  {
   "cell_type": "code",
   "execution_count": null,
   "metadata": {},
   "outputs": [],
   "source": [
    "fig1, ax1 = plt.subplots(constrained_layout=True, subplot_kw={'projection': '3d'})\n",
    "pH_mat, dur_mat = np.meshgrid(pH, dur)\n",
    "# Plot the 3D surface\n",
    "cset = ax1.contour(pH_mat, dur_mat, Y3, zdir='z', offset=500, levels=10)\n",
    "ax1.plot_surface(pH_mat, dur_mat, Y3, cmap='viridis')\n",
    "ax1.set_xlabel('pH')\n",
    "ax1.set_ylabel('Duration')\n",
    "ax1.set_zlabel('Alginate MWe (kDa)')\n",
    "ax1.set_zlim(500, 800)\n",
    "ax1.set_xlim(2, 5)\n",
    "ax1.set_ylim(10, 110)\n",
    "ax1.xaxis.pane.fill = False\n",
    "ax1.yaxis.pane.fill = False\n",
    "ax1.zaxis.pane.fill = False"
   ]
  },
  {
   "cell_type": "code",
   "execution_count": null,
   "metadata": {},
   "outputs": [],
   "source": [
    "# Evaluate models \"by hand\":\n",
    "\n",
    "coeff = {key: model1.coef_[idx] for key, idx in coefficients.items()}\n",
    "Y1 = (\n",
    "    coeff['a'] +\n",
    "    coeff['b1'] * x1 +\n",
    "    coeff['b2'] * X2 +\n",
    "    coeff['b3'] * X3 +\n",
    "    coeff['b12'] * x1 * X2 +\n",
    "    coeff['b13'] * x1 * X3 +\n",
    "    coeff['b23'] * X2 * X3 +\n",
    "    coeff['b11'] * x1**2 +\n",
    "    coeff['b22'] * X2**2 +\n",
    "    coeff['b33'] * X3**2\n",
    ")\n",
    "coeff = {key: model2.coef_[idx] for key, idx in coefficients.items()}\n",
    "Y2 = (\n",
    "    coeff['a'] +\n",
    "    coeff['b1'] * x1 +\n",
    "    coeff['b2'] * X2 +\n",
    "    coeff['b3'] * X3 +\n",
    "    coeff['b12'] * x1 * X2 +\n",
    "    coeff['b13'] * x1 * X3 +\n",
    "    coeff['b23'] * X2 * X3 +\n",
    "    coeff['b11'] * x1**2 +\n",
    "    coeff['b22'] * X2**2 +\n",
    "    coeff['b33'] * X3**2\n",
    ")\n",
    "coeff = {key: model3.coef_[idx] for key, idx in coefficients.items()}\n",
    "Y3 = (\n",
    "    coeff['a'] +\n",
    "    coeff['b1'] * x1 +\n",
    "    coeff['b2'] * X2 +\n",
    "    coeff['b3'] * X3 +\n",
    "    coeff['b12'] * x1 * X2 +\n",
    "    coeff['b13'] * x1 * X3 +\n",
    "    coeff['b23'] * X2 * X3 +\n",
    "    coeff['b11'] * x1**2 +\n",
    "    coeff['b22'] * X2**2 +\n",
    "    coeff['b33'] * X3**2\n",
    ")"
   ]
  },
  {
   "cell_type": "code",
   "execution_count": null,
   "metadata": {},
   "outputs": [],
   "source": [
    "fig1, (ax1, ax2, ax3) = plt.subplots(\n",
    "    constrained_layout=True,\n",
    "    subplot_kw={'projection': '3d'},\n",
    "    ncols=3,\n",
    "    figsize=(9, 3),\n",
    ")\n",
    "pH_mat, dur_mat = np.meshgrid(pH, dur)\n",
    "\n",
    "# Plot the 3D surface for Y1:\n",
    "cset = ax1.contour(pH_mat, dur_mat, Y1, zdir='z', offset=2.4, levels=10)\n",
    "ax1.plot_surface(pH_mat, dur_mat, Y1, cmap='viridis')\n",
    "ax1.set_xlabel('pH')\n",
    "ax1.set_ylabel('Duration')\n",
    "ax1.set_zlabel('FRPF yieldc (%)')\n",
    "ax1.set_zlim(2.4, 3.2)\n",
    "ax1.set_xlim(2, 5)\n",
    "ax1.set_ylim(10, 110)\n",
    "ax1.xaxis.pane.fill = False\n",
    "ax1.yaxis.pane.fill = False\n",
    "ax1.zaxis.pane.fill = False\n",
    "\n",
    "\n",
    "# Plot the 3D surface for Y2:\n",
    "cset = ax2.contour(pH_mat, dur_mat, Y2, zdir='z', offset=32, levels=10)\n",
    "ax2.plot_surface(pH_mat, dur_mat, Y2, cmap='viridis')\n",
    "ax2.set_xlabel('pH')\n",
    "ax2.set_ylabel('Duration')\n",
    "ax2.set_zlabel('Alginate yieldd (%)')\n",
    "ax2.set_zlim(32, 39)\n",
    "ax2.set_xlim(2, 5)\n",
    "ax2.set_ylim(10, 110)\n",
    "ax2.xaxis.pane.fill = False\n",
    "ax2.yaxis.pane.fill = False\n",
    "ax2.zaxis.pane.fill = False\n",
    "\n",
    "\n",
    "# Plot the 3D surface for Y3\n",
    "cset = ax3.contour(pH_mat, dur_mat, Y3, zdir='z', offset=500, levels=10)\n",
    "ax3.plot_surface(pH_mat, dur_mat, Y3, cmap='viridis')\n",
    "ax3.set_xlabel('pH')\n",
    "ax3.set_ylabel('Duration')\n",
    "ax3.set_zlabel('Alginate MWe (kDa)')\n",
    "ax3.set_zlim(500, 800)\n",
    "ax3.set_xlim(2, 5)\n",
    "ax3.set_ylim(10, 110)\n",
    "ax3.xaxis.pane.fill = False\n",
    "ax3.yaxis.pane.fill = False\n",
    "ax3.zaxis.pane.fill = False"
   ]
  },
  {
   "cell_type": "code",
   "execution_count": null,
   "metadata": {},
   "outputs": [],
   "source": []
  }
 ],
 "metadata": {
  "kernelspec": {
   "display_name": "Python 3 (ipykernel)",
   "language": "python",
   "name": "python3"
  },
  "language_info": {
   "codemirror_mode": {
    "name": "ipython",
    "version": 3
   },
   "file_extension": ".py",
   "mimetype": "text/x-python",
   "name": "python",
   "nbconvert_exporter": "python",
   "pygments_lexer": "ipython3",
   "version": "3.9.9"
  }
 },
 "nbformat": 4,
 "nbformat_minor": 4
}
