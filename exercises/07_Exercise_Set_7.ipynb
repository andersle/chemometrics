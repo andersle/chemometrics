{
 "cells": [
  {
   "cell_type": "markdown",
   "metadata": {},
   "source": [
    "**Exercise set 7**\n",
    "==============\n",
    "\n",
    "> The goal of this exercise is to run PCA and PLSR on a real\n",
    "data set in order to show how these methods can be used in practice.\n",
    "We are considering data that are given by\n",
    "[Platikanov et al.](https://doi.org/10.1016/j.watres.2012.10.040) and we are aiming to\n",
    "reproduce some of the results found in their work. You may find it useful to\n",
    "inspect this article when interpreting your results.\n",
    "\n",
    "**Exercise 7.1**\n",
    "\n",
    "In this exercise, we will consider two data sets: one set contains data for bottled mineral water\n",
    "(we will call this \"data set 1\"),\n",
    "and the other set contains data for tap water and bottled water (we will call this \"data set 2\").\n",
    "\n",
    "The different water samples have been blind-tasted\n",
    "by trained panelists, who have rated the different water samples\n",
    "according to their liking. Also, the chemical compositions of the\n",
    "samples have been determined. All measured quantities are given\n",
    "in table 1.\n",
    "\n",
    "Our end goal is to predict the ratings (the \"mean liking\" in\n",
    "table 1) of the water samples, given\n",
    "measurements of the chemical composition. We will define this rating as the\n",
    "$y$-variable we are going to predict.\n",
    "\n",
    "|Variable| Unit|\n",
    "|:-------|----:|\n",
    " |Conductivity                       | ($\\mu$S/cm)  |\n",
    " |TDS (total dissolved solids)       | (mg/L)       |\n",
    " |Cl$^{-}$                            | (mg/L)      |\n",
    " |SO$_4^{2-}$                         | (mg/L)      |\n",
    " |NO$_3^-$                            | (mg/L)      |\n",
    " |HCO$_3^-$                           | (mg/L)      |\n",
    " |Ca$^{2+}$                           | (mg/L)      |\n",
    " |Mg$^{2+}$                           | (mg/L)      |\n",
    " |Na$^{+}$                            | (mg/L)      |\n",
    " |K$^{+}$                             | (mg/L)      |\n",
    " |pH                                  |             |\n",
    " |Si                                  | (mg/L)      |\n",
    " |Cl$_2$                              | (mg/L)      |\n",
    " |Mean liking                         |             |\n",
    " | **Table 1:** *Data columns present in the data sets: [Data/table1.csv](Data/table1.csv) and  [Data/table2.csv](Data/table2.csv)* |\n",
    "\n",
    "**(a)** Begin by exploring the raw data. In the [original article](https://doi.org/10.1016/j.watres.2012.10.040),\n",
    "      you can find correlation heat maps (see Fig. $1$ in the aforementioned article). \n",
    "      Create such correlation maps yourself (for data set 1 & 2)\n",
    "      and compare them with Fig. $1$ in the article. Does the mean liking\n",
    "      seem to be correlated with some of the variables?"
   ]
  },
  {
   "cell_type": "code",
   "execution_count": null,
   "metadata": {},
   "outputs": [],
   "source": [
    "# Your code here"
   ]
  },
  {
   "cell_type": "markdown",
   "metadata": {},
   "source": [
    "**Your answer to question 7.1(a):** *Double click here*"
   ]
  },
  {
   "cell_type": "markdown",
   "metadata": {},
   "source": [
    "**(b)** We will further explore the raw data with PCA. Perform a principal\n",
    "      component analysis for data set 1 and for data set 2. How much of the variance is\n",
    "      explained by the first two principal components? Also, plot the scores\n",
    "      and the loadings for principal component 1 and 2, and for principal component 1 and 3.\n",
    "      Does any of the variables seem to be correlated?\n",
    "      Which variables seem to influence the mean liking most\n",
    "      for the two data sets?"
   ]
  },
  {
   "cell_type": "code",
   "execution_count": null,
   "metadata": {},
   "outputs": [],
   "source": [
    "# Your code here"
   ]
  },
  {
   "cell_type": "markdown",
   "metadata": {},
   "source": [
    "**Your answer to question 7.1(b):** *Double click here*"
   ]
  },
  {
   "cell_type": "markdown",
   "metadata": {},
   "source": [
    "**(c)** Let us start the modeling by creating a linear least-squares model:\n",
    "\n",
    "* (i) Create linear least-squares models for the two data sets in which you use all available data in the fitting. Calculate $R^2$ and the root mean squared error (RMSE) of your models. Comment on the values you have obtained.\n",
    "          \n",
    "\n",
    "* (ii)  Evaluate the root mean squared error of cross-validation (RMSECV) for your two models. Compare the RMSECV values with the previously obtained RMSE values.\n",
    "          \n",
    "  \n",
    "* (iii) Using the two models you have created, what variables seem to be most important for predicting a high mean liking? Here, you can inspect the regression coefficients (assuming that you have scaled the variables). If you were to create a new brand of bottled water, what chemical components would you focus on to maximize the mean liking?"
   ]
  },
  {
   "cell_type": "code",
   "execution_count": null,
   "metadata": {},
   "outputs": [],
   "source": [
    "# Your code here"
   ]
  },
  {
   "cell_type": "markdown",
   "metadata": {},
   "source": [
    "**Your answer to question 7.1(c):** *Double click here*"
   ]
  },
  {
   "cell_type": "markdown",
   "metadata": {},
   "source": [
    "**(d)** We will now consider partial least-squares regression (PLSR) models.\n",
    "Before we do the actual modeling, let us repeat the fundamental\n",
    "equations for PLSR. The model itself is based on the following two\n",
    "equations:\n",
    "\\begin{equation}\n",
    "         \\begin{split}\n",
    "         \\mathbf{X} &= \\mathbf{T} \\mathbf{P}^\\top, \\\\\n",
    "         \\mathbf{Y} &= \\mathbf{U} \\mathbf{Q}^\\top, \\\\\n",
    "         \\end{split}\n",
    "         \\tag{1}\n",
    "      \\end{equation}\n",
    "      where $\\mathbf{T}$ is the $x$-scores, $\\mathbf{P}$ is the $x$-loadings,\n",
    "      $\\mathbf{U}$ is the $y$-scores, and $\\mathbf{Q}$ is the $y$-loadings.\n",
    "      The linear relation between $\\mathbf{X}$ and $\\mathbf{Y}$ is in this\n",
    "      case given by,\n",
    "      \\begin{equation}\n",
    "          \\mathbf{Y} = \\mathbf{T} \\mathbf{Q}^\\top.\n",
    "          \\label{eq:plsrreg} \\tag{2}\n",
    "      \\end{equation}\n",
    "\n",
    "When we wish to *predict* new $\\mathbf{Y}$-values from new\n",
    "      $\\mathbf{X}$-values, we need to calculate new $x$-scores. This is\n",
    "      done by introducing an additional matrix, $\\mathbf{R}$, so that\n",
    "      the following is satisfied:\n",
    "      \\begin{equation}\n",
    "            \\mathbf{T} = \\mathbf{X} \\mathbf{R}. \n",
    "          \\label{eq:plsrscores} \\tag{3}\n",
    "      \\end{equation}\n",
    "      Here, we can think of the $\\mathbf{R}$ as a matrix we can use to invert\n",
    "      the relation $\\mathbf{X} = \\mathbf{T} \\mathbf{P}^\\top$. We can then predict\n",
    "      new $\\mathbf{Y}$-values, by combining Eq. \\eqref{eq:plsrreg}\n",
    "      and Eq. \\eqref{eq:plsrscores}:\n",
    "      \\begin{equation}\n",
    "        \\mathbf{Y} = \\mathbf{T} \\mathbf{Q}^\\top =\n",
    "                     \\mathbf{X} \\mathbf{R} \\mathbf{Q}^\\top =\n",
    "                     \\mathbf{X} \\mathbf{B}_\\text{PLS},\n",
    "                     \\tag{4}\n",
    "      \\end{equation}\n",
    "      where the regression coefficients $\\mathbf{B}_\\text{PLS}$ are given by:\n",
    "      \\begin{equation}\n",
    "        \\mathbf{B}_\\text{PLS}  = \\mathbf{R} \\mathbf{Q}^\\top. \\tag{5}\n",
    "      \\end{equation}\n",
    "\n",
    "In `sklearn` we can run PLSR by using `PLSRegression`\n",
    "which is found in the module `sklearn.cross_decomposition`.\n",
    "After running the regression, we can access the matrices given above with the python code below."
   ]
  },
  {
   "cell_type": "code",
   "execution_count": null,
   "metadata": {},
   "outputs": [],
   "source": [
    "from sklearn.preprocessing import scale\n",
    "from sklearn.cross_decomposition import PLSRegression\n",
    "X = scale(X)\n",
    "y = scale(y)\n",
    "plsr = PLSRegression(n_components=2)\n",
    "plsr.fit(X, y)\n",
    "R = plsr.x_rotations_\n",
    "B = plsr.coef_\n",
    "Q = plsr.y_loadings_"
   ]
  },
  {
   "cell_type": "markdown",
   "metadata": {},
   "source": [
    "* (i) Create PLSR models for the two data sets in which you use all available data in the fitting. Use \n",
    "  only two components when you create the model, that is, set `PLSRegression(n_components=2)` when\n",
    "  you set up the models. Calculate $R^2$ and the root mean squared error (RMSE) of your models.\n",
    "  Comment on the values you have obtained, and compare them with the corresponding values from your\n",
    "  linear least-squares models.\n",
    "\n",
    "\n",
    "* (ii) Calculate RMSECV for your two PLSR models. Compare the RMSECV values with the previously obtained\n",
    "  RMSE values. Would you say that your PLSR models perform better or worse than the least-squares \n",
    "  models?\n",
    "\n",
    "\n",
    "* (iii) Plot the $x$- and $y$-loadings for the two components. These loadings are available as \n",
    "  `Q = plsr.y_loadings_`. What variables seem to be most important for predicting the mean liking?\n",
    "\n",
    "\n",
    "* (iv) Inspect the weights (the $\\mathbf{R}$ matrix) for PLS component 1 and PLS component 2.\n",
    "  Compare your results to the results given by \n",
    "  [Platikanov et al.](https://doi.org/10.1016/j.watres.2012.10.040) in Fig. $6$.\n",
    "\n",
    "\n",
    "* (v) Based on the PLSR results: If you were to create\n",
    "  a new brand of bottled water, what chemical components\n",
    "  would you focus on to maximize the mean liking?\n"
   ]
  },
  {
   "cell_type": "code",
   "execution_count": null,
   "metadata": {},
   "outputs": [],
   "source": [
    "# Your code here"
   ]
  },
  {
   "cell_type": "markdown",
   "metadata": {},
   "source": [
    "**Your answer to question 7.1(d):** *Double click here*"
   ]
  }
 ],
 "metadata": {
  "kernelspec": {
   "display_name": "Python 3",
   "language": "python",
   "name": "python3"
  },
  "language_info": {
   "codemirror_mode": {
    "name": "ipython",
    "version": 3
   },
   "file_extension": ".py",
   "mimetype": "text/x-python",
   "name": "python",
   "nbconvert_exporter": "python",
   "pygments_lexer": "ipython3",
   "version": "3.8.1"
  }
 },
 "nbformat": 4,
 "nbformat_minor": 2
}
