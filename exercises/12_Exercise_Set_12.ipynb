{
 "cells": [
  {
   "cell_type": "markdown",
   "metadata": {},
   "source": [
    "# Exercise set 12\n",
    "\n",
    "\n",
    "> In this exercise, we will process signals, and you will learn how you\n",
    "can remove noise, obtain numerical derivatives of noisy signals, and\n",
    "correct near-infrared spectra by removing unwanted scattering effects."
   ]
  },
  {
   "cell_type": "markdown",
   "metadata": {},
   "source": [
    "## Exercise 12.1\n",
    "\n",
    "In this exercise, we will test the Savitzky–Golay filter for smoothing\n",
    "and numerical differentiation. We will use a test signal which has been generated\n",
    "from the following analytical function,\n",
    "\n",
    "\\begin{equation}\n",
    "y(t) = \\sin (8t) - 1.8t^2 + 0.5t^3.\n",
    "\\label{eq:signal}\n",
    "\\tag{8}\\end{equation}\n",
    "\n",
    "The signal is available in the file [`Data/signal.txt`](Data/signal.txt).\n",
    "In addition, we will investigate a test signal generated from the same\n",
    "analytical function but with noise added. This signal is available in the file\n",
    "[`Data/signal_noise.txt`](Data/signal_noise.txt).\n",
    "\n",
    "In `scipy`, a Savitzky–Golay filter can be created by using\n",
    "the method `savgol_filter` from [`scipy.signal`](https://docs.scipy.org/doc/scipy/reference/generated/scipy.signal.savgol_filter.html).\n",
    "An example is given below:"
   ]
  },
  {
   "cell_type": "code",
   "execution_count": null,
   "metadata": {},
   "outputs": [],
   "source": [
    "import numpy as np\n",
    "from scipy.signal import savgol_filter\n",
    "from matplotlib import pyplot as plt\n",
    "\n",
    "%matplotlib inline\n",
    "\n",
    "signal = np.loadtxt(\"Data/signal_noise.txt\")[:, 1]  # Load signal.\n",
    "# Apply a Savitzky-Golay filter, length 21 and polynomial order of 3\n",
    "smooth = savgol_filter(signal, 21, polyorder=3)\n",
    "# Plot the original signal and the filtered one.\n",
    "plt.plot(signal, label=\"Original signal\")\n",
    "plt.plot(smooth, label=\"Filtered signal\")\n",
    "plt.legend()\n",
    "plt.show()"
   ]
  },
  {
   "cell_type": "markdown",
   "metadata": {},
   "source": [
    "### 12.1(a)\n",
    "Consider first the signal without the noise and apply a\n",
    "Savitzky&ndash;Golay smoothing filter to it. Here you can experiment\n",
    "with the window size and polynomial order, for instance, a window size of $5$\n",
    "or $7$ and a polynomial order of $3$ or $5$.\n",
    "\n",
    "**Is the signal visibly modified by the filter you are using?**"
   ]
  },
  {
   "cell_type": "code",
   "execution_count": null,
   "metadata": {},
   "outputs": [],
   "source": [
    "# Your code here"
   ]
  },
  {
   "cell_type": "markdown",
   "metadata": {},
   "source": [
    "### Your answer to question 12.1(a): Is the signal visibly modified by the filter you are using?\n",
    "*Double click here*"
   ]
  },
  {
   "cell_type": "markdown",
   "metadata": {},
   "source": [
    "### 12.1(b)\n",
    "Create a Savitzky&ndash;Golay filter for first-order differentiation with a\n",
    "window size of $7$ and polynomial order of $3$. Apply this to the signal\n",
    "without noise and compare the differentiated signal with the analytical\n",
    "derivative of Eq. (8). \n",
    "\n",
    "Note: In order to obtain the derivative,\n",
    "you will have to supply the spacing between your points using the\n",
    "`delta` parameter of the `savgol_filter` method.\n",
    "Further, you must tell the method to compute the derivative by\n",
    "setting the parameter `deriv`  to the order of the derivative\n",
    "you want. An example of this can be found below:"
   ]
  },
  {
   "cell_type": "code",
   "execution_count": null,
   "metadata": {},
   "outputs": [],
   "source": [
    "import numpy as np\n",
    "from scipy.signal import savgol_filter\n",
    "from matplotlib import pyplot as plt\n",
    "\n",
    "\n",
    "data = np.loadtxt(\"Data/signal_noise.txt\")  # Load signal.\n",
    "x = data[:, 0]\n",
    "delta_x = x[1] - x[0]  # Spacing between x-points\n",
    "signal = data[:, 1]\n",
    "# Apply a Savitzky-Golay filter, length 51 and polynomial order of 3,\n",
    "# and obtain the first derivative:\n",
    "deriv = savgol_filter(signal, 51, polyorder=3, delta=delta_x, deriv=1)\n",
    "# Plot the original signal and the filtered one.\n",
    "plt.plot(x, signal, label=\"Original signal\")\n",
    "plt.plot(x, deriv, label=\"Derivative of signal\")\n",
    "plt.legend()\n",
    "plt.show()"
   ]
  },
  {
   "cell_type": "code",
   "execution_count": null,
   "metadata": {},
   "outputs": [],
   "source": [
    "# Your code here"
   ]
  },
  {
   "cell_type": "markdown",
   "metadata": {},
   "source": [
    "### Your answer to question 12.1(b):\n",
    "*Double click here*"
   ]
  },
  {
   "cell_type": "markdown",
   "metadata": {},
   "source": [
    "### 12.1(c)\n",
    "Create a Savitzky&ndash;Golay filter for smoothing the signal *with* noise.\n",
    "Here, you have to experiment with the window size to use. Use a polynomial\n",
    "order of $3$, and compare your smoothed signal with the original signal and\n",
    "the signal without noise."
   ]
  },
  {
   "cell_type": "code",
   "execution_count": null,
   "metadata": {},
   "outputs": [],
   "source": [
    "# Your code here"
   ]
  },
  {
   "cell_type": "markdown",
   "metadata": {},
   "source": [
    "### Your answer to question 12.1(c):\n",
    "*Double click here*"
   ]
  },
  {
   "cell_type": "markdown",
   "metadata": {},
   "source": [
    "### 12.1(d)\n",
    "Create a Savitzky&ndash;Golay filter for first-order differentiation of the signal\n",
    "*with* noise. Here, you have to experiment with the window size to use.\n",
    "Use a polynomial order of $3$ and compare your differentiated signal\n",
    "with the analytical derivative of Eq. (8)."
   ]
  },
  {
   "cell_type": "code",
   "execution_count": null,
   "metadata": {},
   "outputs": [],
   "source": [
    "# Your code here"
   ]
  },
  {
   "cell_type": "markdown",
   "metadata": {},
   "source": [
    "### Your answer to question 12.1(d):\n",
    "*Double click here*"
   ]
  },
  {
   "cell_type": "markdown",
   "metadata": {},
   "source": [
    "## Exercise 12.2\n",
    "\n",
    "In this exercise, we will smooth a signal by performing convolution.\n",
    "We will attempt to smooth the signal given in Eq. (8)\n",
    "with added noise (data file: [`Data/signal_noise.txt`](Data/signal_noise.txt)). A short example\n",
    "of convolution with `scipy/numpy` can be found below:"
   ]
  },
  {
   "cell_type": "code",
   "execution_count": null,
   "metadata": {},
   "outputs": [],
   "source": [
    "import numpy as np\n",
    "from scipy.signal import windows\n",
    "from matplotlib import pyplot as plt\n",
    "\n",
    "%matplotlib notebook\n",
    "\n",
    "signal = np.loadtxt(\"Data/signal_noise.txt\")[:, 1]  # Load signal.\n",
    "window = windows.boxcar(21)  # Create a rectangular window of 21 points\n",
    "window /= window.sum()  # Normalize the window.\n",
    "conv = np.convolve(signal, window, mode=\"same\")  # Calculate convolution.\n",
    "# Plot the original signal and the filtered one.\n",
    "plt.plot(signal, label=\"Original signal\")\n",
    "plt.plot(conv, label=\"Filtered signal (convolution, rectangular)\")\n",
    "plt.legend()\n",
    "plt.show()"
   ]
  },
  {
   "cell_type": "markdown",
   "metadata": {},
   "source": [
    "### 12.2(a)\n",
    "For smoothing the signal, we will use a windowing function for the convolution.\n",
    "In the code above, we use a simple rectangular window for the smoothing,\n",
    "but in `scipy`, there are several windowing functions\n",
    "available.\n",
    "A list of the available windowing\n",
    "functions can be found [here](https://docs.scipy.org/doc/scipy/reference/signal.windows.html) and\n",
    "they behave differently.\n",
    "\n",
    "Are you able to remove most of the noise from\n",
    "the given signal? Experiment with different windowing functions and/or different\n",
    "windowing lengths! "
   ]
  },
  {
   "cell_type": "code",
   "execution_count": null,
   "metadata": {},
   "outputs": [],
   "source": [
    "# Your code here"
   ]
  },
  {
   "cell_type": "markdown",
   "metadata": {},
   "source": [
    "### Your answer to question 12.2(a): Could you remove the noise? What window did you use?\n",
    "*Double click here*"
   ]
  },
  {
   "cell_type": "markdown",
   "metadata": {},
   "source": [
    "## Exercise 12.3\n",
    "\n",
    "You have measured the signal given in the file [`Data/spike.txt`](Data/spike.txt). Unfortunately, \n",
    "the signal contains a prominent spike you want to remove. In the code below,\n",
    "we attempt to remove the spike by doing a convolution with\n",
    "a rectangular window. Run this code and observe the results."
   ]
  },
  {
   "cell_type": "code",
   "execution_count": null,
   "metadata": {},
   "outputs": [],
   "source": [
    "import numpy as np\n",
    "from matplotlib import pyplot as plt\n",
    "from scipy.signal import windows\n",
    "\n",
    "%matplotlib notebook\n",
    "\n",
    "\n",
    "def median_filter(yvalues, width=11):\n",
    "    \"\"\"Apply a median filter to the given y-values.\"\"\"\n",
    "    medians = []\n",
    "    half = width // 2\n",
    "    length = len(yvalues) - 1\n",
    "    for i, _ in enumerate(yvalues):\n",
    "        left = max(0, i - half)\n",
    "        right = min(length, i + half)\n",
    "        med = np.median(yvalues[left : right + 1])\n",
    "        medians.append(med)\n",
    "    return np.array(medians)\n",
    "\n",
    "\n",
    "signal = np.loadtxt(\"Data/spike.txt\")\n",
    "window = window = windows.boxcar(21)\n",
    "window /= window.sum()\n",
    "conv = np.convolve(signal, window, mode=\"same\")  # Do convolution\n",
    "filter_median = median_filter(signal, width=21)  # Apply median filter\n",
    "# Plot the results:\n",
    "fig, axes = plt.subplots(constrained_layout=True, ncols=2)\n",
    "axes[0].plot(signal, label=\"Original signal\")\n",
    "axes[0].legend()\n",
    "axes[1].plot(signal, alpha=0.5, label=\"Original signal\")\n",
    "axes[1].plot(conv, label=\"Signal after convolution\")\n",
    "axes[1].plot(filter_median, label=\"Signal after median filter\")\n",
    "# Zoom in around the spike:\n",
    "axes[1].set_xlim(600, 950)\n",
    "axes[1].set_ylim(0, 2)\n",
    "axes[1].legend()\n",
    "plt.show()"
   ]
  },
  {
   "cell_type": "markdown",
   "metadata": {},
   "source": [
    "### 12.3(a)\n",
    "As you can see from the results of applying the convolution, \n",
    "the spike has not been completely removed. Rather,\n",
    "it has been made broader. Can you explain what seems to be\n",
    "happening around the spike when you apply the convolution?"
   ]
  },
  {
   "cell_type": "markdown",
   "metadata": {},
   "source": [
    "### Your answer to question 12.3(a):\n",
    "*Double click here*"
   ]
  },
  {
   "cell_type": "markdown",
   "metadata": {},
   "source": [
    "### 12.3(b)\n",
    "The code given above also includes a so-called *median* filter.\n",
    "The median filter\n",
    "returns the median value of the signal in a given window. Applying\n",
    "this filter does better job of removing the spike. Can you explain\n",
    "why this is the case?"
   ]
  },
  {
   "cell_type": "markdown",
   "metadata": {},
   "source": [
    "### Your answer to question 12.3(b):\n",
    "*Double click here*"
   ]
  },
  {
   "cell_type": "markdown",
   "metadata": {},
   "source": [
    "## Exercise 12.4\n",
    "\n",
    "Multiplicative Scatter Correction (MSC) is one approach for removing non-linear\n",
    "effects in near-infrared (NIR) spectra. Such effects may arise as a result\n",
    "of scattering effects in a sample.\n",
    "This will generate additional variance which is not related to the\n",
    "chemical interesting information contained in the spectrum, and we would,\n",
    "therefore, like to remove it.\n",
    "\n",
    "The file [`Data/nir_msc.txt`](Data/nir_msc.txt) contains $222$ spectra\n",
    "sampled at $121$ wavelengths. Each row contains a spectrum, and each\n",
    "column represents a single wavelength. You will now apply MSC to\n",
    "correct these spectra."
   ]
  },
  {
   "cell_type": "markdown",
   "metadata": {},
   "source": [
    "### 12.4(a)\n",
    "Find a representative spectrum by taking the mean of the $222$ spectra.\n",
    "We will refer to this representative spectrum as $f(x)$ in the following."
   ]
  },
  {
   "cell_type": "code",
   "execution_count": null,
   "metadata": {},
   "outputs": [],
   "source": [
    "# Your code here"
   ]
  },
  {
   "cell_type": "markdown",
   "metadata": {},
   "source": [
    "### Your answer to question 12.4(a):\n",
    "*Double click here*"
   ]
  },
  {
   "cell_type": "markdown",
   "metadata": {},
   "source": [
    "### 12.4(b)\n",
    "Correct each spectrum, $h_i(x)$, by first fitting it to a linear\n",
    "equation,\n",
    "\n",
    "\\begin{equation}\n",
    "h_i(x) = a_i f(x) + b_i ,\n",
    "\\end{equation}\n",
    "\n",
    "and then remove the scattering effects by taking,\n",
    "\n",
    "\\begin{equation}\n",
    "h_{i, \\text{corrected}}(x) = \\frac{h_i(x) -b_i}{a_i} .\n",
    "\\end{equation}"
   ]
  },
  {
   "cell_type": "code",
   "execution_count": null,
   "metadata": {},
   "outputs": [],
   "source": [
    "# Your code here"
   ]
  },
  {
   "cell_type": "markdown",
   "metadata": {},
   "source": [
    "### Your answer to question 12.4(b):\n",
    "*Double click here*"
   ]
  },
  {
   "cell_type": "markdown",
   "metadata": {},
   "source": [
    "### 12.4(c)\n",
    "Plot the corrected and uncorrected spectra.\n",
    "Does this look like what you would expect?"
   ]
  },
  {
   "cell_type": "code",
   "execution_count": null,
   "metadata": {},
   "outputs": [],
   "source": [
    "# Your code here"
   ]
  },
  {
   "cell_type": "markdown",
   "metadata": {},
   "source": [
    "### Your answer to question 12.4(c):\n",
    "*Double click here*"
   ]
  },
  {
   "cell_type": "markdown",
   "metadata": {},
   "source": [
    "### 12.4(d)\n",
    "As stated above, MSC will remove some of the (presumably) uninteresting\n",
    "variances. We can quantify this by calculating the sum of squares, $SS_0$,\n",
    "\n",
    "\\begin{equation}\n",
    "SS_0 = \\sum_i \\sum_j (x_{ij} - \\overline{x}_j)^2,\n",
    "\\end{equation}\n",
    "\n",
    "where $x_{ij}$ is the absorbance for spectrum $i$ at wavelength $j$, and\n",
    "$\\overline{x}_j$ is the mean of all spectra for wavelength $j$.\n",
    "Calculate $SS_0$ for both the corrected and uncorrected spectra.\n",
    "Does MSC reduce $SS_0$ as we expect?"
   ]
  },
  {
   "cell_type": "code",
   "execution_count": null,
   "metadata": {},
   "outputs": [],
   "source": [
    "# Your code here"
   ]
  },
  {
   "cell_type": "markdown",
   "metadata": {},
   "source": [
    "### Your answer to question 12.4(d):\n",
    "*Double click here*"
   ]
  }
 ],
 "metadata": {
  "kernelspec": {
   "display_name": "Python 3 (ipykernel)",
   "language": "python",
   "name": "python3"
  },
  "language_info": {
   "codemirror_mode": {
    "name": "ipython",
    "version": 3
   },
   "file_extension": ".py",
   "mimetype": "text/x-python",
   "name": "python",
   "nbconvert_exporter": "python",
   "pygments_lexer": "ipython3",
   "version": "3.11.8"
  }
 },
 "nbformat": 4,
 "nbformat_minor": 2
}
