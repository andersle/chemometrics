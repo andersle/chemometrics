{
 "cells": [
  {
   "cell_type": "markdown",
   "id": "ebce65ca",
   "metadata": {},
   "source": [
    "# Exercise set 14\n",
    "\n",
    "> As you near the end of TKJ4175 for 2023, it's time to put your newly acquired skills to the test! In this final exercise, you will analyze NMR spectra and identify unknown oils using the knowledge you have gained in this course.\n",
    "\n",
    "The data file [Data/nmr_oil.csv](./Data/nmr_oil.csv) contains ¹H NMR spectra measured for \n",
    "six edible oils: sesame, olive, peanut, sunflower, canola, and corn. For each oil, we have five spectra, and each spectrum is recorded at 1100 chemical shifts. We also have three spectra of unknown oils in the data file [Data/nmr_unknown_oil.csv](./Data/nmr_unknown_oil.csv). \n",
    "\n",
    "We have a limited amount of information on the unknown samples. Their type(s) are of the six known oils we have measured, but the three unknown oils may be of the same kind, or they can all be different.\n",
    "\n",
    "\n",
    "**Use your chemometrics skills and identify the three oils!**"
   ]
  },
  {
   "cell_type": "markdown",
   "id": "63788af2",
   "metadata": {},
   "source": [
    "## Plotting example spectra\n",
    "\n",
    "To get you started, here are some code to plot example spectra:"
   ]
  },
  {
   "cell_type": "code",
   "execution_count": null,
   "id": "160504da",
   "metadata": {},
   "outputs": [],
   "source": [
    "import pandas as pd\n",
    "from matplotlib import pyplot as plt\n",
    "import numpy as np\n",
    "import seaborn as sns\n",
    "\n",
    "%matplotlib inline\n",
    "sns.set_context(\"notebook\")"
   ]
  },
  {
   "cell_type": "code",
   "execution_count": null,
   "id": "7ba1360b",
   "metadata": {},
   "outputs": [],
   "source": [
    "data = pd.read_csv(\"Data/nmr_oil.csv\")\n",
    "data_unknown = pd.read_csv(\"Data/nmr_unknown_oil.csv\")\n",
    "data.head()\n",
    "# The column oil contains the oil type, and the other\n",
    "# columns contain the intensity at the shift value given\n",
    "# by the column name."
   ]
  },
  {
   "cell_type": "code",
   "execution_count": null,
   "id": "6f994fce",
   "metadata": {},
   "outputs": [],
   "source": [
    "fig, axes = plt.subplots(constrained_layout=True, nrows=6, sharex=True, figsize=(9, 12))\n",
    "# ppm values are:\n",
    "ppms = np.array([float(i.split(\"ppm\")[0]) for i in data.columns if \"ppm\" in i])\n",
    "# Loop over oil types and plot one example of each:\n",
    "for i, oil_type in enumerate(data[\"oil\"].unique()):\n",
    "    intensity = data[data[\"oil\"] == oil_type].to_numpy()[0, 1:]\n",
    "    # Note: The selection [0, 1:] above picks the first of\n",
    "    # the five spectra for the selected oil type, and then\n",
    "    # it skips the first (index 0 columns) since this is\n",
    "    # the oil column.\n",
    "    axes[i].plot(ppms, intensity)\n",
    "    axes[i].set(ylabel=\"Intensity\")\n",
    "    axes[i].set_title(f\"Oil: {oil_type}\", loc=\"left\")\n",
    "axes[-1].invert_xaxis()\n",
    "axes[-1].set_xlabel(\"ppm\")\n",
    "sns.despine(fig=fig)"
   ]
  },
  {
   "cell_type": "code",
   "execution_count": null,
   "id": "a194792a",
   "metadata": {},
   "outputs": [],
   "source": [
    "fig, axes = plt.subplots(constrained_layout=True, figsize=(9, 3))\n",
    "# ppm values are:\n",
    "ppms = np.array([float(i.split(\"ppm\")[0]) for i in data_unknown.columns if \"ppm\" in i])\n",
    "# Show all the unknowns\n",
    "spectra = data_unknown.to_numpy()[:, 1:]\n",
    "for i, intensity in enumerate(spectra):\n",
    "    axes.plot(ppms, intensity, label=f\"Unknown oil {i+1}\")\n",
    "axes.set(ylabel=\"Intensity\")\n",
    "axes.invert_xaxis()\n",
    "axes.set_xlabel(\"ppm\")\n",
    "axes.legend(loc=\"upper left\")\n",
    "sns.despine(fig=fig)"
   ]
  }
 ],
 "metadata": {
  "kernelspec": {
   "display_name": "Python 3 (ipykernel)",
   "language": "python",
   "name": "python3"
  },
  "language_info": {
   "codemirror_mode": {
    "name": "ipython",
    "version": 3
   },
   "file_extension": ".py",
   "mimetype": "text/x-python",
   "name": "python",
   "nbconvert_exporter": "python",
   "pygments_lexer": "ipython3",
   "version": "3.10.6"
  }
 },
 "nbformat": 4,
 "nbformat_minor": 5
}
