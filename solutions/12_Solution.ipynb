{
 "cells": [
  {
   "cell_type": "markdown",
   "metadata": {},
   "source": [
    "# Exercise set 12\n",
    "\n",
    "\n",
    "> In this exercise, we will process signals, and you will learn how you\n",
    ">can remove noise, obtain numerical derivatives of noisy signals, and\n",
    ">correct near-infrared spectra by removing unwanted scattering effects."
   ]
  },
  {
   "cell_type": "markdown",
   "metadata": {},
   "source": [
    "## Exercise 12.1\n",
    "\n",
    "In this exercise, we will test the Savitzky–Golay filter for smoothing\n",
    "and numerical differentiation. We will use a test signal which has been generated\n",
    "from the following analytical function,\n",
    "\n",
    "\\begin{equation}\n",
    "y(t) = \\sin (8t) - 1.8t^2 + 0.5t^3.\n",
    "\\label{eq:signal}\n",
    "\\tag{8}\\end{equation}\n",
    "\n",
    "The signal is available in the file [`Data/signal.txt`](Data/signal.txt).\n",
    "In addition, we will investigate a test signal generated from the same\n",
    "analytical function but with noise added. This signal is available in the file\n",
    "[`Data/signal_noise.txt`](Data/signal_noise.txt).\n",
    "\n",
    "In `scipy`, a Savitzky–Golay filter can be created by using\n",
    "the method `savgol_filter` from [`scipy.signal`](https://docs.scipy.org/doc/scipy/reference/generated/scipy.signal.savgol_filter.html).\n",
    "An example is given below:"
   ]
  },
  {
   "cell_type": "code",
   "execution_count": null,
   "metadata": {},
   "outputs": [],
   "source": [
    "import numpy as np\n",
    "from scipy.signal import savgol_filter\n",
    "from matplotlib import pyplot as plt\n",
    "\n",
    "%matplotlib inline\n",
    "\n",
    "signal = np.loadtxt(\"Data/signal_noise.txt\")[:, 1]  # Load signal.\n",
    "# Apply a Savitzky-Golay filter, length 21 and polynomial order of 3\n",
    "smooth = savgol_filter(signal, 21, polyorder=3)\n",
    "# Plot the original signal and the filtered one.\n",
    "plt.plot(signal, label=\"Original signal\")\n",
    "plt.plot(smooth, label=\"Filtered signal\")\n",
    "plt.legend()\n",
    "plt.show()"
   ]
  },
  {
   "cell_type": "markdown",
   "metadata": {},
   "source": [
    "### 12.1(a)\n",
    "Consider first the signal without the noise and apply a\n",
    "Savitzky&ndash;Golay smoothing filter to it. Here you can experiment\n",
    "with the window size and polynomial order, for instance, a window size of $5$\n",
    "or $7$ and a polynomial order of $3$ or $5$.\n",
    "\n",
    "**Is the signal visibly modified by the filter you are using?**"
   ]
  },
  {
   "cell_type": "code",
   "execution_count": null,
   "metadata": {},
   "outputs": [],
   "source": [
    "import numpy as np\n",
    "import matplotlib.pyplot as plt\n",
    "import pandas as pd\n",
    "from scipy.signal import savgol_filter\n",
    "import seaborn as sns\n",
    "sns.set_context(\"notebook\")\n",
    "\n",
    "signal = np.loadtxt(\"Data/signal.txt\")\n",
    "signal_noise = np.loadtxt(\"Data/signal_noise.txt\")\n",
    "\n",
    "filtered = savgol_filter(signal[:, 1], window_length=5, polyorder=3)\n",
    "\n",
    "plt.plot(filtered, label=\"filtered\", lw=3)  # Bigger line_width to show overlap\n",
    "plt.plot(signal[:, 1], label=\"original\")\n",
    "plt.legend();"
   ]
  },
  {
   "cell_type": "code",
   "execution_count": null,
   "metadata": {},
   "outputs": [],
   "source": [
    "filtered = savgol_filter(signal[:, 1], window_length=7, polyorder=3)\n",
    "\n",
    "fig, ax = plt.subplots(1, 1)  # Needed to not replot in the previous figure\n",
    "\n",
    "ax.plot(filtered, label=\"filtered\", lw=3)\n",
    "ax.plot(signal[:, 1], label=\"original\")\n",
    "ax.legend();"
   ]
  },
  {
   "cell_type": "markdown",
   "metadata": {},
   "source": [
    "### Answer to question 12.1(a): Is the signal visibly modified by the filter you are using?\n",
    "They overlap completely."
   ]
  },
  {
   "cell_type": "markdown",
   "metadata": {},
   "source": [
    "### 12.1(b)\n",
    "Create a Savitzky&ndash;Golay filter for first-order differentiation with a\n",
    "window size of $7$ and polynomial order of $3$. Apply this to the signal\n",
    "without noise and compare the differentiated signal with the analytical\n",
    "derivative of Eq. (8). \n",
    "\n",
    "Note: In order to obtain the derivative,\n",
    "you will have to supply the spacing between your points using the\n",
    "`delta` parameter of the `savgol_filter` method.\n",
    "Further, you must tell the method to compute the derivative by\n",
    "setting the parameter `deriv`  to the order of the derivative\n",
    "you want. An example of this can be found below:"
   ]
  },
  {
   "cell_type": "code",
   "execution_count": null,
   "metadata": {},
   "outputs": [],
   "source": [
    "import numpy as np\n",
    "from scipy.signal import savgol_filter\n",
    "from matplotlib import pyplot as plt\n",
    "\n",
    "data = np.loadtxt(\"Data/signal_noise.txt\")  # Load signal.\n",
    "x = data[:, 0]\n",
    "delta_x = x[1] - x[0]  # Spacing between x-points\n",
    "signal = data[:, 1]\n",
    "# Apply a Savitzky-Golay filter, length 51 and polynomial order of 3,\n",
    "# and obtain the first derivative:\n",
    "deriv = savgol_filter(signal, 51, polyorder=3, delta=delta_x, deriv=1)\n",
    "# Plot the original signal and the filtered one.\n",
    "plt.plot(x, signal, label=\"Original signal\")\n",
    "plt.plot(x, deriv, label=\"Derivative of signal\")\n",
    "plt.legend()\n",
    "plt.show()"
   ]
  },
  {
   "cell_type": "code",
   "execution_count": null,
   "metadata": {},
   "outputs": [],
   "source": [
    "signal = np.loadtxt(\"Data/signal.txt\")\n",
    "delta = signal[1, 0] - signal[0, 0]  # Get the t spacing of the signal\n",
    "filtered = savgol_filter(\n",
    "    signal[:, 1], window_length=5, polyorder=3, deriv=1, delta=delta\n",
    ")\n",
    "\n",
    "t = signal[:, 0]\n",
    "analytical = 8 * np.cos(8 * t) - 1.8 * 2 * t + 0.5 * 3 * t**2\n",
    "\n",
    "fig, ax = plt.subplots(1, 1)  # Needed to not replot in the previous figure\n",
    "ax.plot(filtered, label=\"filtered\", lw=3)\n",
    "ax.plot(analytical, label=\"analytical\")\n",
    "ax.legend();"
   ]
  },
  {
   "cell_type": "markdown",
   "metadata": {},
   "source": [
    "### Answer to question 12.1(b):\n",
    "After making sure we give it the spacing between different signals with `delta` the filtered derivative is equal to the analytical."
   ]
  },
  {
   "cell_type": "markdown",
   "metadata": {},
   "source": [
    "### 12.1(c)\n",
    "Create a Savitzky&ndash;Golay filter for smoothing the signal *with* noise.\n",
    "Here, you have to experiment with the window size to use. Use a polynomial\n",
    "order of $3$, and compare your smoothed signal with the original signal and\n",
    "the signal without noise."
   ]
  },
  {
   "cell_type": "code",
   "execution_count": null,
   "metadata": {
    "scrolled": false
   },
   "outputs": [],
   "source": [
    "windows = list(range(5, 22, 2))\n",
    "windows += [31, 41, 51, 71, 101]\n",
    "fig, axs = plt.subplots(len(windows), 1, figsize=(6, 6 * len(windows)))\n",
    "axs = axs.flatten()\n",
    "for window, ax in zip(windows, axs):\n",
    "    filtered = savgol_filter(\n",
    "        signal_noise[:, 1], window_length=window, polyorder=3\n",
    "    )\n",
    "    ax.plot(signal_noise[:, 1], label=\"original+noise\")\n",
    "    ax.plot(filtered, label=\"filtered\")\n",
    "    ax.plot(signal[:, 1], label=\"original\")\n",
    "    ax.set_title(f\"window_length: {window}\")\n",
    "    ax.legend()\n",
    "fig.tight_layout()"
   ]
  },
  {
   "cell_type": "markdown",
   "metadata": {},
   "source": [
    "### Answer to question 12.1(c):\n",
    " A bigger window gives smoother signal after filtering, which becomes closer and closer to the original signal. Until you pass the \"period\" of your signal, where it smoothes out to much."
   ]
  },
  {
   "cell_type": "markdown",
   "metadata": {},
   "source": [
    "### 12.1(d)\n",
    "Create a Savitzky&ndash;Golay filter for first-order differentiation of the signal\n",
    "*with* noise. Here, you have to experiment with the window size to use.\n",
    "Use a polynomial order of $3$ and compare your differentiated signal\n",
    "with the analytical derivative of Eq. (8)."
   ]
  },
  {
   "cell_type": "code",
   "execution_count": null,
   "metadata": {
    "scrolled": false
   },
   "outputs": [],
   "source": [
    "fig, axs = plt.subplots(len(windows), 1, figsize=(6, 6 * len(windows)))\n",
    "axs = axs.flatten()\n",
    "for window, ax in zip(windows, axs):\n",
    "    filtered = savgol_filter(\n",
    "        signal_noise[:, 1],\n",
    "        window_length=window,\n",
    "        polyorder=3,\n",
    "        deriv=1,\n",
    "        delta=delta,\n",
    "    )\n",
    "    ax.plot(filtered, label=\"filtered\")\n",
    "    ax.plot(analytical, label=\"analytical\")\n",
    "    ax.set_title(f\"window_length: {window}\")\n",
    "    ax.legend()\n",
    "fig.tight_layout()"
   ]
  },
  {
   "cell_type": "markdown",
   "metadata": {},
   "source": [
    "### Answer to question 12.1(d):\n",
    "With a too small window, the derivative is very noisy. Here, it seems like av window of length 71 or 101 does the\n",
    "job best."
   ]
  },
  {
   "cell_type": "markdown",
   "metadata": {},
   "source": [
    "## Exercise 12.2\n",
    "\n",
    "In this exercise, we will smooth a signal by performing convolution.\n",
    "We will attempt to smooth the signal given in Eq. (8)\n",
    "with added noise (data file: [`Data/signal_noise.txt`](Data/signal_noise.txt)). A short example\n",
    "of convolution with `scipy/numpy` can be found below:"
   ]
  },
  {
   "cell_type": "code",
   "execution_count": null,
   "metadata": {},
   "outputs": [],
   "source": [
    "import numpy as np\n",
    "from scipy.signal import windows\n",
    "from matplotlib import pyplot as plt\n",
    "\n",
    "signal = np.loadtxt(\"Data/signal_noise.txt\")[:, 1]  # Load signal.\n",
    "window = windows.boxcar(21)  # Create a rectangular window of 21 points\n",
    "window /= window.sum()  # Normalize the window.\n",
    "conv = np.convolve(signal, window, mode=\"same\")  # Calculate convolution.\n",
    "# Plot the original signal and the filtered one.\n",
    "plt.plot(signal, label=\"Original signal\")\n",
    "plt.plot(conv, label=\"Filtered signal (convolution, rectangular)\")\n",
    "plt.legend()\n",
    "plt.show()"
   ]
  },
  {
   "cell_type": "markdown",
   "metadata": {},
   "source": [
    "### 12.2(a)\n",
    "For smoothing the signal, we will use a windowing function for the convolution.\n",
    "In the code above, we use a simple rectangular window for the smoothing,\n",
    "but in `scipy`, there are several windowing functions\n",
    "available.\n",
    "A list of the available windowing\n",
    "functions can be found [here](https://docs.scipy.org/doc/scipy/reference/signal.windows.html) and\n",
    "they behave differently.\n",
    "\n",
    "Are you able to remove most of the noise from\n",
    "the given signal? Experiment with different windowing functions and/or different\n",
    "windowing lengths! "
   ]
  },
  {
   "cell_type": "code",
   "execution_count": null,
   "metadata": {
    "scrolled": false
   },
   "outputs": [],
   "source": [
    "from scipy.signal import get_window\n",
    "\n",
    "names = [\"boxcar\", \"triang\", \"hamming\", \"bartlett\"]\n",
    "for name in names:\n",
    "    window = get_window(name, 21)\n",
    "    window /= window.sum()\n",
    "    conv = np.convolve(signal, window, mode=\"same\")\n",
    "    figi, axi = plt.subplots(constrained_layout=True)\n",
    "    axi.plot(signal, label=\"Original signal\")\n",
    "    axi.plot(conv, label=f\"Filtered signal (window: {name})\")\n",
    "    axi.legend()"
   ]
  },
  {
   "cell_type": "markdown",
   "metadata": {},
   "source": [
    "### Answer to question 12.2(a): Could you remove the noise? What window did you use?\n",
    "Yes, by performing the convolution we can remove most of the noise from the given signal. Here, we tried different windows, but the results are almost the same for all of them."
   ]
  },
  {
   "cell_type": "markdown",
   "metadata": {},
   "source": [
    "## Exercise 12.3\n",
    "\n",
    "You have measured the signal given in the file [`Data/spike.txt`](Data/spike.txt). Unfortunately, \n",
    "the signal contains a prominent spike you want to remove. In the code below,\n",
    "we attempt to remove the spike by doing a convolution with\n",
    "a rectangular window. Run this code and observe the results."
   ]
  },
  {
   "cell_type": "code",
   "execution_count": null,
   "metadata": {},
   "outputs": [],
   "source": [
    "import numpy as np\n",
    "from matplotlib import pyplot as plt\n",
    "from scipy.signal import windows\n",
    "\n",
    "\n",
    "def median_filter(yvalues, width=11):\n",
    "    \"\"\"Apply a median filter to the given y-values.\"\"\"\n",
    "    medians = []\n",
    "    half = width // 2\n",
    "    length = len(yvalues) - 1\n",
    "    for i, _ in enumerate(yvalues):\n",
    "        left = max(0, i - half)\n",
    "        right = min(length, i + half)\n",
    "        med = np.median(yvalues[left : right + 1])\n",
    "        medians.append(med)\n",
    "    return np.array(medians)\n",
    "\n",
    "\n",
    "signal = np.loadtxt(\"Data/spike.txt\")\n",
    "window = window = windows.boxcar(21)\n",
    "window /= window.sum()\n",
    "conv = np.convolve(signal, window, mode=\"same\")  # Do convolution\n",
    "filter_median = median_filter(signal, width=21)  # Apply median filter\n",
    "# Plot the results:\n",
    "fig, axes = plt.subplots(constrained_layout=True, ncols=2)\n",
    "axes[0].plot(signal, label=\"Original signal\")\n",
    "axes[0].legend()\n",
    "axes[1].plot(signal, alpha=0.5, label=\"Original signal\")\n",
    "axes[1].plot(conv, label=\"Signal after convolution\")\n",
    "axes[1].plot(filter_median, label=\"Signal after median filter\")\n",
    "# Zoom in around the spike:\n",
    "axes[1].set_xlim(600, 950)\n",
    "axes[1].set_ylim(0, 2)\n",
    "axes[1].legend()\n",
    "plt.show()"
   ]
  },
  {
   "cell_type": "markdown",
   "metadata": {},
   "source": [
    "### 12.3(a)\n",
    "As you can see from the results of applying the convolution, \n",
    "the spike has not been completely removed. Rather,\n",
    "it has been made broader. Can you explain what seems to be\n",
    "happening around the spike when you apply the convolution?"
   ]
  },
  {
   "cell_type": "markdown",
   "metadata": {},
   "source": [
    "### Answer to question 12.3(a):\n",
    "The convolution is averaging the signal in the given window. Here, the spike will give a large contribution to the average, meaning that it will spread out over windows close to the spike."
   ]
  },
  {
   "cell_type": "markdown",
   "metadata": {},
   "source": [
    "### 12.3(b)\n",
    "The code given above also includes a so-called *median* filter.\n",
    "The median filter\n",
    "returns the median value of the signal in a given window. Applying\n",
    "this filter does better job of removing the spike. Can you explain\n",
    "why this is the case?"
   ]
  },
  {
   "cell_type": "markdown",
   "metadata": {},
   "source": [
    "### Answer to question 12.3(b):\n",
    "The median filter will pick out the median value in each window. The median is less influenced by extreme values (such as the spike) meaning that the median filter can remove the spike."
   ]
  },
  {
   "cell_type": "markdown",
   "metadata": {},
   "source": [
    "## Exercise 12.4\n",
    "\n",
    "Multiplicative Scatter Correction (MSC) is one approach for removing non-linear\n",
    "effects in near-infrared (NIR) spectra. Such effects may arise as a result\n",
    "of scattering effects in a sample.\n",
    "This will generate additional variance which is not related to the\n",
    "chemical interesting information contained in the spectrum, and we would,\n",
    "therefore, like to remove it.\n",
    "\n",
    "The file [`Data/nir_msc.txt`](Data/nir_msc.txt) contains $222$ spectra\n",
    "sampled at $121$ wavelengths. Each row contains a spectrum, and each\n",
    "column represents a single wavelength. You will now apply MSC to\n",
    "correct these spectra."
   ]
  },
  {
   "cell_type": "markdown",
   "metadata": {},
   "source": [
    "### 12.4(a)\n",
    "Find a representative spectrum by taking the mean of the $222$ spectra.\n",
    "We will refer to this representative spectrum as $f(x)$ in the following."
   ]
  },
  {
   "cell_type": "code",
   "execution_count": null,
   "metadata": {},
   "outputs": [],
   "source": [
    "data = np.loadtxt(\"Data/nir_msc.txt\")\n",
    "\n",
    "mean = np.mean(data, axis=0)\n",
    "\n",
    "fig, ax = plt.subplots(1, 1)\n",
    "ax.plot(mean, label=\"mean\")\n",
    "fig.tight_layout()"
   ]
  },
  {
   "cell_type": "markdown",
   "metadata": {},
   "source": [
    "### Answer to question 12.4(a):\n",
    "(See the code and figure above)"
   ]
  },
  {
   "cell_type": "markdown",
   "metadata": {},
   "source": [
    "### 12.4(b)\n",
    "Correct each spectrum, $h_i(x)$, by first fitting it to a linear\n",
    "equation,\n",
    "\n",
    "\\begin{equation}\n",
    "h_i(x) = a_i f(x) + b_i ,\n",
    "\\end{equation}\n",
    "\n",
    "and then remove the scattering effects by taking,\n",
    "\n",
    "\\begin{equation}\n",
    "h_{i, \\text{corrected}}(x) = \\frac{h_i(x) -b_i}{a_i} .\n",
    "\\end{equation}"
   ]
  },
  {
   "cell_type": "code",
   "execution_count": null,
   "metadata": {},
   "outputs": [],
   "source": [
    "corrected = data.copy()\n",
    "for i, row in enumerate(corrected):\n",
    "    fit = np.polyfit(mean, row, deg=1)\n",
    "    row -= fit[1]\n",
    "    row /= fit[0]"
   ]
  },
  {
   "cell_type": "markdown",
   "metadata": {},
   "source": [
    "### Answer to question 12.4(b):\n",
    "(See the code above - here we just use polyfit to do the fitting.)"
   ]
  },
  {
   "cell_type": "markdown",
   "metadata": {},
   "source": [
    "### 12.4(c)\n",
    "Plot the corrected and uncorrected spectra.\n",
    "Does this look like what you would expect?"
   ]
  },
  {
   "cell_type": "code",
   "execution_count": null,
   "metadata": {},
   "outputs": [],
   "source": [
    "fig, axs = plt.subplots(2, 1, figsize=(6, 12))\n",
    "axs = axs.flatten()\n",
    "\n",
    "axs[0].plot(data.T)\n",
    "axs[0].set_title(\"uncorrected\")\n",
    "\n",
    "axs[1].plot(corrected.T)\n",
    "axs[1].set_title(\"corrected\")\n",
    "\n",
    "fig.tight_layout()"
   ]
  },
  {
   "cell_type": "markdown",
   "metadata": {},
   "source": [
    "### Answer to question 12.4(c):\n",
    "It does look like expected, as you can see the measured fluctuations in the range 30-60 completely disappear, which indicates some scattering happens in that range."
   ]
  },
  {
   "cell_type": "markdown",
   "metadata": {},
   "source": [
    "### 12.4(d)\n",
    "As stated above, MSC will remove some of the (presumably) uninteresting\n",
    "variances. We can quantify this by calculating the sum of squares, $SS_0$,\n",
    "\n",
    "\\begin{equation}\n",
    "SS_0 = \\sum_i \\sum_j (x_{ij} - \\overline{x}_j)^2,\n",
    "\\end{equation}\n",
    "\n",
    "where $x_{ij}$ is the absorbance for spectrum $i$ at wavelength $j$, and\n",
    "$\\overline{x}_j$ is the mean of all spectra for wavelength $j$.\n",
    "Calculate $SS_0$ for both the corrected and uncorrected spectra.\n",
    "Does MSC reduce $SS_0$ as we expect?"
   ]
  },
  {
   "cell_type": "code",
   "execution_count": null,
   "metadata": {},
   "outputs": [],
   "source": [
    "SS0_raw = ((data - mean) ** 2).sum()\n",
    "SS0_corrected = ((corrected - corrected.mean(axis=0)) ** 2).sum()\n",
    "print(\"SS0 raw: {}\".format(SS0_raw))\n",
    "print(\"SS0 corrected: {}\".format(SS0_corrected))"
   ]
  },
  {
   "cell_type": "markdown",
   "metadata": {},
   "source": [
    "### Answer to question 12.4(d):\n",
    "This is what you would expect, as the correction reduces variance coming from scattering effects. "
   ]
  }
 ],
 "metadata": {
  "kernelspec": {
   "display_name": "Python 3 (ipykernel)",
   "language": "python",
   "name": "python3"
  },
  "language_info": {
   "codemirror_mode": {
    "name": "ipython",
    "version": 3
   },
   "file_extension": ".py",
   "mimetype": "text/x-python",
   "name": "python",
   "nbconvert_exporter": "python",
   "pygments_lexer": "ipython3",
   "version": "3.11.8"
  }
 },
 "nbformat": 4,
 "nbformat_minor": 2
}
