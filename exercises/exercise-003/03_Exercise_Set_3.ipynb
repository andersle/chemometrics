{
 "cells": [
  {
   "cell_type": "markdown",
   "id": "6e8aaf14",
   "metadata": {},
   "source": [
    "# Exercise set 3: \n",
    "\n",
    "\n",
    "**Learning Objectives:**\n",
    "\n",
    "After completing this exercise set, you will be able to:\n",
    "\n",
    "- Calculate effects from full and fractional factorial experimental designs.\n",
    "- Create and interpret normal probability plots to assess the importance of effects.\n",
    "- Create least squares models from experimental design results and use them to estimate effects.\n",
    "\n",
    "\n",
    "**To get the exercise approved, complete the following problems:**\n",
    "\n",
    "- [3.2(a)](#3.2(a)), [3.2(b)](#3.2(b)), and [3.2(c)](#3.2(c)): To show that you can analyse a full factorial design, including creating the normal probability plot.\n",
    "\n",
    "- [3.3(b)](#3.3(b)) and [3.3(c)](#3.3(c)): To show that you can calculate effects from a fractional factorial design and create a least squares model."
   ]
  },
  {
   "cell_type": "markdown",
   "id": "cb1aea00",
   "metadata": {},
   "source": [
    "## Exercise 3.1\n",
    "\n",
    "> **Note:** This problem is more of an example. The code given here will show you how to create a normal probability plot. Run the code, create the plot and interpret it.\n",
    "\n",
    "\n",
    "After running a set of experiments, you determine the effects\n",
    "given in the table below for 4 factors: A, B, C, and D:\n",
    "\n",
    "\n",
    "\n",
    "| A    | B    | C     | D     | AB  | AC   | AD   | BC    | BD   | CD    | ABC   | ACD   | BCD   | ABCD  | ABD   |\n",
    "|:-----|:-----|:------|:------|:----|:-----|:-----|:------|:-----|:------|:------|:------|:------|:------|:------|\n",
    "| -8.0 | 24.0 | -2.25 | -5.50 | 1.0 | 0.75 | 0.00 | -1.25 | 4.50 | -0.25 | -0.75 | -0.25 | -0.75 | -0.25 | 0.50  |\n",
    "\n",
    "\n",
    "\n",
    "**Task:** Use the example code below to create a normal probability plot. Interpret this plot and decide what the important effects are in this case."
   ]
  },
  {
   "cell_type": "code",
   "execution_count": null,
   "id": "e53d6598",
   "metadata": {},
   "outputs": [],
   "source": [
    "# Example code to create a probability plot.\n",
    "\n",
    "# We collect the effects from the table above:\n",
    "import pandas as pd\n",
    "\n",
    "effects = [\n",
    "    (\"A\", -8.00),\n",
    "    (\"B\", 24.00),\n",
    "    (\"C\", -2.25),\n",
    "    (\"D\", -5.50),\n",
    "    (\"AB\", 1.00),\n",
    "    (\"AC\", 0.75),\n",
    "    (\"AD\", 0.00),\n",
    "    (\"BC\", -1.25),\n",
    "    (\"BD\", 4.50),\n",
    "    (\"CD\", -0.25),\n",
    "    (\"ABC\", -0.75),\n",
    "    (\"ACD\", -0.25),\n",
    "    (\"BCD\", -0.75),\n",
    "    (\"ABCD\", -0.25),\n",
    "    (\"ABD\", 0.50),\n",
    "]\n",
    "table1 = pd.DataFrame(effects, columns=[\"factor\", \"effect\"])"
   ]
  },
  {
   "cell_type": "code",
   "execution_count": null,
   "id": "77584876",
   "metadata": {},
   "outputs": [],
   "source": [
    "# We create the probability plot using statsmodels:\n",
    "from matplotlib import pyplot as plt  # Needed for plotting\n",
    "import seaborn as sns  # Used to style plots for a Jupyter Notebook\n",
    "import statsmodels.api as sm  # Needed to create the probability plot\n",
    "\n",
    "sns.set_context(\"notebook\")\n",
    "\n",
    "# Create the probability plot object using the \"effect\" column from table1.\n",
    "# By default, ProbPlot compares the data to a standard normal distribution.\n",
    "# This can also be selected by setting fit=False.\n",
    "plot = sm.ProbPlot(table1[\"effect\"], fit=False)\n",
    "\n",
    "# Create a figure and an axes object. This allows for more control over the plot,\n",
    "# such as setting axis labels, titles, and so on. fig represents the entire figure,\n",
    "# while ax represents the specific axes where the plot will be drawn.\n",
    "fig, ax = plt.subplots()\n",
    "\n",
    "# Generate the plot and draw it on the specified axes (ax).\n",
    "_ = plot.qqplot(ax=ax)"
   ]
  },
  {
   "cell_type": "markdown",
   "id": "1244ff4b",
   "metadata": {},
   "source": [
    "The plot above is somewhat hard to read since we do not see the names of the effects.\n",
    "Let us try to make it easier to read by adding text showing the factor names:"
   ]
  },
  {
   "cell_type": "code",
   "execution_count": null,
   "id": "7a057f32",
   "metadata": {},
   "outputs": [],
   "source": [
    "# Create a new figure:\n",
    "fig, ax = plt.subplots()\n",
    "plot = sm.ProbPlot(table1[\"effect\"], fit=False)\n",
    "plot.qqplot(ax=ax)  # , line=\"q\")\n",
    "# Extract the theoretical and sample quantiles from the ProbPlot object.\n",
    "# These will be used as the x and y coordinates for our scatter plot.\n",
    "x = (\n",
    "    plot.theoretical_quantiles\n",
    ")  # Quantiles of the standard normal distribution.\n",
    "y = plot.sample_quantiles  # Ordered (sorted) values of the 'effect' column.\n",
    "\n",
    "# Get the factor names, sorted according to the 'effect' values.  This ensures\n",
    "# the labels are placed correctly corresponding to the sorted effects on the plot.\n",
    "sorted_factors = table1.sort_values(\"effect\")\n",
    "\n",
    "# Add text labels to the plot, one for each data point.\n",
    "# We iterate through the x (theoretical quantiles), y (sample quantiles), and\n",
    "# factor names simultaneously using zip().\n",
    "for i, (xi, yi, factor) in enumerate(zip(x, y, sorted_factors[\"factor\"])):\n",
    "    # Put the text slightly away from the points. Offset determines\n",
    "    # how far away the points will be. You can experiment with values\n",
    "    # different from 3.\n",
    "    offset = 3 if i % 2 == 0 else -3\n",
    "    # Use annotate to show the text with a line connecting to the effect:\n",
    "    ax.annotate(\n",
    "        factor,  # Use the factor text\n",
    "        (xi, yi),  # Point we are adding text to\n",
    "        xytext=(\n",
    "            xi,\n",
    "            yi + offset,\n",
    "        ),  # Shift the text along the y-axis to make it more visible\n",
    "        ha=\"center\",  # Center the text horizontally on the point\n",
    "        va=\"center\",  # Center the text vertically on the point\n",
    "        arrowprops={\n",
    "            \"arrowstyle\": \"-\"\n",
    "        },  # Add a line connecting the text to the point\n",
    "        fontsize=\"small\",  # Make the font slightly smaller\n",
    "    )\n",
    "sns.despine(fig=fig)"
   ]
  },
  {
   "cell_type": "markdown",
   "id": "db6fb54e",
   "metadata": {},
   "source": [
    "In plots like the one above, data from a normal distribution with a mean of zero and a variance $\\sigma^2$ will tend to fall along a straight line passing through the origin, with a slope equal to $\\sigma$. It is therefore helpful to add a reference line to the plot to aid in visual assessment.\n",
    "\n",
    "When checking if numbers are from a standard normal distribution (with $\\sigma = 1$), adding the line $x=y$ to the plot is common. This line represents the expected location of points from a standard normal distribution. In the code above this can be achieved by using the `line=\"45\"` option:\n",
    "\n",
    "```python\n",
    "plot.qqplot(ax=ax, line=\"45\")\n",
    "```\n",
    "In this case, fitting a line through the observed data points can be helpful. A challenge is that potential outliers (which might represent important effects) can influence the fitted line. `statsmodels` offers a robust option based on fitting through quartiles. This can be achieved using the `line=\"q\"` option\n",
    "\n",
    "```python\n",
    "plot.qqplot(ax=ax, line=\"q\")\n",
    "```\n",
    "\n",
    "In some cases, even `line=\"q\"` might be affected by outliers. A second option is to **use your own judgment to identify the linear region** and potentially fit a line manually, excluding any obvious outliers. This visual inspection might be easier to perform on a plot without added annotations (effect names), as those can sometimes distract from the overall pattern."
   ]
  },
  {
   "cell_type": "markdown",
   "id": "c219cbb3",
   "metadata": {},
   "source": [
    "#### Your answer to question 3.1: What are the important effects?\n",
    "\n",
    "*Double click here*"
   ]
  },
  {
   "cell_type": "markdown",
   "id": "cbc6d39d",
   "metadata": {},
   "source": [
    "## Exercise 3.2\n",
    "\n",
    "To optimize the filtration rate of a chemical product manufactured in a pressure\n",
    "vessel, a 2⁴ factorial experiment was conducted in a pilot plant.\n",
    "The experiment investigated the effects of temperature (A), pressure (B),\n",
    "formaldehyde concentration (C), and stirring rate (D), each at two levels.\n",
    "\n",
    "The goal was to determine how these factors influence filtration rate (volume filtered per unit time), aiming to maximize it for increased throughput and potentially lower costs.\n",
    "\n",
    "Results from this experimental design can be found below:"
   ]
  },
  {
   "cell_type": "code",
   "execution_count": null,
   "id": "2e8e6e29",
   "metadata": {},
   "outputs": [],
   "source": [
    "import pandas as pd\n",
    "\n",
    "data32 = {\n",
    "    \"A\": [-1, 1, -1, 1, -1, 1, -1, 1, -1, 1, -1, 1, -1, 1, -1, 1],\n",
    "    \"B\": [-1, -1, 1, 1, -1, -1, 1, 1, -1, -1, 1, 1, -1, -1, 1, 1],\n",
    "    \"C\": [-1, -1, -1, -1, 1, 1, 1, 1, -1, -1, -1, -1, 1, 1, 1, 1],\n",
    "    \"D\": [-1, -1, -1, -1, -1, -1, -1, -1, 1, 1, 1, 1, 1, 1, 1, 1],\n",
    "    \"Filtration Rate (L/hour)\": [\n",
    "        45,\n",
    "        71,\n",
    "        48,\n",
    "        65,\n",
    "        68,\n",
    "        60,\n",
    "        80,\n",
    "        65,\n",
    "        43,\n",
    "        100,\n",
    "        45,\n",
    "        104,\n",
    "        75,\n",
    "        86,\n",
    "        70,\n",
    "        96,\n",
    "    ],\n",
    "}\n",
    "table32 = pd.DataFrame(data32)\n",
    "table32"
   ]
  },
  {
   "cell_type": "markdown",
   "id": "cd6b75ae",
   "metadata": {},
   "source": [
    "### 3.2(a)\n",
    "\n",
    "Calculate all main effects and interaction effects (second-, third-, and fourth-order). "
   ]
  },
  {
   "cell_type": "code",
   "execution_count": null,
   "id": "b085f369",
   "metadata": {},
   "outputs": [],
   "source": [
    "# Your code here"
   ]
  },
  {
   "cell_type": "markdown",
   "id": "a38be80a",
   "metadata": {},
   "source": [
    "#### Your answer to question 3.2(a): What are the calculated effects?\n",
    "\n",
    "*Double click here*"
   ]
  },
  {
   "cell_type": "markdown",
   "id": "a3e59006",
   "metadata": {},
   "source": [
    "### 3.2(b)\n",
    "Construct a normal probability plot and use it to identify the important effects."
   ]
  },
  {
   "cell_type": "code",
   "execution_count": null,
   "id": "0cf87ed8",
   "metadata": {},
   "outputs": [],
   "source": [
    "# Your code here"
   ]
  },
  {
   "cell_type": "markdown",
   "id": "7e70e417",
   "metadata": {},
   "source": [
    "#### Your answer to question 3.2(b): What are important effects?\n",
    "*Double click here*"
   ]
  },
  {
   "cell_type": "markdown",
   "id": "9e1b394d",
   "metadata": {},
   "source": [
    "### 3.2(c)\n",
    "Based on your results, at what level (high or low) should you put each of three factors A, C, and D to maximize the filtration rate?"
   ]
  },
  {
   "cell_type": "markdown",
   "id": "adc5b0eb",
   "metadata": {},
   "source": [
    "#### Your answer to question 3.2(c): How should you set the factors A, C, and D?\n",
    "\n",
    "*Double click here*"
   ]
  },
  {
   "cell_type": "markdown",
   "id": "90bc42d9",
   "metadata": {},
   "source": [
    "## Exercise 3.3\n",
    "\n",
    "Reconsider the experiment described in [Exercise 3.2](#Exercise-3.2). Due to limited resources, we can only do 8 runs. We will therefore use a $2^{4-1}$ fractional factorial design. We select the following generator: $D=ABC$."
   ]
  },
  {
   "cell_type": "markdown",
   "id": "93f13d2e",
   "metadata": {},
   "source": [
    "### 3.3(a)\n",
    "\n",
    "Find the defining contrast and resolution of this design.  Are any main effects aliased with two-factor interactions?"
   ]
  },
  {
   "cell_type": "markdown",
   "id": "302ea3cf",
   "metadata": {},
   "source": [
    "#### Your answer to question 3.3(a): What is the resolution and are any main effects aliased with two-factor interactions?\n",
    "\n",
    "*Double click here*"
   ]
  },
  {
   "cell_type": "markdown",
   "id": "084493df",
   "metadata": {},
   "source": [
    "### 3.3(b)\n",
    "The results of a fractional factorial experiment are shown below.\n",
    "Verify that $D = ABC$ and add columns for the interaction effects $AB$, $AC$, and $BC$ to the table."
   ]
  },
  {
   "cell_type": "code",
   "execution_count": null,
   "id": "20b9eac0",
   "metadata": {},
   "outputs": [],
   "source": [
    "# Your code here"
   ]
  },
  {
   "cell_type": "markdown",
   "id": "723544c4",
   "metadata": {},
   "source": [
    "#### Your answer to question 3.3(b): Is $D=ABC$?\n",
    "\n",
    "*Double click here*"
   ]
  },
  {
   "cell_type": "markdown",
   "id": "c4941a3d",
   "metadata": {},
   "source": [
    "### 3.3(c)\n",
    "Calculate all effects ($A$, $B$, $C$, $AB$, $AC$, $BC$, and $D=ABC$). Do this by creating a least squares model, for instance, using [statsmodels](https://www.statsmodels.org/stable/examples/notebooks/generated/ols.html) or [scikit-learn](https://scikit-learn.org/stable/auto_examples/linear_model/plot_ols.html#sphx-glr-auto-examples-linear-model-plot-ols-py)."
   ]
  },
  {
   "cell_type": "code",
   "execution_count": null,
   "id": "3e15e423",
   "metadata": {},
   "outputs": [],
   "source": [
    "# Your code here"
   ]
  },
  {
   "cell_type": "markdown",
   "id": "f7c01fa5",
   "metadata": {},
   "source": [
    "#### Your answer to question 3.3(c): What are the effects you calculated?\n",
    "\n",
    "*Double click here*"
   ]
  },
  {
   "cell_type": "markdown",
   "id": "f747ee91",
   "metadata": {},
   "source": [
    "### 3.3(d)\n",
    "\n",
    "Identify the unimportant effect(s) based on their calculated values.  Confirm their insignificance by fitting a new least squares model without the unimportant effects. (Removing the unimportant effects should not change $R^2$  significantly.)"
   ]
  },
  {
   "cell_type": "code",
   "execution_count": null,
   "id": "0984e9f8",
   "metadata": {},
   "outputs": [],
   "source": [
    "# Your code here"
   ]
  },
  {
   "cell_type": "markdown",
   "id": "38e681f7",
   "metadata": {},
   "source": [
    "#### Your answer to question 3.3(d): What are the unimportant effects?\n",
    "\n",
    "*Double click here*"
   ]
  },
  {
   "cell_type": "markdown",
   "id": "70e9aaa9",
   "metadata": {},
   "source": [
    "## Exercise 3.4\n",
    "\n",
    "[Teixeira et al. (2018)](https://doi.org/10.1016/j.scitotenv.2018.07.204) investigated the removal of two antibiotics from water using walnut shell-based activated carbon and a Box-Behnken experimental design. Their study examined the effects of pH, temperature (T), and initial antibiotic concentration (C) on antibiotic removal (measured as mg of antibiotic adsorbed per gram of activated carbon).\n",
    "\n",
    "We will investigate if we can reproduce their results for one of the antibiotics, [Sulfamethoxazole](https://en.wikipedia.org/wiki/Sulfamethoxazole), namely that the optimal conditions for removal of Sulfamethoxazole are obtained at a temperature of 30 °C, initial concentration of 40 mg/L and a pH value of 5.5."
   ]
  },
  {
   "cell_type": "markdown",
   "id": "5ac2d9b9",
   "metadata": {},
   "source": [
    "**Task:** Create a linear regression model using the provided experimental data (see [antibiotic.csv](./antibiotic.csv)) to predict the conditions (pH, T, and C) that maximize the removal of Sulfamethoxazole from water. The data includes measurements of Sulfamethoxazole adsorption (mg/g) at various pH (ranging from 2 to 8), temperature (ranging from 10 to 30 °C), and initial concentration (ranging from 20 to 40 mg/L) levels.\n",
    "\n",
    "The linear model should include all main effects, all second-order main effects, and all interaction effects. That is, your model for the adsorption of the antibiotic ($y$) should be of the form: \n",
    "\n",
    "$y = b_0 + \\sum_i b_i x_i + \\sum_i b_{ii} x_i^2 + \\sum_{i <j} b_{ij} x_i x_j$\n",
    "\n",
    "where $x_i$ represents one of the factors (pH, T, or C).\n",
    "\n",
    "\n",
    "**Suggested steps:**\n",
    "1. Load the data using [pandas](https://pandas.pydata.org/pandas-docs/stable/reference/api/pandas.read_csv.html).\n",
    "2. Generate terms needed for the linear model using scikit-learn's [PolynomialFeatures](https://scikit-learn.org/stable/modules/generated/sklearn.preprocessing.PolynomialFeatures.html).\n",
    "3. Fit the linear regression model using [statsmodels](https://www.statsmodels.org/dev/examples/notebooks/generated/ols.html) or [scikit-learn](https://scikit-learn.org/stable/modules/generated/sklearn.linear_model.LinearRegression.html). Evaluate the model's performance by calculating $R²$.\n",
    "4. Identify the conditions (pH, T, and C) that maximize Sulfamethoxazole removal within the experimental region.  This can be done by using methods from [scipy.optimize](https://docs.scipy.org/doc/scipy/tutorial/optimize.html), for instance [minimize](https://docs.scipy.org/doc/scipy/reference/generated/scipy.optimize.minimize.html) (you can maximize $y$ by minimizing $-y$)."
   ]
  },
  {
   "cell_type": "code",
   "execution_count": 2,
   "id": "239385cf",
   "metadata": {},
   "outputs": [],
   "source": [
    "# To load the raw data:\n",
    "import pandas as pd\n",
    "\n",
    "data = pd.read_csv(\"antibiotic.csv\")"
   ]
  },
  {
   "cell_type": "markdown",
   "id": "f9674352",
   "metadata": {},
   "source": [
    "The raw data is provided in the following format:\n",
    "\n",
    "|    |   pH |   T (°C) |   C (mg/L) |   x1 |   x2 |   x3 |   Sulfamethoxazole (mg/g) |\n",
    "|---:|-----:|---------:|-----------:|-----:|-----:|-----:|--------------------------:|\n",
    "|  0 |    2 |       10 |         30 |   -1 |   -1 |    0 |                      57.2 |\n",
    "|  1 |    2 |       10 |         30 |   -1 |   -1 |    0 |                      54.9 |\n",
    "|  2 |    2 |       10 |         30 |   -1 |   -1 |    0 |                      54.3 |\n",
    "\n",
    "Where the columns are:\n",
    "\n",
    "*   **pH:**  The pH of the solution.\n",
    "*   **T (°C):** The temperature of the solution in degrees Celsius.\n",
    "*   **C (mg/L):** The initial concentration of Sulfamethoxazole in mg/L.\n",
    "*   **x1:** The pH value scaled to the range [-1, 1] using the formula:  `x1 = (pH - 5) / 3`\n",
    "*   **x2:** The temperature scaled to the range [-1, 1] using the formula: `x2 = (T - 20) / 10`\n",
    "*   **x3:** The initial concentration scaled to the range [-1, 1] using the formula: `x3 = (C - 30) / 10`\n",
    "*   **Sulfamethoxazole (mg/g):** The amount of Sulfamethoxazole adsorbed per gram of activated carbon, measured in mg/g.\n"
   ]
  },
  {
   "cell_type": "code",
   "execution_count": null,
   "id": "85c1ba64",
   "metadata": {},
   "outputs": [],
   "source": [
    "# Your code here"
   ]
  },
  {
   "cell_type": "markdown",
   "id": "7fead688",
   "metadata": {},
   "source": [
    "#### Your answer to question 3.4: What settings gives you optimum absorbance?\n",
    "\n",
    "*Double click here*"
   ]
  }
 ],
 "metadata": {
  "kernelspec": {
   "display_name": "Python 3 (ipykernel)",
   "language": "python",
   "name": "python3"
  },
  "language_info": {
   "codemirror_mode": {
    "name": "ipython",
    "version": 3
   },
   "file_extension": ".py",
   "mimetype": "text/x-python",
   "name": "python",
   "nbconvert_exporter": "python",
   "pygments_lexer": "ipython3",
   "version": "3.12.9"
  }
 },
 "nbformat": 4,
 "nbformat_minor": 5
}
