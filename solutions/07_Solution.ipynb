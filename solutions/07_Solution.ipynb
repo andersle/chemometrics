{
 "cells": [
  {
   "cell_type": "markdown",
   "metadata": {},
   "source": [
    "# Exercise set 7\n",
    "\n",
    ">The goal of this exercise is to learn how to perform a\n",
    ">**principal component analysis (PCA)**. We will here focus\n",
    ">on how we can plot and inspect the scores and loadings,\n",
    ">and the variance explained by different principal components (PCs)."
   ]
  },
  {
   "cell_type": "markdown",
   "metadata": {},
   "source": [
    "## Exercise 7.1\n",
    "\n",
    "In the exercise, we will investigate if we can\n",
    "\"discover\" the periodic table from a data set that\n",
    "contains information on the first 86 elements (period 1&ndash;6).\n",
    "The variables present in this data set are described\n",
    "in Table 1.\n",
    "\n",
    "|**Column**        | **Description**                                         | **Unit** |\n",
    "|------------------|---------------------------------------------------------|----------|\n",
    "|element           | The symbol for the element (e.g. H, He, etc.)           | —        |\n",
    "|metal             | Classification of the element as a metal (1) or not (0) | —        |\n",
    "|mass              | Atomic weight                                           | u        |\n",
    "|density           | Density of the element                                  | g/cm³    |\n",
    "|atomic_radius     | Radius of the element                                   | Å        |\n",
    "|electronegativity | The electronegativity of the element                    | —        |\n",
    "|first_ionization  | The first ionization energy of the element              |          |\n",
    "|neutrons          | The number of neutrons in the element                   | —        |\n",
    "|protons           | The number of protons in the element                    | —        |\n",
    "|electrons         | The number of electrons in the element                  | —        |\n",
    "|1s, 2s, 2p, etc.  | The number of electrons in different orbitals           | —        |\n",
    "|**Table 1:** *Data columns present in the file [Data/periodic_table.csv](./Data/periodic_table.csv)*        |   |\n",
    "\n",
    "We will use principal component analysis to investigate the data set,\n",
    "and in this exercise, we will focus on creating plots for\n",
    "the scores, loadings, and explained variance."
   ]
  },
  {
   "cell_type": "markdown",
   "metadata": {},
   "source": [
    "### 7.1(a)\n",
    "Begin by loading the data, this can be done with:"
   ]
  },
  {
   "cell_type": "code",
   "execution_count": null,
   "metadata": {},
   "outputs": [],
   "source": [
    "from itertools import cycle\n",
    "import pandas as pd\n",
    "import numpy as np\n",
    "from matplotlib import pyplot as plt\n",
    "from matplotlib.cm import get_cmap\n",
    "from sklearn.preprocessing import scale\n",
    "from sklearn.decomposition import PCA\n",
    "import seaborn as sns\n",
    "%matplotlib notebook\n",
    "\n",
    "sns.set_theme(style=\"ticks\", context=\"notebook\", palette=\"muted\")\n",
    "\n",
    "data = pd.read_csv(\"Data/periodic_table.csv\")\n",
    "data.head()"
   ]
  },
  {
   "cell_type": "markdown",
   "metadata": {},
   "source": [
    "Investigate the correlations between the variables `mass`, `atomic_radius`,\n",
    "`electronegativity`, `first_ionization`, `neutrons`, `protons`, and `electrons`. Are these variables\n",
    "correlated as you expect?"
   ]
  },
  {
   "cell_type": "code",
   "execution_count": null,
   "metadata": {},
   "outputs": [],
   "source": [
    "# Select the variables to use for correlations\n",
    "select = [\n",
    "    \"mass\",\n",
    "    \"atomic_radius\",\n",
    "    \"electronegativity\",\n",
    "    \"first_ionization\",\n",
    "    \"neutrons\",\n",
    "    \"protons\",\n",
    "    \"electrons\"\n",
    "]"
   ]
  },
  {
   "cell_type": "code",
   "execution_count": null,
   "metadata": {},
   "outputs": [],
   "source": [
    "# Your code here. Hint: Use the .corr() method of a pandas.\n",
    "corr = data[select].corr()\n",
    "corr.style.background_gradient(cmap='vlag')"
   ]
  },
  {
   "cell_type": "markdown",
   "metadata": {},
   "source": [
    "#### Your answer to question 7.1(a):\n",
    "\n",
    "Here are some interesting correlations:\n",
    "\n",
    "- We have a correlation of 1 between protons and electrons,\n",
    "  as expected (atoms have the same number of protons and electrons).\n",
    "\n",
    "- The correlation between the number of protons (or neutrons) and neutrons is almost 1:\n",
    "  Atoms with more protons will generally have more neutrons, but the numbers are not necessarily the same\n",
    "  (as in isotopes). But if you plot the number of neutrons as a function of the\n",
    "  number of protons, you will get a nice straight line (as suggested by the high\n",
    "  correlation coefficient).\n",
    "\n",
    "- Further, we have that the mass is also highly positively correlated with the number of\n",
    "  protons (or electrons or neutrons), as expected since the number of particles determines the mass.\n",
    "  \n",
    "- The number of particles (protons, electrons, or neutrons) is not strongly correlated with\n",
    "  radius, electronegativity, or the first ionization energy. There is some correlation here\n",
    "  , but the number of protons does not solely determine properties like the radius. We know\n",
    "  that the radius mainly increases with the number of protons (when we go down the rows in the\n",
    "  periodic table), but it decreases with the number of protons when we move across one row\n",
    "  (e.g., compare F and B).\n",
    "  \n",
    "- The electronegativity and the first ionization energy are positively correlated.\n",
    "  The ionization energy is the energy needed to remove an electron from a neutral\n",
    "  atom. Electronegativity quantifies how \"well\" an atom attract shared electrons in a\n",
    "  chemical bond. These two quantities reflect the same underlying properties (the electron\n",
    "  configuration and the forces between the nucleus and the electrons), so we expect\n",
    "  them to be positively correlated.\n",
    "  \n",
    "- The atomic radius is negatively correlated with both the electronegativity and the first ionization\n",
    "  energy. If we simplify things, the ionization energy is determined by the coulomb force between the\n",
    "  nucleus and the outermost electron. Since this drops with increasing radius, we expect a\n",
    "  negative correlation with the atomic radius. We can use the same reasoning for the\n",
    "  electronegativity; the \"pulling\" force on extra electrons will increase with a smaller\n",
    "  radius (distance), so we also expect a negative correlation here."
   ]
  },
  {
   "cell_type": "markdown",
   "metadata": {},
   "source": [
    "### 7.1(b)\n",
    "Next, run a principal component analysis on the data you just\n",
    "loaded. This can be done with:"
   ]
  },
  {
   "cell_type": "code",
   "execution_count": null,
   "metadata": {},
   "outputs": [],
   "source": [
    "variables = [i for i in data.columns if i not in (\"element\", \"metal\")]\n",
    "elements = data[\"element\"].values\n",
    "X = data[variables]\n",
    "\n",
    "X = scale(X)\n",
    "\n",
    "# Run PCA and obtain the scores:\n",
    "pca = PCA()\n",
    "scores = pca.fit_transform(X)"
   ]
  },
  {
   "cell_type": "markdown",
   "metadata": {},
   "source": [
    "Notice here that we do not include the metal classification in the\n",
    "data we analyze. This is\n",
    "because we will use this information\n",
    "later and want to check if this classification is\n",
    "something the PCA analysis can discover from the other variables.\n",
    "\n",
    "The last line in the code above\n",
    "performs the principal component analysis and returns the *scores*.\n",
    "In your own words, how would you describe scores? Check the\n",
    "dimensionality of the scores matrix &ndash; is this as expected?"
   ]
  },
  {
   "cell_type": "code",
   "execution_count": null,
   "metadata": {},
   "outputs": [],
   "source": [
    "print(\"Dimensions for scores:\", scores.shape)\n",
    "print(\"Dimensions for original data\", X.shape)"
   ]
  },
  {
   "cell_type": "markdown",
   "metadata": {},
   "source": [
    "#### Your answer to question 7.1(b):\n",
    "\n",
    "The scores are the coordinates in the new coordinate system found by the PCA. The directions in the new coordinate system point toward the directions of the largest variance in the original data.\n",
    "\n",
    "There are 86 rows and 23 columns in the scores matrix. 86 is the number of observations (number of elements) in the data set, and 23 is the number of principal components found in the PCA.\n",
    "The maximum number of principal components we can obtain equals the original number of variables (23). We see here that the PCA we just did defaults to finding\n",
    "the maximum number of principal components. If you rerun the analysis by setting the number of components, say ``pca = PCA(n_components=5)`` you should see a change in the dimensionality of the scores:"
   ]
  },
  {
   "cell_type": "code",
   "execution_count": null,
   "metadata": {},
   "outputs": [],
   "source": [
    "scores2 = PCA(n_components=5).fit_transform(X)\n",
    "print(\"Dimensions for scores with 5 principal components:\", scores2.shape)"
   ]
  },
  {
   "cell_type": "markdown",
   "metadata": {},
   "source": [
    "### 7.1(c)\n",
    "Plot the scores for principal component number 1 against the scores\n",
    "of principal component number 2. This can be done with:"
   ]
  },
  {
   "cell_type": "code",
   "execution_count": null,
   "metadata": {},
   "outputs": [],
   "source": [
    "# Plot scores for the two first principal components:\n",
    "fig, ax = plt.subplots(constrained_layout=True)\n",
    "ax.scatter(scores[:, 0], scores[:, 1])\n",
    "ax.set(xlabel=\"Scores for PC1\", ylabel=\"Scores for PC2\");"
   ]
  },
  {
   "cell_type": "markdown",
   "metadata": {},
   "source": [
    "Here, you can also\n",
    "show labels for the elements with the following modification to the code above:"
   ]
  },
  {
   "cell_type": "code",
   "execution_count": null,
   "metadata": {},
   "outputs": [],
   "source": [
    "# Plot scores for the two first principal components\n",
    "# + add element symbols\n",
    "fig, ax = plt.subplots(constrained_layout=True)\n",
    "ax.scatter(scores[:, 0], scores[:, 1])\n",
    "ax.set(xlabel=\"Scores for PC1\", ylabel=\"Scores for PC2\")\n",
    "\n",
    "# Add labels for the elements:\n",
    "for i, symbol in enumerate(elements):\n",
    "    ax.text(scores[i, 0], scores[i, 1], symbol, fontsize=\"medium\")\n",
    "sns.despine(fig=fig)"
   ]
  },
  {
   "cell_type": "markdown",
   "metadata": {},
   "source": [
    "Do you observe any groupings or trends in the data? How does this compare with the periodic system?"
   ]
  },
  {
   "cell_type": "markdown",
   "metadata": {},
   "source": [
    "#### Your answer to question 7.1(c):\n",
    "\n",
    "Along PC1, we have six groups in our data. By closer inspection, we see that each group contains elements from one row in the periodic table. So the PCA analysis has found the rows in the periodic table! Further, the elements within one such group seem to be \"sorted\" (more or less!) along PC2 according to the number of protons (or electrons) so that the elements with more protons are higher up on the y-axis. "
   ]
  },
  {
   "cell_type": "markdown",
   "metadata": {},
   "source": [
    "### 7.1(d)\n",
    "Add some color to your scores plot by coloring the elements according to their\n",
    "classification as metals or not. This can be done by using the `c` argument\n",
    "of the `ax.scatter` method:"
   ]
  },
  {
   "cell_type": "code",
   "execution_count": null,
   "metadata": {},
   "outputs": [],
   "source": [
    "# Plot scores for the two first principal components + add element symbols\n",
    "fig, ax = plt.subplots(constrained_layout=True)\n",
    "ax.scatter(scores[:, 0], scores[:, 1], c=data[\"metal\"].values, cmap=\"vlag\")\n",
    "ax.set(xlabel=\"Scores for PC1\", ylabel=\"Scores for PC2\")\n",
    "# Add labels for the elements:\n",
    "for i, symbol in enumerate(elements):\n",
    "    ax.text(scores[i, 0], scores[i, 1], symbol, fontsize=\"medium\")\n",
    "sns.despine(fig=fig)"
   ]
  },
  {
   "cell_type": "markdown",
   "metadata": {},
   "source": [
    "Do you observe any new groupings/trends in the data after\n",
    "adding this extra color? Here, you can also experiment with using different\n",
    "columns for coloring the data, for instance, the number of electrons."
   ]
  },
  {
   "cell_type": "code",
   "execution_count": null,
   "metadata": {},
   "outputs": [],
   "source": [
    "# Let us pick out two colors that are easy to distinguish:\n",
    "sns.color_palette(\"colorblind\")"
   ]
  },
  {
   "cell_type": "code",
   "execution_count": null,
   "metadata": {},
   "outputs": [],
   "source": [
    "import matplotlib as mpl\n",
    "color_map = mpl.colors.ListedColormap(sns.color_palette(\"colorblind\")[:2])"
   ]
  },
  {
   "cell_type": "code",
   "execution_count": null,
   "metadata": {},
   "outputs": [],
   "source": [
    "# Plot scores for the two first principal components + add element symbols\n",
    "fig, ax = plt.subplots(constrained_layout=True)\n",
    "ax.set(xlabel=\"Scores for PC1\", ylabel=\"Scores for PC2\")\n",
    "scat = ax.scatter(\n",
    "    scores[:, 0], scores[:, 1],\n",
    "    c=data[\"metal\"].values, cmap=color_map\n",
    ")\n",
    "# Add colorbar:\n",
    "cbar = fig.colorbar(scat, ax=ax, ticks=[0.25, 0.75], shrink=0.6)\n",
    "cbar.ax.set_yticklabels([\"Not metal\", \"Metal\"])\n",
    "# Add labels for the elements:\n",
    "for i, symbol in enumerate(elements):\n",
    "    ax.text(scores[i, 0], scores[i, 1], symbol, fontsize=\"small\")\n",
    "sns.despine(fig=fig)"
   ]
  },
  {
   "cell_type": "markdown",
   "metadata": {},
   "source": [
    "#### Your answer to question 7.1(d):\n",
    "\n",
    "The metallic elements are positioned in the figure's lower part and the lower part of each group.\n",
    "There is no clear separation between the elements labeled as metals and non-metals. This is expected; many elements have the characteristics of both metals and non-metals!"
   ]
  },
  {
   "cell_type": "markdown",
   "metadata": {},
   "source": [
    "### 7.1(e)\n",
    "Next, we will investigate how much of the variance we explain\n",
    "with the different principal components.\n",
    "The variance explained by a particular\n",
    "component can be accessed by using `pca.explained_variance_ratio_`.\n",
    "Below, you can find some code that will plot\n",
    "the explained variance per component in a bar plot:"
   ]
  },
  {
   "cell_type": "code",
   "execution_count": null,
   "metadata": {},
   "outputs": [],
   "source": [
    "# Plot the explained variance:\n",
    "fig, (ax1, ax2) = plt.subplots(constrained_layout=True, ncols=2)\n",
    "variance = pca.explained_variance_ratio_ * 100\n",
    "components = 1 + np.arange(len(variance))\n",
    "ax1.bar(components, variance)\n",
    "ax1.set_xticks(components[::2])\n",
    "ax1.set(\n",
    "    xlabel=\"No. of principal components\",\n",
    "    ylabel=\"Percentage of variance explained\",\n",
    ");"
   ]
  },
  {
   "cell_type": "markdown",
   "metadata": {},
   "source": [
    "Add a line plot to the second axis, `ax2`, in the plot above that\n",
    "shows the total variance explained by $x$ components. That is, the $x$-axis should\n",
    "show the number of components used, and the $y$-axis should show the summed explained variance\n",
    "when using $x$ components. For calculating the summed explained variance, you can\n",
    "use the cumulative sum which can be obtained by `np.cumsum(pca.explained_variance_ratio_)`.\n",
    "\n",
    "Based on the plot you just created for the explained variance,\n",
    "how many principal components are needed\n",
    "to explain at least 90\\% of the variance?"
   ]
  },
  {
   "cell_type": "code",
   "execution_count": null,
   "metadata": {},
   "outputs": [],
   "source": [
    "# Plot the explained variance:\n",
    "fig, (ax1, ax2) = plt.subplots(constrained_layout=True, ncols=2, sharex=True, figsize=(8,4))\n",
    "variance = pca.explained_variance_ratio_ * 100\n",
    "components = 1 + np.arange(len(variance))\n",
    "ax1.bar(components, variance)\n",
    "ax1.set(\n",
    "    xlabel=\"No. of principal components\",\n",
    "    ylabel=\"Percentage of variance explained\",\n",
    ")\n",
    "ax2.plot([0] + list(components), [0] + list(np.cumsum(variance)), marker=\"o\")\n",
    "ax2.set(\n",
    "    xlabel=\"No. of principal components\",\n",
    "    ylabel=\"Percentage of variance explained\",\n",
    ")\n",
    "ax2.axhline(y=90, ls=\":\", color=\"k\")\n",
    "sns.despine(fig=fig)\n",
    "\n",
    "variance_sum = np.cumsum(variance)\n",
    "idx = np.where(variance_sum > 90)[0]\n",
    "print(\"Number of components needed:\", components[idx[0]])"
   ]
  },
  {
   "cell_type": "markdown",
   "metadata": {},
   "source": [
    "#### Your answer to question 7.1(e): How many components are needed to explain at least 90% of the variance?\n",
    "\n",
    "From the plot above: We need at least six components."
   ]
  },
  {
   "cell_type": "markdown",
   "metadata": {},
   "source": [
    "### 7.1(f)\n",
    "Next, we will investigate the loadings. In your own words, how would you\n",
    "explain what the loadings are?"
   ]
  },
  {
   "cell_type": "markdown",
   "metadata": {},
   "source": [
    "#### Your answer to question 7.1(f):\n",
    "The loadings describe how we transform the original variables to the new coordinate system (to the principal\n",
    "components). Specifically, the principal components are linear combinations of the original variables, and\n",
    "the loadings contain the coefficients for this linear combination."
   ]
  },
  {
   "cell_type": "markdown",
   "metadata": {},
   "source": [
    "### 7.1(g)\n",
    "Let $\\mathbf{p}_1$ and $\\mathbf{p}_2$ be the\n",
    "vectors with loadings for the first and second principal components from the analysis you have\n",
    "just carried out. Verify that the vectors are normalized (e.g., $\\mathbf{p}_1 \\cdot \\mathbf{p}_1 = 1$) and\n",
    "that they are orthogonal to each other (i.e., $\\mathbf{p}_1 \\cdot \\mathbf{p}_2 = 0$).\n",
    "\n",
    "The loadings can be accessed with:"
   ]
  },
  {
   "cell_type": "code",
   "execution_count": null,
   "metadata": {},
   "outputs": [],
   "source": [
    "# Get the loadings for PC1 and PC2:\n",
    "loadings = pca.components_.T\n",
    "pc1 = loadings[:, 0]\n",
    "pc2 = loadings[:, 1]"
   ]
  },
  {
   "cell_type": "markdown",
   "metadata": {},
   "source": [
    "And you can use `np.dot` to take the dot product."
   ]
  },
  {
   "cell_type": "code",
   "execution_count": null,
   "metadata": {},
   "outputs": [],
   "source": [
    "print(\"pc1 * pc1 =\", np.dot(pc1, pc1))\n",
    "print(\"pc2 * pc2 =\", np.dot(pc2, pc2))\n",
    "print(\"pc1 * pc2 =\", np.dot(pc1, pc2))"
   ]
  },
  {
   "cell_type": "markdown",
   "metadata": {},
   "source": [
    "#### Your answer to question 7.1(g):\n",
    "When we take the dot product, we find that\n",
    "the vectors in question are normalized (dot product equal to one) and orthogonal to each other (dot product equal to zero)."
   ]
  },
  {
   "cell_type": "markdown",
   "metadata": {},
   "source": [
    "### 7.1(h)\n",
    "For a particular loadings vector, the $i$'th component contains the\n",
    "contribution from the original variable $i$ to the principal\n",
    "component described by this loadings vector. This contribution\n",
    "is a number between $-1$ and $1$.\n",
    "\n",
    "We can get an overview of the contributions to\n",
    "principal component number 1 and 2 by plotting the loadings in a bar plot as follows:"
   ]
  },
  {
   "cell_type": "code",
   "execution_count": null,
   "metadata": {},
   "outputs": [],
   "source": [
    "fig, (ax1, ax2) = plt.subplots(\n",
    "    constrained_layout=True, nrows=2, sharex=True, sharey=True\n",
    ")\n",
    "position = np.arange(len(pc1))\n",
    "ax1.bar(position, pc1)\n",
    "ax1.set_xticks(position)\n",
    "ax1.set_xticklabels(variables, rotation=90)\n",
    "ax1.axhline(y=0, ls=\":\", color=\"k\")  # Horizontal line to show 0\n",
    "ax2.bar(position, pc2)\n",
    "ax2.set_xticks(position)\n",
    "ax2.set_xticklabels(variables, rotation=90)\n",
    "ax2.axhline(y=0, ls=\":\", color=\"k\")  # Horizontal line to show 0\n",
    "ax1.set_title(\"PC1\", loc=\"left\")\n",
    "ax2.set_title(\"PC2\", loc=\"left\")\n",
    "sns.despine(fig=fig)"
   ]
  },
  {
   "cell_type": "markdown",
   "metadata": {},
   "source": [
    "Make a bar plot for the two first principal components and inspect\n",
    "the contributions from the different variables. The plots\n",
    "should indicate that the variables neutrons, protons, and electrons contribute\n",
    "almost equally to both the first and second\n",
    "principal components. Can you provide an interpretation of this\n",
    "observation?"
   ]
  },
  {
   "cell_type": "markdown",
   "metadata": {},
   "source": [
    "#### Your answer to question 7.1(h):\n",
    "\n",
    "We have already discussed the correlations in [7.1(a)](#Your-answer-to-question-7.1(a):). The\n",
    "contributions to the principal components reflect this:\n",
    "\n",
    "- The number of protons and electrons should always be the same for the elements. So when we calculate the scores, we will weigh the protons and electrons equally (we could use one of them since they are equal), and we see this in the identical coefficients for these two variables.\n",
    "\n",
    "- We also expect something similar for the number of neutrons, but not a perfect correlation, as discussed in  [7.1(a)](#Your-answer-to-question-7.1(a):). Here, this shows up in the coefficients; they are similar but unequal."
   ]
  },
  {
   "cell_type": "markdown",
   "metadata": {},
   "source": [
    "### 7.1(i)\n",
    "The loadings plot is usually easier to interpret than the plot we just made.\n",
    "Here, we will make the loadings plot\n",
    "for principal component 1 and principal component 2.\n",
    "The current case we are investigating is a bit complex since we have many\n",
    "variables! Let us proceed as follows:\n",
    "\n",
    "1. We prepare for the plotting by defining markers and colors. To make the plot\n",
    "   easier to read, we will select some markers and generate unique colors for the variables.\n",
    "   Let us first define $n$ different colors, where $n$ is the number of original variables\n",
    "   we have:"
   ]
  },
  {
   "cell_type": "code",
   "execution_count": null,
   "metadata": {},
   "outputs": [],
   "source": [
    "# Define colors:\n",
    "colors = get_cmap(name=\"PiYG\")(np.linspace(0, 1, len(variables)))"
   ]
  },
  {
   "cell_type": "markdown",
   "metadata": {},
   "source": [
    "In the code above, the text `'PiYG'` selects the color map, here you\n",
    "can experiment with [other options](https://matplotlib.org/stable/tutorials/colors/colormaps.html)\n",
    "to get something where it is easy to separate the different variables\n",
    "(and more to your liking). You can also use colors from [seaborn](https://seaborn.pydata.org/tutorial/color_palettes.html) with:"
   ]
  },
  {
   "cell_type": "code",
   "execution_count": null,
   "metadata": {},
   "outputs": [],
   "source": [
    "palette = sns.color_palette(\"viridis\", as_cmap=True)\n",
    "palette"
   ]
  },
  {
   "cell_type": "code",
   "execution_count": null,
   "metadata": {},
   "outputs": [],
   "source": [
    "colors = palette(np.linspace(0, 1, len(variables)))"
   ]
  },
  {
   "cell_type": "markdown",
   "metadata": {},
   "source": [
    "To help separate the points, we would also like to use distinct markers\n",
    "for the different variables. But here we have more variables than we\n",
    "have markers in matplotlib! We will therefore use a trick that makes it possible\n",
    "to cycle through markers, so we still get some diversity.\n",
    "\n",
    "(Note: there are more markers available than we select here,\n",
    "but some of them are small, and others are hard to distinguish. It is also possible\n",
    "to define new markers!)\n"
   ]
  },
  {
   "cell_type": "code",
   "execution_count": null,
   "metadata": {},
   "outputs": [],
   "source": [
    "# Define markers:\n",
    "my_markers = [\"o\", \"v\", \"^\", \"8\", \"s\", \"p\", \"*\", \"h\", \"H\", \"D\", \"P\", \"X\"]\n",
    "markers = cycle(my_markers)"
   ]
  },
  {
   "cell_type": "markdown",
   "metadata": {},
   "source": [
    "2. Next, we plot the loadings along principal component 1 and principal component 2 (note here that\n",
    "   we use `next(markers)` to access the next marker. If we had just used `markers` we would run\n",
    "   out of markers at some point!):"
   ]
  },
  {
   "cell_type": "code",
   "execution_count": null,
   "metadata": {},
   "outputs": [],
   "source": [
    "fig, ax = plt.subplots(constrained_layout=True)\n",
    "for i, vari in enumerate(variables):\n",
    "    ax.scatter(\n",
    "        pc1[i],  # Loadings for PC1, variable no. i\n",
    "        pc2[i],  # Loadings for PC2, variable no. i\n",
    "        label=vari,\n",
    "        marker=next(markers),\n",
    "        s=100,\n",
    "        color=colors[i],\n",
    "        edgecolors=\"k\",  # add color around symbols, to make them more visible\n",
    "        alpha=0.8,  # make the points slightly transparent\n",
    "    )"
   ]
  },
  {
   "cell_type": "markdown",
   "metadata": {},
   "source": [
    "3. Now, we do some styling of the plot, and we show a legend for the variables:"
   ]
  },
  {
   "cell_type": "code",
   "execution_count": null,
   "metadata": {},
   "outputs": [],
   "source": [
    "ax.set(xlabel=\"Loadings for PC1\", ylabel=\"Loadings for PC2\")\n",
    "# Make the scale for the x- and y-axis the same:\n",
    "ax.set_xlim(-0.4, 0.4)\n",
    "ax.set_ylim(ax.get_xlim())\n",
    "ax.set_aspect(\"equal\")\n",
    "# Add x=0 and y=0 lines to help location positive and negative values:\n",
    "ax.axhline(y=0, ls=\":\", color=\"k\")\n",
    "ax.axvline(x=0, ls=\":\", color=\"k\")\n",
    "# Add a legend to show the variables:\n",
    "ax.legend(\n",
    "    ncol=1, bbox_to_anchor=(1.05, 1), loc=\"upper left\", borderaxespad=0.0,\n",
    "    fontsize=\"x-small\"\n",
    ");"
   ]
  },
  {
   "cell_type": "markdown",
   "metadata": {},
   "source": [
    "\n",
    "After you have made the loadings plot, locate the\n",
    "electronegativity and the atomic radius. Are these located (relative\n",
    "to each other) as you would expect? How about the electrons and protons?"
   ]
  },
  {
   "cell_type": "code",
   "execution_count": null,
   "metadata": {},
   "outputs": [],
   "source": [
    "fig, ax = plt.subplots(constrained_layout=True, figsize=(8, 8))\n",
    "for i, vari in enumerate(variables):\n",
    "    ax.scatter(\n",
    "        pc1[i],  # Loadings for PC1, variable no. i\n",
    "        pc2[i],  # Loadings for PC2, variable no. i\n",
    "        label=vari,\n",
    "        marker=next(markers),\n",
    "        s=100,\n",
    "        color=colors[i],\n",
    "        edgecolors=\"k\",  # add color around symbols, to make them more visible\n",
    "        alpha=0.8,  # make the points slightly transparent\n",
    "    )\n",
    "    \n",
    "ax.set(xlabel=\"Loadings for PC1\", ylabel=\"Loadings for PC2\")\n",
    "# Make the scale for the x- and y-axis the same:\n",
    "ax.set_xlim(-0.4, 0.4)\n",
    "ax.set_ylim(ax.get_xlim())\n",
    "ax.set_aspect(\"equal\")\n",
    "# Add x=0 and y=0 lines to help location positive and negative values:\n",
    "ax.axhline(y=0, ls=\":\", color=\"k\")\n",
    "ax.axvline(x=0, ls=\":\", color=\"k\")\n",
    "# Add a legend to show the variables:\n",
    "ax.legend(\n",
    "    ncol=2, loc=\"lower right\",\n",
    "    #fontsize=\"small\"\n",
    ");"
   ]
  },
  {
   "cell_type": "markdown",
   "metadata": {},
   "source": [
    "#### Your answer to question 7.1(i):\n",
    "\n",
    "The plot places the atomic radius and electronegativity along a diagonal line. This is an example\n",
    "of a negative correlation: when the atomic radius decreases, the electronegativity increases, as discussed in\n",
    "[7.1(a)](#Your-answer-to-question-7.1(a):).\n",
    "\n",
    "The electron and proton are harder to see, but they are on top of each other (so very much positively correlated)."
   ]
  },
  {
   "cell_type": "markdown",
   "metadata": {},
   "source": [
    "### 7.1(j)\n",
    "Finally, we will create the biplot. In this plot\n",
    "we show the scores and loadings together. This is a bit more\n",
    "challenging to make, and it can often look crowded. Here\n",
    "is an example of how it can be created:"
   ]
  },
  {
   "cell_type": "code",
   "execution_count": null,
   "metadata": {},
   "outputs": [],
   "source": [
    "# Biplot:\n",
    "markers = cycle(my_markers)\n",
    "fig, ax = plt.subplots(constrained_layout=True)\n",
    "ax.scatter(scores[:, 0], scores[:, 1], s=75, label=\"Elements\")\n",
    "ax.set(xlabel=\"Scores for PC1\", ylabel=\"Scores for PC2\")\n",
    "ax.axhline(y=0, ls=\":\", color=\"k\")\n",
    "ax.axvline(x=0, ls=\":\", color=\"k\")\n",
    "\n",
    "xlim = ax.get_xlim()\n",
    "ylim = ax.get_ylim()\n",
    "\n",
    "# Get relative scale of the x- and y-axes:\n",
    "scalex = max(xlim) - min(xlim)\n",
    "scaley = max(ylim) - min(ylim)\n",
    "scale_max = max(scalex, scaley)\n",
    "scalex /= scale_max\n",
    "scaley /= scale_max\n",
    "\n",
    "# Figure out the \"longest\" loading:\n",
    "lengths_max = max(pc1**2 + pc2**2)\n",
    "\n",
    "# And figure out the largest circle we could put in\n",
    "# the current axes:\n",
    "radius = min([abs(i) for i in xlim + ylim])\n",
    "# Scale things so that the \"longest\" loading will have\n",
    "# a length equal to the radius we just found:\n",
    "scale_factor = radius / lengths_max\n",
    "\n",
    "for i, vari in enumerate(variables):\n",
    "    # Scale lengths so that they are easier to see,\n",
    "    # here it also works to just do:\n",
    "    # x = pc1[i] * scalex * factor\n",
    "    # y = pc2[i] * scaley * factor\n",
    "    # for a suitable factor (just find one by trial and error).\n",
    "    x = pc1[i] * scalex\n",
    "    y = pc2[i] * scaley\n",
    "    norm = np.sqrt(x**2 + y**2)\n",
    "    x /= norm\n",
    "    y /= norm\n",
    "    length = pc1[i] ** 2 + pc2[i] ** 2\n",
    "    x *= length * scale_factor\n",
    "    y *= length * scale_factor\n",
    "\n",
    "    # Add the scatter point, uncomment to draw the locations:\n",
    "    # scat = ax.scatter(\n",
    "    #    x, y,\n",
    "    #    label=vari,\n",
    "    #    marker=next(markers),\n",
    "    #    s=100,\n",
    "    #    color=colors[i],\n",
    "    #    edgecolors='k',\n",
    "    # )\n",
    "    length = np.sqrt(x**2 + y**2)\n",
    "    dx = x / length\n",
    "    dy = y / length\n",
    "    ax.text(x + 0.1 * dx, y + 0.1 * dy, vari, fontsize=\"x-small\")\n",
    "    # Draw arrow from the origin to the point:\n",
    "    ax.annotate(\n",
    "        \"\",\n",
    "        xy=(x, y),\n",
    "        xytext=(0, 0),\n",
    "        arrowprops=dict(\n",
    "            arrowstyle=\"-|>\", lw=2, color=\"red\", mutation_scale=25\n",
    "        ),\n",
    "    )\n",
    "# Uncomment to add a legend:\n",
    "# ax.legend(ncol=1, bbox_to_anchor=(1.05, 1), loc='upper left', borderaxespad=0.)\n",
    "ax.set_xlim(xlim)\n",
    "ax.set_ylim(ylim);"
   ]
  },
  {
   "cell_type": "markdown",
   "metadata": {},
   "source": [
    "We could also scale the loadings by a larger factor to extend them to the borders of\n",
    "the plot (you can try this on your own).\n",
    "\n",
    "Create the biplot (run the code above, adding your own modifications (if any)) and\n",
    "consider the following:\n",
    "\n",
    "1. Does the direction of increasing mass correspond to what you would expect?\n",
    "\n",
    "2. In this case, it is not so easy to interpret the loadings or biplot since we have many variables,\n",
    "   and many seem to be equally important. But, if you were to give a simplified description of\n",
    "   the two principal components, how would you describe them, and does this fit with your\n",
    "   understanding of the periodic system?"
   ]
  },
  {
   "cell_type": "markdown",
   "metadata": {},
   "source": [
    "#### Your answer to question 7.1(j):\n",
    "1. Yes, the mass is increasing upwards and to the left. This is consistent with the increasing size\n",
    "   of the elements when moving to the left in the scores plot.\n",
    "   \n",
    "2. Let us give some overall interpretation of PC1 and PC2:\n",
    "\n",
    "   * For PC1, the most dominating factors can be related to size. The mass and atomic radius point toward the left, which is also consistent with the elements being \"bigger\" (in terms of the number of protons/electrons/neutrons and mass) to the left.\n",
    "\n",
    "   * For PC2, there are also size contributions and impact of properties like electronegativity. The\n",
    "     interpretation of the electronic structure is more complex, as there are correlations here. If\n",
    "     we have some electrons in a higher orbital, say 5s, then we know that 1s, 2s, 2p, and so on are filled. Also, if we have filled orbitals up to, say, 3s and we do not have more electrons, then we know that all the higher\n",
    "     orbitals are not filled (and thus do not contribute to the scores). In general, lower orbitals point toward the negative PC2 direction, while higher orbitals point toward the positive PC2 direction.\n",
    "     A simplified interpretation of the PC2 direction is that it reflects the distribution of electrons: Within a group (a group in the plot!), elements further down have electrons in lower orbitals. If we\n",
    "     check the elements, we find the noble gasses (\"full\" electron configuration) at the top (along PC2)\n",
    "     in their respective groups.\n",
    "     \n",
    "   In general, it fits with the periodic system that reflects the electron configuration of the elements!"
   ]
  },
  {
   "cell_type": "markdown",
   "metadata": {},
   "source": [
    "# Extra: Interactive plots with [bokeh](https://docs.bokeh.org/en/latest/)\n",
    "\n",
    "Some of the plots we have made here are a bit crowded, and it can be difficult to make out the labels. One solution is to add some interactivity; for instance, we can display the name of the variables in the loadings plot when we hoover the mouse of the symbol. This is not so easy with matplotlib, but it is relatively easy with \n",
    "[bokeh](https://docs.bokeh.org/en/latest/). Below is some code to make more interactive versions of the scores and loadings plot. It is included here as an \"extra\" part since we have to use a new Python library that requires some extra coding. The method defined below might be overly complex;\n",
    "the [bokeh gallery](https://docs.bokeh.org/en/latest/docs/gallery.html)\n",
    "has more to-the-point examples."
   ]
  },
  {
   "cell_type": "code",
   "execution_count": null,
   "metadata": {},
   "outputs": [],
   "source": [
    "# Imports for bokeh:\n",
    "from bokeh.plotting import figure, show\n",
    "from bokeh.models import (\n",
    "    ColumnDataSource,\n",
    "    HoverTool,\n",
    "    ColorBar,\n",
    "    LabelSet,\n",
    ")\n",
    "from bokeh.transform import linear_cmap\n",
    "from bokeh.io import output_notebook"
   ]
  },
  {
   "cell_type": "code",
   "execution_count": null,
   "metadata": {},
   "outputs": [],
   "source": [
    "# Set ut outot for Jupyter notebook:\n",
    "output_notebook()"
   ]
  },
  {
   "cell_type": "code",
   "execution_count": null,
   "metadata": {},
   "outputs": [],
   "source": [
    "def bokeh_2d_scatter(\n",
    "    x_data,\n",
    "    y_data,\n",
    "    names,\n",
    "    title=\"Scatter plot\",\n",
    "    xlabel=\"x\",\n",
    "    ylabel=\"y\",\n",
    "    color_by=None,\n",
    "    color_by_feature_name=\"Color feature\",\n",
    "    add_labels=False,\n",
    "):\n",
    "    \"\"\"Create a 2D scatter plot with bokeh.\n",
    "\n",
    "    Parameters\n",
    "    ----------\n",
    "    x_data : object like numpy.array\n",
    "        The x-coordinates for the scatter plot.\n",
    "    y_data : object like numpy.array\n",
    "        The y-coordinates for the scatter plot.\n",
    "    names : list of strings\n",
    "        The name of the items in the scatter plot.\n",
    "    title : string, optional\n",
    "        Title of the plot.\n",
    "    xlabel : string, optional\n",
    "        Label for the x-axis.\n",
    "    ylabel : string, optional\n",
    "        Label for the y-axis.\n",
    "    color_by : object like numpy.array, optional\n",
    "        Numbers to color the items in the scatter plot by.\n",
    "        These numbers will be used to set up a color map.\n",
    "    color_by_feature_name : string, optional\n",
    "        Name of the feature the color in `color_by` represents.\n",
    "    add_labels : boolean, optional\n",
    "        If True, also write the names above the symbols.\n",
    "    \"\"\"\n",
    "    plot_data = {\n",
    "        \"x\": x_data,\n",
    "        \"y\": y_data,\n",
    "        \"name\": names,\n",
    "    }\n",
    "\n",
    "    tool_html = [\n",
    "        '<div><span style=\"font-weight: bold;\">@name</span></div>',\n",
    "    ]\n",
    "\n",
    "    color_mapper = None\n",
    "    extra_kw = {}\n",
    "    \n",
    "    if color_by is not None:\n",
    "        plot_data[\"color_by\"] = color_by\n",
    "        tool_html.append(f\"<div>{color_by_feature_name}: @color_by</div>\")\n",
    "        color_mapper = linear_cmap(\n",
    "            field_name=\"color_by\",\n",
    "            palette=\"Viridis256\",\n",
    "            low=min(color_by),\n",
    "            high=max(color_by)\n",
    "        )\n",
    "        extra_kw = {\"color\": color_mapper, \"marker\": \"circle\"}\n",
    "\n",
    "    tool_html = \"<div>\" + \"\\n\".join(tool_html) + \"</div>\"\n",
    "    source = ColumnDataSource(data=plot_data)\n",
    "\n",
    "    fig = figure(\n",
    "        title=title,\n",
    "        active_scroll=\"wheel_zoom\",\n",
    "        background_fill_color=\"#fafafa\",\n",
    "    )\n",
    "    fig.scatter(\n",
    "        x=\"x\",\n",
    "        y=\"y\",\n",
    "        size=12,\n",
    "        fill_alpha=0.6,\n",
    "        name=\"points\",\n",
    "        source=source,\n",
    "        **extra_kw,\n",
    "    )\n",
    "\n",
    "    hover = HoverTool(\n",
    "        name=\"points\",\n",
    "        tooltips=tool_html,\n",
    "    )\n",
    "    fig.add_tools(hover)\n",
    "    fig.xaxis.axis_label = xlabel\n",
    "    fig.yaxis.axis_label = ylabel\n",
    "\n",
    "    if color_by is not None:\n",
    "        color_bar = ColorBar(\n",
    "            color_mapper=color_mapper[\"transform\"],\n",
    "            width=10,\n",
    "            title=color_by_feature_name,\n",
    "        )\n",
    "        fig.add_layout(color_bar, \"right\")\n",
    "    if add_labels:\n",
    "        labels = LabelSet(\n",
    "            x=\"x\", y=\"y\", text=\"name\", y_offset=8,\n",
    "            text_font_size=\"11px\", text_color=\"#555555\",\n",
    "            source=source, text_align='center'\n",
    "        )\n",
    "        fig.add_layout(labels)\n",
    "    return fig"
   ]
  },
  {
   "cell_type": "code",
   "execution_count": null,
   "metadata": {},
   "outputs": [],
   "source": [
    "fig = bokeh_2d_scatter(\n",
    "    scores[:, 0],\n",
    "    scores[:, 1],\n",
    "    data[\"element\"].values,\n",
    "    title=\"Plot of scores\",\n",
    "    xlabel=\"PC1\",\n",
    "    ylabel=\"PC2\",\n",
    "    color_by=data[\"atomic_radius\"].to_numpy(),\n",
    "    color_by_feature_name=\"Atomic radius\",\n",
    "    add_labels=True,\n",
    ")\n",
    "show(fig)"
   ]
  },
  {
   "cell_type": "code",
   "execution_count": null,
   "metadata": {},
   "outputs": [],
   "source": [
    "fig = bokeh_2d_scatter(\n",
    "    pc1,\n",
    "    pc2,\n",
    "    variables,\n",
    "    title=\"Plot of loadings\",\n",
    "    xlabel=\"PC1\",\n",
    "    ylabel=\"PC2\",\n",
    "    add_labels=True,\n",
    ")\n",
    "show(fig)"
   ]
  }
 ],
 "metadata": {
  "kernelspec": {
   "display_name": "Python 3 (ipykernel)",
   "language": "python",
   "name": "python3"
  },
  "language_info": {
   "codemirror_mode": {
    "name": "ipython",
    "version": 3
   },
   "file_extension": ".py",
   "mimetype": "text/x-python",
   "name": "python",
   "nbconvert_exporter": "python",
   "pygments_lexer": "ipython3",
   "version": "3.10.6"
  }
 },
 "nbformat": 4,
 "nbformat_minor": 2
}
