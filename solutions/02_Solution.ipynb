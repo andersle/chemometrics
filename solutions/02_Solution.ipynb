{
 "cells": [
  {
   "cell_type": "markdown",
   "metadata": {},
   "source": [
    "# Exercise set 2\n",
    "\n",
    "> This exercise aims to investigate Bayes’ theorem and to use ANOVA to determine if a certain factor is indeed affecting the results of an experiment."
   ]
  },
  {
   "cell_type": "markdown",
   "metadata": {},
   "source": [
    "## Exercise 2.1 Bayes' theorem\n",
    "\n",
    "A particular disease occurs randomly in the general population with a probability of $\\tfrac{1}{10\\,000}$.\n",
    "A test has been developed for this disease which is $99\\%$ correct, meaning here\n",
    "that if a person has the disease, then the test will correctly be positive in $99\\%$ of the cases.\n",
    "If a person does not have the disease, the test will correctly be negative in $99\\%$ of the cases."
   ]
  },
  {
   "cell_type": "markdown",
   "metadata": {},
   "source": [
    "### 2.1(a)\n",
    "Assume that we are testing for this disease in a population of $1\\,000\\,000$ people. How many\n",
    "are expected to have the disease? How many are expected to not\n",
    "have the disease? Further:\n",
    "\n",
    "- (i)  How many people with the disease will have a positive test?\n",
    "\n",
    "- (ii)  How many people with the disease will have a negative test?\n",
    "\n",
    "- (iii)  How many people without the disease will have a positive test? \n",
    "\n",
    "- (iv)  How many people without the disease will have a negative test? \n",
    "\n",
    "\n",
    "Summarize your answers to the four points above in a table of the following\n",
    "form:\n",
    "\n",
    "|               |          |     |Has the disease?|\n",
    "|:--------------|:---------|:---:|:--------------:|\n",
    "|               |          |Yes  |No              |\n",
    "|**Test result**| Positive |     |                |\n",
    "|               | Negative |     |                |\n",
    "\n"
   ]
  },
  {
   "cell_type": "code",
   "execution_count": 1,
   "metadata": {},
   "outputs": [
    {
     "name": "stdout",
     "output_type": "stream",
     "text": [
      "People with disease: 100.0\n",
      "People without disease: 999900.0\n",
      "(i) People with disease and positive test: 99.0\n",
      "(ii) People with disease and negative test: 1.0\n",
      "(iii) People without disease and positive test: 9999.0\n",
      "(iv) People without disease and negative test: 989901.0\n"
     ]
    }
   ],
   "source": [
    "# Your code here\n",
    "population = 1000000\n",
    "probability_disease = 1/10000\n",
    "probability_test_correct = 0.99\n",
    "\n",
    "people_with_disease = population * probability_disease\n",
    "people_without_disease = population - people_with_disease\n",
    "\n",
    "people_with_disease_positive = people_with_disease * probability_test_correct\n",
    "people_with_disease_negative = people_with_disease - people_with_disease_positive\n",
    "\n",
    "people_without_disease_negative = people_without_disease * probability_test_correct\n",
    "people_without_disease_positive = people_without_disease - people_without_disease_negative\n",
    "\n",
    "print(f\"People with disease: {people_with_disease}\")\n",
    "print(f\"People without disease: {people_without_disease}\")\n",
    "print(f\"(i) People with disease and positive test: {people_with_disease_positive}\")\n",
    "print(f\"(ii) People with disease and negative test: {people_with_disease_negative}\")\n",
    "print(f\"(iii) People without disease and positive test: {people_without_disease_positive}\")\n",
    "print(f\"(iv) People without disease and negative test: {people_without_disease_negative}\")"
   ]
  },
  {
   "cell_type": "markdown",
   "metadata": {},
   "source": [
    "#### Your answer to question 2.1(a):\n",
    "\n",
    "If the probability of the disease occurring is $\\tfrac{1}{10\\,000}$, then we expect that\n",
    "$1\\,000\\,000 \\times \\tfrac{1}{10\\,000} = 100$ will have the disease.\n",
    "Further, $1\\,000\\,000 \\times \\left(1- \\tfrac{1}{10\\,000} \\right) = 999\\,900$ will\n",
    "not have the disease.\n",
    "\n",
    "* (i)  How many people with the disease will have a positive test?\n",
    "  \n",
    "  Of the $100$ people with the disease, the test is correct for $99\\%$ of them: \n",
    "  $100 \\times 0.99 = 99$ persons.\n",
    "\n",
    "\n",
    "* (ii)  How many people with the disease will have a negative test?\n",
    "  \n",
    "  Of the $100$ people with\n",
    "  the disease, the test is incorrect for $1\\%$ of them: $100 \\times 0.01 = 1$ person.\n",
    "  \n",
    "  \n",
    "* (iii) How many people without the disease will have a positive test? \n",
    "  \n",
    "  Of the $999\\,900$ people\n",
    "  without the disease, the test will be positive (incorrect) for $1\\%$ of them:\n",
    "  $999\\,900 \\times 0.01 = 9\\,999$ persons.\n",
    "\n",
    "\n",
    "* (iv)  How many people without the disease will have a negative test? \n",
    "\n",
    "  Of the $999\\,900$ people\n",
    "  without the disease, the test will be negative for $99\\%$ of them:\n",
    "  $999\\,900 \\times 0.99 = 989\\,901$ persons.\n",
    "\n",
    "\n",
    "Summarized:\n",
    "\n",
    "<!--- This is needed for the coloring in jupyter notebook --->\n",
    "\n",
    "|    |    ||Has the disease?|\n",
    "|:---|:---|:---:|:---:|\n",
    "|||Yes|No|\n",
    "|**Test result**| Positive |99 | <span style=\"color:#1b9e77;\">&nbsp;&nbsp;9999&nbsp;&nbsp;</span> |\n",
    "|| Negative |<span style=\"color:#d95f02;\" >1</span>|<span style=\"color:#7570b3;\">989901</span>|\n",
    "\n"
   ]
  },
  {
   "cell_type": "markdown",
   "metadata": {},
   "source": [
    "### 2.1(b)\n",
    "Later in the course, when dealing with classification problems,\n",
    "we will refer to this table as the \"confusion matrix\". This table\n",
    "summarizes the types of errors we are making: the number of\n",
    "false positives (\"FP\") and false negatives (\"FN\").\n",
    "In addition, it shows us the number\n",
    "of true positives\n",
    "(\"TP\") and true negatives (\"TN\").\n",
    "Identify the location of\n",
    "these $4$ labels in the table above. \n",
    "Using these labels, we can define different metrics that tell us\n",
    "something about the performance of the test. One example of such a\n",
    "measure is the [precision](https://en.wikipedia.org/wiki/Precision_and_recall) which is\n",
    "defined as the ratio between the number of true positives and\n",
    "the total number of positives:\n",
    "\n",
    "\\begin{equation}\n",
    "\\text{precision} = \\frac{\\text{TP}}{\\text{TP} + \\text{FP}}\n",
    "\\tag{1}\\end{equation}\n",
    "\n",
    "We can interpret the precision as the probability of having the\n",
    "disease, given that the test was positive.\n",
    "Calculate this probability, using the formula given above.\n",
    "Do you have any comments about the size of\n",
    "this probability?\n",
    "\n",
    "\n"
   ]
  },
  {
   "cell_type": "code",
   "execution_count": 2,
   "metadata": {},
   "outputs": [
    {
     "name": "stdout",
     "output_type": "stream",
     "text": [
      "precision = 0.0098\n"
     ]
    }
   ],
   "source": [
    "TP = 99\n",
    "FP = 9999\n",
    "precision = TP / (TP + FP)\n",
    "print(f\"precision = {precision:.4f}\")"
   ]
  },
  {
   "cell_type": "markdown",
   "metadata": {},
   "source": [
    "#### Your answer to question 2.1(b):\n",
    "\n",
    "In the table in the answer for **2.1 (a)**, the number of true positives is colored black, the\n",
    "number of false positives is colored green, number of false negatives is\n",
    "colored orange and number of true negatives is colored purple.\n",
    "Here, the number of true positives is $TP=99$, and the number of\n",
    "false positives is $FP=9999$. The precision is then (from the cell above) 0.0098.\n",
    "\n",
    "Given that the test result is positive, the probability of having the disease is\n",
    "less than $1\\%$. This probability is quite low and is due to the large number\n",
    "of false positives we get in this test, and the fact that the disease is rare\n",
    "(it occurs in $\\tfrac{1}{10\\,000}$ of the population). If we were to improve\n",
    "this probability, we would focus on lowering the number of false positives produced\n",
    "by the test."
   ]
  },
  {
   "cell_type": "markdown",
   "metadata": {},
   "source": [
    "### 2.1(c)\n",
    "Use Bayes theorem to calculate the probability of\n",
    "having the disease, given that a test was positive. Compare\n",
    "this to the probability you found in the previous answer."
   ]
  },
  {
   "cell_type": "code",
   "execution_count": 3,
   "metadata": {},
   "outputs": [
    {
     "name": "stdout",
     "output_type": "stream",
     "text": [
      "P(B|A) = 0.0098\n"
     ]
    }
   ],
   "source": [
    "# A is positive test\n",
    "# B is person has disease\n",
    "P_AB = 0.99  # P(A|B) chance that the test is correctly positive\n",
    "P_B = 1 / 10_000  # P(B) chance that anyone has the disease\n",
    "P_AnB = 1 - P_AB  # Chance of false positive (positive| not disease)\n",
    "P_nB = 1 - P_B  # Chance that a person does not have the disease\n",
    "P_A = P_AB * P_B + P_AnB * P_nB  # P(A) probability that any test is positive\n",
    "P_BA = P_AB * P_B / P_A\n",
    "print(f\"P(B|A) = {P_BA:.4f}\")"
   ]
  },
  {
   "cell_type": "markdown",
   "metadata": {},
   "source": [
    "#### Your answer to question 2.1(c):\n",
    "\n",
    "To use Bayes theorem to calculate the probability of\n",
    "    having the disease, given that a test was positive, we first define\n",
    "    two events:\n",
    "    \n",
    "* A: test is positive,\n",
    "* B: person has the disease,\n",
    "\n",
    "so that the probability we are looking for is $P(B | A)$. Using Bayes theorem, this can\n",
    "be expressed as,\n",
    "\n",
    "\\begin{equation}\n",
    "    P(B | A) = \\frac{P(A | B) \\times P(B)}{P(A)} ,\n",
    "    \\end{equation}\n",
    "    were $P(A | B) = 0.99$ and $P(B) = \\tfrac{1}{10\\,000}$. Further, we find $P(A)$ as,\n",
    "\n",
    "\\begin{equation}\n",
    "    \\begin{split}\n",
    "    P(A) &= P(A | B) \\times P(B) + P(A|\\overline{B}) \\times P(\\overline{B}) \\\\\n",
    "         &= 0.99 \\times \\frac{1}{10\\,000} + 0.01 \\times \\frac{9\\,999}{10\\,000} = \n",
    "        \\frac{10\\,098}{1\\,000\\,000}.\n",
    "    \\end{split}\n",
    "\\end{equation}\n",
    "    \n",
    "    \n",
    "The probability $P(B | A)$ is then,\n",
    "\\begin{equation}\n",
    "    P(B | A) = \\frac{P(A | B) \\times P(B)}{P(A)} = \\frac{0.99 \\times \\tfrac{1}{10\\,000}}{\\tfrac{10\\,098}{1\\,000\\,000}} = \\frac{99}{10\\,098} = 0.0098.\n",
    "\\end{equation}\n",
    "This is implemented in the cell above and identical to the precision we found for **2.1 (b)**, as expected."
   ]
  },
  {
   "cell_type": "markdown",
   "metadata": {},
   "source": [
    "## Exercise 2.2\n",
    "\n",
    "The fertilizer magnesium ammonium phosphate MgNH$_4$PO$_4$ is an effective\n",
    "supplier of nutrients necessary for plant growth. In an experiment, you have\n",
    "tested the effect of this fertilizer on the growth of Chrysanthemums by\n",
    "measuring the height of the plants after growing them for four weeks.\n",
    "You have considered $4$ different concentrations of the fertilizer (measured in g/bu)\n",
    "and you have measured the mean height by growing $10$ plants per concentration.\n",
    "The measured data is given in Table 1, and is\n",
    "also given in the file [`Data/fertilizer.txt`](Data/fertilizer.txt).\n",
    "\n",
    "\n",
    "|**50 g/bu** | **100 g/bu** | **200 g/bu** | **400 g/bu** |\n",
    "|:---:|:---:|:---:|:---:|\n",
    "|$13.2$ | $16.0$ | $ 7.8$ | $21.0$ |\n",
    "|$12.4$ | $12.6$ | $14.4$ | $14.8$ |\n",
    "|$12.8$ | $14.8$ | $20.0$ | $19.1$ |\n",
    "|$17.2$ | $13.0$ | $15.8$ | $15.8$ |\n",
    "|$13.0$ | $14.0$ | $17.0$ | $18.0$ |\n",
    "|$14.0$ | $23.6$ | $27.0$ | $26.0$ |\n",
    "|$14.2$ | $14.0$ | $19.6$ | $21.1$ |\n",
    "|$21.6$ | $17.0$ | $18.0$ | $22.0$ |\n",
    "|$15.0$ | $22.2$ | $20.2$ | $25.0$ |\n",
    "|$20.0$ | $24.4$ | $23.2$ | $18.2$ |\n",
    "\n",
    "\n",
    "**Table 1:** *Measured plant heights (in cm) as a function of the fertilizer concentration (in g/bu).*"
   ]
  },
  {
   "cell_type": "markdown",
   "metadata": {},
   "source": [
    "### 2.2(a)\n",
    "Here, we will test the hypothesis that the mean height\n",
    "of the plants is not affected by the amount of fertilizer. We\n",
    "are going to test this with a specified significance level, $\\alpha$.\n",
    "What is the meaning of $\\alpha$ in connection with a hypothesis test?"
   ]
  },
  {
   "cell_type": "markdown",
   "metadata": {},
   "source": [
    "#### Your answer to question 2.2(a):\n",
    "\n",
    "The significance level, $\\alpha$, is the probability of rejecting\n",
    "the null hypothesis (in this case that all the means are equal) when\n",
    "the null hypothesis is true. If we set this value to $0.05$, this\n",
    "means that it should be no more than a $5$\\% chance of\n",
    "erroneously concluding that the null hypothesis is false when it is\n",
    "true."
   ]
  },
  {
   "cell_type": "markdown",
   "metadata": {},
   "source": [
    "### 2.2(b)\n",
    "To test the hypothesis, we will perform ANOVA. Before we do that,\n",
    "it is a good idea to visualize the raw data. Create a suitable plot\n",
    "of the raw data. Does it look like our hypothesis is correct?"
   ]
  },
  {
   "cell_type": "code",
   "execution_count": 4,
   "metadata": {},
   "outputs": [],
   "source": [
    "# Here is some code to get you started:\n",
    "import pandas as pd  # For reading the data\n",
    "from matplotlib import pyplot as plt  # For plotting\n",
    "import seaborn as sns  # More plotting\n",
    "\n",
    "sns.set_context(\"notebook\")  # Style plots for a Jupyter notebook\n",
    "\n",
    "data = pd.read_csv(\"Data/fertilizer.txt\")  # Read the data"
   ]
  },
  {
   "cell_type": "code",
   "execution_count": 5,
   "metadata": {},
   "outputs": [
    {
     "data": {
      "text/html": [
       "<div>\n",
       "<style scoped>\n",
       "    .dataframe tbody tr th:only-of-type {\n",
       "        vertical-align: middle;\n",
       "    }\n",
       "\n",
       "    .dataframe tbody tr th {\n",
       "        vertical-align: top;\n",
       "    }\n",
       "\n",
       "    .dataframe thead th {\n",
       "        text-align: right;\n",
       "    }\n",
       "</style>\n",
       "<table border=\"1\" class=\"dataframe\">\n",
       "  <thead>\n",
       "    <tr style=\"text-align: right;\">\n",
       "      <th></th>\n",
       "      <th>50 g/bu</th>\n",
       "      <th>100 g/bu</th>\n",
       "      <th>200 g/bu</th>\n",
       "      <th>400 g/bu</th>\n",
       "    </tr>\n",
       "  </thead>\n",
       "  <tbody>\n",
       "    <tr>\n",
       "      <th>0</th>\n",
       "      <td>13.2</td>\n",
       "      <td>16.0</td>\n",
       "      <td>7.8</td>\n",
       "      <td>21.0</td>\n",
       "    </tr>\n",
       "    <tr>\n",
       "      <th>1</th>\n",
       "      <td>12.4</td>\n",
       "      <td>12.6</td>\n",
       "      <td>14.4</td>\n",
       "      <td>14.8</td>\n",
       "    </tr>\n",
       "    <tr>\n",
       "      <th>2</th>\n",
       "      <td>12.8</td>\n",
       "      <td>14.8</td>\n",
       "      <td>20.0</td>\n",
       "      <td>19.1</td>\n",
       "    </tr>\n",
       "    <tr>\n",
       "      <th>3</th>\n",
       "      <td>17.2</td>\n",
       "      <td>13.0</td>\n",
       "      <td>15.8</td>\n",
       "      <td>15.8</td>\n",
       "    </tr>\n",
       "    <tr>\n",
       "      <th>4</th>\n",
       "      <td>13.0</td>\n",
       "      <td>14.0</td>\n",
       "      <td>17.0</td>\n",
       "      <td>18.0</td>\n",
       "    </tr>\n",
       "    <tr>\n",
       "      <th>5</th>\n",
       "      <td>14.0</td>\n",
       "      <td>23.6</td>\n",
       "      <td>27.0</td>\n",
       "      <td>26.0</td>\n",
       "    </tr>\n",
       "    <tr>\n",
       "      <th>6</th>\n",
       "      <td>14.2</td>\n",
       "      <td>14.0</td>\n",
       "      <td>19.6</td>\n",
       "      <td>21.1</td>\n",
       "    </tr>\n",
       "    <tr>\n",
       "      <th>7</th>\n",
       "      <td>21.6</td>\n",
       "      <td>17.0</td>\n",
       "      <td>18.0</td>\n",
       "      <td>22.0</td>\n",
       "    </tr>\n",
       "    <tr>\n",
       "      <th>8</th>\n",
       "      <td>15.0</td>\n",
       "      <td>22.2</td>\n",
       "      <td>20.2</td>\n",
       "      <td>25.0</td>\n",
       "    </tr>\n",
       "    <tr>\n",
       "      <th>9</th>\n",
       "      <td>20.0</td>\n",
       "      <td>24.4</td>\n",
       "      <td>23.2</td>\n",
       "      <td>18.2</td>\n",
       "    </tr>\n",
       "  </tbody>\n",
       "</table>\n",
       "</div>"
      ],
      "text/plain": [
       "   50 g/bu  100 g/bu  200 g/bu  400 g/bu\n",
       "0     13.2      16.0       7.8      21.0\n",
       "1     12.4      12.6      14.4      14.8\n",
       "2     12.8      14.8      20.0      19.1\n",
       "3     17.2      13.0      15.8      15.8\n",
       "4     13.0      14.0      17.0      18.0\n",
       "5     14.0      23.6      27.0      26.0\n",
       "6     14.2      14.0      19.6      21.1\n",
       "7     21.6      17.0      18.0      22.0\n",
       "8     15.0      22.2      20.2      25.0\n",
       "9     20.0      24.4      23.2      18.2"
      ]
     },
     "execution_count": 5,
     "metadata": {},
     "output_type": "execute_result"
    }
   ],
   "source": [
    "data  # Just show the data table"
   ]
  },
  {
   "cell_type": "code",
   "execution_count": 6,
   "metadata": {},
   "outputs": [
    {
     "data": {
      "image/png": "[encoded data removed]",
      "text/plain": [
       "<Figure size 800x400 with 2 Axes>"
      ]
     },
     "metadata": {},
     "output_type": "display_data"
    }
   ],
   "source": [
    "# Let us make two plots: a boxplot and a scatter plot, so set up two columns:\n",
    "fig, (axbox, axscat) = plt.subplots(\n",
    "    constrained_layout=True,\n",
    "    ncols=2,\n",
    "    figsize=(8, 4),\n",
    "    sharey=True,\n",
    ")\n",
    "# Pandas has a function to make a boxplot\n",
    "data.boxplot(ax=axbox, grid=False)\n",
    "axbox.set(xlabel=\"Fertilizer concentration\", ylabel=\"Height (cm)\")\n",
    "\n",
    "# To make a scatter plot, we use the example code:\n",
    "sns.stripplot(data=data, jitter=False, ax=axscat, s=8)\n",
    "axscat.set(xlabel=\"Fertilizer concentration\", ylabel=\"Height (cm)\")\n",
    "# Note - matplotlib figures out that we only need the ylabel in the left plot\n",
    "# since the two axes share y.\n",
    "sns.despine(fig=fig)"
   ]
  },
  {
   "cell_type": "markdown",
   "metadata": {},
   "source": [
    "#### Your answer to question 2.2(b):\n",
    "The raw data is plotted by the code above.\n",
    "From this, it might look like the height increases\n",
    "slightly, when we increase the concentration of fertilizer. So from\n",
    "this plot alone, we could start to doubt our null hypothesis that all\n",
    "means are equal."
   ]
  },
  {
   "cell_type": "markdown",
   "metadata": {},
   "source": [
    "### 2.2(c)\n",
    "In connection with performing ANOVA, we need to calculate some\n",
    "terms that measure the variance within groups and the variance\n",
    "between groups.\n",
    "Calculate these terms ($SST$, $SSA$, and $SSE$)."
   ]
  },
  {
   "cell_type": "code",
   "execution_count": 7,
   "metadata": {},
   "outputs": [
    {
     "name": "stdout",
     "output_type": "stream",
     "text": [
      "SST = 758.035 \n",
      "SSA = 119.787 \n",
      "SSE = 638.248\n"
     ]
    }
   ],
   "source": [
    "import numpy as np  # Import numpy for matrix manipulation\n",
    "data_mat = data.to_numpy()  # Convert the raw data to a numpy matrix\n",
    "# SST\n",
    "(rows, columns) = data.shape\n",
    "# Total variance of the data\n",
    "mean = np.average(data_mat)\n",
    "SST = np.sum((data_mat - mean) ** 2)\n",
    "\n",
    "# SSA Variance between each columns and the mean * rows\n",
    "c_means = np.average(data_mat, axis=0)\n",
    "SSA = rows * np.sum((c_means - mean) ** 2)\n",
    "\n",
    "SSE = SST - SSA\n",
    "\n",
    "print(f\"SST = {SST:.3f}\", f\"\\nSSA = {SSA:.3f}\", f\"\\nSSE = {SSE:.3f}\")"
   ]
  },
  {
   "cell_type": "markdown",
   "metadata": {},
   "source": [
    "### 2.2(d)\n",
    "Using the terms you calculated in the previous point, obtain\n",
    "the two estimates for the variance:\n",
    "\n",
    "* (i)  $s_1^2 = \\frac{SSA}{k-1}$,\n",
    "\n",
    "* (ii)  $s^2 = \\frac{SSE}{k(n-1)}$,\n",
    "\n",
    "\n",
    "and calculate the $f$-statistic: $f=s_1^2/s^2$."
   ]
  },
  {
   "cell_type": "code",
   "execution_count": 8,
   "metadata": {},
   "outputs": [
    {
     "name": "stdout",
     "output_type": "stream",
     "text": [
      "(s₁)² = 39.929\n",
      "s² = 17.729\n",
      "f = 2.252\n"
     ]
    }
   ],
   "source": [
    "s12 = SSA / (columns - 1)\n",
    "s2 = SSE / (columns * (rows - 1))\n",
    "f = s12 / s2\n",
    "\n",
    "print(f\"(s₁)² = {s12:.3f}\")\n",
    "print(f\"s² = {s2:.3f}\")\n",
    "print(f\"f = {f:.3f}\")"
   ]
  },
  {
   "cell_type": "markdown",
   "metadata": {},
   "source": [
    "### 2.2(e)\n",
    "To perform the actual hypothesis test, we need the critical value\n",
    "from the $F$-distribution. For a specified significance level, $\\alpha$,\n",
    "and with $3$ and $36$ degrees of freedom, we\n",
    "label the critical value as $f_{\\alpha}(3, 36)$. Check that I am using\n",
    "the correct degrees of freedom here, consistent with the\n",
    "raw data given in table 1."
   ]
  },
  {
   "cell_type": "markdown",
   "metadata": {},
   "source": [
    "#### Your answer to question 2.2(e):\n",
    "The two degrees of freedom are\n",
    "* $k-1 = 4 - 1 = 3$; number of columns - 1\n",
    "* $k(n-1) = 4(10-1) = 36$; number of columns times (number of rows - 1) "
   ]
  },
  {
   "cell_type": "markdown",
   "metadata": {},
   "source": [
    "### 2.2(f)\n",
    "Critical $f$ values can be calculated from the distribution\n",
    "function(With Python, this can be done with\n",
    "[`scipy.stats.f.ppf`](https://docs.scipy.org/doc/scipy/reference/generated/scipy.stats.f.html)\n",
    "from the\n",
    "[SciPy library](https://docs.scipy.org/doc/scipy/reference/generated/scipy.stats.f.html).)\n",
    "or it can be found in statistical tables.(One such table can be found\n",
    "[here on-line](https://www.itl.nist.gov/div898/handbook/eda/section3/eda3673.htm).)\n",
    "For the significance levels $\\alpha=0.05$ and $\\alpha=0.10$, I have found the\n",
    "following two values:\n",
    "\n",
    "* (i)  $f_{\\alpha = 0.05}(3, 36) = 2.866$\n",
    "\n",
    "* (ii)  $f_{\\alpha=0.10}(3, 36) = 2.243$\n",
    "\n",
    "\n",
    "Check that these two values are correct."
   ]
  },
  {
   "cell_type": "code",
   "execution_count": 9,
   "metadata": {},
   "outputs": [
    {
     "name": "stdout",
     "output_type": "stream",
     "text": [
      "α = 0.05: f(3, 36) = 2.866\n",
      "α = 0.10: f(3, 36) = 2.243\n"
     ]
    }
   ],
   "source": [
    "import scipy.stats\n",
    "\n",
    "alpha = 0.05\n",
    "f_5 = scipy.stats.f.ppf(1 - alpha, columns - 1, columns * (rows - 1))\n",
    "alpha = 0.10\n",
    "f_10 = scipy.stats.f.ppf(1 - alpha, columns - 1, columns * (rows - 1))\n",
    "\n",
    "\n",
    "print(f\"α = 0.05: f({columns-1}, {columns*(rows-1)}) = {f_5:.3f}\")\n",
    "print(f\"α = 0.10: f({columns-1}, {columns*(rows-1)}) = {f_10:.3f}\")"
   ]
  },
  {
   "cell_type": "markdown",
   "metadata": {},
   "source": [
    "#### Your answer to question 2.2(f):\n",
    "The code above gives values which are close enough to the given values. \n",
    "So we assume that the given values are correct."
   ]
  },
  {
   "cell_type": "markdown",
   "metadata": {},
   "source": [
    "### 2.2(g)\n",
    "Based on the calculations you have done,\n",
    "can you conclude on the $0.05$ level of significance that\n",
    "different concentrations of the fertilizer affect the mean attained height\n",
    "of the plants? What concentration, if any, appears to give the tallest plants?"
   ]
  },
  {
   "cell_type": "markdown",
   "metadata": {},
   "source": [
    "#### Your answer to question 2.2(g):\n",
    "Our calculated $f$-statistic was $2.252$. This value is smaller than the\n",
    "critical one: $2.252 < f_{\\alpha = 0.05}(3, 36) = 2.866$. \n",
    "We will then **not** reject the null hypothesis and we\n",
    "conclude that the means are **not** different in this case. We will then\n",
    "recommend using the lowest concentration as this will probably be cheaper.\n",
    "\n",
    "The code below calculates the probability of observing the data we\n",
    "have (or more extreme) given that the null hypothesis is true. This\n",
    "value is close to $10$\\%. Although the figure made by question **2.2 (b)** indicate that\n",
    "there might be a weak effect when increasing the fertilizer concentration, our\n",
    "test tells us that the probability of observing this by chance is almost $10$\\%, even when the means are the same."
   ]
  },
  {
   "cell_type": "code",
   "execution_count": 10,
   "metadata": {},
   "outputs": [
    {
     "name": "stdout",
     "output_type": "stream",
     "text": [
      "p = 0.0989\n"
     ]
    }
   ],
   "source": [
    "p = 1 - scipy.stats.f.cdf(f, columns - 1, columns * (rows - 1)) \n",
    "print(f\"p = {p:.4f}\")"
   ]
  },
  {
   "cell_type": "markdown",
   "metadata": {},
   "source": [
    "### 2.2(h)\n",
    "Would your conclusion change with a significance level of $0.10$?"
   ]
  },
  {
   "cell_type": "markdown",
   "metadata": {},
   "source": [
    "#### Your answer to question 2.2(h):\n",
    "If we select a significance level of $0.10$, the critical $f$-value is $2.243$, which\n",
    "is **smaller** than the observed $f$-value: $2.252 > 2.243$. In this\n",
    "case, we will **reject** the\n",
    "null hypothesis and we find that there is an effect when increasing the\n",
    "fertilizer concentration. \n",
    "\n",
    "In a real-life situation, we would probably still\n",
    "be skeptical about rejecting the null hypothesis as the effect of increasing\n",
    "the fertilizer concentration seems to be modest, and since we now have a $10$\\%\n",
    "chance of falsely rejecting the null hypothesis."
   ]
  },
  {
   "cell_type": "markdown",
   "metadata": {},
   "source": [
    "### 2.2(i)\n",
    "(Optional) Re-do this exercise, but use the [anova_lm](https://www.statsmodels.org/stable/generated/statsmodels.stats.anova.anova\\_lm.html) method\n",
    "from the Python package [statsmodels](https://www.statsmodels.org), or the\n",
    "[scipy.stats.f_oneway](https://docs.scipy.org/doc/scipy/reference/generated/scipy.stats.f\\_oneway.html) method from the Python package [SciPy](https://www.scipy.org/), to run ANOVA."
   ]
  },
  {
   "cell_type": "markdown",
   "metadata": {},
   "source": [
    "Let us do SciPy first. Here, we do not have to calculate the SST, SSA, and SSE:"
   ]
  },
  {
   "cell_type": "code",
   "execution_count": 11,
   "metadata": {},
   "outputs": [
    {
     "name": "stdout",
     "output_type": "stream",
     "text": [
      "SciPy results:\n",
      "f = 2.2521715696719777\n",
      "p = 0.09893276872587471\n"
     ]
    }
   ],
   "source": [
    "# Let us check the results using SciPy. Scipy wants the columns so we give it that:\n",
    "columns_mat = data_mat.T  # Do one column at a time instead of a row\n",
    "fval, pval = scipy.stats.f_oneway(*columns_mat)\n",
    "# The \"*\" here gives each row of columns_mat as a unique input to the function\n",
    "print(\"SciPy results:\")\n",
    "print(f\"f = {fval}\")\n",
    "print(f\"p = {pval}\")"
   ]
  },
  {
   "cell_type": "markdown",
   "metadata": {},
   "source": [
    "We then check with statsmodels. For statsmodels, we first have to reorganize the data:"
   ]
  },
  {
   "cell_type": "code",
   "execution_count": 12,
   "metadata": {},
   "outputs": [
    {
     "data": {
      "text/html": [
       "<div>\n",
       "<style scoped>\n",
       "    .dataframe tbody tr th:only-of-type {\n",
       "        vertical-align: middle;\n",
       "    }\n",
       "\n",
       "    .dataframe tbody tr th {\n",
       "        vertical-align: top;\n",
       "    }\n",
       "\n",
       "    .dataframe thead th {\n",
       "        text-align: right;\n",
       "    }\n",
       "</style>\n",
       "<table border=\"1\" class=\"dataframe\">\n",
       "  <thead>\n",
       "    <tr style=\"text-align: right;\">\n",
       "      <th></th>\n",
       "      <th>index</th>\n",
       "      <th>variable</th>\n",
       "      <th>value</th>\n",
       "    </tr>\n",
       "  </thead>\n",
       "  <tbody>\n",
       "    <tr>\n",
       "      <th>0</th>\n",
       "      <td>0</td>\n",
       "      <td>50 g/bu</td>\n",
       "      <td>13.2</td>\n",
       "    </tr>\n",
       "    <tr>\n",
       "      <th>1</th>\n",
       "      <td>1</td>\n",
       "      <td>50 g/bu</td>\n",
       "      <td>12.4</td>\n",
       "    </tr>\n",
       "    <tr>\n",
       "      <th>2</th>\n",
       "      <td>2</td>\n",
       "      <td>50 g/bu</td>\n",
       "      <td>12.8</td>\n",
       "    </tr>\n",
       "    <tr>\n",
       "      <th>3</th>\n",
       "      <td>3</td>\n",
       "      <td>50 g/bu</td>\n",
       "      <td>17.2</td>\n",
       "    </tr>\n",
       "    <tr>\n",
       "      <th>4</th>\n",
       "      <td>4</td>\n",
       "      <td>50 g/bu</td>\n",
       "      <td>13.0</td>\n",
       "    </tr>\n",
       "    <tr>\n",
       "      <th>5</th>\n",
       "      <td>5</td>\n",
       "      <td>50 g/bu</td>\n",
       "      <td>14.0</td>\n",
       "    </tr>\n",
       "    <tr>\n",
       "      <th>6</th>\n",
       "      <td>6</td>\n",
       "      <td>50 g/bu</td>\n",
       "      <td>14.2</td>\n",
       "    </tr>\n",
       "    <tr>\n",
       "      <th>7</th>\n",
       "      <td>7</td>\n",
       "      <td>50 g/bu</td>\n",
       "      <td>21.6</td>\n",
       "    </tr>\n",
       "    <tr>\n",
       "      <th>8</th>\n",
       "      <td>8</td>\n",
       "      <td>50 g/bu</td>\n",
       "      <td>15.0</td>\n",
       "    </tr>\n",
       "    <tr>\n",
       "      <th>9</th>\n",
       "      <td>9</td>\n",
       "      <td>50 g/bu</td>\n",
       "      <td>20.0</td>\n",
       "    </tr>\n",
       "    <tr>\n",
       "      <th>10</th>\n",
       "      <td>0</td>\n",
       "      <td>100 g/bu</td>\n",
       "      <td>16.0</td>\n",
       "    </tr>\n",
       "    <tr>\n",
       "      <th>11</th>\n",
       "      <td>1</td>\n",
       "      <td>100 g/bu</td>\n",
       "      <td>12.6</td>\n",
       "    </tr>\n",
       "    <tr>\n",
       "      <th>12</th>\n",
       "      <td>2</td>\n",
       "      <td>100 g/bu</td>\n",
       "      <td>14.8</td>\n",
       "    </tr>\n",
       "    <tr>\n",
       "      <th>13</th>\n",
       "      <td>3</td>\n",
       "      <td>100 g/bu</td>\n",
       "      <td>13.0</td>\n",
       "    </tr>\n",
       "    <tr>\n",
       "      <th>14</th>\n",
       "      <td>4</td>\n",
       "      <td>100 g/bu</td>\n",
       "      <td>14.0</td>\n",
       "    </tr>\n",
       "    <tr>\n",
       "      <th>15</th>\n",
       "      <td>5</td>\n",
       "      <td>100 g/bu</td>\n",
       "      <td>23.6</td>\n",
       "    </tr>\n",
       "    <tr>\n",
       "      <th>16</th>\n",
       "      <td>6</td>\n",
       "      <td>100 g/bu</td>\n",
       "      <td>14.0</td>\n",
       "    </tr>\n",
       "    <tr>\n",
       "      <th>17</th>\n",
       "      <td>7</td>\n",
       "      <td>100 g/bu</td>\n",
       "      <td>17.0</td>\n",
       "    </tr>\n",
       "    <tr>\n",
       "      <th>18</th>\n",
       "      <td>8</td>\n",
       "      <td>100 g/bu</td>\n",
       "      <td>22.2</td>\n",
       "    </tr>\n",
       "    <tr>\n",
       "      <th>19</th>\n",
       "      <td>9</td>\n",
       "      <td>100 g/bu</td>\n",
       "      <td>24.4</td>\n",
       "    </tr>\n",
       "    <tr>\n",
       "      <th>20</th>\n",
       "      <td>0</td>\n",
       "      <td>200 g/bu</td>\n",
       "      <td>7.8</td>\n",
       "    </tr>\n",
       "    <tr>\n",
       "      <th>21</th>\n",
       "      <td>1</td>\n",
       "      <td>200 g/bu</td>\n",
       "      <td>14.4</td>\n",
       "    </tr>\n",
       "    <tr>\n",
       "      <th>22</th>\n",
       "      <td>2</td>\n",
       "      <td>200 g/bu</td>\n",
       "      <td>20.0</td>\n",
       "    </tr>\n",
       "    <tr>\n",
       "      <th>23</th>\n",
       "      <td>3</td>\n",
       "      <td>200 g/bu</td>\n",
       "      <td>15.8</td>\n",
       "    </tr>\n",
       "    <tr>\n",
       "      <th>24</th>\n",
       "      <td>4</td>\n",
       "      <td>200 g/bu</td>\n",
       "      <td>17.0</td>\n",
       "    </tr>\n",
       "    <tr>\n",
       "      <th>25</th>\n",
       "      <td>5</td>\n",
       "      <td>200 g/bu</td>\n",
       "      <td>27.0</td>\n",
       "    </tr>\n",
       "    <tr>\n",
       "      <th>26</th>\n",
       "      <td>6</td>\n",
       "      <td>200 g/bu</td>\n",
       "      <td>19.6</td>\n",
       "    </tr>\n",
       "    <tr>\n",
       "      <th>27</th>\n",
       "      <td>7</td>\n",
       "      <td>200 g/bu</td>\n",
       "      <td>18.0</td>\n",
       "    </tr>\n",
       "    <tr>\n",
       "      <th>28</th>\n",
       "      <td>8</td>\n",
       "      <td>200 g/bu</td>\n",
       "      <td>20.2</td>\n",
       "    </tr>\n",
       "    <tr>\n",
       "      <th>29</th>\n",
       "      <td>9</td>\n",
       "      <td>200 g/bu</td>\n",
       "      <td>23.2</td>\n",
       "    </tr>\n",
       "    <tr>\n",
       "      <th>30</th>\n",
       "      <td>0</td>\n",
       "      <td>400 g/bu</td>\n",
       "      <td>21.0</td>\n",
       "    </tr>\n",
       "    <tr>\n",
       "      <th>31</th>\n",
       "      <td>1</td>\n",
       "      <td>400 g/bu</td>\n",
       "      <td>14.8</td>\n",
       "    </tr>\n",
       "    <tr>\n",
       "      <th>32</th>\n",
       "      <td>2</td>\n",
       "      <td>400 g/bu</td>\n",
       "      <td>19.1</td>\n",
       "    </tr>\n",
       "    <tr>\n",
       "      <th>33</th>\n",
       "      <td>3</td>\n",
       "      <td>400 g/bu</td>\n",
       "      <td>15.8</td>\n",
       "    </tr>\n",
       "    <tr>\n",
       "      <th>34</th>\n",
       "      <td>4</td>\n",
       "      <td>400 g/bu</td>\n",
       "      <td>18.0</td>\n",
       "    </tr>\n",
       "    <tr>\n",
       "      <th>35</th>\n",
       "      <td>5</td>\n",
       "      <td>400 g/bu</td>\n",
       "      <td>26.0</td>\n",
       "    </tr>\n",
       "    <tr>\n",
       "      <th>36</th>\n",
       "      <td>6</td>\n",
       "      <td>400 g/bu</td>\n",
       "      <td>21.1</td>\n",
       "    </tr>\n",
       "    <tr>\n",
       "      <th>37</th>\n",
       "      <td>7</td>\n",
       "      <td>400 g/bu</td>\n",
       "      <td>22.0</td>\n",
       "    </tr>\n",
       "    <tr>\n",
       "      <th>38</th>\n",
       "      <td>8</td>\n",
       "      <td>400 g/bu</td>\n",
       "      <td>25.0</td>\n",
       "    </tr>\n",
       "    <tr>\n",
       "      <th>39</th>\n",
       "      <td>9</td>\n",
       "      <td>400 g/bu</td>\n",
       "      <td>18.2</td>\n",
       "    </tr>\n",
       "  </tbody>\n",
       "</table>\n",
       "</div>"
      ],
      "text/plain": [
       "    index  variable  value\n",
       "0       0   50 g/bu   13.2\n",
       "1       1   50 g/bu   12.4\n",
       "2       2   50 g/bu   12.8\n",
       "3       3   50 g/bu   17.2\n",
       "4       4   50 g/bu   13.0\n",
       "5       5   50 g/bu   14.0\n",
       "6       6   50 g/bu   14.2\n",
       "7       7   50 g/bu   21.6\n",
       "8       8   50 g/bu   15.0\n",
       "9       9   50 g/bu   20.0\n",
       "10      0  100 g/bu   16.0\n",
       "11      1  100 g/bu   12.6\n",
       "12      2  100 g/bu   14.8\n",
       "13      3  100 g/bu   13.0\n",
       "14      4  100 g/bu   14.0\n",
       "15      5  100 g/bu   23.6\n",
       "16      6  100 g/bu   14.0\n",
       "17      7  100 g/bu   17.0\n",
       "18      8  100 g/bu   22.2\n",
       "19      9  100 g/bu   24.4\n",
       "20      0  200 g/bu    7.8\n",
       "21      1  200 g/bu   14.4\n",
       "22      2  200 g/bu   20.0\n",
       "23      3  200 g/bu   15.8\n",
       "24      4  200 g/bu   17.0\n",
       "25      5  200 g/bu   27.0\n",
       "26      6  200 g/bu   19.6\n",
       "27      7  200 g/bu   18.0\n",
       "28      8  200 g/bu   20.2\n",
       "29      9  200 g/bu   23.2\n",
       "30      0  400 g/bu   21.0\n",
       "31      1  400 g/bu   14.8\n",
       "32      2  400 g/bu   19.1\n",
       "33      3  400 g/bu   15.8\n",
       "34      4  400 g/bu   18.0\n",
       "35      5  400 g/bu   26.0\n",
       "36      6  400 g/bu   21.1\n",
       "37      7  400 g/bu   22.0\n",
       "38      8  400 g/bu   25.0\n",
       "39      9  400 g/bu   18.2"
      ]
     },
     "execution_count": 12,
     "metadata": {},
     "output_type": "execute_result"
    }
   ],
   "source": [
    "data_melt = pd.melt(\n",
    "    data.reset_index(), id_vars=[\"index\"], value_vars=data.columns\n",
    ")\n",
    "data_melt"
   ]
  },
  {
   "cell_type": "code",
   "execution_count": 13,
   "metadata": {},
   "outputs": [
    {
     "name": "stdout",
     "output_type": "stream",
     "text": [
      "Statsmodels results:\n"
     ]
    },
    {
     "data": {
      "text/html": [
       "<div>\n",
       "<style scoped>\n",
       "    .dataframe tbody tr th:only-of-type {\n",
       "        vertical-align: middle;\n",
       "    }\n",
       "\n",
       "    .dataframe tbody tr th {\n",
       "        vertical-align: top;\n",
       "    }\n",
       "\n",
       "    .dataframe thead th {\n",
       "        text-align: right;\n",
       "    }\n",
       "</style>\n",
       "<table border=\"1\" class=\"dataframe\">\n",
       "  <thead>\n",
       "    <tr style=\"text-align: right;\">\n",
       "      <th></th>\n",
       "      <th>sum_sq</th>\n",
       "      <th>df</th>\n",
       "      <th>F</th>\n",
       "      <th>PR(&gt;F)</th>\n",
       "    </tr>\n",
       "  </thead>\n",
       "  <tbody>\n",
       "    <tr>\n",
       "      <th>C(variable)</th>\n",
       "      <td>119.787</td>\n",
       "      <td>3.0</td>\n",
       "      <td>2.252172</td>\n",
       "      <td>0.098933</td>\n",
       "    </tr>\n",
       "    <tr>\n",
       "      <th>Residual</th>\n",
       "      <td>638.248</td>\n",
       "      <td>36.0</td>\n",
       "      <td>NaN</td>\n",
       "      <td>NaN</td>\n",
       "    </tr>\n",
       "  </tbody>\n",
       "</table>\n",
       "</div>"
      ],
      "text/plain": [
       "              sum_sq    df         F    PR(>F)\n",
       "C(variable)  119.787   3.0  2.252172  0.098933\n",
       "Residual     638.248  36.0       NaN       NaN"
      ]
     },
     "execution_count": 13,
     "metadata": {},
     "output_type": "execute_result"
    }
   ],
   "source": [
    "import statsmodels.api as sm\n",
    "from statsmodels.formula.api import ols\n",
    "\n",
    "model = ols(\"value ~ C(variable)\", data=data_melt).fit()\n",
    "table = sm.stats.anova_lm(model, typ=2)\n",
    "print(\"Statsmodels results:\")\n",
    "table"
   ]
  },
  {
   "cell_type": "markdown",
   "metadata": {},
   "source": [
    "#### Your answer to question 2.2(i):\n",
    "Both codes above gives a similar answer to the one we found."
   ]
  }
 ],
 "metadata": {
  "kernelspec": {
   "display_name": "Python 3 (ipykernel)",
   "language": "python",
   "name": "python3"
  },
  "language_info": {
   "codemirror_mode": {
    "name": "ipython",
    "version": 3
   },
   "file_extension": ".py",
   "mimetype": "text/x-python",
   "name": "python",
   "nbconvert_exporter": "python",
   "pygments_lexer": "ipython3",
   "version": "3.10.6"
  }
 },
 "nbformat": 4,
 "nbformat_minor": 2
}
