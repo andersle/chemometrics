{
 "cells": [
  {
   "cell_type": "code",
   "execution_count": null,
   "metadata": {},
   "outputs": [],
   "source": [
    "# Imports\n",
    "import pandas as pd # To read the data\n",
    "import matplotlib.pyplot as plt # For plotting\n",
    "from pandas.plotting import scatter_matrix  # For plotting\n",
    "import numpy as np # For matrices and vectors\n",
    "from sklearn.preprocessing import StandardScaler  # For scaling data\n",
    "from sklearn.linear_model import LinearRegression, Lasso  # Alternative for fitting\n",
    "from sklearn.metrics import r2_score  # For calculating R²\n",
    "from sklearn.model_selection import train_test_split  # For splitting into test and training set\n",
    "plt.style.use('seaborn-notebook')"
   ]
  },
  {
   "cell_type": "markdown",
   "metadata": {},
   "source": [
    "The data we will look at is:\n",
    "\n",
    "| Label  | Description              |             Unit |\n",
    "|:-------|:-------------------------|-----------------:|\n",
    "| BP     | Blood pressure           |             mmHg |\n",
    "| Age    | Age                      |            years |\n",
    "| Weight | Weight                   |               kg |\n",
    "| BSA    | Body surface area        |            m$^2$ |\n",
    "| DUR    | Duration of hypertension |            years |\n",
    "| Pulse  | Basal heart rate         | beats per minute |\n",
    "| Stress | Stress index             |              --- |\n",
    "\n",
    "And we will attempt to model the blood pressure with a linear model:\n",
    "\n",
    "$$\\text{BP} = \\text{constant} + a_0 \\times \\text{Age} + a_1 \\times \\text{Weight} + a_2 \\times \\text{BSA} + a_3 \\times \\text{DUR} + a_4 \\times \\text{Pulse} + a_4 \\times \\text{Stress}$$"
   ]
  },
  {
   "cell_type": "code",
   "execution_count": null,
   "metadata": {},
   "outputs": [],
   "source": [
    "# We start by getting the raw data:\n",
    "data = pd.read_csv('Data/bloodpress.txt', delim_whitespace=True)\n",
    "data"
   ]
  },
  {
   "cell_type": "code",
   "execution_count": null,
   "metadata": {},
   "outputs": [],
   "source": [
    "# Let ut scale the raw data to zero average and unit variance:\n",
    "data = pd.DataFrame(StandardScaler().fit_transform(data),columns=data.columns)\n",
    "data"
   ]
  },
  {
   "cell_type": "markdown",
   "metadata": {},
   "source": [
    "Before we start making our model, it is a good idea to check possible correlations between the different variables.\n",
    "\n",
    "One way of investigating correlations (to see what variables might be correlated) is to calculate the\n",
    "[Pearson correlation coefficient](https://en.wikipedia.org/wiki/Pearson_correlation_coefficient) between all pairs of variables. This is relatively easy with pandas as there is a [method to do just that](https://pandas.pydata.org/pandas-docs/stable/reference/api/pandas.DataFrame.corr.html). Let us do this, and display the results to get some idea about possible correlations between variables:"
   ]
  },
  {
   "cell_type": "code",
   "execution_count": null,
   "metadata": {},
   "outputs": [],
   "source": [
    "# Check correlation between variables:\n",
    "correlation = data.corr()\n",
    "correlation.style.background_gradient(cmap='Blues')"
   ]
  },
  {
   "cell_type": "code",
   "execution_count": null,
   "metadata": {},
   "outputs": [],
   "source": [
    "# We can also visualize correlations by plotting pairs of variables:\n",
    "scatter_matrix(data, alpha=0.8, figsize=(12, 12), diagonal='hist');"
   ]
  },
  {
   "cell_type": "code",
   "execution_count": null,
   "metadata": {},
   "outputs": [],
   "source": [
    "y = data['BP'].values\n",
    "variables = ['Age', 'Weight', 'BSA', 'Dur', 'Pulse', 'Stress']\n",
    "X = data[variables].values"
   ]
  },
  {
   "cell_type": "code",
   "execution_count": null,
   "metadata": {},
   "outputs": [],
   "source": [
    "# Split into training and test set:\n",
    "X_train, X_test, y_train, y_test = train_test_split(X, y, shuffle=True, random_state=10)"
   ]
  },
  {
   "cell_type": "code",
   "execution_count": null,
   "metadata": {},
   "outputs": [],
   "source": [
    "# y for training set:\n",
    "y_train"
   ]
  },
  {
   "cell_type": "code",
   "execution_count": null,
   "metadata": {},
   "outputs": [],
   "source": [
    "# y for test set:\n",
    "y_test"
   ]
  },
  {
   "cell_type": "code",
   "execution_count": null,
   "metadata": {},
   "outputs": [],
   "source": [
    "def fit_model(model, X_train, y_train, X_test, y_test):\n",
    "    \"\"\"Method for fitting a model and calculating R²\"\"\"\n",
    "    model.fit(X_train, y_train)\n",
    "    y_hat = {\n",
    "        'train': model.predict(X_train),\n",
    "        'test': model.predict(X_test),\n",
    "    }\n",
    "    r2 = {\n",
    "        'train': r2_score(y_train, y_hat['train']),\n",
    "        'test': r2_score(y_test, y_hat['test']),\n",
    "    }\n",
    "    return y_hat, r2\n",
    "\n",
    "\n",
    "def add_xy_line(axi):\n",
    "    \"\"\"Add x=y line to a plot.\"\"\"\n",
    "    xlim = axi.get_xlim()\n",
    "    ylim = axi.get_ylim()\n",
    "    limits = min(xlim + ylim), max(xlim + ylim)\n",
    "    axi.plot(limits, limits, color='black', ls=':')\n",
    "    axi.set_xlim(xlim)\n",
    "    axi.set_xlim(ylim)"
   ]
  },
  {
   "cell_type": "code",
   "execution_count": null,
   "metadata": {},
   "outputs": [],
   "source": [
    "linear = LinearRegression(fit_intercept=False)\n",
    "y_hat_linear, r2_linear = fit_model(linear, X_train, y_train, X_test, y_test)\n",
    "\n",
    "# Plot measured vs. predicted:\n",
    "fig_linear, ax_linear = plt.subplots(constrained_layout=True)\n",
    "ax_linear.scatter(y_train, y_hat_linear['train'], label='Training', s=150)\n",
    "ax_linear.scatter(y_test, y_hat_linear['test'], label='Test', s=150, marker='X')\n",
    "ax_linear.set(xlabel='y', ylabel='ŷ')\n",
    "ax_linear.legend()\n",
    "add_xy_line(ax_linear)\n",
    "\n",
    "# Print R²:\n",
    "print(f\"R² (training) = {r2_linear['train']:6.4f}\")\n",
    "print(f\"R² (test) = {r2_linear['test']:6.4f}\")"
   ]
  },
  {
   "cell_type": "code",
   "execution_count": null,
   "metadata": {},
   "outputs": [],
   "source": [
    "table_linear = pd.DataFrame.from_dict(\n",
    "    {'b': linear.coef_, 'variable': variables}\n",
    ")\n",
    "table_linear"
   ]
  },
  {
   "cell_type": "code",
   "execution_count": null,
   "metadata": {},
   "outputs": [],
   "source": [
    "ax0 = table_linear.plot.bar(x='variable', y='b');\n",
    "ax0.axhline(y=0, ls=':', color='black');"
   ]
  },
  {
   "cell_type": "code",
   "execution_count": null,
   "metadata": {},
   "outputs": [],
   "source": [
    "lasso = Lasso(alpha=0.05, fit_intercept=False)\n",
    "y_hat_lasso, r2_lasso = fit_model(lasso, X_train, y_train, X_test, y_test)\n",
    "\n",
    "# Plot measured vs. predicted:\n",
    "fig_lasso, ax_lasso = plt.subplots(constrained_layout=True)\n",
    "ax_lasso.scatter(y_train, y_hat_lasso['train'], label='Training', s=150)\n",
    "ax_lasso.scatter(y_test, y_hat_lasso['test'], label='Test', s=150, marker='X')\n",
    "ax_lasso.set(xlabel='y', ylabel='ŷ')\n",
    "ax_lasso.legend()\n",
    "add_xy_line(ax_lasso)\n",
    "\n",
    "# Print R²:\n",
    "print(f\"R² (training) = {r2_lasso['train']:6.4f}\")\n",
    "print(f\"R² (test) = {r2_lasso['test']:6.4f}\")"
   ]
  },
  {
   "cell_type": "code",
   "execution_count": null,
   "metadata": {},
   "outputs": [],
   "source": [
    "table_lasso = pd.DataFrame.from_dict(\n",
    "    {\n",
    "        'b (least squares)': linear.coef_,\n",
    "        'b (lasso)': lasso.coef_,\n",
    "        'variable': variables,\n",
    "    }\n",
    ")\n",
    "table_lasso"
   ]
  },
  {
   "cell_type": "code",
   "execution_count": null,
   "metadata": {},
   "outputs": [],
   "source": [
    "table_lasso.plot.bar(x='variable', y='b (lasso)');"
   ]
  },
  {
   "cell_type": "code",
   "execution_count": null,
   "metadata": {},
   "outputs": [],
   "source": [
    "axl = table_lasso.plot.bar(x='variable', y=['b (lasso)', 'b (least squares)'])\n",
    "axl.axhline(y=0, ls=':', color='black');"
   ]
  },
  {
   "cell_type": "code",
   "execution_count": null,
   "metadata": {},
   "outputs": [],
   "source": [
    "# We can also try manually to create a model with just one of the variables:\n",
    "y = data['BP'].values\n",
    "W = data[['Weight']].values\n",
    "linear2 = LinearRegression(fit_intercept=False)\n",
    "linear2.fit(W, y)\n",
    "r2_linear2 = r2_score(y, linear2.predict(W))\n",
    "\n",
    "fig_linear2, ax_linear2 = plt.subplots(constrained_layout=True)\n",
    "ax_linear2.scatter(W, y, s=150)\n",
    "ax_linear2.set(xlabel='weight', ylabel='BP')\n",
    "x = np.array([-2, 2]).reshape(-1, 1)\n",
    "y_p = linear2.predict(x)\n",
    "ax_linear2.plot(x, y_p, color='black',\n",
    "                label=f'BP = {linear2.coef_[0]:4.2f} × weight, R² = {r2_linear2:6.4f}')\n",
    "ax_linear2.legend();"
   ]
  }
 ],
 "metadata": {
  "kernelspec": {
   "display_name": "Python 3",
   "language": "python",
   "name": "python3"
  },
  "language_info": {
   "codemirror_mode": {
    "name": "ipython",
    "version": 3
   },
   "file_extension": ".py",
   "mimetype": "text/x-python",
   "name": "python",
   "nbconvert_exporter": "python",
   "pygments_lexer": "ipython3",
   "version": "3.9.1"
  }
 },
 "nbformat": 4,
 "nbformat_minor": 4
}
