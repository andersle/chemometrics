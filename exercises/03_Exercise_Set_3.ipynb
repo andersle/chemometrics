{
 "cells": [
  {
   "cell_type": "markdown",
   "metadata": {},
   "source": [
    "**Exercise set 3**\n",
    "==============\n",
    "\n",
    "\n",
    ">The goal of this exercise is to investigate some theoretical properties of the solution to\n",
    ">the (multiple) linear regression problem, and to perform a **least-squares regression**.\n",
    ">We will also see how we can evaluate our regression model by investigating **residuals**.\n",
    "\n",
    "\n",
    "**Exercise 3.1**\n",
    "\n",
    "Multiple linear regression (MLR) solves the regression equation $\\mathbf{Y} = \\mathbf{X}\\mathbf{B}$ with\n",
    "$\\mathbf{B} = (\\mathbf{X}^\\mathrm{T} \\mathbf{X})^{-1} \\mathbf{X}^\\mathrm{T} \\mathbf{Y}$\n",
    "where the\n",
    "dimensions of the data matrix $\\mathbf{X}$ is $[N \\times M]$.\n",
    "Will this solution work when (please explain why/why not):\n",
    "\n",
    "\n",
    "**(a)** $\\det \\left( \\mathbf{X}^\\mathrm{T} \\mathbf{X} \\right) = 0$?\n",
    "\n",
    "**(b)** $\\det \\left( \\mathbf{X}^\\mathrm{T} \\mathbf{X} \\right) > 0$?\n",
    "\n",
    "**(c)** $\\det \\left( \\mathbf{X}^\\mathrm{T} \\mathbf{X} \\right) \\neq 0$?\n",
    "\n",
    "**(d)** The variables in $\\mathbf{X}$ are correlated?\n",
    "\n",
    "**(e)** The columns in $\\mathbf{X}$ are orthogonal?\n",
    "\n",
    "**(f)** The rank of $\\mathbf{X}$ is $\\frac{\\min(N, M)}{2}$?\n",
    "\n",
    "**(g)** We have more variables than samples/objects (more columns than rows in $\\mathbf{X}$)?\n",
    "\n",
    "**(h)** When we have more samples/objects than variables (more rows than columns in $\\mathbf{X}$)?"
   ]
  },
  {
   "cell_type": "markdown",
   "metadata": {},
   "source": [
    "**Your answer to question 3.1:** *Double click here*"
   ]
  },
  {
   "cell_type": "markdown",
   "metadata": {},
   "source": [
    "\n",
    "**Exercise 3.2**\n",
    "\n",
    "As stated in the previous problem, the MLR solution of the equation\n",
    "$\\mathbf{Y} = \\mathbf{X}\\mathbf{B}$ is\n",
    "\n",
    "\\begin{equation}\n",
    "\\mathbf{B} = (\\mathbf{X}^\\mathrm{T} \\mathbf{X})^{-1} \\mathbf{X}^\\mathrm{T} \\mathbf{Y}.\n",
    "\\end{equation}\n",
    "\n",
    "If we let $\\hat{\\mathbf{Y}}$ be the values calculated by the MLR solution, we can write\n",
    "this as,\n",
    "\\begin{equation}\n",
    "\\hat{\\mathbf{Y}} = \\mathbf{X}\\mathbf{B} =\n",
    "\\mathbf{X} \\left[ (\\mathbf{X}^\\mathrm{T} \\mathbf{X})^{-1} \\mathbf{X}^\\mathrm{T} \\mathbf{Y} \\right] = \n",
    "\\left[\\mathbf{X} (\\mathbf{X}^\\mathrm{T} \\mathbf{X})^{-1} \\mathbf{X}^\\mathrm{T}\\right] \\mathbf{Y} =\n",
    "\\mathbf{H} \\mathbf{Y},\n",
    "\\tag{1}\\end{equation}\n",
    "\n",
    "where we have defined the projection matrix, $\\mathbf{H}$, as,\n",
    "\\begin{equation}\n",
    "\\mathbf{H} = \\mathbf{X} \\left(\\mathbf{X}^\\mathrm{T} \\mathbf{X}\\right)^{-1} \\mathbf{X}^\\mathrm{T}.\n",
    "\\label{eq:projectionmatrix}\n",
    "\\tag{2}\\end{equation}\n",
    "\n",
    "This means that we can write the residual, $\\mathbf{E}$, as,\n",
    "\\begin{equation}\n",
    "\\mathbf{E} = \\mathbf{Y} - \\hat{\\mathbf{Y}} = \\mathbf{Y} - \\mathbf{H} \\mathbf{Y} =\n",
    "(\\mathbf{I} -\\mathbf{H}) \\mathbf{Y},\n",
    "\\tag{3}\\end{equation}\n",
    "\n",
    "where $\\mathbf{I}$ is the identity matrix.\n",
    "\n",
    "In this exercise, we will show two properties of $\\mathbf{H}$ that enables us to simplify\n",
    "the squared error, $\\mathbf{E}^\\mathrm{T} \\mathbf{E}$, as follows,\n",
    "\n",
    "\\begin{equation}\n",
    "\\mathbf{E}^\\mathrm{T} \\mathbf{E} = \\mathbf{Y}^\\mathrm{T} (\\mathbf{I} -\\mathbf{H})^\\mathrm{T}\n",
    "(\\mathbf{I} -\\mathbf{H}) \\mathbf{Y} = \n",
    "\\mathbf{Y}^\\mathrm{T} (\\mathbf{I} -\\mathbf{H}) \\mathbf{Y}.\n",
    "\\tag{4}\\end{equation}\n",
    "\n",
    "In this equation, the last equality follows from the following two properties of $\\mathbf{H}$:\n",
    "\n",
    "**(a)**  $\\mathbf{H}$ is *symmetric*: $\\mathbf{H}^\\mathrm{T} = \\mathbf{H}$.\n",
    "\n",
    "**(b)**  $\\mathbf{H}$ is *idempotent*: $\\mathbf{H}^{k} = \\mathbf{H}$ where $k > 0$ is an integer."
   ]
  },
  {
   "cell_type": "markdown",
   "metadata": {},
   "source": [
    "Show these two properties for $\\mathbf{H}$. (Hint: For the idempotency, begin by showing that $\\mathbf{H}^{2} = \\mathbf{H}$.)"
   ]
  },
  {
   "cell_type": "markdown",
   "metadata": {},
   "source": [
    "**Your answer to question 3.2:** *Double click here*"
   ]
  },
  {
   "cell_type": "markdown",
   "metadata": {},
   "source": [
    "**Exercise 3.3**\n",
    "\n",
    "In the regression problem $\\mathbf{y} = \\mathbf{X}\\mathbf{b}$\n",
    "we find the least-squares solution assuming that $\\mathbf{X}^\\mathrm{T} \\mathbf{X}$ is\n",
    "non-singular. If you are given the information that $\\mathbf{X}$ is symmetric\n",
    "and non-singular, is there another\n",
    "simpler formula for estimating the regression coefficients ($\\mathbf{b}$)?\n",
    "\n"
   ]
  },
  {
   "cell_type": "markdown",
   "metadata": {},
   "source": [
    "**Your answer to question 3.3:** *Double click here*"
   ]
  },
  {
   "cell_type": "markdown",
   "metadata": {},
   "source": [
    "**Exercise 3.4**\n",
    "\n",
    "Assume that we have recorded data as shown in Fig. 1.\n",
    "\n",
    "![Fig1](Figures/Fig_3_1.png)\n",
    "**Fig. 1:** Example data.\n",
    "\n",
    "To model this data, we suggest a third-order polynomial in $x$:\n",
    "\\begin{equation}\n",
    "\\hat{y} = b_0 + b_1 x + b_2 x^2 + b_3 x^3 .\n",
    "\\end{equation}\n",
    "\n",
    "Explain how you can formulate this on a form suitable for least-squares regression,\n",
    "$\\mathbf{y} = \\mathbf{X} \\mathbf{b}$.\n",
    "What do the vectors $\\mathbf{y}$ and $\\mathbf{b}$ contain? What does the matrix $\\mathbf{X}$ contain?\n",
    "\n"
   ]
  },
  {
   "cell_type": "markdown",
   "metadata": {},
   "source": [
    "**Your answer to question 3.4:** *Double click here*"
   ]
  },
  {
   "cell_type": "markdown",
   "metadata": {},
   "source": [
    "**Exercise 3.5**\n",
    "\n",
    "The temperature (°C) is measured continuously over time at a high altitude\n",
    "in the atmosphere using a\n",
    "weather balloon. Every hour a measurement is made and sent to an on-board computer.\n",
    "The measurements are \n",
    "shown in Fig. 2 and can be found in [the data file](Data/temperature.txt) (located at 'Data/temperature.txt').\n",
    "\n",
    "![Fig2](Figures/Fig_3_2.png)\n",
    "**Fig. 2:** Measured temperature as a function of time.\n",
    "\n",
    "**(a)**  Create a Python script that performs polynomial\n",
    "fitting to the data using a first, second, third, fourth,\n",
    "and fifth order polynomial model. Hint: Make use of `numpy`, `matplotlib`\n",
    "and `pandas`."
   ]
  },
  {
   "cell_type": "code",
   "execution_count": null,
   "metadata": {},
   "outputs": [],
   "source": [
    "# Your code here"
   ]
  },
  {
   "cell_type": "markdown",
   "metadata": {},
   "source": [
    "**(b)**  Plot the fitted curves for the five models to the raw data.\n",
    "\n"
   ]
  },
  {
   "cell_type": "code",
   "execution_count": null,
   "metadata": {},
   "outputs": [],
   "source": [
    "# Your code here"
   ]
  },
  {
   "cell_type": "markdown",
   "metadata": {},
   "source": [
    "**(c)** Plot the residual curves for the five models and determine,\n",
    "from a visual inspection, the best polynomial order to use for modeling the\n",
    "temperature as a function of time. \n",
    "\n"
   ]
  },
  {
   "cell_type": "code",
   "execution_count": null,
   "metadata": {},
   "outputs": [],
   "source": [
    "# Your code here"
   ]
  },
  {
   "cell_type": "markdown",
   "metadata": {},
   "source": [
    "**Your answer to question 3.5(c):** *Double click here*"
   ]
  },
  {
   "cell_type": "markdown",
   "metadata": {},
   "source": [
    "**(d)**  Obtain the sum of squared residuals for each polynomial. Plot this as a function\n",
    "of the degree of the polynomial and determine from visual inspection\n",
    "the best polynomial order to use for modeling the\n",
    "temperature as a function of time. Does this agree with your conclusion in point **3.5(c)**?\n"
   ]
  },
  {
   "cell_type": "code",
   "execution_count": null,
   "metadata": {},
   "outputs": [],
   "source": [
    "# Your code here"
   ]
  },
  {
   "cell_type": "markdown",
   "metadata": {},
   "source": [
    "**Your answer to question 3.5(d):** *Double click here*"
   ]
  },
  {
   "cell_type": "markdown",
   "metadata": {},
   "source": [
    "\n"
   ]
  }
 ],
 "metadata": {
  "kernelspec": {
   "display_name": "Python 3",
   "language": "python",
   "name": "python3"
  },
  "language_info": {
   "codemirror_mode": {
    "name": "ipython",
    "version": 3
   },
   "file_extension": ".py",
   "mimetype": "text/x-python",
   "name": "python",
   "nbconvert_exporter": "python",
   "pygments_lexer": "ipython3",
   "version": "3.9.1"
  }
 },
 "nbformat": 4,
 "nbformat_minor": 2
}
