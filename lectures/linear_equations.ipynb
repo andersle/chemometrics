{
 "cells": [
  {
   "cell_type": "code",
   "execution_count": null,
   "id": "7c42d28a",
   "metadata": {},
   "outputs": [],
   "source": [
    "import numpy as np\n",
    "import scipy"
   ]
  },
  {
   "cell_type": "markdown",
   "id": "d093ca55",
   "metadata": {},
   "source": [
    "# A 3-by-3 Example\n",
    "\n",
    "This section will repeat some of the calculation in sections 2.3 - 2.9 from [Numerical Computing with MATLAB](https://se.mathworks.com/moler/chapters.html). The first example is\n",
    "\n",
    "\\begin{equation*}\n",
    "\\left( \\begin{matrix}10 & -7 & 0\\\\-3 & 2 & 6\\\\5 & -1 & 5\\end{matrix} \\right) \n",
    "\\left( \\begin{matrix} x_1 \\\\ x_2 \\\\ x_3 \\end{matrix} \\right) =\n",
    "\\left( \\begin{matrix} 7 \\\\ 4 \\\\ 6 \\end{matrix} \\right)\n",
    "\\end{equation*}\n",
    "\n",
    "To do some computations, we define:\n",
    "\n",
    "\\begin{equation*}\n",
    "\\mathbf{A} = \\left( \\begin{matrix}10 & -7 & 0\\\\-3 & 2 & 6\\\\5 & -1 & 5\\end{matrix} \\right),\n",
    "\\quad\n",
    "\\mathbf{x} = \\left( \\begin{matrix} x_1 \\\\ x_2 \\\\ x_3 \\end{matrix} \\right),\n",
    "\\quad\n",
    "\\mathbf{b} = \\left( \\begin{matrix} 7 \\\\ 4 \\\\ 6 \\end{matrix} \\right)\n",
    "\\end{equation*}\n"
   ]
  },
  {
   "cell_type": "code",
   "execution_count": null,
   "id": "ea564c83",
   "metadata": {},
   "outputs": [],
   "source": [
    "A = np.array(\n",
    "    [\n",
    "        [10, -7, 0],\n",
    "        [-3, 2, 6],\n",
    "        [5, -1, 5],\n",
    "    ]\n",
    ")\n",
    "A"
   ]
  },
  {
   "cell_type": "markdown",
   "id": "95809d97",
   "metadata": {},
   "source": [
    "We verify that A is a 3-by-3 matrix:"
   ]
  },
  {
   "cell_type": "code",
   "execution_count": null,
   "id": "78c1ed16",
   "metadata": {},
   "outputs": [],
   "source": [
    "print(f\"Shape of A: {A.shape}\")"
   ]
  },
  {
   "cell_type": "code",
   "execution_count": null,
   "id": "41133002",
   "metadata": {},
   "outputs": [],
   "source": [
    "b = np.array([7, 4, 6])\n",
    "b"
   ]
  },
  {
   "cell_type": "markdown",
   "id": "a742378c",
   "metadata": {},
   "source": [
    "We also very the shape of b:"
   ]
  },
  {
   "cell_type": "code",
   "execution_count": null,
   "id": "16104922",
   "metadata": {},
   "outputs": [],
   "source": [
    "print(f\"Shape of b: {b.shape}\")"
   ]
  },
  {
   "cell_type": "markdown",
   "id": "6a68571f",
   "metadata": {},
   "source": [
    "**Note:** We can make sure that $b$ is a column matrix, by doing the following (some methods in [scikit-learn](https://scikit-learn.org/stable/index.html), which we will use later in the course, require that we to this and they will complain otherwise):"
   ]
  },
  {
   "cell_type": "code",
   "execution_count": null,
   "id": "b4550b13",
   "metadata": {},
   "outputs": [],
   "source": [
    "b = b.reshape(-1, 1)\n",
    "b"
   ]
  },
  {
   "cell_type": "code",
   "execution_count": null,
   "id": "0d2d6019",
   "metadata": {},
   "outputs": [],
   "source": [
    "print(f\"Shape of b: {b.shape}\")"
   ]
  },
  {
   "cell_type": "markdown",
   "id": "55720260",
   "metadata": {},
   "source": [
    "Let us solve for $\\mathbf{x}$:"
   ]
  },
  {
   "cell_type": "code",
   "execution_count": null,
   "id": "bf55689c",
   "metadata": {},
   "outputs": [],
   "source": [
    "x = np.linalg.pinv(A) @ b\n",
    "x"
   ]
  },
  {
   "cell_type": "markdown",
   "id": "f52339dc",
   "metadata": {},
   "source": [
    "**Note:** We have used the [Moore-Penrose pseudo-inverse](https://en.wikipedia.org/wiki/Moore%E2%80%93Penrose_inverse) in the equation above ([`pinv`](https://numpy.org/doc/stable/reference/generated/numpy.linalg.pinv.html) from NumPy). This is a generalization of the matrix inverse. Unlike the regular inverse, which only works for certain square matrices, the pseudoinverse works for any matrix. \n",
    "\n",
    "**Note:** We use the `@` symbol for matrix multiplication."
   ]
  },
  {
   "cell_type": "markdown",
   "id": "b562b9b0",
   "metadata": {},
   "source": [
    "Let us try to find the LU factorization with [SciPy](https://docs.scipy.org/doc/scipy-1.15.0/reference/generated/scipy.linalg.lu.html) (you can compare the results with the matrices given on top of page 4):"
   ]
  },
  {
   "cell_type": "code",
   "execution_count": null,
   "id": "d3a42bc7",
   "metadata": {},
   "outputs": [],
   "source": [
    "P, L, U = scipy.linalg.lu(A)"
   ]
  },
  {
   "cell_type": "code",
   "execution_count": null,
   "id": "c4ba5f51",
   "metadata": {},
   "outputs": [],
   "source": [
    "P"
   ]
  },
  {
   "cell_type": "code",
   "execution_count": null,
   "id": "31917279",
   "metadata": {},
   "outputs": [],
   "source": [
    "L"
   ]
  },
  {
   "cell_type": "code",
   "execution_count": null,
   "id": "736a927f",
   "metadata": {},
   "outputs": [],
   "source": [
    "U"
   ]
  },
  {
   "cell_type": "markdown",
   "id": "5bfd7494",
   "metadata": {},
   "source": [
    "As a check, we test if $\\mathbf{L} \\mathbf{U} = \\mathbf{P} \\mathbf{A}$:"
   ]
  },
  {
   "cell_type": "code",
   "execution_count": null,
   "id": "8c0d6b2b",
   "metadata": {},
   "outputs": [],
   "source": [
    "np.allclose(L @ U, P @ A)"
   ]
  },
  {
   "cell_type": "markdown",
   "id": "ea11fc56",
   "metadata": {},
   "source": [
    "**Note:** [allclose](https://numpy.org/doc/stable/reference/generated/numpy.allclose.html)\n",
    " from NumPy checks if two arrays are element-wise equal within a tolerance. This is useful for comparing arrays with floating-point values, where exact equality might not be possible due to rounding errors."
   ]
  },
  {
   "cell_type": "markdown",
   "id": "6102d220",
   "metadata": {},
   "source": [
    "Let ut try to compute the norms given on page 16:"
   ]
  },
  {
   "cell_type": "code",
   "execution_count": null,
   "id": "f464fbc7",
   "metadata": {},
   "outputs": [],
   "source": [
    "x = np.arange(0.2, 1, 0.2)\n",
    "x"
   ]
  },
  {
   "cell_type": "code",
   "execution_count": null,
   "id": "0d7f369d",
   "metadata": {},
   "outputs": [],
   "source": [
    "np.linalg.norm(x, ord=1)"
   ]
  },
  {
   "cell_type": "code",
   "execution_count": null,
   "id": "9f722323",
   "metadata": {},
   "outputs": [],
   "source": [
    "np.linalg.norm(x)"
   ]
  },
  {
   "cell_type": "code",
   "execution_count": null,
   "id": "07161b66",
   "metadata": {},
   "outputs": [],
   "source": [
    "np.linalg.norm(x, ord=np.inf)"
   ]
  },
  {
   "cell_type": "markdown",
   "id": "ef183899",
   "metadata": {},
   "source": [
    "We can also explore the condition number. Let us check the 100-by-100 matrix mentioned on page 18:"
   ]
  },
  {
   "cell_type": "code",
   "execution_count": null,
   "id": "5f6f80b0",
   "metadata": {},
   "outputs": [],
   "source": [
    "M = np.zeros((100, 100))\n",
    "np.fill_diagonal(M, 0.1)"
   ]
  },
  {
   "cell_type": "markdown",
   "id": "476adb55",
   "metadata": {},
   "source": [
    "The determinant is ($10^{-100}$ according to page 18):"
   ]
  },
  {
   "cell_type": "code",
   "execution_count": null,
   "id": "23b1fbd6",
   "metadata": {},
   "outputs": [],
   "source": [
    "np.linalg.det(M)"
   ]
  },
  {
   "cell_type": "markdown",
   "id": "0de02e7d",
   "metadata": {},
   "source": [
    "And the condition number is ($1$, according to page 18):"
   ]
  },
  {
   "cell_type": "code",
   "execution_count": null,
   "id": "073a6838",
   "metadata": {},
   "outputs": [],
   "source": [
    "np.linalg.cond(M)"
   ]
  },
  {
   "cell_type": "markdown",
   "id": "e5535b29",
   "metadata": {},
   "source": [
    "And the example on page 18 which uses the $l_1$ norm:"
   ]
  },
  {
   "cell_type": "code",
   "execution_count": null,
   "id": "79e91154",
   "metadata": {},
   "outputs": [],
   "source": [
    "A = np.array([[4.1, 2.8], [9.7, 6.6]])\n",
    "np.linalg.cond(A, p=1)"
   ]
  }
 ],
 "metadata": {
  "kernelspec": {
   "display_name": "Python 3 (ipykernel)",
   "language": "python",
   "name": "python3"
  },
  "language_info": {
   "codemirror_mode": {
    "name": "ipython",
    "version": 3
   },
   "file_extension": ".py",
   "mimetype": "text/x-python",
   "name": "python",
   "nbconvert_exporter": "python",
   "pygments_lexer": "ipython3",
   "version": "3.12.8"
  }
 },
 "nbformat": 4,
 "nbformat_minor": 5
}
