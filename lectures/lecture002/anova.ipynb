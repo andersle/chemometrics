{
 "cells": [
  {
   "cell_type": "markdown",
   "id": "2506f015",
   "metadata": {},
   "source": [
    "# ANOVA - example\n",
    "\n",
    "We have investigated the moisture content in 5 different types of concrete. Specifically, we are checking if there is a difference in the moisture content in the different types of concrete.\n",
    "\n",
    "We exposed the samples to moisture for 48 hours before we measured the moisture content. For each concrete type, we\n",
    "repeated the experiment 6 times.\n",
    "\n",
    "We will use ANOVA to test the hypothesis that there is no difference between the different samples.\n",
    "\n",
    "The file [concrete.txt](concrete.txt) contains the experimental data."
   ]
  },
  {
   "cell_type": "code",
   "execution_count": null,
   "id": "96a01613",
   "metadata": {},
   "outputs": [],
   "source": [
    "# Set up imports:\n",
    "import pandas as pd  # For loading the data\n",
    "import numpy as np  # For calculating means and standard deviations\n",
    "from matplotlib import pyplot as plt  # For plotting\n",
    "import scipy.stats  # For doing some statistics\n",
    "import seaborn as sns  # For plotting\n",
    "\n",
    "plt.style.use(\"seaborn-notebook\")  # Use a style with slightly bigger figures\n",
    "sns.set_theme(style=\"ticks\", context=\"notebook\", palette=\"muted\")\n",
    "# Make figures interactive:\n",
    "%matplotlib notebook"
   ]
  },
  {
   "cell_type": "code",
   "execution_count": null,
   "id": "c0fc1a65",
   "metadata": {},
   "outputs": [],
   "source": [
    "# Load the data and display it:\n",
    "data = pd.read_csv(\"concrete.txt\")\n",
    "data"
   ]
  },
  {
   "cell_type": "code",
   "execution_count": null,
   "id": "17f1575e",
   "metadata": {},
   "outputs": [],
   "source": [
    "# Describe the data\n",
    "data.describe()"
   ]
  },
  {
   "cell_type": "markdown",
   "id": "3727aa0e",
   "metadata": {},
   "source": [
    "We note from the description above that the means for the different concrete types\n",
    "are different. We also note that the standard deviation is quite large for some of the types.\n",
    "Are the means different enough to say that there is a difference between the different types?\n",
    "\n",
    "Let us visually inspect the data:"
   ]
  },
  {
   "cell_type": "code",
   "execution_count": null,
   "id": "001443f0",
   "metadata": {},
   "outputs": [],
   "source": [
    "data_X = data.to_numpy()  # Just get the numbers from the table"
   ]
  },
  {
   "cell_type": "code",
   "execution_count": null,
   "id": "e5d23085",
   "metadata": {},
   "outputs": [],
   "source": [
    "# Plot the different measurements:\n",
    "fig, ax = plt.subplots(constrained_layout=True)\n",
    "concrete = [1, 2, 3, 4, 5]\n",
    "for i, concretei in enumerate(concrete):\n",
    "    y = data_X[:, i]  # Get column i\n",
    "    x = [concretei] * len(y)  # Make x = [1, 1, 1,...] or [2, 2, 2, ...] etc.\n",
    "    ax.scatter(x, y)\n",
    "ax.set_title(\"Measured moisture content in different concrete samples\")\n",
    "ax.set(xlabel=\"Concrete type\", ylabel=\"Moisture content\")\n",
    "ax.set_xticks(concrete)\n",
    "sns.despine(fig=fig)"
   ]
  },
  {
   "cell_type": "code",
   "execution_count": null,
   "id": "77d6de9a",
   "metadata": {},
   "outputs": [],
   "source": [
    "# Let us also show the means with the standard deviation\n",
    "means = np.mean(data_X, axis=0)  # Mean for columns\n",
    "print(means)\n",
    "std = np.std(data_X, axis=0, ddof=1)  # Standard devaition for columns\n",
    "print(std)"
   ]
  },
  {
   "cell_type": "code",
   "execution_count": null,
   "id": "4a3d55a1",
   "metadata": {},
   "outputs": [],
   "source": [
    "fig, ax = plt.subplots(constrained_layout=True)\n",
    "ax.errorbar(\n",
    "    concrete,\n",
    "    means,\n",
    "    yerr=std,\n",
    "    fmt=\"o\",\n",
    "    label=\"Mean\",\n",
    "    capsize=5,\n",
    "    capthick=2,\n",
    "    color=\"k\",\n",
    ")\n",
    "for i, concretei in enumerate(concrete):\n",
    "    y = data_X[:, i]  # Get column i\n",
    "    x = [concretei] * len(y)  # Make x = [1, 1, 1,...] or [2, 2, 2, ...] etc.\n",
    "    ax.scatter(\n",
    "        x, y, marker=\"X\", alpha=0.5, label=f\"Measurements, concrete {i+1}\"\n",
    "    )\n",
    "ax.set(xlabel=\"Concrete type\", ylabel=\"Moisture content\")\n",
    "ax.legend()\n",
    "ax.set_xticks(concrete)\n",
    "sns.despine(fig=fig)"
   ]
  },
  {
   "cell_type": "markdown",
   "id": "818d44e2",
   "metadata": {},
   "source": [
    "To use ANOVA, we calculate the different sum of squares:\n",
    "\n",
    "* The total sum of squares:\n",
    "  \\begin{equation}SST = \\sum_{i=1}^{n} \\sum_{j=1}^k (y_{ij} - \\overline{y})^2\\end{equation}\n",
    "\n",
    "* The treatment sum of squares:\n",
    "  \\begin{equation}SSA = n \\sum_{j=1}^k (\\overline{y}_{j} - \\overline{y})^2\\end{equation}\n",
    "  \n",
    "* The error sum of squares:\n",
    "  \\begin{equation} SSE = \\sum_{i=1}^n \\sum_{j=1}^k (y_{ij} - \\overline{y}_j)^2\\end{equation}\n",
    "\n",
    "For these differents sums, wehave that: $SST = SSA + SSE$."
   ]
  },
  {
   "cell_type": "code",
   "execution_count": null,
   "id": "c83b6f53",
   "metadata": {},
   "outputs": [],
   "source": [
    "# We calculate the differents sums here, using loops:\n",
    "mean = np.mean(data_X)  # Mean of all the data\n",
    "n, k = data_X.shape  # Get number of rows and columns\n",
    "# First SST:\n",
    "SST = 0\n",
    "for i in range(n):\n",
    "    for j in range(k):\n",
    "        SST = SST + (data_X[i, j] - mean) ** 2\n",
    "\n",
    "# Then SSA:\n",
    "SSA = 0\n",
    "for j in range(k):\n",
    "    mean_j = np.mean(data_X[:, j])  # mean of column j\n",
    "    SSA = SSA + n * (mean_j - mean) ** 2\n",
    "\n",
    "# Then SSE:\n",
    "SSE = 0\n",
    "for j in range(k):\n",
    "    mean_j = np.mean(data_X[:, j])  # mean of column j\n",
    "    for i in range(n):\n",
    "        SSE = SSE + (data_X[i, j] - mean_j) ** 2\n",
    "print(f\"SST: {SST:.2f}\")\n",
    "print(f\"SSA: {SSA:.2f}\")\n",
    "print(f\"SSE: {SSE:.2f}\")\n",
    "print(f\"SSA + SSE: {SSA+SSE:.2f}\")"
   ]
  },
  {
   "cell_type": "code",
   "execution_count": null,
   "id": "b7d97da4",
   "metadata": {},
   "outputs": [],
   "source": [
    "# Alternatively, we can use that NumPy knows how to\n",
    "# do operations on arrays:\n",
    "mean = np.mean(data_X)  # Mean of all the data\n",
    "mean_k = np.mean(data_X, axis=0)  # Mean for columns\n",
    "n, k = data_X.shape  # Get number of rows and columns\n",
    "SST = np.sum((data_X - mean) ** 2)\n",
    "SSA = n * np.sum((means - mean) ** 2)\n",
    "SSE = np.sum((data_X - means) ** 2)\n",
    "print(f\"SST: {SST:.2f}\")\n",
    "print(f\"SSA: {SSA:.2f}\")\n",
    "print(f\"SSE: {SSE:.2f}\")\n",
    "print(f\"SSA + SSE: {SSA+SSE:.2f}\")"
   ]
  },
  {
   "cell_type": "markdown",
   "id": "817217a5",
   "metadata": {},
   "source": [
    "Next, we estimate the variance in two ways:\n",
    "\n",
    "\\begin{equation*}\n",
    "    s_1^2 = \\frac{SSA}{k - 1} \\quad (k - 1 \\text{ degrees of freedom})\n",
    "\\end{equation*}\n",
    "\n",
    "and\n",
    "\n",
    "\\begin{equation*}\n",
    "    s^2 = \\frac{SSE}{k(n-1)} \\quad (k(n - 1) \\text{ degrees of freedom})\n",
    "\\end{equation*}\n",
    "\n",
    "and we calculate the $f$-statistic: $f = s_1^2/s^2$."
   ]
  },
  {
   "cell_type": "code",
   "execution_count": null,
   "id": "67d567fd",
   "metadata": {},
   "outputs": [],
   "source": [
    "# Estimate the variance using the first formula:\n",
    "dof_1 = k - 1  # degrees of freedom\n",
    "s1 = SSA / dof_1\n",
    "\n",
    "# Estimate the variance using the second formula:\n",
    "dof_2 = k * (n - 1)  # degrees of freedom\n",
    "s = SSE / dof_2\n",
    "\n",
    "# Also calculate the f-statistic:\n",
    "f = s1 / s\n",
    "print(f\"s1 = {s1}, s = {s}, f = s1/s = {f}\")"
   ]
  },
  {
   "cell_type": "markdown",
   "id": "3683ca41",
   "metadata": {},
   "source": [
    "We reject the hypothesis that all the concrete types have the same mean at a significance level of $\\alpha$ if\n",
    "\n",
    "   \\begin{equation*}\n",
    "   f > f_{\\alpha}(k-1, k(n-1)).\n",
    "   \\end{equation*}\n",
    "\n",
    "Thus we need to look up the $f_{\\alpha}(k-1, k(n-1))$ value in our case. This can be done with a [table](https://www.itl.nist.gov/div898/handbook/eda/section3/eda3673.htm), or using\n",
    "the method [scipy.stats.f.ppf](https://docs.scipy.org/doc/scipy/reference/generated/scipy.stats.f.html) from scipy."
   ]
  },
  {
   "cell_type": "code",
   "execution_count": null,
   "id": "569e5364",
   "metadata": {},
   "outputs": [],
   "source": [
    "alpha = 0.05\n",
    "f_critical = scipy.stats.f.ppf(1 - alpha, dof_1, dof_2)\n",
    "print(f\"f_critical({dof_1}, {dof_2}) = {f_critical:.4g}\")"
   ]
  },
  {
   "cell_type": "code",
   "execution_count": null,
   "id": "a16fd37d",
   "metadata": {},
   "outputs": [],
   "source": [
    "print(f\"Checking if f > f_critical: {f > f_critical}\")\n",
    "if f > f_critical:\n",
    "    print(\"=> We reject the hypothesis - the means are different!\")\n",
    "else:\n",
    "    print(\"=> We do not reject the hypothesis - the means are not different!\")"
   ]
  },
  {
   "cell_type": "markdown",
   "id": "be7b9372",
   "metadata": {},
   "source": [
    "We can also calculate at what $\\alpha$ we would reject the hypothesis: "
   ]
  },
  {
   "cell_type": "code",
   "execution_count": null,
   "id": "14d8e7a9",
   "metadata": {},
   "outputs": [],
   "source": [
    "pval = 1 - scipy.stats.f.cdf(f, dof_1, dof_2)\n",
    "f_critical2 = scipy.stats.f.ppf(1 - pval, dof_1, dof_2)\n",
    "print(f\"We would reject for α < {pval:.3g}\")\n",
    "print(f\"For α = {pval:.3g}: f_critical({dof_1}, {dof_2}) = {f_critical2:.4g}\")"
   ]
  }
 ],
 "metadata": {
  "kernelspec": {
   "display_name": "Python 3 (ipykernel)",
   "language": "python",
   "name": "python3"
  },
  "language_info": {
   "codemirror_mode": {
    "name": "ipython",
    "version": 3
   },
   "file_extension": ".py",
   "mimetype": "text/x-python",
   "name": "python",
   "nbconvert_exporter": "python",
   "pygments_lexer": "ipython3",
   "version": "3.9.13"
  }
 },
 "nbformat": 4,
 "nbformat_minor": 5
}
