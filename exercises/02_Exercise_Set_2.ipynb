{
 "cells": [
  {
   "cell_type": "markdown",
   "metadata": {},
   "source": [
    "**Exercise 2.1:** \n",
    "\n",
    "Multiple linear regression solves the equation $\\mathbf{Y} = \\mathbf{X}\\mathbf{B}$ with\n",
    "$\\mathbf{B} = (\\mathbf{X}^\\mathrm{T} \\mathbf{X})^{-1} \\mathbf{X}^\\mathrm{T} \\mathbf{Y}$\n",
    "where the\n",
    "dimensions of the data matrix $\\mathbf{X}$ is $[N \\times M]$.\n",
    "Will this solution work when (please explain why/why not):\n",
    "\n",
    "**(a)** $\\det \\left( \\mathbf{X}^\\mathrm{T} \\mathbf{X} \\right) = 0$?\n",
    "\n",
    "**(b)** $\\det \\left( \\mathbf{X}^\\mathrm{T} \\mathbf{X} \\right) > 0$?\n",
    "\n",
    "**(c)** $\\det \\left( \\mathbf{X}^\\mathrm{T} \\mathbf{X} \\right) \\neq 0$?\n",
    "\n",
    "**(d)** The variables in $\\mathbf{X}$ are correlated?\n",
    "\n",
    "**(e)** The columns in $\\mathbf{X}$ are orthogonal?\n",
    "\n",
    "**(f)** The rank of $\\mathbf{X}$ is $\\frac{\\min(N, M)}{2}$?\n",
    "\n",
    "**(g)** We have more variables than samples/objects (more columns than rows in $\\mathbf{X}$)?\n",
    "\n",
    "**(h)** When we have more samples/objects than variables (more rows than columns in $\\mathbf{X}$)?\n"
   ]
  },
  {
   "cell_type": "markdown",
   "metadata": {},
   "source": [
    "**Answer 2.1:** (double click here)"
   ]
  },
  {
   "cell_type": "markdown",
   "metadata": {},
   "source": [
    "**Exercise 2.2:**\n",
    "\n",
    "The projection matrix, $\\mathbf{H}$, is given by,\n",
    "\n",
    "\n",
    "$\\mathbf{H} = \\mathbf{X} \\left(\\mathbf{X}^\\mathrm{T} \\mathbf{X}\\right)^{-1} \\mathbf{X}^\\mathrm{T}.$\n",
    "\n",
    "Show that:\n",
    "\n",
    "**(a)** $\\mathbf{H}$ is symmetric.\n",
    "\n",
    "**(b)** $\\mathbf{H}^{k} = \\mathbf{H}$ where the integer $k > 0$."
   ]
  },
  {
   "cell_type": "markdown",
   "metadata": {},
   "source": [
    "**Answer 2.2:** (double click here)"
   ]
  },
  {
   "cell_type": "markdown",
   "metadata": {},
   "source": [
    "**Exercise 2.3:**\n",
    "\n",
    "In the regression problem $\\mathbf{y} = \\mathbf{X}\\mathbf{b} + \\mathbf{e}$\n",
    "we have the least-squares solution assuming that $\\mathbf{X}^\\mathrm{T} \\mathbf{X}$ is\n",
    "non-singular. If you are given the information that $\\mathbf{X}$ is symmetric\n",
    "and non-singular, is there another simpler formula for estimating the regression coefficients?\n"
   ]
  },
  {
   "cell_type": "markdown",
   "metadata": {},
   "source": [
    "**Answer 2.3:** (double click here)"
   ]
  },
  {
   "cell_type": "markdown",
   "metadata": {},
   "source": [
    "**Exercise 2.4:**\n",
    "\n",
    "Assume that we have recorded data as shown in Fig. 1\n",
    "We want a straight line linear model, but we can see that there is a curving in the data which suggest we need some higher order terms. The following model is suggested:\n",
    "\n",
    "$\\hat{y} = b_0 + b_1 x + b_2 x^2 + b_3 x^3$\n",
    "\n",
    "Assume that the raw data are contained in the vectors $\\mathbf{x}$ and $\\mathbf{y}$.\n",
    "Show how we can estimate the regression vector $\\hat{\\mathbf{b}}$."
   ]
  },
  {
   "cell_type": "markdown",
   "metadata": {},
   "source": [
    "![Fig_1.png](Figures/Fig_2_1.png)\n",
    "\n",
    "**Fig. 1:** Example data."
   ]
  },
  {
   "cell_type": "markdown",
   "metadata": {},
   "source": [
    "**Answer 2.4:** (double click here)"
   ]
  },
  {
   "cell_type": "markdown",
   "metadata": {},
   "source": [
    "**Exercise 2.5:**\n",
    "\n",
    "The temperature (°C) is measured continuously over time at a high altitude\n",
    "in the atmosphere using a\n",
    "weather balloon. Every hour a measurement is made and sent to an on-board computer.\n",
    "The measurements are \n",
    "shown in Fig. 2 and contained in [the data file](Data/data_exercise_2.txt) (located at 'Data/data_exercise_2.txt).\n",
    "\n",
    "\n",
    "![Fig2](Figures/Fig_2_2.png)\n",
    "\n",
    "**Fig. 2:** Measured temperature.\n",
    "\n",
    "\n",
    "**(a)** Create a Python script which performs polynomial\n",
    "fitting to the data using a first, second, third, fourth\n",
    "and fifth order polynomial model. **Hint:** Make use of `numpy`, `matplotlib` and `pandas`."
   ]
  },
  {
   "cell_type": "code",
   "execution_count": null,
   "metadata": {},
   "outputs": [],
   "source": [
    "# Your code here:"
   ]
  },
  {
   "cell_type": "markdown",
   "metadata": {},
   "source": [
    "**(b)** Plot the fitted curves for the five models to the raw data."
   ]
  },
  {
   "cell_type": "code",
   "execution_count": null,
   "metadata": {},
   "outputs": [],
   "source": [
    "# Your code here"
   ]
  },
  {
   "cell_type": "markdown",
   "metadata": {},
   "source": [
    "**(c)** Plot the residual curves for the five models and determine from a visual inspection which polynomial\n",
    "model order seem to be correct."
   ]
  },
  {
   "cell_type": "code",
   "execution_count": null,
   "metadata": {},
   "outputs": [],
   "source": [
    "# Your code here"
   ]
  },
  {
   "cell_type": "markdown",
   "metadata": {},
   "source": [
    "**Answer 2.5c:** (double click here)"
   ]
  },
  {
   "cell_type": "markdown",
   "metadata": {},
   "source": [
    "**(d)** Obtain the sum of squared residuals for each polynomial. Plot this as a function\n",
    "of the degree of the polynomial and determine from visual inspection which polynomial\n",
    "model order seem to be correct. Compare this with your previous result."
   ]
  },
  {
   "cell_type": "code",
   "execution_count": null,
   "metadata": {},
   "outputs": [],
   "source": [
    "# Your code here"
   ]
  },
  {
   "cell_type": "markdown",
   "metadata": {},
   "source": [
    "**Answer 2.5d:** (double click here)"
   ]
  }
 ],
 "metadata": {
  "kernelspec": {
   "display_name": "Python 3",
   "language": "python",
   "name": "python3"
  },
  "language_info": {
   "codemirror_mode": {
    "name": "ipython",
    "version": 3
   },
   "file_extension": ".py",
   "mimetype": "text/x-python",
   "name": "python",
   "nbconvert_exporter": "python",
   "pygments_lexer": "ipython3",
   "version": "3.8.1"
  }
 },
 "nbformat": 4,
 "nbformat_minor": 2
}
