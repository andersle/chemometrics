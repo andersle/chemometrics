{
 "cells": [
  {
   "cell_type": "markdown",
   "metadata": {},
   "source": [
    "# kNN classifier\n",
    "\n",
    "A short example on how we can create a [k-Nearest neighbors](https://en.wikipedia.org/wiki/K-nearest_neighbors_algorithm) classifier and display the\n",
    "confusion matrix."
   ]
  },
  {
   "cell_type": "code",
   "execution_count": null,
   "metadata": {},
   "outputs": [],
   "source": [
    "import pandas as pd\n",
    "import seaborn as sns\n",
    "from matplotlib import pyplot as plt\n",
    "from matplotlib.colors import ListedColormap\n",
    "from sklearn.datasets import load_breast_cancer\n",
    "\n",
    "sns.set_theme(style=\"ticks\", context=\"notebook\", palette=\"muted\")\n",
    "%matplotlib notebook"
   ]
  },
  {
   "cell_type": "code",
   "execution_count": null,
   "metadata": {},
   "outputs": [],
   "source": [
    "data_set = load_breast_cancer()\n",
    "data = pd.DataFrame(data_set[\"data\"], columns=data_set[\"feature_names\"])\n",
    "data[\"target\"] = data_set[\"target\"]\n",
    "data.head()"
   ]
  },
  {
   "cell_type": "code",
   "execution_count": null,
   "metadata": {},
   "outputs": [],
   "source": [
    "class_names = {0: \"Malignant\", 1: \"Benign\"}"
   ]
  },
  {
   "cell_type": "code",
   "execution_count": null,
   "metadata": {},
   "outputs": [],
   "source": [
    "# We select just two of the variables so we can plot things in 2D:\n",
    "variables = [\"worst radius\", \"mean texture\"]\n",
    "X = data[variables].to_numpy()\n",
    "y = data[\"target\"].to_numpy()"
   ]
  },
  {
   "cell_type": "code",
   "execution_count": null,
   "metadata": {},
   "outputs": [],
   "source": [
    "# Try a kNN classifier:\n",
    "from sklearn.neighbors import KNeighborsClassifier\n",
    "\n",
    "clf = KNeighborsClassifier(n_neighbors=1)\n",
    "clf.fit(X, y)"
   ]
  },
  {
   "cell_type": "code",
   "execution_count": null,
   "metadata": {},
   "outputs": [],
   "source": [
    "# Plot decision boundaries\n",
    "from sklearn.inspection import DecisionBoundaryDisplay\n",
    "\n",
    "fig, ax = plt.subplots(constrained_layout=True)\n",
    "colors = sns.color_palette()[:2]\n",
    "cmap = ListedColormap(colors)\n",
    "\n",
    "DecisionBoundaryDisplay.from_estimator(\n",
    "    clf,\n",
    "    X,\n",
    "    alpha=0.4,\n",
    "    ax=ax,\n",
    "    response_method=\"predict\",\n",
    "    grid_resolution=100,\n",
    "    cmap=cmap,\n",
    ")\n",
    "\n",
    "ax.scatter(X[y == 1, 0], X[y == 1, 1], label=class_names[1], color=colors[1])\n",
    "ax.scatter(X[y == 0, 0], X[y == 0, 1], label=class_names[0], color=colors[0])\n",
    "\n",
    "ax.set_title(f\"kNN with n_neighbors = {clf.n_neighbors}\", loc=\"left\")\n",
    "ax.legend()\n",
    "ax.set(xlabel=variables[0], ylabel=variables[1])\n",
    "sns.despine(fig=fig)"
   ]
  },
  {
   "cell_type": "code",
   "execution_count": null,
   "metadata": {},
   "outputs": [],
   "source": [
    "# Plot the confusion matrix:\n",
    "from sklearn.metrics import ConfusionMatrixDisplay\n",
    "from sklearn.model_selection import train_test_split\n",
    "\n",
    "X_train, X_test, y_train, y_test = train_test_split(\n",
    "    X, y, test_size=0.33, stratify=y\n",
    ")\n",
    "clf = KNeighborsClassifier(n_neighbors=1)\n",
    "clf.fit(X_train, y_train)\n",
    "y_hat = clf.predict(X_test)\n",
    "fig = ConfusionMatrixDisplay.from_estimator(\n",
    "    clf, X_test, y_test, display_labels=[\"Malignant\", \"Benign\"], cmap=\"Blues\"\n",
    ")\n",
    "fig.ax_.set_title(f\"kNN with n_neighbors = {clf.n_neighbors}\", loc=\"left\")"
   ]
  },
  {
   "cell_type": "code",
   "execution_count": null,
   "metadata": {},
   "outputs": [],
   "source": [
    "# Let us use cross-validation to find the best parameters:\n",
    "from sklearn.model_selection import (\n",
    "    GridSearchCV,\n",
    ")\n",
    "\n",
    "X = data[variables].to_numpy()\n",
    "\n",
    "X_train, X_test, y_train, y_test = train_test_split(\n",
    "    X, y, test_size=0.33, stratify=y\n",
    ")\n",
    "\n",
    "parameters = [{\"n_neighbors\": range(1, 11)}]\n",
    "grid = GridSearchCV(\n",
    "    KNeighborsClassifier(),\n",
    "    parameters,\n",
    "    cv=5,\n",
    "    scoring=\"precision\",\n",
    "    return_train_score=True,\n",
    ")\n",
    "grid.fit(X_train, y_train)\n",
    "print(\"Best parameters for knn:\", grid.best_params_)"
   ]
  },
  {
   "cell_type": "code",
   "execution_count": null,
   "metadata": {},
   "outputs": [],
   "source": [
    "fig1, ax1 = plt.subplots(constrained_layout=True)\n",
    "ax1.errorbar(\n",
    "    parameters[0][\"n_neighbors\"],\n",
    "    grid.cv_results_[\"mean_test_score\"],\n",
    "    yerr=grid.cv_results_[\"std_test_score\"],\n",
    "    marker=\"o\",\n",
    "    markersize=14,\n",
    ")\n",
    "ax1.set(xlabel=\"n_neighbors\", ylabel=grid.scoring)\n",
    "ax1.set_title(\n",
    "    \"Optimizing n_neighbors for a k-nearest neighbors classifier\", loc=\"left\"\n",
    ")\n",
    "sns.despine(fig=fig1)"
   ]
  },
  {
   "cell_type": "code",
   "execution_count": null,
   "metadata": {},
   "outputs": [],
   "source": [
    "fig = ConfusionMatrixDisplay.from_estimator(\n",
    "    grid.best_estimator_,\n",
    "    X_test,\n",
    "    y_test,\n",
    "    display_labels=[\"Malignant\", \"Benign\"],\n",
    "    cmap=\"Blues\",\n",
    ")\n",
    "fig.ax_.set_title(\n",
    "    f\"kNN with n_neighbors = {grid.best_estimator_.n_neighbors}\", loc=\"left\"\n",
    ")"
   ]
  }
 ],
 "metadata": {
  "kernelspec": {
   "display_name": "Python 3 (ipykernel)",
   "language": "python",
   "name": "python3"
  },
  "language_info": {
   "codemirror_mode": {
    "name": "ipython",
    "version": 3
   },
   "file_extension": ".py",
   "mimetype": "text/x-python",
   "name": "python",
   "nbconvert_exporter": "python",
   "pygments_lexer": "ipython3",
   "version": "3.11.8"
  }
 },
 "nbformat": 4,
 "nbformat_minor": 4
}
